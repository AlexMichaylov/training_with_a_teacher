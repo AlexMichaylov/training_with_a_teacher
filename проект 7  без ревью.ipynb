{
 "cells": [
  {
   "cell_type": "markdown",
   "metadata": {
    "toc": true
   },
   "source": [
    "<h1>Содержание<span class=\"tocSkip\"></span></h1>\n",
    "<div class=\"toc\"><ul class=\"toc-item\"><li><span><a href=\"#Подготовка-данных\" data-toc-modified-id=\"Подготовка-данных-1\"><span class=\"toc-item-num\">1&nbsp;&nbsp;</span>Подготовка данных</a></span></li><li><span><a href=\"#Исследование-задачи\" data-toc-modified-id=\"Исследование-задачи-2\"><span class=\"toc-item-num\">2&nbsp;&nbsp;</span>Исследование задачи</a></span><ul class=\"toc-item\"><li><span><a href=\"#Вывод:-Выполнено-обучение-3-моделей-на-несбалансированных-выборках:-дерево-решений(с-подбором-оптимального-кол-ва-деревьев),-лес-деревьев-(с-подбором-кол-ва-деревьев-и-глубины-леса);-логистическая-регрессия.-На-данном-этапе-лучшие-результаты-по-метрикам-f1-и-auc-roc-показала-модель-леса-деревьев-с-параметрами-RandomForestClassifier(max_depth=19,-n_estimators=27,-random_state=12345)-f1-=-0.6026-и-auc-roc-=-0.8345.\" data-toc-modified-id=\"Вывод:-Выполнено-обучение-3-моделей-на-несбалансированных-выборках:-дерево-решений(с-подбором-оптимального-кол-ва-деревьев),-лес-деревьев-(с-подбором-кол-ва-деревьев-и-глубины-леса);-логистическая-регрессия.-На-данном-этапе-лучшие-результаты-по-метрикам-f1-и-auc-roc-показала-модель-леса-деревьев-с-параметрами-RandomForestClassifier(max_depth=19,-n_estimators=27,-random_state=12345)-f1-=-0.6026-и-auc-roc-=-0.8345.-2.1\"><span class=\"toc-item-num\">2.1&nbsp;&nbsp;</span>Вывод: Выполнено обучение 3 моделей на несбалансированных выборках: дерево решений(с подбором оптимального кол-ва деревьев), лес деревьев (с подбором кол-ва деревьев и глубины леса); логистическая регрессия. На данном этапе лучшие результаты по метрикам f1 и auc-roc показала модель леса деревьев с параметрами RandomForestClassifier(max_depth=19, n_estimators=27, random_state=12345) f1 = 0.6026 и auc-roc = 0.8345.</a></span></li></ul></li><li><span><a href=\"#Борьба-с-дисбалансом\" data-toc-modified-id=\"Борьба-с-дисбалансом-3\"><span class=\"toc-item-num\">3&nbsp;&nbsp;</span>Борьба с дисбалансом</a></span><ul class=\"toc-item\"><li><span><a href=\"#вариант-1---метод-balanced\" data-toc-modified-id=\"вариант-1---метод-balanced-3.1\"><span class=\"toc-item-num\">3.1&nbsp;&nbsp;</span>вариант 1 - метод balanced</a></span></li><li><span><a href=\"#Вывод:-Выполнено-обучение-3-моделей-на-сбалансированных-выборках:-дерево-решений(с-подбором-оптимального-кол-ва-деревьев),-лес-деревьев-(с-подбором-кол-ва-деревьев-и-глубины-леса);-логистическая-регрессия.-Использовалось-2-метода-балансировки:-взешивание-классов-и-метод-upsampling.-На-данном-этапе-лучшие-результаты-по-метрикам-f1-и-auc-roc-показала-модель-леса-деревьев-с-параметрами-RandomForestClassifier(max_depth=13,-n_estimators=35,-random_state=12345)-f1-=-0.6329-и-auc-roc-=-0.8435---сбалансированная-методом-upsampling-и-модель-RandomForestClassifier(max_depth=9,-n_estimators=46,-random_state=12345)-f1-=-0.6296-и-auc-roc-=-0.8557,-сбалансированная-методом-взвешивания-классов.-Данные-модели-возьмем-на-финальное-тестирование.\" data-toc-modified-id=\"Вывод:-Выполнено-обучение-3-моделей-на-сбалансированных-выборках:-дерево-решений(с-подбором-оптимального-кол-ва-деревьев),-лес-деревьев-(с-подбором-кол-ва-деревьев-и-глубины-леса);-логистическая-регрессия.-Использовалось-2-метода-балансировки:-взешивание-классов-и-метод-upsampling.-На-данном-этапе-лучшие-результаты-по-метрикам-f1-и-auc-roc-показала-модель-леса-деревьев-с-параметрами-RandomForestClassifier(max_depth=13,-n_estimators=35,-random_state=12345)-f1-=-0.6329-и-auc-roc-=-0.8435---сбалансированная-методом-upsampling-и-модель-RandomForestClassifier(max_depth=9,-n_estimators=46,-random_state=12345)-f1-=-0.6296-и-auc-roc-=-0.8557,-сбалансированная-методом-взвешивания-классов.-Данные-модели-возьмем-на-финальное-тестирование.-3.2\"><span class=\"toc-item-num\">3.2&nbsp;&nbsp;</span>Вывод: Выполнено обучение 3 моделей на сбалансированных выборках: дерево решений(с подбором оптимального кол-ва деревьев), лес деревьев (с подбором кол-ва деревьев и глубины леса); логистическая регрессия. Использовалось 2 метода балансировки: взешивание классов и метод upsampling. На данном этапе лучшие результаты по метрикам f1 и auc-roc показала модель леса деревьев с параметрами RandomForestClassifier(max_depth=13, n_estimators=35, random_state=12345) f1 = 0.6329 и auc-roc = 0.8435 - сбалансированная методом upsampling и модель RandomForestClassifier(max_depth=9, n_estimators=46, random_state=12345) f1 = 0.6296 и auc-roc = 0.8557, сбалансированная методом взвешивания классов. Данные модели возьмем на финальное тестирование.</a></span></li></ul></li><li><span><a href=\"#Тестирование-модели\" data-toc-modified-id=\"Тестирование-модели-4\"><span class=\"toc-item-num\">4&nbsp;&nbsp;</span>Тестирование модели</a></span></li><li><span><a href=\"#Чек-лист-готовности-проекта\" data-toc-modified-id=\"Чек-лист-готовности-проекта-5\"><span class=\"toc-item-num\">5&nbsp;&nbsp;</span>Чек-лист готовности проекта</a></span></li></ul></div>"
   ]
  },
  {
   "cell_type": "markdown",
   "metadata": {},
   "source": [
    "# Отток клиентов"
   ]
  },
  {
   "cell_type": "markdown",
   "metadata": {},
   "source": [
    "Из «Бета-Банка» стали уходить клиенты. Каждый месяц. Немного, но заметно. Банковские маркетологи посчитали: сохранять текущих клиентов дешевле, чем привлекать новых.\n",
    "\n",
    "Нужно спрогнозировать, уйдёт клиент из банка в ближайшее время или нет. Вам предоставлены исторические данные о поведении клиентов и расторжении договоров с банком. \n",
    "\n",
    "Постройте модель с предельно большим значением *F1*-меры. Чтобы сдать проект успешно, нужно довести метрику до 0.59. Проверьте *F1*-меру на тестовой выборке самостоятельно.\n",
    "\n",
    "Дополнительно измеряйте *AUC-ROC*, сравнивайте её значение с *F1*-мерой.\n",
    "\n",
    "Источник данных: [https://www.kaggle.com/barelydedicated/bank-customer-churn-modeling](https://www.kaggle.com/barelydedicated/bank-customer-churn-modeling)"
   ]
  },
  {
   "cell_type": "markdown",
   "metadata": {},
   "source": [
    "## Подготовка данных"
   ]
  },
  {
   "cell_type": "markdown",
   "metadata": {},
   "source": [
    "Цель проекта - спрогнозировать на основе исторических данных, уйдёт клиент из банка в ближайшее время или нет. "
   ]
  },
  {
   "cell_type": "code",
   "execution_count": 66,
   "metadata": {},
   "outputs": [],
   "source": [
    "import pandas as pd\n",
    "import numpy as np\n",
    "import seaborn as sns\n",
    "import matplotlib.pyplot as plt\n",
    "from sklearn.model_selection import train_test_split\n",
    "from sklearn.preprocessing import StandardScaler \n",
    "from sklearn.tree import DecisionTreeClassifier\n",
    "from sklearn.ensemble import RandomForestClassifier\n",
    "from sklearn.linear_model import LogisticRegression\n",
    "from sklearn.metrics import accuracy_score\n",
    "from sklearn.metrics import f1_score\n",
    "from sklearn.metrics import roc_auc_score\n",
    "from sklearn.utils import shuffle\n",
    "from sklearn.metrics import roc_curve\n",
    "import itertools\n",
    "from tqdm import tqdm, trange"
   ]
  },
  {
   "cell_type": "markdown",
   "source": [],
   "metadata": {
    "collapsed": false
   }
  },
  {
   "cell_type": "code",
   "execution_count": 2,
   "metadata": {},
   "outputs": [],
   "source": [
    "try:\n",
    "    df = pd.read_csv('Churn.csv')\n",
    "except:\n",
    "    df = pd.read_csv('/datasets/Churn.csv')"
   ]
  },
  {
   "cell_type": "markdown",
   "metadata": {},
   "source": [
    "для начала, изучим основную информацию по датасету "
   ]
  },
  {
   "cell_type": "code",
   "execution_count": 3,
   "metadata": {},
   "outputs": [
    {
     "name": "stdout",
     "output_type": "stream",
     "text": [
      "<class 'pandas.core.frame.DataFrame'>\n",
      "RangeIndex: 10000 entries, 0 to 9999\n",
      "Data columns (total 14 columns):\n",
      " #   Column           Non-Null Count  Dtype  \n",
      "---  ------           --------------  -----  \n",
      " 0   RowNumber        10000 non-null  int64  \n",
      " 1   CustomerId       10000 non-null  int64  \n",
      " 2   Surname          10000 non-null  object \n",
      " 3   CreditScore      10000 non-null  int64  \n",
      " 4   Geography        10000 non-null  object \n",
      " 5   Gender           10000 non-null  object \n",
      " 6   Age              10000 non-null  int64  \n",
      " 7   Tenure           9091 non-null   float64\n",
      " 8   Balance          10000 non-null  float64\n",
      " 9   NumOfProducts    10000 non-null  int64  \n",
      " 10  HasCrCard        10000 non-null  int64  \n",
      " 11  IsActiveMember   10000 non-null  int64  \n",
      " 12  EstimatedSalary  10000 non-null  float64\n",
      " 13  Exited           10000 non-null  int64  \n",
      "dtypes: float64(3), int64(8), object(3)\n",
      "memory usage: 1.1+ MB\n"
     ]
    }
   ],
   "source": [
    "df.info()"
   ]
  },
  {
   "cell_type": "markdown",
   "metadata": {},
   "source": [
    "выведем на экран первые строки датасета, для изучения и визуальной оценки данных"
   ]
  },
  {
   "cell_type": "code",
   "execution_count": 4,
   "metadata": {},
   "outputs": [
    {
     "data": {
      "text/html": [
       "<div>\n",
       "<style scoped>\n",
       "    .dataframe tbody tr th:only-of-type {\n",
       "        vertical-align: middle;\n",
       "    }\n",
       "\n",
       "    .dataframe tbody tr th {\n",
       "        vertical-align: top;\n",
       "    }\n",
       "\n",
       "    .dataframe thead th {\n",
       "        text-align: right;\n",
       "    }\n",
       "</style>\n",
       "<table border=\"1\" class=\"dataframe\">\n",
       "  <thead>\n",
       "    <tr style=\"text-align: right;\">\n",
       "      <th></th>\n",
       "      <th>RowNumber</th>\n",
       "      <th>CustomerId</th>\n",
       "      <th>Surname</th>\n",
       "      <th>CreditScore</th>\n",
       "      <th>Geography</th>\n",
       "      <th>Gender</th>\n",
       "      <th>Age</th>\n",
       "      <th>Tenure</th>\n",
       "      <th>Balance</th>\n",
       "      <th>NumOfProducts</th>\n",
       "      <th>HasCrCard</th>\n",
       "      <th>IsActiveMember</th>\n",
       "      <th>EstimatedSalary</th>\n",
       "      <th>Exited</th>\n",
       "    </tr>\n",
       "  </thead>\n",
       "  <tbody>\n",
       "    <tr>\n",
       "      <th>0</th>\n",
       "      <td>1</td>\n",
       "      <td>15634602</td>\n",
       "      <td>Hargrave</td>\n",
       "      <td>619</td>\n",
       "      <td>France</td>\n",
       "      <td>Female</td>\n",
       "      <td>42</td>\n",
       "      <td>2.0</td>\n",
       "      <td>0.00</td>\n",
       "      <td>1</td>\n",
       "      <td>1</td>\n",
       "      <td>1</td>\n",
       "      <td>101348.88</td>\n",
       "      <td>1</td>\n",
       "    </tr>\n",
       "    <tr>\n",
       "      <th>1</th>\n",
       "      <td>2</td>\n",
       "      <td>15647311</td>\n",
       "      <td>Hill</td>\n",
       "      <td>608</td>\n",
       "      <td>Spain</td>\n",
       "      <td>Female</td>\n",
       "      <td>41</td>\n",
       "      <td>1.0</td>\n",
       "      <td>83807.86</td>\n",
       "      <td>1</td>\n",
       "      <td>0</td>\n",
       "      <td>1</td>\n",
       "      <td>112542.58</td>\n",
       "      <td>0</td>\n",
       "    </tr>\n",
       "    <tr>\n",
       "      <th>2</th>\n",
       "      <td>3</td>\n",
       "      <td>15619304</td>\n",
       "      <td>Onio</td>\n",
       "      <td>502</td>\n",
       "      <td>France</td>\n",
       "      <td>Female</td>\n",
       "      <td>42</td>\n",
       "      <td>8.0</td>\n",
       "      <td>159660.80</td>\n",
       "      <td>3</td>\n",
       "      <td>1</td>\n",
       "      <td>0</td>\n",
       "      <td>113931.57</td>\n",
       "      <td>1</td>\n",
       "    </tr>\n",
       "    <tr>\n",
       "      <th>3</th>\n",
       "      <td>4</td>\n",
       "      <td>15701354</td>\n",
       "      <td>Boni</td>\n",
       "      <td>699</td>\n",
       "      <td>France</td>\n",
       "      <td>Female</td>\n",
       "      <td>39</td>\n",
       "      <td>1.0</td>\n",
       "      <td>0.00</td>\n",
       "      <td>2</td>\n",
       "      <td>0</td>\n",
       "      <td>0</td>\n",
       "      <td>93826.63</td>\n",
       "      <td>0</td>\n",
       "    </tr>\n",
       "    <tr>\n",
       "      <th>4</th>\n",
       "      <td>5</td>\n",
       "      <td>15737888</td>\n",
       "      <td>Mitchell</td>\n",
       "      <td>850</td>\n",
       "      <td>Spain</td>\n",
       "      <td>Female</td>\n",
       "      <td>43</td>\n",
       "      <td>2.0</td>\n",
       "      <td>125510.82</td>\n",
       "      <td>1</td>\n",
       "      <td>1</td>\n",
       "      <td>1</td>\n",
       "      <td>79084.10</td>\n",
       "      <td>0</td>\n",
       "    </tr>\n",
       "  </tbody>\n",
       "</table>\n",
       "</div>"
      ],
      "text/plain": [
       "   RowNumber  CustomerId   Surname  CreditScore Geography  Gender  Age  \\\n",
       "0          1    15634602  Hargrave          619    France  Female   42   \n",
       "1          2    15647311      Hill          608     Spain  Female   41   \n",
       "2          3    15619304      Onio          502    France  Female   42   \n",
       "3          4    15701354      Boni          699    France  Female   39   \n",
       "4          5    15737888  Mitchell          850     Spain  Female   43   \n",
       "\n",
       "   Tenure    Balance  NumOfProducts  HasCrCard  IsActiveMember  \\\n",
       "0     2.0       0.00              1          1               1   \n",
       "1     1.0   83807.86              1          0               1   \n",
       "2     8.0  159660.80              3          1               0   \n",
       "3     1.0       0.00              2          0               0   \n",
       "4     2.0  125510.82              1          1               1   \n",
       "\n",
       "   EstimatedSalary  Exited  \n",
       "0        101348.88       1  \n",
       "1        112542.58       0  \n",
       "2        113931.57       1  \n",
       "3         93826.63       0  \n",
       "4         79084.10       0  "
      ]
     },
     "execution_count": 4,
     "metadata": {},
     "output_type": "execute_result"
    }
   ],
   "source": [
    "df.head(5)"
   ]
  },
  {
   "cell_type": "markdown",
   "metadata": {},
   "source": [
    "на основании изучения основной информации по датасету и таблицы данных, делаем вывод о том, что типы данных соответствуют признакам."
   ]
  },
  {
   "cell_type": "markdown",
   "metadata": {},
   "source": [
    "изучим кол-во пропусков в датасете: выведем кол-во пропущенных значений для кажодого столбца"
   ]
  },
  {
   "cell_type": "code",
   "execution_count": 5,
   "metadata": {
    "scrolled": true
   },
   "outputs": [
    {
     "data": {
      "text/plain": [
       "RowNumber            0\n",
       "CustomerId           0\n",
       "Surname              0\n",
       "CreditScore          0\n",
       "Geography            0\n",
       "Gender               0\n",
       "Age                  0\n",
       "Tenure             909\n",
       "Balance              0\n",
       "NumOfProducts        0\n",
       "HasCrCard            0\n",
       "IsActiveMember       0\n",
       "EstimatedSalary      0\n",
       "Exited               0\n",
       "dtype: int64"
      ]
     },
     "execution_count": 5,
     "metadata": {},
     "output_type": "execute_result"
    }
   ],
   "source": [
    "df.isna().sum()"
   ]
  },
  {
   "cell_type": "markdown",
   "metadata": {},
   "source": [
    "пока видим лишь 9% пропусков по признаку Tenure - сколько лет человек является клиентом банка. Это может быть важнейшим признаком, для предсказания целевой переменной. Пока ничего делать не будем, т.к. заполение медианными значениями может значимо ухудшить прогноз. Изучим структуру признака Tenure.  "
   ]
  },
  {
   "cell_type": "code",
   "execution_count": 6,
   "metadata": {},
   "outputs": [
    {
     "data": {
      "text/plain": [
       "1.0     952\n",
       "2.0     950\n",
       "8.0     933\n",
       "3.0     928\n",
       "5.0     927\n",
       "7.0     925\n",
       "4.0     885\n",
       "9.0     882\n",
       "6.0     881\n",
       "10.0    446\n",
       "0.0     382\n",
       "Name: Tenure, dtype: int64"
      ]
     },
     "execution_count": 6,
     "metadata": {},
     "output_type": "execute_result"
    }
   ],
   "source": [
    "df['Tenure'].value_counts()"
   ]
  },
  {
   "cell_type": "code",
   "execution_count": 7,
   "metadata": {
    "scrolled": true
   },
   "outputs": [
    {
     "data": {
      "text/html": [
       "<div>\n",
       "<style scoped>\n",
       "    .dataframe tbody tr th:only-of-type {\n",
       "        vertical-align: middle;\n",
       "    }\n",
       "\n",
       "    .dataframe tbody tr th {\n",
       "        vertical-align: top;\n",
       "    }\n",
       "\n",
       "    .dataframe thead th {\n",
       "        text-align: right;\n",
       "    }\n",
       "</style>\n",
       "<table border=\"1\" class=\"dataframe\">\n",
       "  <thead>\n",
       "    <tr style=\"text-align: right;\">\n",
       "      <th></th>\n",
       "      <th>RowNumber</th>\n",
       "      <th>CustomerId</th>\n",
       "      <th>Surname</th>\n",
       "      <th>CreditScore</th>\n",
       "      <th>Geography</th>\n",
       "      <th>Gender</th>\n",
       "      <th>Age</th>\n",
       "      <th>Tenure</th>\n",
       "      <th>Balance</th>\n",
       "      <th>NumOfProducts</th>\n",
       "      <th>HasCrCard</th>\n",
       "      <th>IsActiveMember</th>\n",
       "      <th>EstimatedSalary</th>\n",
       "      <th>Exited</th>\n",
       "    </tr>\n",
       "  </thead>\n",
       "  <tbody>\n",
       "    <tr>\n",
       "      <th>30</th>\n",
       "      <td>31</td>\n",
       "      <td>15589475</td>\n",
       "      <td>Azikiwe</td>\n",
       "      <td>591</td>\n",
       "      <td>Spain</td>\n",
       "      <td>Female</td>\n",
       "      <td>39</td>\n",
       "      <td>NaN</td>\n",
       "      <td>0.00</td>\n",
       "      <td>3</td>\n",
       "      <td>1</td>\n",
       "      <td>0</td>\n",
       "      <td>140469.38</td>\n",
       "      <td>1</td>\n",
       "    </tr>\n",
       "    <tr>\n",
       "      <th>48</th>\n",
       "      <td>49</td>\n",
       "      <td>15766205</td>\n",
       "      <td>Yin</td>\n",
       "      <td>550</td>\n",
       "      <td>Germany</td>\n",
       "      <td>Male</td>\n",
       "      <td>38</td>\n",
       "      <td>NaN</td>\n",
       "      <td>103391.38</td>\n",
       "      <td>1</td>\n",
       "      <td>0</td>\n",
       "      <td>1</td>\n",
       "      <td>90878.13</td>\n",
       "      <td>0</td>\n",
       "    </tr>\n",
       "    <tr>\n",
       "      <th>51</th>\n",
       "      <td>52</td>\n",
       "      <td>15768193</td>\n",
       "      <td>Trevisani</td>\n",
       "      <td>585</td>\n",
       "      <td>Germany</td>\n",
       "      <td>Male</td>\n",
       "      <td>36</td>\n",
       "      <td>NaN</td>\n",
       "      <td>146050.97</td>\n",
       "      <td>2</td>\n",
       "      <td>0</td>\n",
       "      <td>0</td>\n",
       "      <td>86424.57</td>\n",
       "      <td>0</td>\n",
       "    </tr>\n",
       "    <tr>\n",
       "      <th>53</th>\n",
       "      <td>54</td>\n",
       "      <td>15702298</td>\n",
       "      <td>Parkhill</td>\n",
       "      <td>655</td>\n",
       "      <td>Germany</td>\n",
       "      <td>Male</td>\n",
       "      <td>41</td>\n",
       "      <td>NaN</td>\n",
       "      <td>125561.97</td>\n",
       "      <td>1</td>\n",
       "      <td>0</td>\n",
       "      <td>0</td>\n",
       "      <td>164040.94</td>\n",
       "      <td>1</td>\n",
       "    </tr>\n",
       "    <tr>\n",
       "      <th>60</th>\n",
       "      <td>61</td>\n",
       "      <td>15651280</td>\n",
       "      <td>Hunter</td>\n",
       "      <td>742</td>\n",
       "      <td>Germany</td>\n",
       "      <td>Male</td>\n",
       "      <td>35</td>\n",
       "      <td>NaN</td>\n",
       "      <td>136857.00</td>\n",
       "      <td>1</td>\n",
       "      <td>0</td>\n",
       "      <td>0</td>\n",
       "      <td>84509.57</td>\n",
       "      <td>0</td>\n",
       "    </tr>\n",
       "  </tbody>\n",
       "</table>\n",
       "</div>"
      ],
      "text/plain": [
       "    RowNumber  CustomerId    Surname  CreditScore Geography  Gender  Age  \\\n",
       "30         31    15589475    Azikiwe          591     Spain  Female   39   \n",
       "48         49    15766205        Yin          550   Germany    Male   38   \n",
       "51         52    15768193  Trevisani          585   Germany    Male   36   \n",
       "53         54    15702298   Parkhill          655   Germany    Male   41   \n",
       "60         61    15651280     Hunter          742   Germany    Male   35   \n",
       "\n",
       "    Tenure    Balance  NumOfProducts  HasCrCard  IsActiveMember  \\\n",
       "30     NaN       0.00              3          1               0   \n",
       "48     NaN  103391.38              1          0               1   \n",
       "51     NaN  146050.97              2          0               0   \n",
       "53     NaN  125561.97              1          0               0   \n",
       "60     NaN  136857.00              1          0               0   \n",
       "\n",
       "    EstimatedSalary  Exited  \n",
       "30        140469.38       1  \n",
       "48         90878.13       0  \n",
       "51         86424.57       0  \n",
       "53        164040.94       1  \n",
       "60         84509.57       0  "
      ]
     },
     "execution_count": 7,
     "metadata": {},
     "output_type": "execute_result"
    }
   ],
   "source": [
    "df[df['Tenure'].isna()].head()"
   ]
  },
  {
   "cell_type": "code",
   "execution_count": 8,
   "metadata": {},
   "outputs": [
    {
     "data": {
      "text/plain": [
       "(10000, 14)"
      ]
     },
     "execution_count": 8,
     "metadata": {},
     "output_type": "execute_result"
    }
   ],
   "source": [
    "df.shape"
   ]
  },
  {
   "cell_type": "markdown",
   "metadata": {},
   "source": [
    "Пропуски нельзя оставлять без внимания: группировка данных с NaN может привести к некорректным результатам анализа, по-этому, пропуски NaN просто заменим на нули. Также обратили внимание на столбцы, не несущие полезной информации: Surname, row number , Customerid - удалим, т к они не несут полезной информации."
   ]
  },
  {
   "cell_type": "code",
   "execution_count": 9,
   "metadata": {},
   "outputs": [
    {
     "data": {
      "text/html": [
       "<style  type=\"text/css\" >\n",
       "#T_fa6ce_row0_col0,#T_fa6ce_row1_col0,#T_fa6ce_row2_col0,#T_fa6ce_row3_col0,#T_fa6ce_row4_col0,#T_fa6ce_row5_col0,#T_fa6ce_row6_col0,#T_fa6ce_row7_col0,#T_fa6ce_row8_col0,#T_fa6ce_row9_col0,#T_fa6ce_row10_col0,#T_fa6ce_row11_col0,#T_fa6ce_row12_col0,#T_fa6ce_row13_col0{\n",
       "            background-color:  #3b4cc0;\n",
       "            color:  #f1f1f1;\n",
       "        }</style><table id=\"T_fa6ce_\" ><thead>    <tr>        <th class=\"blank level0\" ></th>        <th class=\"col_heading level0 col0\" >0</th>    </tr></thead><tbody>\n",
       "                <tr>\n",
       "                        <th id=\"T_fa6ce_level0_row0\" class=\"row_heading level0 row0\" >RowNumber</th>\n",
       "                        <td id=\"T_fa6ce_row0_col0\" class=\"data row0 col0\" >0.00</td>\n",
       "            </tr>\n",
       "            <tr>\n",
       "                        <th id=\"T_fa6ce_level0_row1\" class=\"row_heading level0 row1\" >CustomerId</th>\n",
       "                        <td id=\"T_fa6ce_row1_col0\" class=\"data row1 col0\" >0.00</td>\n",
       "            </tr>\n",
       "            <tr>\n",
       "                        <th id=\"T_fa6ce_level0_row2\" class=\"row_heading level0 row2\" >Surname</th>\n",
       "                        <td id=\"T_fa6ce_row2_col0\" class=\"data row2 col0\" >0.00</td>\n",
       "            </tr>\n",
       "            <tr>\n",
       "                        <th id=\"T_fa6ce_level0_row3\" class=\"row_heading level0 row3\" >CreditScore</th>\n",
       "                        <td id=\"T_fa6ce_row3_col0\" class=\"data row3 col0\" >0.00</td>\n",
       "            </tr>\n",
       "            <tr>\n",
       "                        <th id=\"T_fa6ce_level0_row4\" class=\"row_heading level0 row4\" >Geography</th>\n",
       "                        <td id=\"T_fa6ce_row4_col0\" class=\"data row4 col0\" >0.00</td>\n",
       "            </tr>\n",
       "            <tr>\n",
       "                        <th id=\"T_fa6ce_level0_row5\" class=\"row_heading level0 row5\" >Gender</th>\n",
       "                        <td id=\"T_fa6ce_row5_col0\" class=\"data row5 col0\" >0.00</td>\n",
       "            </tr>\n",
       "            <tr>\n",
       "                        <th id=\"T_fa6ce_level0_row6\" class=\"row_heading level0 row6\" >Age</th>\n",
       "                        <td id=\"T_fa6ce_row6_col0\" class=\"data row6 col0\" >0.00</td>\n",
       "            </tr>\n",
       "            <tr>\n",
       "                        <th id=\"T_fa6ce_level0_row7\" class=\"row_heading level0 row7\" >Tenure</th>\n",
       "                        <td id=\"T_fa6ce_row7_col0\" class=\"data row7 col0\" >0.00</td>\n",
       "            </tr>\n",
       "            <tr>\n",
       "                        <th id=\"T_fa6ce_level0_row8\" class=\"row_heading level0 row8\" >Balance</th>\n",
       "                        <td id=\"T_fa6ce_row8_col0\" class=\"data row8 col0\" >0.00</td>\n",
       "            </tr>\n",
       "            <tr>\n",
       "                        <th id=\"T_fa6ce_level0_row9\" class=\"row_heading level0 row9\" >NumOfProducts</th>\n",
       "                        <td id=\"T_fa6ce_row9_col0\" class=\"data row9 col0\" >0.00</td>\n",
       "            </tr>\n",
       "            <tr>\n",
       "                        <th id=\"T_fa6ce_level0_row10\" class=\"row_heading level0 row10\" >HasCrCard</th>\n",
       "                        <td id=\"T_fa6ce_row10_col0\" class=\"data row10 col0\" >0.00</td>\n",
       "            </tr>\n",
       "            <tr>\n",
       "                        <th id=\"T_fa6ce_level0_row11\" class=\"row_heading level0 row11\" >IsActiveMember</th>\n",
       "                        <td id=\"T_fa6ce_row11_col0\" class=\"data row11 col0\" >0.00</td>\n",
       "            </tr>\n",
       "            <tr>\n",
       "                        <th id=\"T_fa6ce_level0_row12\" class=\"row_heading level0 row12\" >EstimatedSalary</th>\n",
       "                        <td id=\"T_fa6ce_row12_col0\" class=\"data row12 col0\" >0.00</td>\n",
       "            </tr>\n",
       "            <tr>\n",
       "                        <th id=\"T_fa6ce_level0_row13\" class=\"row_heading level0 row13\" >Exited</th>\n",
       "                        <td id=\"T_fa6ce_row13_col0\" class=\"data row13 col0\" >0.00</td>\n",
       "            </tr>\n",
       "    </tbody></table>"
      ],
      "text/plain": [
       "<pandas.io.formats.style.Styler at 0x7fbaf1405dc0>"
      ]
     },
     "execution_count": 9,
     "metadata": {},
     "output_type": "execute_result"
    }
   ],
   "source": [
    "df['Tenure'] = df['Tenure'].fillna(0)\n",
    "pd.DataFrame(round(df.isna().mean()*100,)).style.background_gradient('coolwarm').format(\"{:.2f}\")"
   ]
  },
  {
   "cell_type": "markdown",
   "metadata": {},
   "source": [
    "все в порядке: пропуски заменены. Переходим у удалению обсужденных выше столбцов."
   ]
  },
  {
   "cell_type": "code",
   "execution_count": 10,
   "metadata": {},
   "outputs": [],
   "source": [
    "df = df.drop(columns = ['RowNumber', 'CustomerId', 'Surname'], axis = 1)"
   ]
  },
  {
   "cell_type": "markdown",
   "metadata": {},
   "source": []
  },
  {
   "cell_type": "code",
   "execution_count": 11,
   "metadata": {},
   "outputs": [
    {
     "data": {
      "text/html": [
       "<div>\n",
       "<style scoped>\n",
       "    .dataframe tbody tr th:only-of-type {\n",
       "        vertical-align: middle;\n",
       "    }\n",
       "\n",
       "    .dataframe tbody tr th {\n",
       "        vertical-align: top;\n",
       "    }\n",
       "\n",
       "    .dataframe thead th {\n",
       "        text-align: right;\n",
       "    }\n",
       "</style>\n",
       "<table border=\"1\" class=\"dataframe\">\n",
       "  <thead>\n",
       "    <tr style=\"text-align: right;\">\n",
       "      <th></th>\n",
       "      <th>CreditScore</th>\n",
       "      <th>Geography</th>\n",
       "      <th>Gender</th>\n",
       "      <th>Age</th>\n",
       "      <th>Tenure</th>\n",
       "      <th>Balance</th>\n",
       "      <th>NumOfProducts</th>\n",
       "      <th>HasCrCard</th>\n",
       "      <th>IsActiveMember</th>\n",
       "      <th>EstimatedSalary</th>\n",
       "      <th>Exited</th>\n",
       "    </tr>\n",
       "  </thead>\n",
       "  <tbody>\n",
       "    <tr>\n",
       "      <th>0</th>\n",
       "      <td>619</td>\n",
       "      <td>France</td>\n",
       "      <td>Female</td>\n",
       "      <td>42</td>\n",
       "      <td>2.0</td>\n",
       "      <td>0.00</td>\n",
       "      <td>1</td>\n",
       "      <td>1</td>\n",
       "      <td>1</td>\n",
       "      <td>101348.88</td>\n",
       "      <td>1</td>\n",
       "    </tr>\n",
       "    <tr>\n",
       "      <th>1</th>\n",
       "      <td>608</td>\n",
       "      <td>Spain</td>\n",
       "      <td>Female</td>\n",
       "      <td>41</td>\n",
       "      <td>1.0</td>\n",
       "      <td>83807.86</td>\n",
       "      <td>1</td>\n",
       "      <td>0</td>\n",
       "      <td>1</td>\n",
       "      <td>112542.58</td>\n",
       "      <td>0</td>\n",
       "    </tr>\n",
       "    <tr>\n",
       "      <th>2</th>\n",
       "      <td>502</td>\n",
       "      <td>France</td>\n",
       "      <td>Female</td>\n",
       "      <td>42</td>\n",
       "      <td>8.0</td>\n",
       "      <td>159660.80</td>\n",
       "      <td>3</td>\n",
       "      <td>1</td>\n",
       "      <td>0</td>\n",
       "      <td>113931.57</td>\n",
       "      <td>1</td>\n",
       "    </tr>\n",
       "    <tr>\n",
       "      <th>3</th>\n",
       "      <td>699</td>\n",
       "      <td>France</td>\n",
       "      <td>Female</td>\n",
       "      <td>39</td>\n",
       "      <td>1.0</td>\n",
       "      <td>0.00</td>\n",
       "      <td>2</td>\n",
       "      <td>0</td>\n",
       "      <td>0</td>\n",
       "      <td>93826.63</td>\n",
       "      <td>0</td>\n",
       "    </tr>\n",
       "    <tr>\n",
       "      <th>4</th>\n",
       "      <td>850</td>\n",
       "      <td>Spain</td>\n",
       "      <td>Female</td>\n",
       "      <td>43</td>\n",
       "      <td>2.0</td>\n",
       "      <td>125510.82</td>\n",
       "      <td>1</td>\n",
       "      <td>1</td>\n",
       "      <td>1</td>\n",
       "      <td>79084.10</td>\n",
       "      <td>0</td>\n",
       "    </tr>\n",
       "  </tbody>\n",
       "</table>\n",
       "</div>"
      ],
      "text/plain": [
       "   CreditScore Geography  Gender  Age  Tenure    Balance  NumOfProducts  \\\n",
       "0          619    France  Female   42     2.0       0.00              1   \n",
       "1          608     Spain  Female   41     1.0   83807.86              1   \n",
       "2          502    France  Female   42     8.0  159660.80              3   \n",
       "3          699    France  Female   39     1.0       0.00              2   \n",
       "4          850     Spain  Female   43     2.0  125510.82              1   \n",
       "\n",
       "   HasCrCard  IsActiveMember  EstimatedSalary  Exited  \n",
       "0          1               1        101348.88       1  \n",
       "1          0               1        112542.58       0  \n",
       "2          1               0        113931.57       1  \n",
       "3          0               0         93826.63       0  \n",
       "4          1               1         79084.10       0  "
      ]
     },
     "execution_count": 11,
     "metadata": {},
     "output_type": "execute_result"
    }
   ],
   "source": [
    "df.head(5)"
   ]
  },
  {
   "cell_type": "code",
   "execution_count": 12,
   "metadata": {},
   "outputs": [
    {
     "data": {
      "text/plain": [
       "(10000, 11)"
      ]
     },
     "execution_count": 12,
     "metadata": {},
     "output_type": "execute_result"
    }
   ],
   "source": [
    "df.shape"
   ]
  },
  {
   "cell_type": "markdown",
   "metadata": {},
   "source": [
    "Проведем преобразование категориальных признаков в численные методом прямого кодирования OHE. Сразу избавляемся от dummy- ловушки."
   ]
  },
  {
   "cell_type": "code",
   "execution_count": 13,
   "metadata": {},
   "outputs": [
    {
     "data": {
      "text/html": [
       "<div>\n",
       "<style scoped>\n",
       "    .dataframe tbody tr th:only-of-type {\n",
       "        vertical-align: middle;\n",
       "    }\n",
       "\n",
       "    .dataframe tbody tr th {\n",
       "        vertical-align: top;\n",
       "    }\n",
       "\n",
       "    .dataframe thead th {\n",
       "        text-align: right;\n",
       "    }\n",
       "</style>\n",
       "<table border=\"1\" class=\"dataframe\">\n",
       "  <thead>\n",
       "    <tr style=\"text-align: right;\">\n",
       "      <th></th>\n",
       "      <th>CreditScore</th>\n",
       "      <th>Age</th>\n",
       "      <th>Tenure</th>\n",
       "      <th>Balance</th>\n",
       "      <th>NumOfProducts</th>\n",
       "      <th>HasCrCard</th>\n",
       "      <th>IsActiveMember</th>\n",
       "      <th>EstimatedSalary</th>\n",
       "      <th>Exited</th>\n",
       "      <th>Geography_Germany</th>\n",
       "      <th>Geography_Spain</th>\n",
       "      <th>Gender_Male</th>\n",
       "    </tr>\n",
       "  </thead>\n",
       "  <tbody>\n",
       "    <tr>\n",
       "      <th>0</th>\n",
       "      <td>619</td>\n",
       "      <td>42</td>\n",
       "      <td>2.0</td>\n",
       "      <td>0.00</td>\n",
       "      <td>1</td>\n",
       "      <td>1</td>\n",
       "      <td>1</td>\n",
       "      <td>101348.88</td>\n",
       "      <td>1</td>\n",
       "      <td>0</td>\n",
       "      <td>0</td>\n",
       "      <td>0</td>\n",
       "    </tr>\n",
       "    <tr>\n",
       "      <th>1</th>\n",
       "      <td>608</td>\n",
       "      <td>41</td>\n",
       "      <td>1.0</td>\n",
       "      <td>83807.86</td>\n",
       "      <td>1</td>\n",
       "      <td>0</td>\n",
       "      <td>1</td>\n",
       "      <td>112542.58</td>\n",
       "      <td>0</td>\n",
       "      <td>0</td>\n",
       "      <td>1</td>\n",
       "      <td>0</td>\n",
       "    </tr>\n",
       "    <tr>\n",
       "      <th>2</th>\n",
       "      <td>502</td>\n",
       "      <td>42</td>\n",
       "      <td>8.0</td>\n",
       "      <td>159660.80</td>\n",
       "      <td>3</td>\n",
       "      <td>1</td>\n",
       "      <td>0</td>\n",
       "      <td>113931.57</td>\n",
       "      <td>1</td>\n",
       "      <td>0</td>\n",
       "      <td>0</td>\n",
       "      <td>0</td>\n",
       "    </tr>\n",
       "    <tr>\n",
       "      <th>3</th>\n",
       "      <td>699</td>\n",
       "      <td>39</td>\n",
       "      <td>1.0</td>\n",
       "      <td>0.00</td>\n",
       "      <td>2</td>\n",
       "      <td>0</td>\n",
       "      <td>0</td>\n",
       "      <td>93826.63</td>\n",
       "      <td>0</td>\n",
       "      <td>0</td>\n",
       "      <td>0</td>\n",
       "      <td>0</td>\n",
       "    </tr>\n",
       "    <tr>\n",
       "      <th>4</th>\n",
       "      <td>850</td>\n",
       "      <td>43</td>\n",
       "      <td>2.0</td>\n",
       "      <td>125510.82</td>\n",
       "      <td>1</td>\n",
       "      <td>1</td>\n",
       "      <td>1</td>\n",
       "      <td>79084.10</td>\n",
       "      <td>0</td>\n",
       "      <td>0</td>\n",
       "      <td>1</td>\n",
       "      <td>0</td>\n",
       "    </tr>\n",
       "  </tbody>\n",
       "</table>\n",
       "</div>"
      ],
      "text/plain": [
       "   CreditScore  Age  Tenure    Balance  NumOfProducts  HasCrCard  \\\n",
       "0          619   42     2.0       0.00              1          1   \n",
       "1          608   41     1.0   83807.86              1          0   \n",
       "2          502   42     8.0  159660.80              3          1   \n",
       "3          699   39     1.0       0.00              2          0   \n",
       "4          850   43     2.0  125510.82              1          1   \n",
       "\n",
       "   IsActiveMember  EstimatedSalary  Exited  Geography_Germany  \\\n",
       "0               1        101348.88       1                  0   \n",
       "1               1        112542.58       0                  0   \n",
       "2               0        113931.57       1                  0   \n",
       "3               0         93826.63       0                  0   \n",
       "4               1         79084.10       0                  0   \n",
       "\n",
       "   Geography_Spain  Gender_Male  \n",
       "0                0            0  \n",
       "1                1            0  \n",
       "2                0            0  \n",
       "3                0            0  \n",
       "4                1            0  "
      ]
     },
     "execution_count": 13,
     "metadata": {},
     "output_type": "execute_result"
    }
   ],
   "source": [
    "df_ohe =pd.get_dummies(df, drop_first=True)\n",
    "df_ohe.head(5)"
   ]
  },
  {
   "cell_type": "markdown",
   "metadata": {},
   "source": [
    "<div class=\"alert alert-success\">\n",
    "<h2> Комментарий ревьюера ✔️ <a class=\"tocSkip\"> </h2>\n",
    "\n",
    "В данном случае это наиболее подходящий способ закодировать категориальные колонки 👍 И отдельный плюс за `drop_first`"
   ]
  },
  {
   "cell_type": "markdown",
   "metadata": {},
   "source": [
    "## Исследование задачи"
   ]
  },
  {
   "cell_type": "markdown",
   "metadata": {},
   "source": [
    "Наша задача разбить данные в пропорции 60% обучающая выборка, 20% валидационная и 20% тестовая выборка. Первым этапом, делим выборку в соотношении 60/40 на обучающую и остальные"
   ]
  },
  {
   "cell_type": "code",
   "execution_count": 56,
   "metadata": {},
   "outputs": [],
   "source": [
    "df_ohe_train, df_ohe_last = train_test_split(df_ohe, test_size=0.4, random_state=12345)"
   ]
  },
  {
   "cell_type": "markdown",
   "metadata": {},
   "source": [
    "вторым этапом делим оставшиеся 40% на 20/20, у нас получится валидационная и тестовая выборки. И выполним проверку разбиения."
   ]
  },
  {
   "cell_type": "code",
   "execution_count": 15,
   "metadata": {},
   "outputs": [],
   "source": [
    "df_ohe_valid, df_ohe_test = train_test_split(df_ohe_last, test_size=0.5, random_state=12345)"
   ]
  },
  {
   "cell_type": "code",
   "execution_count": 55,
   "metadata": {},
   "outputs": [],
   "source": [
    "np.random.seed(12345)"
   ]
  },
  {
   "cell_type": "markdown",
   "metadata": {},
   "source": []
  },
  {
   "cell_type": "code",
   "execution_count": 16,
   "metadata": {},
   "outputs": [
    {
     "data": {
      "text/plain": [
       "(6000, 12)"
      ]
     },
     "execution_count": 16,
     "metadata": {},
     "output_type": "execute_result"
    }
   ],
   "source": [
    "df_ohe_train.shape"
   ]
  },
  {
   "cell_type": "code",
   "execution_count": 17,
   "metadata": {},
   "outputs": [
    {
     "data": {
      "text/plain": [
       "(2000, 12)"
      ]
     },
     "execution_count": 17,
     "metadata": {},
     "output_type": "execute_result"
    }
   ],
   "source": [
    "df_ohe_valid.shape"
   ]
  },
  {
   "cell_type": "code",
   "execution_count": 18,
   "metadata": {},
   "outputs": [
    {
     "data": {
      "text/plain": [
       "(2000, 12)"
      ]
     },
     "execution_count": 18,
     "metadata": {},
     "output_type": "execute_result"
    }
   ],
   "source": [
    "df_ohe_test.shape"
   ]
  },
  {
   "cell_type": "markdown",
   "metadata": {},
   "source": [
    "теперь проведем масштабирование признаков, с целью стандартизации"
   ]
  },
  {
   "cell_type": "code",
   "execution_count": 53,
   "metadata": {},
   "outputs": [],
   "source": [
    "pd.options.mode.chained_assignment = None\n",
    "numeric = ['CreditScore', 'Age', 'Tenure', 'Balance', 'NumOfProducts', 'EstimatedSalary']\n",
    "scaler = StandardScaler()\n",
    "scaler.fit(df_ohe_train[numeric]) \n",
    "\n",
    "df_ohe_train[numeric] = scaler.transform(df_ohe_train[numeric])\n",
    "df_ohe_valid[numeric] = scaler.transform(df_ohe_valid[numeric])\n",
    "df_ohe_test[numeric] = scaler.transform(df_ohe_test[numeric])\n"
   ]
  },
  {
   "cell_type": "markdown",
   "metadata": {},
   "source": [
    "для тренинговой выборки выделим в датасете целевой признак и проверим что получилось"
   ]
  },
  {
   "cell_type": "code",
   "execution_count": 20,
   "metadata": {},
   "outputs": [],
   "source": [
    "target_train = df_ohe_train['Exited']\n",
    "features_train = df_ohe_train.drop('Exited', axis=1)\n",
    "target_valid = df_ohe_valid['Exited']\n",
    "features_valid = df_ohe_valid.drop('Exited', axis=1)\n",
    "target_test = df_ohe_test['Exited']\n",
    "features_test = df_ohe_test.drop('Exited', axis=1)"
   ]
  },
  {
   "cell_type": "code",
   "execution_count": 21,
   "metadata": {},
   "outputs": [
    {
     "data": {
      "text/plain": [
       "7479    0\n",
       "3411    0\n",
       "6027    0\n",
       "1247    0\n",
       "3716    0\n",
       "Name: Exited, dtype: int64"
      ]
     },
     "execution_count": 21,
     "metadata": {},
     "output_type": "execute_result"
    }
   ],
   "source": [
    "target_train.head(5)"
   ]
  },
  {
   "cell_type": "code",
   "execution_count": 22,
   "metadata": {},
   "outputs": [
    {
     "data": {
      "text/plain": [
       "(2000,)"
      ]
     },
     "execution_count": 22,
     "metadata": {},
     "output_type": "execute_result"
    }
   ],
   "source": [
    "target_valid.shape"
   ]
  },
  {
   "cell_type": "code",
   "execution_count": 23,
   "metadata": {},
   "outputs": [
    {
     "data": {
      "text/html": [
       "<div>\n",
       "<style scoped>\n",
       "    .dataframe tbody tr th:only-of-type {\n",
       "        vertical-align: middle;\n",
       "    }\n",
       "\n",
       "    .dataframe tbody tr th {\n",
       "        vertical-align: top;\n",
       "    }\n",
       "\n",
       "    .dataframe thead th {\n",
       "        text-align: right;\n",
       "    }\n",
       "</style>\n",
       "<table border=\"1\" class=\"dataframe\">\n",
       "  <thead>\n",
       "    <tr style=\"text-align: right;\">\n",
       "      <th></th>\n",
       "      <th>CreditScore</th>\n",
       "      <th>Age</th>\n",
       "      <th>Tenure</th>\n",
       "      <th>Balance</th>\n",
       "      <th>NumOfProducts</th>\n",
       "      <th>HasCrCard</th>\n",
       "      <th>IsActiveMember</th>\n",
       "      <th>EstimatedSalary</th>\n",
       "      <th>Geography_Germany</th>\n",
       "      <th>Geography_Spain</th>\n",
       "      <th>Gender_Male</th>\n",
       "    </tr>\n",
       "  </thead>\n",
       "  <tbody>\n",
       "    <tr>\n",
       "      <th>7479</th>\n",
       "      <td>-0.886751</td>\n",
       "      <td>-0.373192</td>\n",
       "      <td>1.104696</td>\n",
       "      <td>1.232271</td>\n",
       "      <td>-0.891560</td>\n",
       "      <td>1</td>\n",
       "      <td>0</td>\n",
       "      <td>-0.187705</td>\n",
       "      <td>0</td>\n",
       "      <td>1</td>\n",
       "      <td>1</td>\n",
       "    </tr>\n",
       "    <tr>\n",
       "      <th>3411</th>\n",
       "      <td>0.608663</td>\n",
       "      <td>-0.183385</td>\n",
       "      <td>1.104696</td>\n",
       "      <td>0.600563</td>\n",
       "      <td>-0.891560</td>\n",
       "      <td>0</td>\n",
       "      <td>0</td>\n",
       "      <td>-0.333945</td>\n",
       "      <td>0</td>\n",
       "      <td>0</td>\n",
       "      <td>0</td>\n",
       "    </tr>\n",
       "    <tr>\n",
       "      <th>6027</th>\n",
       "      <td>2.052152</td>\n",
       "      <td>0.480939</td>\n",
       "      <td>-0.503694</td>\n",
       "      <td>1.027098</td>\n",
       "      <td>0.830152</td>\n",
       "      <td>0</td>\n",
       "      <td>1</td>\n",
       "      <td>1.503095</td>\n",
       "      <td>1</td>\n",
       "      <td>0</td>\n",
       "      <td>1</td>\n",
       "    </tr>\n",
       "    <tr>\n",
       "      <th>1247</th>\n",
       "      <td>-1.457915</td>\n",
       "      <td>-1.417129</td>\n",
       "      <td>0.461340</td>\n",
       "      <td>-1.233163</td>\n",
       "      <td>0.830152</td>\n",
       "      <td>1</td>\n",
       "      <td>0</td>\n",
       "      <td>-1.071061</td>\n",
       "      <td>0</td>\n",
       "      <td>0</td>\n",
       "      <td>1</td>\n",
       "    </tr>\n",
       "    <tr>\n",
       "      <th>3716</th>\n",
       "      <td>0.130961</td>\n",
       "      <td>-1.132419</td>\n",
       "      <td>-0.825373</td>\n",
       "      <td>1.140475</td>\n",
       "      <td>-0.891560</td>\n",
       "      <td>0</td>\n",
       "      <td>0</td>\n",
       "      <td>1.524268</td>\n",
       "      <td>1</td>\n",
       "      <td>0</td>\n",
       "      <td>0</td>\n",
       "    </tr>\n",
       "  </tbody>\n",
       "</table>\n",
       "</div>"
      ],
      "text/plain": [
       "      CreditScore       Age    Tenure   Balance  NumOfProducts  HasCrCard  \\\n",
       "7479    -0.886751 -0.373192  1.104696  1.232271      -0.891560          1   \n",
       "3411     0.608663 -0.183385  1.104696  0.600563      -0.891560          0   \n",
       "6027     2.052152  0.480939 -0.503694  1.027098       0.830152          0   \n",
       "1247    -1.457915 -1.417129  0.461340 -1.233163       0.830152          1   \n",
       "3716     0.130961 -1.132419 -0.825373  1.140475      -0.891560          0   \n",
       "\n",
       "      IsActiveMember  EstimatedSalary  Geography_Germany  Geography_Spain  \\\n",
       "7479               0        -0.187705                  0                1   \n",
       "3411               0        -0.333945                  0                0   \n",
       "6027               1         1.503095                  1                0   \n",
       "1247               0        -1.071061                  0                0   \n",
       "3716               0         1.524268                  1                0   \n",
       "\n",
       "      Gender_Male  \n",
       "7479            1  \n",
       "3411            0  \n",
       "6027            1  \n",
       "1247            1  \n",
       "3716            0  "
      ]
     },
     "execution_count": 23,
     "metadata": {},
     "output_type": "execute_result"
    }
   ],
   "source": [
    "features_train.head(5)"
   ]
  },
  {
   "cell_type": "markdown",
   "metadata": {},
   "source": [
    "все в порядке, можно работать."
   ]
  },
  {
   "cell_type": "markdown",
   "metadata": {},
   "source": [
    "Приступаем к исследованию баланса классов, по порядку."
   ]
  },
  {
   "cell_type": "code",
   "execution_count": 24,
   "metadata": {},
   "outputs": [
    {
     "data": {
      "image/png": "[encoded data removed]",
      "text/plain": [
       "<Figure size 432x288 with 1 Axes>"
      ]
     },
     "metadata": {},
     "output_type": "display_data"
    }
   ],
   "source": [
    "target_train.value_counts(normalize = True).plot.pie(legend = True)\n",
    "plt.title('Клиент в банке остался/ушел')\n",
    "plt.show()"
   ]
  },
  {
   "cell_type": "code",
   "execution_count": 25,
   "metadata": {},
   "outputs": [
    {
     "data": {
      "image/png": "[encoded data removed]",
      "text/plain": [
       "<Figure size 432x288 with 1 Axes>"
      ]
     },
     "metadata": {},
     "output_type": "display_data"
    }
   ],
   "source": [
    "features_train['HasCrCard'].value_counts(normalize = True).plot.pie(legend = True)\n",
    "plt.title('Наличие кредитной карты')\n",
    "plt.show()"
   ]
  },
  {
   "cell_type": "code",
   "execution_count": 26,
   "metadata": {},
   "outputs": [
    {
     "data": {
      "image/png": "[encoded data removed]",
      "text/plain": [
       "<Figure size 432x288 with 1 Axes>"
      ]
     },
     "metadata": {},
     "output_type": "display_data"
    }
   ],
   "source": [
    "features_train['IsActiveMember'].value_counts(normalize = True).plot.pie(legend = True)\n",
    "plt.title('Активность клиента')\n",
    "plt.show()\n"
   ]
  },
  {
   "cell_type": "code",
   "execution_count": 27,
   "metadata": {},
   "outputs": [
    {
     "data": {
      "image/png": "[encoded data removed]",
      "text/plain": [
       "<Figure size 432x288 with 1 Axes>"
      ]
     },
     "metadata": {},
     "output_type": "display_data"
    }
   ],
   "source": [
    "features_train['Geography_Germany'].value_counts(normalize = True).plot.pie(legend = True)\n",
    "plt.title('Проживающих в Германии')\n",
    "plt.show()"
   ]
  },
  {
   "cell_type": "code",
   "execution_count": 28,
   "metadata": {},
   "outputs": [
    {
     "data": {
      "image/png": "[encoded data removed]",
      "text/plain": [
       "<Figure size 432x288 with 1 Axes>"
      ]
     },
     "metadata": {},
     "output_type": "display_data"
    }
   ],
   "source": [
    "features_train['Geography_Spain'].value_counts(normalize = True).plot.pie(legend = True)\n",
    "plt.title('Проживающих в Испании')\n",
    "plt.show()"
   ]
  },
  {
   "cell_type": "code",
   "execution_count": 29,
   "metadata": {},
   "outputs": [
    {
     "data": {
      "image/png": "[encoded data removed]",
      "text/plain": [
       "<Figure size 432x288 with 1 Axes>"
      ]
     },
     "metadata": {},
     "output_type": "display_data"
    }
   ],
   "source": [
    "features_train['Gender_Male'].value_counts(normalize = True).plot.pie(legend = True)\n",
    "plt.title('Пол')\n",
    "plt.show()"
   ]
  },
  {
   "cell_type": "markdown",
   "metadata": {},
   "source": [
    "Вывод: В ряде столбцов: Exited, HasCrCard, Geography_Germany, Geography_Spain, обнаружен дисбаланс классов"
   ]
  },
  {
   "cell_type": "markdown",
   "metadata": {},
   "source": [
    "Приступаем к обучению модели, без учета дисбаланса классов. Первым этапом, обучим модель Решающего дерева и \n",
    "в цикле подберем глубину леса"
   ]
  },
  {
   "cell_type": "code",
   "execution_count": 5,
   "metadata": {},
   "outputs": [
    {
     "ename": "SyntaxError",
     "evalue": "invalid syntax (1742014615.py, line 1)",
     "output_type": "error",
     "traceback": [
      "\u001B[0;36m  File \u001B[0;32m\"/tmp/ipykernel_31/1742014615.py\"\u001B[0;36m, line \u001B[0;32m1\u001B[0m\n\u001B[0;31m    pip3 install tqdm\u001B[0m\n\u001B[0m         ^\u001B[0m\n\u001B[0;31mSyntaxError\u001B[0m\u001B[0;31m:\u001B[0m invalid syntax\n"
     ]
    }
   ],
   "source": [
    "pip3 install tqdm"
   ]
  },
  {
   "cell_type": "code",
   "execution_count": 30,
   "metadata": {
    "scrolled": true
   },
   "outputs": [
    {
     "name": "stdout",
     "output_type": "stream",
     "text": [
      "Max depth: 1 F1-score: 0.0000 AUC-ROC: 0.6926\n",
      "Max depth: 2 F1-score: 0.5217 AUC-ROC: 0.7502\n",
      "Max depth: 3 F1-score: 0.4235 AUC-ROC: 0.7973\n",
      "Max depth: 4 F1-score: 0.5529 AUC-ROC: 0.8134\n",
      "Max depth: 5 F1-score: 0.5406 AUC-ROC: 0.8222\n",
      "Max depth: 6 F1-score: 0.5697 AUC-ROC: 0.8165\n",
      "Max depth: 7 F1-score: 0.5321 AUC-ROC: 0.8152\n",
      "Max depth: 8 F1-score: 0.5449 AUC-ROC: 0.8105\n",
      "Max depth: 9 F1-score: 0.5787 AUC-ROC: 0.7900\n",
      "Max depth: 10 F1-score: 0.5290 AUC-ROC: 0.7694\n",
      "Max depth: 11 F1-score: 0.5201 AUC-ROC: 0.7312\n",
      "Max depth: 12 F1-score: 0.5013 AUC-ROC: 0.7117\n",
      "Max depth: 13 F1-score: 0.5259 AUC-ROC: 0.7007\n",
      "Max depth: 14 F1-score: 0.4839 AUC-ROC: 0.6814\n",
      "Max depth: 15 F1-score: 0.5025 AUC-ROC: 0.6801\n",
      "Max depth: 16 F1-score: 0.4912 AUC-ROC: 0.6841\n",
      "Max depth: 17 F1-score: 0.4716 AUC-ROC: 0.6645\n",
      "Max depth: 18 F1-score: 0.4901 AUC-ROC: 0.6792\n",
      "Max depth: 19 F1-score: 0.4921 AUC-ROC: 0.6804\n",
      "Max depth: 20 F1-score: 0.5024 AUC-ROC: 0.6866\n",
      "Max depth: 21 F1-score: 0.4958 AUC-ROC: 0.6813\n",
      "Max depth: 22 F1-score: 0.4799 AUC-ROC: 0.6705\n",
      "Max depth: 23 F1-score: 0.4799 AUC-ROC: 0.6705\n",
      "Max depth: 24 F1-score: 0.4799 AUC-ROC: 0.6705\n",
      "Max depth: 25 F1-score: 0.4799 AUC-ROC: 0.6705\n",
      "Max depth: 26 F1-score: 0.4799 AUC-ROC: 0.6705\n",
      "Max depth: 27 F1-score: 0.4799 AUC-ROC: 0.6705\n",
      "Max depth: 28 F1-score: 0.4799 AUC-ROC: 0.6705\n",
      "Max depth: 29 F1-score: 0.4799 AUC-ROC: 0.6705\n",
      "Max depth: 30 F1-score: 0.4799 AUC-ROC: 0.6705\n",
      "Max depth: 31 F1-score: 0.4799 AUC-ROC: 0.6705\n",
      "Max depth: 32 F1-score: 0.4799 AUC-ROC: 0.6705\n",
      "Max depth: 33 F1-score: 0.4799 AUC-ROC: 0.6705\n",
      "Max depth: 34 F1-score: 0.4799 AUC-ROC: 0.6705\n",
      "Max depth: 35 F1-score: 0.4799 AUC-ROC: 0.6705\n",
      "Max depth: 36 F1-score: 0.4799 AUC-ROC: 0.6705\n",
      "Max depth: 37 F1-score: 0.4799 AUC-ROC: 0.6705\n",
      "Max depth: 38 F1-score: 0.4799 AUC-ROC: 0.6705\n",
      "Max depth: 39 F1-score: 0.4799 AUC-ROC: 0.6705\n",
      "Max depth: 40 F1-score: 0.4799 AUC-ROC: 0.6705\n",
      "Max depth: 41 F1-score: 0.4799 AUC-ROC: 0.6705\n",
      "Max depth: 42 F1-score: 0.4799 AUC-ROC: 0.6705\n",
      "Max depth: 43 F1-score: 0.4799 AUC-ROC: 0.6705\n",
      "Max depth: 44 F1-score: 0.4799 AUC-ROC: 0.6705\n",
      "Max depth: 45 F1-score: 0.4799 AUC-ROC: 0.6705\n",
      "Max depth: 46 F1-score: 0.4799 AUC-ROC: 0.6705\n",
      "Max depth: 47 F1-score: 0.4799 AUC-ROC: 0.6705\n",
      "Max depth: 48 F1-score: 0.4799 AUC-ROC: 0.6705\n",
      "Max depth: 49 F1-score: 0.4799 AUC-ROC: 0.6705\n",
      "Max depth: 50 F1-score: 0.4799 AUC-ROC: 0.6705\n",
      "Max depth: 51 F1-score: 0.4799 AUC-ROC: 0.6705\n",
      "Max depth: 52 F1-score: 0.4799 AUC-ROC: 0.6705\n",
      "Max depth: 53 F1-score: 0.4799 AUC-ROC: 0.6705\n",
      "Max depth: 54 F1-score: 0.4799 AUC-ROC: 0.6705\n",
      "Max depth: 55 F1-score: 0.4799 AUC-ROC: 0.6705\n",
      "Max depth: 56 F1-score: 0.4799 AUC-ROC: 0.6705\n",
      "Max depth: 57 F1-score: 0.4799 AUC-ROC: 0.6705\n",
      "Max depth: 58 F1-score: 0.4799 AUC-ROC: 0.6705\n",
      "Max depth: 59 F1-score: 0.4799 AUC-ROC: 0.6705\n",
      "Max depth: 60 F1-score: 0.4799 AUC-ROC: 0.6705\n",
      "Max depth: 61 F1-score: 0.4799 AUC-ROC: 0.6705\n",
      "Max depth: 62 F1-score: 0.4799 AUC-ROC: 0.6705\n",
      "Max depth: 63 F1-score: 0.4799 AUC-ROC: 0.6705\n",
      "Max depth: 64 F1-score: 0.4799 AUC-ROC: 0.6705\n",
      "Max depth: 65 F1-score: 0.4799 AUC-ROC: 0.6705\n",
      "Max depth: 66 F1-score: 0.4799 AUC-ROC: 0.6705\n",
      "Max depth: 67 F1-score: 0.4799 AUC-ROC: 0.6705\n",
      "Max depth: 68 F1-score: 0.4799 AUC-ROC: 0.6705\n",
      "Max depth: 69 F1-score: 0.4799 AUC-ROC: 0.6705\n",
      "Max depth: 70 F1-score: 0.4799 AUC-ROC: 0.6705\n",
      "Max depth: 71 F1-score: 0.4799 AUC-ROC: 0.6705\n",
      "Max depth: 72 F1-score: 0.4799 AUC-ROC: 0.6705\n",
      "Max depth: 73 F1-score: 0.4799 AUC-ROC: 0.6705\n",
      "Max depth: 74 F1-score: 0.4799 AUC-ROC: 0.6705\n",
      "Max depth: 75 F1-score: 0.4799 AUC-ROC: 0.6705\n",
      "Max depth: 76 F1-score: 0.4799 AUC-ROC: 0.6705\n",
      "Max depth: 77 F1-score: 0.4799 AUC-ROC: 0.6705\n",
      "Max depth: 78 F1-score: 0.4799 AUC-ROC: 0.6705\n",
      "Max depth: 79 F1-score: 0.4799 AUC-ROC: 0.6705\n",
      "Max depth: 80 F1-score: 0.4799 AUC-ROC: 0.6705\n",
      "Max depth: 81 F1-score: 0.4799 AUC-ROC: 0.6705\n",
      "Max depth: 82 F1-score: 0.4799 AUC-ROC: 0.6705\n",
      "Max depth: 83 F1-score: 0.4799 AUC-ROC: 0.6705\n",
      "Max depth: 84 F1-score: 0.4799 AUC-ROC: 0.6705\n",
      "Max depth: 85 F1-score: 0.4799 AUC-ROC: 0.6705\n",
      "Max depth: 86 F1-score: 0.4799 AUC-ROC: 0.6705\n",
      "Max depth: 87 F1-score: 0.4799 AUC-ROC: 0.6705\n",
      "Max depth: 88 F1-score: 0.4799 AUC-ROC: 0.6705\n",
      "Max depth: 89 F1-score: 0.4799 AUC-ROC: 0.6705\n",
      "Max depth: 90 F1-score: 0.4799 AUC-ROC: 0.6705\n",
      "Max depth: 91 F1-score: 0.4799 AUC-ROC: 0.6705\n",
      "Max depth: 92 F1-score: 0.4799 AUC-ROC: 0.6705\n",
      "Max depth: 93 F1-score: 0.4799 AUC-ROC: 0.6705\n",
      "Max depth: 94 F1-score: 0.4799 AUC-ROC: 0.6705\n",
      "Max depth: 95 F1-score: 0.4799 AUC-ROC: 0.6705\n",
      "Max depth: 96 F1-score: 0.4799 AUC-ROC: 0.6705\n",
      "Max depth: 97 F1-score: 0.4799 AUC-ROC: 0.6705\n",
      "Max depth: 98 F1-score: 0.4799 AUC-ROC: 0.6705\n",
      "Max depth: 99 F1-score: 0.4799 AUC-ROC: 0.6705\n",
      "Лучшая F1-score 0.5787 при глубине = 9,  AUC-ROC = 0.7899719632952051\n"
     ]
    }
   ],
   "source": [
    "best_score = 0\n",
    "best_model = 0\n",
    "best_score_f1 = 0\n",
    "best_auc_roc = 0\n",
    "for depth in range (2, 80, 2):\n",
    "    model = DecisionTreeClassifier(max_depth= depth, random_state=12345)\n",
    "    model.fit(features_train, target_train)\n",
    "    predicted_valid = model.predict(features_valid)\n",
    "    \n",
    "    predict_score = accuracy_score(predicted_valid, target_valid)\n",
    "    \n",
    "    f1 = f1_score(target_valid, predicted_valid)\n",
    "    \n",
    "    probabilities_valid = model.predict_proba(features_valid)\n",
    "    probabilities_one_valid =  probabilities_valid[:, 1]\n",
    "    auc_roc = roc_auc_score(target_valid, probabilities_one_valid)\n",
    "    print('Max depth:', depth,'F1-score:','{:.4f}'.format(f1),\n",
    "          'AUC-ROC:','{:.4f}'.format(auc_roc))\n",
    "    \n",
    "    \n",
    "    if best_score_f1 < f1:\n",
    "        best_score_f1 = f1\n",
    "        best_depth = depth\n",
    "        best_model = model\n",
    "        best_auc_roc = auc_roc\n",
    "        \n",
    "print('Лучшая F1-score','{:.4f}'.format(best_score_f1), 'при глубине = {0},  AUC-ROC = {1}'\n",
    "      .format(best_depth, best_auc_roc))\n",
    "\n",
    "    \n"
   ]
  },
  {
   "cell_type": "markdown",
   "metadata": {},
   "source": [
    "итак, в следствие проведенного подбора параметров, мы получили на выходе 3 метрики, в виде набора оптимальных параметров:Лучшая F1-score 0.5787 при глубине = 9,  AUC-ROC = 0.7899719632952051"
   ]
  },
  {
   "cell_type": "markdown",
   "metadata": {},
   "source": [
    "переходим к модели леса деревьев RandomForestClassifier. Во вложенном цикле проведем подбор оптимальных параметров для обучения модели"
   ]
  },
  {
   "cell_type": "code",
   "execution_count": 31,
   "metadata": {
    "scrolled": true
   },
   "outputs": [
    {
     "name": "stdout",
     "output_type": "stream",
     "text": [
      "Max depth: 1 F1-score: 0.2485 AUC-ROC: 0.5692\n",
      "Max depth: 1 F1-score: 0.2485 AUC-ROC: 0.5995\n",
      "Max depth: 1 F1-score: 0.1211 AUC-ROC: 0.7523\n",
      "Max depth: 1 F1-score: 0.0000 AUC-ROC: 0.7761\n",
      "Max depth: 1 F1-score: 0.1253 AUC-ROC: 0.7761\n",
      "Max depth: 1 F1-score: 0.0000 AUC-ROC: 0.7757\n",
      "Max depth: 1 F1-score: 0.0000 AUC-ROC: 0.7744\n",
      "Max depth: 1 F1-score: 0.0000 AUC-ROC: 0.7340\n",
      "Max depth: 1 F1-score: 0.0000 AUC-ROC: 0.7340\n",
      "Max depth: 1 F1-score: 0.0000 AUC-ROC: 0.7592\n",
      "Max depth: 1 F1-score: 0.0000 AUC-ROC: 0.7420\n",
      "Max depth: 1 F1-score: 0.0000 AUC-ROC: 0.7425\n",
      "Max depth: 1 F1-score: 0.0000 AUC-ROC: 0.7425\n",
      "Max depth: 1 F1-score: 0.0000 AUC-ROC: 0.7802\n",
      "Max depth: 1 F1-score: 0.0000 AUC-ROC: 0.7802\n",
      "Max depth: 1 F1-score: 0.0000 AUC-ROC: 0.7845\n",
      "Max depth: 1 F1-score: 0.0000 AUC-ROC: 0.7845\n",
      "Max depth: 1 F1-score: 0.0000 AUC-ROC: 0.7831\n",
      "Max depth: 1 F1-score: 0.0000 AUC-ROC: 0.7831\n",
      "Max depth: 1 F1-score: 0.0000 AUC-ROC: 0.7831\n",
      "Max depth: 1 F1-score: 0.0000 AUC-ROC: 0.7850\n",
      "Max depth: 1 F1-score: 0.0000 AUC-ROC: 0.7894\n",
      "Max depth: 1 F1-score: 0.0000 AUC-ROC: 0.7912\n",
      "Max depth: 1 F1-score: 0.0000 AUC-ROC: 0.7911\n",
      "Max depth: 1 F1-score: 0.0000 AUC-ROC: 0.7907\n",
      "Max depth: 1 F1-score: 0.0000 AUC-ROC: 0.7900\n",
      "Max depth: 1 F1-score: 0.0000 AUC-ROC: 0.7929\n",
      "Max depth: 1 F1-score: 0.0000 AUC-ROC: 0.7954\n",
      "Max depth: 1 F1-score: 0.0000 AUC-ROC: 0.7942\n",
      "Max depth: 1 F1-score: 0.0000 AUC-ROC: 0.7941\n",
      "Max depth: 1 F1-score: 0.0000 AUC-ROC: 0.7943\n",
      "Max depth: 1 F1-score: 0.0000 AUC-ROC: 0.7951\n",
      "Max depth: 1 F1-score: 0.0000 AUC-ROC: 0.7971\n",
      "Max depth: 1 F1-score: 0.0000 AUC-ROC: 0.7972\n",
      "Max depth: 1 F1-score: 0.0000 AUC-ROC: 0.7970\n",
      "Max depth: 1 F1-score: 0.0000 AUC-ROC: 0.7969\n",
      "Max depth: 1 F1-score: 0.0000 AUC-ROC: 0.7968\n",
      "Max depth: 1 F1-score: 0.0000 AUC-ROC: 0.7967\n",
      "Max depth: 1 F1-score: 0.0000 AUC-ROC: 0.7976\n",
      "Max depth: 1 F1-score: 0.0000 AUC-ROC: 0.7978\n",
      "Max depth: 1 F1-score: 0.0000 AUC-ROC: 0.7971\n",
      "Max depth: 1 F1-score: 0.0000 AUC-ROC: 0.7970\n",
      "Max depth: 1 F1-score: 0.0000 AUC-ROC: 0.7962\n",
      "Max depth: 1 F1-score: 0.0000 AUC-ROC: 0.7977\n",
      "Max depth: 1 F1-score: 0.0000 AUC-ROC: 0.7984\n",
      "Max depth: 1 F1-score: 0.0000 AUC-ROC: 0.7982\n",
      "Max depth: 1 F1-score: 0.0000 AUC-ROC: 0.7982\n",
      "Max depth: 1 F1-score: 0.0000 AUC-ROC: 0.7982\n",
      "Max depth: 1 F1-score: 0.0000 AUC-ROC: 0.7991\n",
      "Max depth: 2 F1-score: 0.2485 AUC-ROC: 0.6356\n",
      "Max depth: 2 F1-score: 0.2250 AUC-ROC: 0.7543\n",
      "Max depth: 2 F1-score: 0.1295 AUC-ROC: 0.7770\n",
      "Max depth: 2 F1-score: 0.1295 AUC-ROC: 0.7927\n",
      "Max depth: 2 F1-score: 0.1295 AUC-ROC: 0.7953\n",
      "Max depth: 2 F1-score: 0.2072 AUC-ROC: 0.7950\n",
      "Max depth: 2 F1-score: 0.2000 AUC-ROC: 0.7946\n",
      "Max depth: 2 F1-score: 0.2000 AUC-ROC: 0.7940\n",
      "Max depth: 2 F1-score: 0.2076 AUC-ROC: 0.7939\n",
      "Max depth: 2 F1-score: 0.2000 AUC-ROC: 0.7968\n",
      "Max depth: 2 F1-score: 0.1931 AUC-ROC: 0.7975\n",
      "Max depth: 2 F1-score: 0.2000 AUC-ROC: 0.7957\n",
      "Max depth: 2 F1-score: 0.2000 AUC-ROC: 0.7964\n",
      "Max depth: 2 F1-score: 0.2000 AUC-ROC: 0.7971\n",
      "Max depth: 2 F1-score: 0.2004 AUC-ROC: 0.7962\n",
      "Max depth: 2 F1-score: 0.1853 AUC-ROC: 0.7963\n",
      "Max depth: 2 F1-score: 0.2004 AUC-ROC: 0.7964\n",
      "Max depth: 2 F1-score: 0.1966 AUC-ROC: 0.7956\n",
      "Max depth: 2 F1-score: 0.1775 AUC-ROC: 0.7973\n",
      "Max depth: 2 F1-score: 0.1579 AUC-ROC: 0.7978\n",
      "Max depth: 2 F1-score: 0.1378 AUC-ROC: 0.7985\n",
      "Max depth: 2 F1-score: 0.1336 AUC-ROC: 0.8011\n",
      "Max depth: 2 F1-score: 0.1378 AUC-ROC: 0.8014\n",
      "Max depth: 2 F1-score: 0.1619 AUC-ROC: 0.8012\n",
      "Max depth: 2 F1-score: 0.1336 AUC-ROC: 0.8030\n",
      "Max depth: 2 F1-score: 0.1378 AUC-ROC: 0.8027\n",
      "Max depth: 2 F1-score: 0.1699 AUC-ROC: 0.8030\n",
      "Max depth: 2 F1-score: 0.1582 AUC-ROC: 0.8038\n",
      "Max depth: 2 F1-score: 0.1336 AUC-ROC: 0.8041\n",
      "Max depth: 2 F1-score: 0.1422 AUC-ROC: 0.8043\n",
      "Max depth: 2 F1-score: 0.1339 AUC-ROC: 0.8042\n",
      "Max depth: 2 F1-score: 0.1542 AUC-ROC: 0.8041\n",
      "Max depth: 2 F1-score: 0.1422 AUC-ROC: 0.8044\n",
      "Max depth: 2 F1-score: 0.1623 AUC-ROC: 0.8049\n",
      "Max depth: 2 F1-score: 0.1739 AUC-ROC: 0.8049\n",
      "Max depth: 2 F1-score: 0.1857 AUC-ROC: 0.8114\n",
      "Max depth: 2 F1-score: 0.1892 AUC-ROC: 0.8147\n",
      "Max depth: 2 F1-score: 0.1818 AUC-ROC: 0.8158\n",
      "Max depth: 2 F1-score: 0.1739 AUC-ROC: 0.8153\n",
      "Max depth: 2 F1-score: 0.1739 AUC-ROC: 0.8150\n",
      "Max depth: 2 F1-score: 0.1579 AUC-ROC: 0.8148\n",
      "Max depth: 2 F1-score: 0.1818 AUC-ROC: 0.8148\n",
      "Max depth: 2 F1-score: 0.1659 AUC-ROC: 0.8138\n",
      "Max depth: 2 F1-score: 0.1818 AUC-ROC: 0.8134\n",
      "Max depth: 2 F1-score: 0.1818 AUC-ROC: 0.8136\n",
      "Max depth: 2 F1-score: 0.1853 AUC-ROC: 0.8135\n",
      "Max depth: 2 F1-score: 0.1818 AUC-ROC: 0.8135\n",
      "Max depth: 2 F1-score: 0.1699 AUC-ROC: 0.8133\n",
      "Max depth: 2 F1-score: 0.1818 AUC-ROC: 0.8128\n",
      "Max depth: 3 F1-score: 0.2227 AUC-ROC: 0.7217\n",
      "Max depth: 3 F1-score: 0.2319 AUC-ROC: 0.7721\n",
      "Max depth: 3 F1-score: 0.4000 AUC-ROC: 0.7828\n",
      "Max depth: 3 F1-score: 0.3415 AUC-ROC: 0.7966\n",
      "Max depth: 3 F1-score: 0.3630 AUC-ROC: 0.8002\n",
      "Max depth: 3 F1-score: 0.3782 AUC-ROC: 0.7998\n",
      "Max depth: 3 F1-score: 0.3804 AUC-ROC: 0.7964\n",
      "Max depth: 3 F1-score: 0.2479 AUC-ROC: 0.7977\n",
      "Max depth: 3 F1-score: 0.2510 AUC-ROC: 0.8021\n",
      "Max depth: 3 F1-score: 0.2510 AUC-ROC: 0.8067\n",
      "Max depth: 3 F1-score: 0.2443 AUC-ROC: 0.8052\n",
      "Max depth: 3 F1-score: 0.2479 AUC-ROC: 0.8078\n",
      "Max depth: 3 F1-score: 0.2474 AUC-ROC: 0.8065\n",
      "Max depth: 3 F1-score: 0.2479 AUC-ROC: 0.8097\n",
      "Max depth: 3 F1-score: 0.2443 AUC-ROC: 0.8101\n",
      "Max depth: 3 F1-score: 0.2333 AUC-ROC: 0.8113\n",
      "Max depth: 3 F1-score: 0.2296 AUC-ROC: 0.8124\n",
      "Max depth: 3 F1-score: 0.2370 AUC-ROC: 0.8123\n",
      "Max depth: 3 F1-score: 0.2333 AUC-ROC: 0.8117\n",
      "Max depth: 3 F1-score: 0.2402 AUC-ROC: 0.8112\n",
      "Max depth: 3 F1-score: 0.2402 AUC-ROC: 0.8105\n",
      "Max depth: 3 F1-score: 0.2402 AUC-ROC: 0.8113\n",
      "Max depth: 3 F1-score: 0.2328 AUC-ROC: 0.8108\n",
      "Max depth: 3 F1-score: 0.2333 AUC-ROC: 0.8098\n",
      "Max depth: 3 F1-score: 0.2296 AUC-ROC: 0.8108\n",
      "Max depth: 3 F1-score: 0.2301 AUC-ROC: 0.8118\n",
      "Max depth: 3 F1-score: 0.2264 AUC-ROC: 0.8145\n",
      "Max depth: 3 F1-score: 0.2343 AUC-ROC: 0.8139\n",
      "Max depth: 3 F1-score: 0.2236 AUC-ROC: 0.8146\n",
      "Max depth: 3 F1-score: 0.2232 AUC-ROC: 0.8155\n",
      "Max depth: 3 F1-score: 0.2417 AUC-ROC: 0.8150\n",
      "Max depth: 3 F1-score: 0.2232 AUC-ROC: 0.8168\n",
      "Max depth: 3 F1-score: 0.2199 AUC-ROC: 0.8181\n",
      "Max depth: 3 F1-score: 0.2232 AUC-ROC: 0.8181\n",
      "Max depth: 3 F1-score: 0.2375 AUC-ROC: 0.8184\n",
      "Max depth: 3 F1-score: 0.2338 AUC-ROC: 0.8213\n",
      "Max depth: 3 F1-score: 0.2333 AUC-ROC: 0.8234\n",
      "Max depth: 3 F1-score: 0.2269 AUC-ROC: 0.8239\n",
      "Max depth: 3 F1-score: 0.2269 AUC-ROC: 0.8240\n",
      "Max depth: 3 F1-score: 0.2232 AUC-ROC: 0.8237\n",
      "Max depth: 3 F1-score: 0.2338 AUC-ROC: 0.8235\n",
      "Max depth: 3 F1-score: 0.2521 AUC-ROC: 0.8233\n",
      "Max depth: 3 F1-score: 0.2515 AUC-ROC: 0.8233\n",
      "Max depth: 3 F1-score: 0.2370 AUC-ROC: 0.8233\n",
      "Max depth: 3 F1-score: 0.2664 AUC-ROC: 0.8234\n",
      "Max depth: 3 F1-score: 0.2628 AUC-ROC: 0.8239\n",
      "Max depth: 3 F1-score: 0.2664 AUC-ROC: 0.8239\n",
      "Max depth: 3 F1-score: 0.2705 AUC-ROC: 0.8245\n",
      "Max depth: 3 F1-score: 0.2735 AUC-ROC: 0.8248\n",
      "Max depth: 4 F1-score: 0.4391 AUC-ROC: 0.7962\n",
      "Max depth: 4 F1-score: 0.4887 AUC-ROC: 0.8046\n",
      "Max depth: 4 F1-score: 0.4542 AUC-ROC: 0.8157\n",
      "Max depth: 4 F1-score: 0.4525 AUC-ROC: 0.8226\n",
      "Max depth: 4 F1-score: 0.4958 AUC-ROC: 0.8258\n",
      "Max depth: 4 F1-score: 0.4983 AUC-ROC: 0.8240\n",
      "Max depth: 4 F1-score: 0.5150 AUC-ROC: 0.8260\n",
      "Max depth: 4 F1-score: 0.4803 AUC-ROC: 0.8294\n",
      "Max depth: 4 F1-score: 0.5017 AUC-ROC: 0.8324\n",
      "Max depth: 4 F1-score: 0.4768 AUC-ROC: 0.8314\n",
      "Max depth: 4 F1-score: 0.4538 AUC-ROC: 0.8323\n",
      "Max depth: 4 F1-score: 0.4273 AUC-ROC: 0.8307\n",
      "Max depth: 4 F1-score: 0.4088 AUC-ROC: 0.8311\n",
      "Max depth: 4 F1-score: 0.4080 AUC-ROC: 0.8295\n",
      "Max depth: 4 F1-score: 0.3948 AUC-ROC: 0.8306\n",
      "Max depth: 4 F1-score: 0.3941 AUC-ROC: 0.8301\n",
      "Max depth: 4 F1-score: 0.4066 AUC-ROC: 0.8307\n",
      "Max depth: 4 F1-score: 0.4237 AUC-ROC: 0.8294\n",
      "Max depth: 4 F1-score: 0.4194 AUC-ROC: 0.8289\n",
      "Max depth: 4 F1-score: 0.4138 AUC-ROC: 0.8324\n",
      "Max depth: 4 F1-score: 0.4095 AUC-ROC: 0.8334\n",
      "Max depth: 4 F1-score: 0.4052 AUC-ROC: 0.8340\n",
      "Max depth: 4 F1-score: 0.3926 AUC-ROC: 0.8336\n",
      "Max depth: 4 F1-score: 0.3985 AUC-ROC: 0.8337\n",
      "Max depth: 4 F1-score: 0.3993 AUC-ROC: 0.8334\n",
      "Max depth: 4 F1-score: 0.4066 AUC-ROC: 0.8334\n",
      "Max depth: 4 F1-score: 0.3873 AUC-ROC: 0.8360\n",
      "Max depth: 4 F1-score: 0.3813 AUC-ROC: 0.8343\n",
      "Max depth: 4 F1-score: 0.3529 AUC-ROC: 0.8341\n",
      "Max depth: 4 F1-score: 0.3561 AUC-ROC: 0.8336\n",
      "Max depth: 4 F1-score: 0.3776 AUC-ROC: 0.8332\n",
      "Max depth: 4 F1-score: 0.3752 AUC-ROC: 0.8347\n",
      "Max depth: 4 F1-score: 0.3536 AUC-ROC: 0.8343\n",
      "Max depth: 4 F1-score: 0.3592 AUC-ROC: 0.8343\n",
      "Max depth: 4 F1-score: 0.3684 AUC-ROC: 0.8348\n",
      "Max depth: 4 F1-score: 0.3660 AUC-ROC: 0.8376\n",
      "Max depth: 4 F1-score: 0.3660 AUC-ROC: 0.8389\n",
      "Max depth: 4 F1-score: 0.3629 AUC-ROC: 0.8386\n",
      "Max depth: 4 F1-score: 0.3660 AUC-ROC: 0.8385\n",
      "Max depth: 4 F1-score: 0.3745 AUC-ROC: 0.8378\n",
      "Max depth: 4 F1-score: 0.3715 AUC-ROC: 0.8374\n",
      "Max depth: 4 F1-score: 0.3926 AUC-ROC: 0.8370\n",
      "Max depth: 4 F1-score: 0.3896 AUC-ROC: 0.8366\n",
      "Max depth: 4 F1-score: 0.3836 AUC-ROC: 0.8370\n",
      "Max depth: 4 F1-score: 0.3836 AUC-ROC: 0.8373\n",
      "Max depth: 4 F1-score: 0.3956 AUC-ROC: 0.8375\n",
      "Max depth: 4 F1-score: 0.3985 AUC-ROC: 0.8379\n",
      "Max depth: 4 F1-score: 0.3919 AUC-ROC: 0.8378\n",
      "Max depth: 4 F1-score: 0.4029 AUC-ROC: 0.8380\n",
      "Max depth: 5 F1-score: 0.4346 AUC-ROC: 0.7867\n",
      "Max depth: 5 F1-score: 0.4704 AUC-ROC: 0.7994\n",
      "Max depth: 5 F1-score: 0.4992 AUC-ROC: 0.8166\n",
      "Max depth: 5 F1-score: 0.5170 AUC-ROC: 0.8215\n",
      "Max depth: 5 F1-score: 0.5091 AUC-ROC: 0.8292\n",
      "Max depth: 5 F1-score: 0.4706 AUC-ROC: 0.8327\n",
      "Max depth: 5 F1-score: 0.4898 AUC-ROC: 0.8373\n",
      "Max depth: 5 F1-score: 0.4854 AUC-ROC: 0.8362\n",
      "Max depth: 5 F1-score: 0.4838 AUC-ROC: 0.8405\n",
      "Max depth: 5 F1-score: 0.4728 AUC-ROC: 0.8390\n",
      "Max depth: 5 F1-score: 0.4742 AUC-ROC: 0.8404\n",
      "Max depth: 5 F1-score: 0.4716 AUC-ROC: 0.8383\n",
      "Max depth: 5 F1-score: 0.4742 AUC-ROC: 0.8383\n",
      "Max depth: 5 F1-score: 0.4924 AUC-ROC: 0.8375\n",
      "Max depth: 5 F1-score: 0.4694 AUC-ROC: 0.8377\n",
      "Max depth: 5 F1-score: 0.5008 AUC-ROC: 0.8380\n",
      "Max depth: 5 F1-score: 0.5083 AUC-ROC: 0.8388\n",
      "Max depth: 5 F1-score: 0.4866 AUC-ROC: 0.8388\n",
      "Max depth: 5 F1-score: 0.5033 AUC-ROC: 0.8381\n",
      "Max depth: 5 F1-score: 0.5042 AUC-ROC: 0.8407\n",
      "Max depth: 5 F1-score: 0.4932 AUC-ROC: 0.8416\n",
      "Max depth: 5 F1-score: 0.4796 AUC-ROC: 0.8406\n",
      "Max depth: 5 F1-score: 0.4796 AUC-ROC: 0.8399\n",
      "Max depth: 5 F1-score: 0.4804 AUC-ROC: 0.8398\n",
      "Max depth: 5 F1-score: 0.4882 AUC-ROC: 0.8400\n",
      "Max depth: 5 F1-score: 0.4950 AUC-ROC: 0.8402\n",
      "Max depth: 5 F1-score: 0.4924 AUC-ROC: 0.8413\n",
      "Max depth: 5 F1-score: 0.4846 AUC-ROC: 0.8419\n",
      "Max depth: 5 F1-score: 0.4822 AUC-ROC: 0.8417\n",
      "Max depth: 5 F1-score: 0.4778 AUC-ROC: 0.8420\n",
      "Max depth: 5 F1-score: 0.4770 AUC-ROC: 0.8418\n",
      "Max depth: 5 F1-score: 0.4873 AUC-ROC: 0.8421\n",
      "Max depth: 5 F1-score: 0.4856 AUC-ROC: 0.8418\n",
      "Max depth: 5 F1-score: 0.4726 AUC-ROC: 0.8421\n",
      "Max depth: 5 F1-score: 0.4907 AUC-ROC: 0.8429\n",
      "Max depth: 5 F1-score: 0.4805 AUC-ROC: 0.8443\n",
      "Max depth: 5 F1-score: 0.4658 AUC-ROC: 0.8447\n",
      "Max depth: 5 F1-score: 0.4718 AUC-ROC: 0.8445\n",
      "Max depth: 5 F1-score: 0.4647 AUC-ROC: 0.8450\n",
      "Max depth: 5 F1-score: 0.4605 AUC-ROC: 0.8451\n",
      "Max depth: 5 F1-score: 0.4631 AUC-ROC: 0.8452\n",
      "Max depth: 5 F1-score: 0.4684 AUC-ROC: 0.8450\n",
      "Max depth: 5 F1-score: 0.4684 AUC-ROC: 0.8445\n",
      "Max depth: 5 F1-score: 0.4639 AUC-ROC: 0.8451\n",
      "Max depth: 5 F1-score: 0.4692 AUC-ROC: 0.8451\n",
      "Max depth: 5 F1-score: 0.4692 AUC-ROC: 0.8452\n",
      "Max depth: 5 F1-score: 0.4594 AUC-ROC: 0.8451\n",
      "Max depth: 5 F1-score: 0.4552 AUC-ROC: 0.8450\n",
      "Max depth: 5 F1-score: 0.4623 AUC-ROC: 0.8454\n",
      "Max depth: 6 F1-score: 0.4238 AUC-ROC: 0.7797\n",
      "Max depth: 6 F1-score: 0.4411 AUC-ROC: 0.8089\n",
      "Max depth: 6 F1-score: 0.4894 AUC-ROC: 0.8305\n",
      "Max depth: 6 F1-score: 0.5417 AUC-ROC: 0.8324\n",
      "Max depth: 6 F1-score: 0.5251 AUC-ROC: 0.8424\n",
      "Max depth: 6 F1-score: 0.5312 AUC-ROC: 0.8359\n",
      "Max depth: 6 F1-score: 0.5361 AUC-ROC: 0.8368\n",
      "Max depth: 6 F1-score: 0.5449 AUC-ROC: 0.8391\n",
      "Max depth: 6 F1-score: 0.5434 AUC-ROC: 0.8393\n",
      "Max depth: 6 F1-score: 0.5463 AUC-ROC: 0.8402\n",
      "Max depth: 6 F1-score: 0.5463 AUC-ROC: 0.8397\n",
      "Max depth: 6 F1-score: 0.5531 AUC-ROC: 0.8433\n",
      "Max depth: 6 F1-score: 0.5419 AUC-ROC: 0.8440\n",
      "Max depth: 6 F1-score: 0.5554 AUC-ROC: 0.8446\n",
      "Max depth: 6 F1-score: 0.5490 AUC-ROC: 0.8446\n",
      "Max depth: 6 F1-score: 0.5527 AUC-ROC: 0.8442\n",
      "Max depth: 6 F1-score: 0.5463 AUC-ROC: 0.8445\n",
      "Max depth: 6 F1-score: 0.5478 AUC-ROC: 0.8461\n",
      "Max depth: 6 F1-score: 0.5502 AUC-ROC: 0.8457\n",
      "Max depth: 6 F1-score: 0.5362 AUC-ROC: 0.8479\n",
      "Max depth: 6 F1-score: 0.5466 AUC-ROC: 0.8476\n",
      "Max depth: 6 F1-score: 0.5475 AUC-ROC: 0.8479\n",
      "Max depth: 6 F1-score: 0.5410 AUC-ROC: 0.8474\n",
      "Max depth: 6 F1-score: 0.5496 AUC-ROC: 0.8483\n",
      "Max depth: 6 F1-score: 0.5487 AUC-ROC: 0.8478\n",
      "Max depth: 6 F1-score: 0.5525 AUC-ROC: 0.8475\n",
      "Max depth: 6 F1-score: 0.5446 AUC-ROC: 0.8479\n",
      "Max depth: 6 F1-score: 0.5413 AUC-ROC: 0.8477\n",
      "Max depth: 6 F1-score: 0.5368 AUC-ROC: 0.8474\n",
      "Max depth: 6 F1-score: 0.5311 AUC-ROC: 0.8481\n",
      "Max depth: 6 F1-score: 0.5383 AUC-ROC: 0.8476\n",
      "Max depth: 6 F1-score: 0.5338 AUC-ROC: 0.8478\n",
      "Max depth: 6 F1-score: 0.5377 AUC-ROC: 0.8479\n",
      "Max depth: 6 F1-score: 0.5395 AUC-ROC: 0.8478\n",
      "Max depth: 6 F1-score: 0.5386 AUC-ROC: 0.8481\n",
      "Max depth: 6 F1-score: 0.5225 AUC-ROC: 0.8494\n",
      "Max depth: 6 F1-score: 0.5296 AUC-ROC: 0.8498\n",
      "Max depth: 6 F1-score: 0.5305 AUC-ROC: 0.8498\n",
      "Max depth: 6 F1-score: 0.5338 AUC-ROC: 0.8500\n",
      "Max depth: 6 F1-score: 0.5329 AUC-ROC: 0.8502\n",
      "Max depth: 6 F1-score: 0.5353 AUC-ROC: 0.8503\n",
      "Max depth: 6 F1-score: 0.5401 AUC-ROC: 0.8499\n",
      "Max depth: 6 F1-score: 0.5401 AUC-ROC: 0.8494\n",
      "Max depth: 6 F1-score: 0.5347 AUC-ROC: 0.8499\n",
      "Max depth: 6 F1-score: 0.5362 AUC-ROC: 0.8500\n",
      "Max depth: 6 F1-score: 0.5362 AUC-ROC: 0.8500\n",
      "Max depth: 6 F1-score: 0.5331 AUC-ROC: 0.8500\n",
      "Max depth: 6 F1-score: 0.5338 AUC-ROC: 0.8498\n",
      "Max depth: 6 F1-score: 0.5320 AUC-ROC: 0.8497\n",
      "Max depth: 7 F1-score: 0.5333 AUC-ROC: 0.7952\n",
      "Max depth: 7 F1-score: 0.5023 AUC-ROC: 0.8119\n",
      "Max depth: 7 F1-score: 0.5132 AUC-ROC: 0.8267\n",
      "Max depth: 7 F1-score: 0.5360 AUC-ROC: 0.8368\n",
      "Max depth: 7 F1-score: 0.5551 AUC-ROC: 0.8392\n",
      "Max depth: 7 F1-score: 0.5601 AUC-ROC: 0.8372\n",
      "Max depth: 7 F1-score: 0.5710 AUC-ROC: 0.8419\n",
      "Max depth: 7 F1-score: 0.5607 AUC-ROC: 0.8422\n",
      "Max depth: 7 F1-score: 0.5571 AUC-ROC: 0.8443\n",
      "Max depth: 7 F1-score: 0.5409 AUC-ROC: 0.8435\n",
      "Max depth: 7 F1-score: 0.5497 AUC-ROC: 0.8435\n",
      "Max depth: 7 F1-score: 0.5363 AUC-ROC: 0.8449\n",
      "Max depth: 7 F1-score: 0.5409 AUC-ROC: 0.8443\n",
      "Max depth: 7 F1-score: 0.5474 AUC-ROC: 0.8447\n",
      "Max depth: 7 F1-score: 0.5559 AUC-ROC: 0.8477\n",
      "Max depth: 7 F1-score: 0.5511 AUC-ROC: 0.8476\n",
      "Max depth: 7 F1-score: 0.5469 AUC-ROC: 0.8481\n",
      "Max depth: 7 F1-score: 0.5500 AUC-ROC: 0.8488\n",
      "Max depth: 7 F1-score: 0.5432 AUC-ROC: 0.8479\n",
      "Max depth: 7 F1-score: 0.5411 AUC-ROC: 0.8478\n",
      "Max depth: 7 F1-score: 0.5449 AUC-ROC: 0.8477\n",
      "Max depth: 7 F1-score: 0.5460 AUC-ROC: 0.8473\n",
      "Max depth: 7 F1-score: 0.5365 AUC-ROC: 0.8474\n",
      "Max depth: 7 F1-score: 0.5304 AUC-ROC: 0.8479\n",
      "Max depth: 7 F1-score: 0.5403 AUC-ROC: 0.8477\n",
      "Max depth: 7 F1-score: 0.5365 AUC-ROC: 0.8479\n",
      "Max depth: 7 F1-score: 0.5437 AUC-ROC: 0.8491\n",
      "Max depth: 7 F1-score: 0.5443 AUC-ROC: 0.8494\n",
      "Max depth: 7 F1-score: 0.5382 AUC-ROC: 0.8498\n",
      "Max depth: 7 F1-score: 0.5437 AUC-ROC: 0.8498\n",
      "Max depth: 7 F1-score: 0.5492 AUC-ROC: 0.8493\n",
      "Max depth: 7 F1-score: 0.5391 AUC-ROC: 0.8499\n",
      "Max depth: 7 F1-score: 0.5399 AUC-ROC: 0.8499\n",
      "Max depth: 7 F1-score: 0.5501 AUC-ROC: 0.8499\n",
      "Max depth: 7 F1-score: 0.5524 AUC-ROC: 0.8502\n",
      "Max depth: 7 F1-score: 0.5478 AUC-ROC: 0.8508\n",
      "Max depth: 7 F1-score: 0.5417 AUC-ROC: 0.8511\n",
      "Max depth: 7 F1-score: 0.5431 AUC-ROC: 0.8512\n",
      "Max depth: 7 F1-score: 0.5417 AUC-ROC: 0.8512\n",
      "Max depth: 7 F1-score: 0.5370 AUC-ROC: 0.8510\n",
      "Max depth: 7 F1-score: 0.5463 AUC-ROC: 0.8510\n",
      "Max depth: 7 F1-score: 0.5393 AUC-ROC: 0.8508\n",
      "Max depth: 7 F1-score: 0.5408 AUC-ROC: 0.8509\n",
      "Max depth: 7 F1-score: 0.5411 AUC-ROC: 0.8515\n",
      "Max depth: 7 F1-score: 0.5411 AUC-ROC: 0.8515\n",
      "Max depth: 7 F1-score: 0.5425 AUC-ROC: 0.8513\n",
      "Max depth: 7 F1-score: 0.5417 AUC-ROC: 0.8516\n",
      "Max depth: 7 F1-score: 0.5481 AUC-ROC: 0.8523\n",
      "Max depth: 7 F1-score: 0.5504 AUC-ROC: 0.8520\n",
      "Max depth: 8 F1-score: 0.5260 AUC-ROC: 0.7695\n",
      "Max depth: 8 F1-score: 0.5392 AUC-ROC: 0.8144\n",
      "Max depth: 8 F1-score: 0.5268 AUC-ROC: 0.8282\n",
      "Max depth: 8 F1-score: 0.5426 AUC-ROC: 0.8343\n",
      "Max depth: 8 F1-score: 0.5495 AUC-ROC: 0.8362\n",
      "Max depth: 8 F1-score: 0.5440 AUC-ROC: 0.8371\n",
      "Max depth: 8 F1-score: 0.5514 AUC-ROC: 0.8406\n",
      "Max depth: 8 F1-score: 0.5529 AUC-ROC: 0.8419\n",
      "Max depth: 8 F1-score: 0.5521 AUC-ROC: 0.8445\n",
      "Max depth: 8 F1-score: 0.5527 AUC-ROC: 0.8455\n",
      "Max depth: 8 F1-score: 0.5478 AUC-ROC: 0.8468\n",
      "Max depth: 8 F1-score: 0.5573 AUC-ROC: 0.8455\n",
      "Max depth: 8 F1-score: 0.5633 AUC-ROC: 0.8449\n",
      "Max depth: 8 F1-score: 0.5587 AUC-ROC: 0.8453\n",
      "Max depth: 8 F1-score: 0.5510 AUC-ROC: 0.8465\n",
      "Max depth: 8 F1-score: 0.5510 AUC-ROC: 0.8463\n",
      "Max depth: 8 F1-score: 0.5510 AUC-ROC: 0.8477\n",
      "Max depth: 8 F1-score: 0.5596 AUC-ROC: 0.8482\n",
      "Max depth: 8 F1-score: 0.5642 AUC-ROC: 0.8483\n",
      "Max depth: 8 F1-score: 0.5633 AUC-ROC: 0.8491\n",
      "Max depth: 8 F1-score: 0.5660 AUC-ROC: 0.8495\n",
      "Max depth: 8 F1-score: 0.5656 AUC-ROC: 0.8507\n",
      "Max depth: 8 F1-score: 0.5656 AUC-ROC: 0.8505\n",
      "Max depth: 8 F1-score: 0.5674 AUC-ROC: 0.8504\n",
      "Max depth: 8 F1-score: 0.5615 AUC-ROC: 0.8499\n",
      "Max depth: 8 F1-score: 0.5647 AUC-ROC: 0.8495\n",
      "Max depth: 8 F1-score: 0.5633 AUC-ROC: 0.8500\n",
      "Max depth: 8 F1-score: 0.5573 AUC-ROC: 0.8503\n",
      "Max depth: 8 F1-score: 0.5610 AUC-ROC: 0.8498\n",
      "Max depth: 8 F1-score: 0.5674 AUC-ROC: 0.8500\n",
      "Max depth: 8 F1-score: 0.5628 AUC-ROC: 0.8498\n",
      "Max depth: 8 F1-score: 0.5669 AUC-ROC: 0.8497\n",
      "Max depth: 8 F1-score: 0.5660 AUC-ROC: 0.8491\n",
      "Max depth: 8 F1-score: 0.5669 AUC-ROC: 0.8490\n",
      "Max depth: 8 F1-score: 0.5669 AUC-ROC: 0.8497\n",
      "Max depth: 8 F1-score: 0.5701 AUC-ROC: 0.8503\n",
      "Max depth: 8 F1-score: 0.5678 AUC-ROC: 0.8505\n",
      "Max depth: 8 F1-score: 0.5655 AUC-ROC: 0.8510\n",
      "Max depth: 8 F1-score: 0.5646 AUC-ROC: 0.8513\n",
      "Max depth: 8 F1-score: 0.5669 AUC-ROC: 0.8513\n",
      "Max depth: 8 F1-score: 0.5655 AUC-ROC: 0.8511\n",
      "Max depth: 8 F1-score: 0.5641 AUC-ROC: 0.8510\n",
      "Max depth: 8 F1-score: 0.5623 AUC-ROC: 0.8507\n",
      "Max depth: 8 F1-score: 0.5632 AUC-ROC: 0.8505\n",
      "Max depth: 8 F1-score: 0.5605 AUC-ROC: 0.8504\n",
      "Max depth: 8 F1-score: 0.5614 AUC-ROC: 0.8506\n",
      "Max depth: 8 F1-score: 0.5614 AUC-ROC: 0.8513\n",
      "Max depth: 8 F1-score: 0.5591 AUC-ROC: 0.8511\n",
      "Max depth: 8 F1-score: 0.5660 AUC-ROC: 0.8508\n",
      "Max depth: 9 F1-score: 0.5213 AUC-ROC: 0.7746\n",
      "Max depth: 9 F1-score: 0.5229 AUC-ROC: 0.8065\n",
      "Max depth: 9 F1-score: 0.5585 AUC-ROC: 0.8240\n",
      "Max depth: 9 F1-score: 0.5620 AUC-ROC: 0.8355\n",
      "Max depth: 9 F1-score: 0.5769 AUC-ROC: 0.8415\n",
      "Max depth: 9 F1-score: 0.5807 AUC-ROC: 0.8421\n",
      "Max depth: 9 F1-score: 0.5697 AUC-ROC: 0.8428\n",
      "Max depth: 9 F1-score: 0.5818 AUC-ROC: 0.8449\n",
      "Max depth: 9 F1-score: 0.5740 AUC-ROC: 0.8448\n",
      "Max depth: 9 F1-score: 0.5801 AUC-ROC: 0.8444\n",
      "Max depth: 9 F1-score: 0.5732 AUC-ROC: 0.8448\n",
      "Max depth: 9 F1-score: 0.5636 AUC-ROC: 0.8442\n",
      "Max depth: 9 F1-score: 0.5588 AUC-ROC: 0.8454\n",
      "Max depth: 9 F1-score: 0.5610 AUC-ROC: 0.8454\n",
      "Max depth: 9 F1-score: 0.5657 AUC-ROC: 0.8444\n",
      "Max depth: 9 F1-score: 0.5666 AUC-ROC: 0.8460\n",
      "Max depth: 9 F1-score: 0.5648 AUC-ROC: 0.8452\n",
      "Max depth: 9 F1-score: 0.5745 AUC-ROC: 0.8463\n",
      "Max depth: 9 F1-score: 0.5639 AUC-ROC: 0.8466\n",
      "Max depth: 9 F1-score: 0.5750 AUC-ROC: 0.8468\n",
      "Max depth: 9 F1-score: 0.5674 AUC-ROC: 0.8474\n",
      "Max depth: 9 F1-score: 0.5728 AUC-ROC: 0.8483\n",
      "Max depth: 9 F1-score: 0.5666 AUC-ROC: 0.8490\n",
      "Max depth: 9 F1-score: 0.5688 AUC-ROC: 0.8490\n",
      "Max depth: 9 F1-score: 0.5630 AUC-ROC: 0.8496\n",
      "Max depth: 9 F1-score: 0.5661 AUC-ROC: 0.8495\n",
      "Max depth: 9 F1-score: 0.5679 AUC-ROC: 0.8498\n",
      "Max depth: 9 F1-score: 0.5656 AUC-ROC: 0.8492\n",
      "Max depth: 9 F1-score: 0.5589 AUC-ROC: 0.8491\n",
      "Max depth: 9 F1-score: 0.5687 AUC-ROC: 0.8491\n",
      "Max depth: 9 F1-score: 0.5638 AUC-ROC: 0.8489\n",
      "Max depth: 9 F1-score: 0.5597 AUC-ROC: 0.8482\n",
      "Max depth: 9 F1-score: 0.5651 AUC-ROC: 0.8492\n",
      "Max depth: 9 F1-score: 0.5634 AUC-ROC: 0.8487\n",
      "Max depth: 9 F1-score: 0.5629 AUC-ROC: 0.8494\n",
      "Max depth: 9 F1-score: 0.5705 AUC-ROC: 0.8501\n",
      "Max depth: 9 F1-score: 0.5741 AUC-ROC: 0.8502\n",
      "Max depth: 9 F1-score: 0.5719 AUC-ROC: 0.8503\n",
      "Max depth: 9 F1-score: 0.5719 AUC-ROC: 0.8503\n",
      "Max depth: 9 F1-score: 0.5741 AUC-ROC: 0.8505\n",
      "Max depth: 9 F1-score: 0.5701 AUC-ROC: 0.8501\n",
      "Max depth: 9 F1-score: 0.5710 AUC-ROC: 0.8502\n",
      "Max depth: 9 F1-score: 0.5754 AUC-ROC: 0.8500\n",
      "Max depth: 9 F1-score: 0.5719 AUC-ROC: 0.8503\n",
      "Max depth: 9 F1-score: 0.5719 AUC-ROC: 0.8504\n",
      "Max depth: 9 F1-score: 0.5687 AUC-ROC: 0.8503\n",
      "Max depth: 9 F1-score: 0.5651 AUC-ROC: 0.8499\n",
      "Max depth: 9 F1-score: 0.5679 AUC-ROC: 0.8497\n",
      "Max depth: 9 F1-score: 0.5687 AUC-ROC: 0.8498\n",
      "Max depth: 10 F1-score: 0.5314 AUC-ROC: 0.7672\n",
      "Max depth: 10 F1-score: 0.5206 AUC-ROC: 0.8128\n",
      "Max depth: 10 F1-score: 0.5572 AUC-ROC: 0.8236\n",
      "Max depth: 10 F1-score: 0.5582 AUC-ROC: 0.8316\n",
      "Max depth: 10 F1-score: 0.5655 AUC-ROC: 0.8286\n",
      "Max depth: 10 F1-score: 0.5748 AUC-ROC: 0.8327\n",
      "Max depth: 10 F1-score: 0.5706 AUC-ROC: 0.8387\n",
      "Max depth: 10 F1-score: 0.5727 AUC-ROC: 0.8397\n",
      "Max depth: 10 F1-score: 0.5856 AUC-ROC: 0.8444\n",
      "Max depth: 10 F1-score: 0.5736 AUC-ROC: 0.8455\n",
      "Max depth: 10 F1-score: 0.5684 AUC-ROC: 0.8464\n",
      "Max depth: 10 F1-score: 0.5732 AUC-ROC: 0.8468\n",
      "Max depth: 10 F1-score: 0.5706 AUC-ROC: 0.8476\n",
      "Max depth: 10 F1-score: 0.5740 AUC-ROC: 0.8484\n",
      "Max depth: 10 F1-score: 0.5817 AUC-ROC: 0.8470\n",
      "Max depth: 10 F1-score: 0.5732 AUC-ROC: 0.8470\n",
      "Max depth: 10 F1-score: 0.5675 AUC-ROC: 0.8473\n",
      "Max depth: 10 F1-score: 0.5706 AUC-ROC: 0.8478\n",
      "Max depth: 10 F1-score: 0.5745 AUC-ROC: 0.8496\n",
      "Max depth: 10 F1-score: 0.5788 AUC-ROC: 0.8503\n",
      "Max depth: 10 F1-score: 0.5706 AUC-ROC: 0.8506\n",
      "Max depth: 10 F1-score: 0.5784 AUC-ROC: 0.8495\n",
      "Max depth: 10 F1-score: 0.5784 AUC-ROC: 0.8498\n",
      "Max depth: 10 F1-score: 0.5788 AUC-ROC: 0.8495\n",
      "Max depth: 10 F1-score: 0.5801 AUC-ROC: 0.8489\n",
      "Max depth: 10 F1-score: 0.5736 AUC-ROC: 0.8499\n",
      "Max depth: 10 F1-score: 0.5805 AUC-ROC: 0.8498\n",
      "Max depth: 10 F1-score: 0.5780 AUC-ROC: 0.8511\n",
      "Max depth: 10 F1-score: 0.5736 AUC-ROC: 0.8512\n",
      "Max depth: 10 F1-score: 0.5749 AUC-ROC: 0.8515\n",
      "Max depth: 10 F1-score: 0.5771 AUC-ROC: 0.8521\n",
      "Max depth: 10 F1-score: 0.5776 AUC-ROC: 0.8519\n",
      "Max depth: 10 F1-score: 0.5762 AUC-ROC: 0.8519\n",
      "Max depth: 10 F1-score: 0.5758 AUC-ROC: 0.8521\n",
      "Max depth: 10 F1-score: 0.5653 AUC-ROC: 0.8529\n",
      "Max depth: 10 F1-score: 0.5684 AUC-ROC: 0.8532\n",
      "Max depth: 10 F1-score: 0.5784 AUC-ROC: 0.8535\n",
      "Max depth: 10 F1-score: 0.5706 AUC-ROC: 0.8530\n",
      "Max depth: 10 F1-score: 0.5749 AUC-ROC: 0.8532\n",
      "Max depth: 10 F1-score: 0.5710 AUC-ROC: 0.8531\n",
      "Max depth: 10 F1-score: 0.5727 AUC-ROC: 0.8530\n",
      "Max depth: 10 F1-score: 0.5753 AUC-ROC: 0.8530\n",
      "Max depth: 10 F1-score: 0.5771 AUC-ROC: 0.8525\n",
      "Max depth: 10 F1-score: 0.5780 AUC-ROC: 0.8523\n",
      "Max depth: 10 F1-score: 0.5767 AUC-ROC: 0.8526\n",
      "Max depth: 10 F1-score: 0.5727 AUC-ROC: 0.8528\n",
      "Max depth: 10 F1-score: 0.5723 AUC-ROC: 0.8528\n",
      "Max depth: 10 F1-score: 0.5714 AUC-ROC: 0.8530\n",
      "Max depth: 10 F1-score: 0.5754 AUC-ROC: 0.8524\n",
      "Max depth: 11 F1-score: 0.4887 AUC-ROC: 0.7120\n",
      "Max depth: 11 F1-score: 0.4637 AUC-ROC: 0.7578\n",
      "Max depth: 11 F1-score: 0.5507 AUC-ROC: 0.7879\n",
      "Max depth: 11 F1-score: 0.5481 AUC-ROC: 0.8051\n",
      "Max depth: 11 F1-score: 0.5565 AUC-ROC: 0.8189\n",
      "Max depth: 11 F1-score: 0.5544 AUC-ROC: 0.8272\n",
      "Max depth: 11 F1-score: 0.5654 AUC-ROC: 0.8328\n",
      "Max depth: 11 F1-score: 0.5758 AUC-ROC: 0.8332\n",
      "Max depth: 11 F1-score: 0.5591 AUC-ROC: 0.8375\n",
      "Max depth: 11 F1-score: 0.5693 AUC-ROC: 0.8355\n",
      "Max depth: 11 F1-score: 0.5784 AUC-ROC: 0.8393\n",
      "Max depth: 11 F1-score: 0.5766 AUC-ROC: 0.8393\n",
      "Max depth: 11 F1-score: 0.5736 AUC-ROC: 0.8393\n",
      "Max depth: 11 F1-score: 0.5732 AUC-ROC: 0.8396\n",
      "Max depth: 11 F1-score: 0.5882 AUC-ROC: 0.8402\n",
      "Max depth: 11 F1-score: 0.5886 AUC-ROC: 0.8407\n",
      "Max depth: 11 F1-score: 0.5788 AUC-ROC: 0.8417\n",
      "Max depth: 11 F1-score: 0.5943 AUC-ROC: 0.8413\n",
      "Max depth: 11 F1-score: 0.5882 AUC-ROC: 0.8427\n",
      "Max depth: 11 F1-score: 0.5788 AUC-ROC: 0.8435\n",
      "Max depth: 11 F1-score: 0.5822 AUC-ROC: 0.8442\n",
      "Max depth: 11 F1-score: 0.5818 AUC-ROC: 0.8436\n",
      "Max depth: 11 F1-score: 0.5789 AUC-ROC: 0.8432\n",
      "Max depth: 11 F1-score: 0.5865 AUC-ROC: 0.8441\n",
      "Max depth: 11 F1-score: 0.5861 AUC-ROC: 0.8428\n",
      "Max depth: 11 F1-score: 0.5836 AUC-ROC: 0.8420\n",
      "Max depth: 11 F1-score: 0.5779 AUC-ROC: 0.8446\n",
      "Max depth: 11 F1-score: 0.5818 AUC-ROC: 0.8455\n",
      "Max depth: 11 F1-score: 0.5753 AUC-ROC: 0.8460\n",
      "Max depth: 11 F1-score: 0.5714 AUC-ROC: 0.8454\n",
      "Max depth: 11 F1-score: 0.5766 AUC-ROC: 0.8460\n",
      "Max depth: 11 F1-score: 0.5710 AUC-ROC: 0.8455\n",
      "Max depth: 11 F1-score: 0.5723 AUC-ROC: 0.8450\n",
      "Max depth: 11 F1-score: 0.5732 AUC-ROC: 0.8461\n",
      "Max depth: 11 F1-score: 0.5723 AUC-ROC: 0.8466\n",
      "Max depth: 11 F1-score: 0.5727 AUC-ROC: 0.8473\n",
      "Max depth: 11 F1-score: 0.5780 AUC-ROC: 0.8476\n",
      "Max depth: 11 F1-score: 0.5684 AUC-ROC: 0.8471\n",
      "Max depth: 11 F1-score: 0.5605 AUC-ROC: 0.8470\n",
      "Max depth: 11 F1-score: 0.5679 AUC-ROC: 0.8468\n",
      "Max depth: 11 F1-score: 0.5732 AUC-ROC: 0.8464\n",
      "Max depth: 11 F1-score: 0.5736 AUC-ROC: 0.8462\n",
      "Max depth: 11 F1-score: 0.5727 AUC-ROC: 0.8458\n",
      "Max depth: 11 F1-score: 0.5745 AUC-ROC: 0.8460\n",
      "Max depth: 11 F1-score: 0.5706 AUC-ROC: 0.8451\n",
      "Max depth: 11 F1-score: 0.5714 AUC-ROC: 0.8464\n",
      "Max depth: 11 F1-score: 0.5727 AUC-ROC: 0.8458\n",
      "Max depth: 11 F1-score: 0.5701 AUC-ROC: 0.8457\n",
      "Max depth: 11 F1-score: 0.5693 AUC-ROC: 0.8456\n",
      "Max depth: 12 F1-score: 0.5270 AUC-ROC: 0.7527\n",
      "Max depth: 12 F1-score: 0.5092 AUC-ROC: 0.7899\n",
      "Max depth: 12 F1-score: 0.5787 AUC-ROC: 0.8098\n",
      "Max depth: 12 F1-score: 0.5413 AUC-ROC: 0.8129\n",
      "Max depth: 12 F1-score: 0.5726 AUC-ROC: 0.8218\n",
      "Max depth: 12 F1-score: 0.5657 AUC-ROC: 0.8218\n",
      "Max depth: 12 F1-score: 0.5842 AUC-ROC: 0.8203\n",
      "Max depth: 12 F1-score: 0.5876 AUC-ROC: 0.8230\n",
      "Max depth: 12 F1-score: 0.5959 AUC-ROC: 0.8283\n",
      "Max depth: 12 F1-score: 0.5884 AUC-ROC: 0.8288\n",
      "Max depth: 12 F1-score: 0.5876 AUC-ROC: 0.8307\n",
      "Max depth: 12 F1-score: 0.5927 AUC-ROC: 0.8316\n",
      "Max depth: 12 F1-score: 0.5936 AUC-ROC: 0.8327\n",
      "Max depth: 12 F1-score: 0.5939 AUC-ROC: 0.8340\n",
      "Max depth: 12 F1-score: 0.5947 AUC-ROC: 0.8362\n",
      "Max depth: 12 F1-score: 0.5968 AUC-ROC: 0.8388\n",
      "Max depth: 12 F1-score: 0.5926 AUC-ROC: 0.8398\n",
      "Max depth: 12 F1-score: 0.5881 AUC-ROC: 0.8399\n",
      "Max depth: 12 F1-score: 0.5944 AUC-ROC: 0.8401\n",
      "Max depth: 12 F1-score: 0.5937 AUC-ROC: 0.8410\n",
      "Max depth: 12 F1-score: 0.5937 AUC-ROC: 0.8396\n",
      "Max depth: 12 F1-score: 0.5928 AUC-ROC: 0.8413\n",
      "Max depth: 12 F1-score: 0.5916 AUC-ROC: 0.8412\n",
      "Max depth: 12 F1-score: 0.5925 AUC-ROC: 0.8400\n",
      "Max depth: 12 F1-score: 0.5895 AUC-ROC: 0.8406\n",
      "Max depth: 12 F1-score: 0.5865 AUC-ROC: 0.8404\n",
      "Max depth: 12 F1-score: 0.5835 AUC-ROC: 0.8417\n",
      "Max depth: 12 F1-score: 0.5805 AUC-ROC: 0.8407\n",
      "Max depth: 12 F1-score: 0.5770 AUC-ROC: 0.8407\n",
      "Max depth: 12 F1-score: 0.5861 AUC-ROC: 0.8409\n",
      "Max depth: 12 F1-score: 0.5723 AUC-ROC: 0.8413\n",
      "Max depth: 12 F1-score: 0.5758 AUC-ROC: 0.8398\n",
      "Max depth: 12 F1-score: 0.5745 AUC-ROC: 0.8395\n",
      "Max depth: 12 F1-score: 0.5792 AUC-ROC: 0.8394\n",
      "Max depth: 12 F1-score: 0.5801 AUC-ROC: 0.8392\n",
      "Max depth: 12 F1-score: 0.5847 AUC-ROC: 0.8393\n",
      "Max depth: 12 F1-score: 0.5907 AUC-ROC: 0.8403\n",
      "Max depth: 12 F1-score: 0.5865 AUC-ROC: 0.8412\n",
      "Max depth: 12 F1-score: 0.5913 AUC-ROC: 0.8419\n",
      "Max depth: 12 F1-score: 0.5946 AUC-ROC: 0.8423\n",
      "Max depth: 12 F1-score: 0.5891 AUC-ROC: 0.8422\n",
      "Max depth: 12 F1-score: 0.5925 AUC-ROC: 0.8423\n",
      "Max depth: 12 F1-score: 0.5976 AUC-ROC: 0.8421\n",
      "Max depth: 12 F1-score: 0.5913 AUC-ROC: 0.8420\n",
      "Max depth: 12 F1-score: 0.5891 AUC-ROC: 0.8417\n",
      "Max depth: 12 F1-score: 0.5909 AUC-ROC: 0.8420\n",
      "Max depth: 12 F1-score: 0.5955 AUC-ROC: 0.8420\n",
      "Max depth: 12 F1-score: 0.5895 AUC-ROC: 0.8416\n",
      "Max depth: 12 F1-score: 0.5904 AUC-ROC: 0.8421\n",
      "Max depth: 13 F1-score: 0.5119 AUC-ROC: 0.7251\n",
      "Max depth: 13 F1-score: 0.4964 AUC-ROC: 0.7735\n",
      "Max depth: 13 F1-score: 0.5722 AUC-ROC: 0.8021\n",
      "Max depth: 13 F1-score: 0.5457 AUC-ROC: 0.8068\n",
      "Max depth: 13 F1-score: 0.5735 AUC-ROC: 0.8083\n",
      "Max depth: 13 F1-score: 0.5819 AUC-ROC: 0.8129\n",
      "Max depth: 13 F1-score: 0.5894 AUC-ROC: 0.8166\n",
      "Max depth: 13 F1-score: 0.5842 AUC-ROC: 0.8219\n",
      "Max depth: 13 F1-score: 0.5985 AUC-ROC: 0.8292\n",
      "Max depth: 13 F1-score: 0.5863 AUC-ROC: 0.8335\n",
      "Max depth: 13 F1-score: 0.5935 AUC-ROC: 0.8344\n",
      "Max depth: 13 F1-score: 0.5947 AUC-ROC: 0.8346\n",
      "Max depth: 13 F1-score: 0.5968 AUC-ROC: 0.8345\n",
      "Max depth: 13 F1-score: 0.5985 AUC-ROC: 0.8353\n",
      "Max depth: 13 F1-score: 0.5863 AUC-ROC: 0.8355\n",
      "Max depth: 13 F1-score: 0.5817 AUC-ROC: 0.8372\n",
      "Max depth: 13 F1-score: 0.5770 AUC-ROC: 0.8354\n",
      "Max depth: 13 F1-score: 0.5800 AUC-ROC: 0.8367\n",
      "Max depth: 13 F1-score: 0.5812 AUC-ROC: 0.8351\n",
      "Max depth: 13 F1-score: 0.5783 AUC-ROC: 0.8357\n",
      "Max depth: 13 F1-score: 0.5856 AUC-ROC: 0.8341\n",
      "Max depth: 13 F1-score: 0.5818 AUC-ROC: 0.8343\n",
      "Max depth: 13 F1-score: 0.5762 AUC-ROC: 0.8359\n",
      "Max depth: 13 F1-score: 0.5719 AUC-ROC: 0.8360\n",
      "Max depth: 13 F1-score: 0.5761 AUC-ROC: 0.8346\n",
      "Max depth: 13 F1-score: 0.5719 AUC-ROC: 0.8352\n",
      "Max depth: 13 F1-score: 0.5689 AUC-ROC: 0.8359\n",
      "Max depth: 13 F1-score: 0.5710 AUC-ROC: 0.8354\n",
      "Max depth: 13 F1-score: 0.5693 AUC-ROC: 0.8347\n",
      "Max depth: 13 F1-score: 0.5706 AUC-ROC: 0.8363\n",
      "Max depth: 13 F1-score: 0.5749 AUC-ROC: 0.8372\n",
      "Max depth: 13 F1-score: 0.5779 AUC-ROC: 0.8371\n",
      "Max depth: 13 F1-score: 0.5809 AUC-ROC: 0.8379\n",
      "Max depth: 13 F1-score: 0.5770 AUC-ROC: 0.8384\n",
      "Max depth: 13 F1-score: 0.5827 AUC-ROC: 0.8390\n",
      "Max depth: 13 F1-score: 0.5843 AUC-ROC: 0.8389\n",
      "Max depth: 13 F1-score: 0.5870 AUC-ROC: 0.8399\n",
      "Max depth: 13 F1-score: 0.5801 AUC-ROC: 0.8402\n",
      "Max depth: 13 F1-score: 0.5870 AUC-ROC: 0.8400\n",
      "Max depth: 13 F1-score: 0.5784 AUC-ROC: 0.8393\n",
      "Max depth: 13 F1-score: 0.5854 AUC-ROC: 0.8392\n",
      "Max depth: 13 F1-score: 0.5789 AUC-ROC: 0.8393\n",
      "Max depth: 13 F1-score: 0.5854 AUC-ROC: 0.8385\n",
      "Max depth: 13 F1-score: 0.5845 AUC-ROC: 0.8386\n",
      "Max depth: 13 F1-score: 0.5814 AUC-ROC: 0.8395\n",
      "Max depth: 13 F1-score: 0.5802 AUC-ROC: 0.8394\n",
      "Max depth: 13 F1-score: 0.5789 AUC-ROC: 0.8391\n",
      "Max depth: 13 F1-score: 0.5789 AUC-ROC: 0.8394\n",
      "Max depth: 13 F1-score: 0.5810 AUC-ROC: 0.8393\n",
      "Max depth: 14 F1-score: 0.5181 AUC-ROC: 0.7036\n",
      "Max depth: 14 F1-score: 0.4919 AUC-ROC: 0.7549\n",
      "Max depth: 14 F1-score: 0.5462 AUC-ROC: 0.7820\n",
      "Max depth: 14 F1-score: 0.5297 AUC-ROC: 0.7928\n",
      "Max depth: 14 F1-score: 0.5594 AUC-ROC: 0.7951\n",
      "Max depth: 14 F1-score: 0.5486 AUC-ROC: 0.8025\n",
      "Max depth: 14 F1-score: 0.5503 AUC-ROC: 0.8088\n",
      "Max depth: 14 F1-score: 0.5619 AUC-ROC: 0.8177\n",
      "Max depth: 14 F1-score: 0.5694 AUC-ROC: 0.8240\n",
      "Max depth: 14 F1-score: 0.5677 AUC-ROC: 0.8228\n",
      "Max depth: 14 F1-score: 0.5808 AUC-ROC: 0.8269\n",
      "Max depth: 14 F1-score: 0.5731 AUC-ROC: 0.8252\n",
      "Max depth: 14 F1-score: 0.5747 AUC-ROC: 0.8270\n",
      "Max depth: 14 F1-score: 0.5664 AUC-ROC: 0.8304\n",
      "Max depth: 14 F1-score: 0.5764 AUC-ROC: 0.8328\n",
      "Max depth: 14 F1-score: 0.5760 AUC-ROC: 0.8361\n",
      "Max depth: 14 F1-score: 0.5693 AUC-ROC: 0.8349\n",
      "Max depth: 14 F1-score: 0.5748 AUC-ROC: 0.8343\n",
      "Max depth: 14 F1-score: 0.5769 AUC-ROC: 0.8360\n",
      "Max depth: 14 F1-score: 0.5803 AUC-ROC: 0.8361\n",
      "Max depth: 14 F1-score: 0.5790 AUC-ROC: 0.8343\n",
      "Max depth: 14 F1-score: 0.5769 AUC-ROC: 0.8357\n",
      "Max depth: 14 F1-score: 0.5799 AUC-ROC: 0.8365\n",
      "Max depth: 14 F1-score: 0.5782 AUC-ROC: 0.8359\n",
      "Max depth: 14 F1-score: 0.5790 AUC-ROC: 0.8344\n",
      "Max depth: 14 F1-score: 0.5773 AUC-ROC: 0.8351\n",
      "Max depth: 14 F1-score: 0.5811 AUC-ROC: 0.8358\n",
      "Max depth: 14 F1-score: 0.5799 AUC-ROC: 0.8346\n",
      "Max depth: 14 F1-score: 0.5786 AUC-ROC: 0.8355\n",
      "Max depth: 14 F1-score: 0.5765 AUC-ROC: 0.8359\n",
      "Max depth: 14 F1-score: 0.5778 AUC-ROC: 0.8361\n",
      "Max depth: 14 F1-score: 0.5825 AUC-ROC: 0.8371\n",
      "Max depth: 14 F1-score: 0.5811 AUC-ROC: 0.8376\n",
      "Max depth: 14 F1-score: 0.5773 AUC-ROC: 0.8375\n",
      "Max depth: 14 F1-score: 0.5731 AUC-ROC: 0.8385\n",
      "Max depth: 14 F1-score: 0.5790 AUC-ROC: 0.8399\n",
      "Max depth: 14 F1-score: 0.5807 AUC-ROC: 0.8393\n",
      "Max depth: 14 F1-score: 0.5807 AUC-ROC: 0.8387\n",
      "Max depth: 14 F1-score: 0.5799 AUC-ROC: 0.8379\n",
      "Max depth: 14 F1-score: 0.5778 AUC-ROC: 0.8382\n",
      "Max depth: 14 F1-score: 0.5765 AUC-ROC: 0.8384\n",
      "Max depth: 14 F1-score: 0.5748 AUC-ROC: 0.8381\n",
      "Max depth: 14 F1-score: 0.5723 AUC-ROC: 0.8380\n",
      "Max depth: 14 F1-score: 0.5786 AUC-ROC: 0.8392\n",
      "Max depth: 14 F1-score: 0.5714 AUC-ROC: 0.8397\n",
      "Max depth: 14 F1-score: 0.5761 AUC-ROC: 0.8395\n",
      "Max depth: 14 F1-score: 0.5765 AUC-ROC: 0.8388\n",
      "Max depth: 14 F1-score: 0.5748 AUC-ROC: 0.8390\n",
      "Max depth: 14 F1-score: 0.5706 AUC-ROC: 0.8390\n",
      "Max depth: 15 F1-score: 0.5012 AUC-ROC: 0.6954\n",
      "Max depth: 15 F1-score: 0.4575 AUC-ROC: 0.7505\n",
      "Max depth: 15 F1-score: 0.5572 AUC-ROC: 0.7915\n",
      "Max depth: 15 F1-score: 0.5109 AUC-ROC: 0.8058\n",
      "Max depth: 15 F1-score: 0.5803 AUC-ROC: 0.8083\n",
      "Max depth: 15 F1-score: 0.5483 AUC-ROC: 0.8123\n",
      "Max depth: 15 F1-score: 0.5876 AUC-ROC: 0.8160\n",
      "Max depth: 15 F1-score: 0.5652 AUC-ROC: 0.8233\n",
      "Max depth: 15 F1-score: 0.5839 AUC-ROC: 0.8265\n",
      "Max depth: 15 F1-score: 0.5837 AUC-ROC: 0.8278\n",
      "Max depth: 15 F1-score: 0.5915 AUC-ROC: 0.8281\n",
      "Max depth: 15 F1-score: 0.5916 AUC-ROC: 0.8297\n",
      "Max depth: 15 F1-score: 0.5921 AUC-ROC: 0.8276\n",
      "Max depth: 15 F1-score: 0.5822 AUC-ROC: 0.8283\n",
      "Max depth: 15 F1-score: 0.5830 AUC-ROC: 0.8296\n",
      "Max depth: 15 F1-score: 0.5848 AUC-ROC: 0.8300\n",
      "Max depth: 15 F1-score: 0.5904 AUC-ROC: 0.8291\n",
      "Max depth: 15 F1-score: 0.5874 AUC-ROC: 0.8283\n",
      "Max depth: 15 F1-score: 0.5802 AUC-ROC: 0.8310\n",
      "Max depth: 15 F1-score: 0.5824 AUC-ROC: 0.8316\n",
      "Max depth: 15 F1-score: 0.5819 AUC-ROC: 0.8311\n",
      "Max depth: 15 F1-score: 0.5857 AUC-ROC: 0.8312\n",
      "Max depth: 15 F1-score: 0.5777 AUC-ROC: 0.8312\n",
      "Max depth: 15 F1-score: 0.5798 AUC-ROC: 0.8307\n",
      "Max depth: 15 F1-score: 0.5782 AUC-ROC: 0.8322\n",
      "Max depth: 15 F1-score: 0.5819 AUC-ROC: 0.8337\n",
      "Max depth: 15 F1-score: 0.5806 AUC-ROC: 0.8344\n",
      "Max depth: 15 F1-score: 0.5841 AUC-ROC: 0.8350\n",
      "Max depth: 15 F1-score: 0.5777 AUC-ROC: 0.8360\n",
      "Max depth: 15 F1-score: 0.5702 AUC-ROC: 0.8365\n",
      "Max depth: 15 F1-score: 0.5782 AUC-ROC: 0.8373\n",
      "Max depth: 15 F1-score: 0.5723 AUC-ROC: 0.8375\n",
      "Max depth: 15 F1-score: 0.5769 AUC-ROC: 0.8382\n",
      "Max depth: 15 F1-score: 0.5731 AUC-ROC: 0.8368\n",
      "Max depth: 15 F1-score: 0.5761 AUC-ROC: 0.8372\n",
      "Max depth: 15 F1-score: 0.5765 AUC-ROC: 0.8385\n",
      "Max depth: 15 F1-score: 0.5782 AUC-ROC: 0.8391\n",
      "Max depth: 15 F1-score: 0.5879 AUC-ROC: 0.8397\n",
      "Max depth: 15 F1-score: 0.5894 AUC-ROC: 0.8409\n",
      "Max depth: 15 F1-score: 0.5915 AUC-ROC: 0.8412\n",
      "Max depth: 15 F1-score: 0.5894 AUC-ROC: 0.8423\n",
      "Max depth: 15 F1-score: 0.5920 AUC-ROC: 0.8424\n",
      "Max depth: 15 F1-score: 0.5918 AUC-ROC: 0.8422\n",
      "Max depth: 15 F1-score: 0.5828 AUC-ROC: 0.8419\n",
      "Max depth: 15 F1-score: 0.5869 AUC-ROC: 0.8414\n",
      "Max depth: 15 F1-score: 0.5744 AUC-ROC: 0.8414\n",
      "Max depth: 15 F1-score: 0.5836 AUC-ROC: 0.8423\n",
      "Max depth: 15 F1-score: 0.5794 AUC-ROC: 0.8429\n",
      "Max depth: 15 F1-score: 0.5844 AUC-ROC: 0.8427\n",
      "Max depth: 16 F1-score: 0.4371 AUC-ROC: 0.6499\n",
      "Max depth: 16 F1-score: 0.4153 AUC-ROC: 0.7232\n",
      "Max depth: 16 F1-score: 0.5200 AUC-ROC: 0.7577\n",
      "Max depth: 16 F1-score: 0.5000 AUC-ROC: 0.7821\n",
      "Max depth: 16 F1-score: 0.5467 AUC-ROC: 0.8001\n",
      "Max depth: 16 F1-score: 0.5223 AUC-ROC: 0.8020\n",
      "Max depth: 16 F1-score: 0.5655 AUC-ROC: 0.8116\n",
      "Max depth: 16 F1-score: 0.5494 AUC-ROC: 0.8163\n",
      "Max depth: 16 F1-score: 0.5742 AUC-ROC: 0.8205\n",
      "Max depth: 16 F1-score: 0.5789 AUC-ROC: 0.8267\n",
      "Max depth: 16 F1-score: 0.5881 AUC-ROC: 0.8276\n",
      "Max depth: 16 F1-score: 0.5698 AUC-ROC: 0.8294\n",
      "Max depth: 16 F1-score: 0.5825 AUC-ROC: 0.8290\n",
      "Max depth: 16 F1-score: 0.5756 AUC-ROC: 0.8299\n",
      "Max depth: 16 F1-score: 0.5908 AUC-ROC: 0.8286\n",
      "Max depth: 16 F1-score: 0.5789 AUC-ROC: 0.8295\n",
      "Max depth: 16 F1-score: 0.5871 AUC-ROC: 0.8288\n",
      "Max depth: 16 F1-score: 0.5802 AUC-ROC: 0.8299\n",
      "Max depth: 16 F1-score: 0.5908 AUC-ROC: 0.8307\n",
      "Max depth: 16 F1-score: 0.5864 AUC-ROC: 0.8316\n",
      "Max depth: 16 F1-score: 0.5776 AUC-ROC: 0.8331\n",
      "Max depth: 16 F1-score: 0.5793 AUC-ROC: 0.8348\n",
      "Max depth: 16 F1-score: 0.5833 AUC-ROC: 0.8348\n",
      "Max depth: 16 F1-score: 0.5843 AUC-ROC: 0.8355\n",
      "Max depth: 16 F1-score: 0.5835 AUC-ROC: 0.8351\n",
      "Max depth: 16 F1-score: 0.5819 AUC-ROC: 0.8362\n",
      "Max depth: 16 F1-score: 0.5869 AUC-ROC: 0.8363\n",
      "Max depth: 16 F1-score: 0.5836 AUC-ROC: 0.8359\n",
      "Max depth: 16 F1-score: 0.5857 AUC-ROC: 0.8365\n",
      "Max depth: 16 F1-score: 0.5844 AUC-ROC: 0.8370\n",
      "Max depth: 16 F1-score: 0.5924 AUC-ROC: 0.8374\n",
      "Max depth: 16 F1-score: 0.5867 AUC-ROC: 0.8375\n",
      "Max depth: 16 F1-score: 0.5891 AUC-ROC: 0.8368\n",
      "Max depth: 16 F1-score: 0.5908 AUC-ROC: 0.8351\n",
      "Max depth: 16 F1-score: 0.5882 AUC-ROC: 0.8360\n",
      "Max depth: 16 F1-score: 0.5875 AUC-ROC: 0.8370\n",
      "Max depth: 16 F1-score: 0.5891 AUC-ROC: 0.8371\n",
      "Max depth: 16 F1-score: 0.5941 AUC-ROC: 0.8374\n",
      "Max depth: 16 F1-score: 0.5948 AUC-ROC: 0.8382\n",
      "Max depth: 16 F1-score: 0.5982 AUC-ROC: 0.8383\n",
      "Max depth: 16 F1-score: 0.5915 AUC-ROC: 0.8388\n",
      "Max depth: 16 F1-score: 0.5870 AUC-ROC: 0.8376\n",
      "Max depth: 16 F1-score: 0.5865 AUC-ROC: 0.8369\n",
      "Max depth: 16 F1-score: 0.5832 AUC-ROC: 0.8369\n",
      "Max depth: 16 F1-score: 0.5874 AUC-ROC: 0.8365\n",
      "Max depth: 16 F1-score: 0.5832 AUC-ROC: 0.8368\n",
      "Max depth: 16 F1-score: 0.5944 AUC-ROC: 0.8379\n",
      "Max depth: 16 F1-score: 0.5903 AUC-ROC: 0.8377\n",
      "Max depth: 16 F1-score: 0.5886 AUC-ROC: 0.8372\n",
      "Max depth: 17 F1-score: 0.4751 AUC-ROC: 0.6675\n",
      "Max depth: 17 F1-score: 0.3962 AUC-ROC: 0.7306\n",
      "Max depth: 17 F1-score: 0.5147 AUC-ROC: 0.7543\n",
      "Max depth: 17 F1-score: 0.4892 AUC-ROC: 0.7774\n",
      "Max depth: 17 F1-score: 0.5495 AUC-ROC: 0.7924\n",
      "Max depth: 17 F1-score: 0.5493 AUC-ROC: 0.8035\n",
      "Max depth: 17 F1-score: 0.5629 AUC-ROC: 0.8084\n",
      "Max depth: 17 F1-score: 0.5579 AUC-ROC: 0.8175\n",
      "Max depth: 17 F1-score: 0.5812 AUC-ROC: 0.8235\n",
      "Max depth: 17 F1-score: 0.5769 AUC-ROC: 0.8249\n",
      "Max depth: 17 F1-score: 0.5923 AUC-ROC: 0.8265\n",
      "Max depth: 17 F1-score: 0.5786 AUC-ROC: 0.8230\n",
      "Max depth: 17 F1-score: 0.5867 AUC-ROC: 0.8233\n",
      "Max depth: 17 F1-score: 0.5748 AUC-ROC: 0.8237\n",
      "Max depth: 17 F1-score: 0.5918 AUC-ROC: 0.8272\n",
      "Max depth: 17 F1-score: 0.5769 AUC-ROC: 0.8296\n",
      "Max depth: 17 F1-score: 0.5899 AUC-ROC: 0.8324\n",
      "Max depth: 17 F1-score: 0.5748 AUC-ROC: 0.8345\n",
      "Max depth: 17 F1-score: 0.5882 AUC-ROC: 0.8364\n",
      "Max depth: 17 F1-score: 0.5837 AUC-ROC: 0.8371\n",
      "Max depth: 17 F1-score: 0.5862 AUC-ROC: 0.8362\n",
      "Max depth: 17 F1-score: 0.5888 AUC-ROC: 0.8346\n",
      "Max depth: 17 F1-score: 0.6044 AUC-ROC: 0.8362\n",
      "Max depth: 17 F1-score: 0.5888 AUC-ROC: 0.8375\n",
      "Max depth: 17 F1-score: 0.6000 AUC-ROC: 0.8377\n",
      "Max depth: 17 F1-score: 0.5867 AUC-ROC: 0.8381\n",
      "Max depth: 17 F1-score: 0.6006 AUC-ROC: 0.8394\n",
      "Max depth: 17 F1-score: 0.5884 AUC-ROC: 0.8394\n",
      "Max depth: 17 F1-score: 0.5905 AUC-ROC: 0.8399\n",
      "Max depth: 17 F1-score: 0.5800 AUC-ROC: 0.8411\n",
      "Max depth: 17 F1-score: 0.5888 AUC-ROC: 0.8405\n",
      "Max depth: 17 F1-score: 0.5863 AUC-ROC: 0.8404\n",
      "Max depth: 17 F1-score: 0.5950 AUC-ROC: 0.8415\n",
      "Max depth: 17 F1-score: 0.5804 AUC-ROC: 0.8402\n",
      "Max depth: 17 F1-score: 0.5858 AUC-ROC: 0.8416\n",
      "Max depth: 17 F1-score: 0.5791 AUC-ROC: 0.8408\n",
      "Max depth: 17 F1-score: 0.5863 AUC-ROC: 0.8408\n",
      "Max depth: 17 F1-score: 0.5846 AUC-ROC: 0.8406\n",
      "Max depth: 17 F1-score: 0.5881 AUC-ROC: 0.8406\n",
      "Max depth: 17 F1-score: 0.5787 AUC-ROC: 0.8410\n",
      "Max depth: 17 F1-score: 0.5872 AUC-ROC: 0.8410\n",
      "Max depth: 17 F1-score: 0.5744 AUC-ROC: 0.8416\n",
      "Max depth: 17 F1-score: 0.5830 AUC-ROC: 0.8406\n",
      "Max depth: 17 F1-score: 0.5847 AUC-ROC: 0.8414\n",
      "Max depth: 17 F1-score: 0.5881 AUC-ROC: 0.8414\n",
      "Max depth: 17 F1-score: 0.5783 AUC-ROC: 0.8416\n",
      "Max depth: 17 F1-score: 0.5859 AUC-ROC: 0.8415\n",
      "Max depth: 17 F1-score: 0.5813 AUC-ROC: 0.8408\n",
      "Max depth: 17 F1-score: 0.5800 AUC-ROC: 0.8417\n",
      "Max depth: 18 F1-score: 0.4805 AUC-ROC: 0.6727\n",
      "Max depth: 18 F1-score: 0.4121 AUC-ROC: 0.7280\n",
      "Max depth: 18 F1-score: 0.5455 AUC-ROC: 0.7707\n",
      "Max depth: 18 F1-score: 0.5031 AUC-ROC: 0.7855\n",
      "Max depth: 18 F1-score: 0.5643 AUC-ROC: 0.7912\n",
      "Max depth: 18 F1-score: 0.5347 AUC-ROC: 0.7968\n",
      "Max depth: 18 F1-score: 0.5658 AUC-ROC: 0.8023\n",
      "Max depth: 18 F1-score: 0.5604 AUC-ROC: 0.8062\n",
      "Max depth: 18 F1-score: 0.5750 AUC-ROC: 0.8096\n",
      "Max depth: 18 F1-score: 0.5595 AUC-ROC: 0.8138\n",
      "Max depth: 18 F1-score: 0.5775 AUC-ROC: 0.8194\n",
      "Max depth: 18 F1-score: 0.5567 AUC-ROC: 0.8173\n",
      "Max depth: 18 F1-score: 0.5763 AUC-ROC: 0.8192\n",
      "Max depth: 18 F1-score: 0.5643 AUC-ROC: 0.8202\n",
      "Max depth: 18 F1-score: 0.5768 AUC-ROC: 0.8221\n",
      "Max depth: 18 F1-score: 0.5647 AUC-ROC: 0.8221\n",
      "Max depth: 18 F1-score: 0.5735 AUC-ROC: 0.8226\n",
      "Max depth: 18 F1-score: 0.5748 AUC-ROC: 0.8241\n",
      "Max depth: 18 F1-score: 0.5793 AUC-ROC: 0.8258\n",
      "Max depth: 18 F1-score: 0.5819 AUC-ROC: 0.8272\n",
      "Max depth: 18 F1-score: 0.5826 AUC-ROC: 0.8301\n",
      "Max depth: 18 F1-score: 0.5659 AUC-ROC: 0.8303\n",
      "Max depth: 18 F1-score: 0.5884 AUC-ROC: 0.8309\n",
      "Max depth: 18 F1-score: 0.5794 AUC-ROC: 0.8308\n",
      "Max depth: 18 F1-score: 0.5872 AUC-ROC: 0.8321\n",
      "Max depth: 18 F1-score: 0.5727 AUC-ROC: 0.8312\n",
      "Max depth: 18 F1-score: 0.5806 AUC-ROC: 0.8327\n",
      "Max depth: 18 F1-score: 0.5719 AUC-ROC: 0.8322\n",
      "Max depth: 18 F1-score: 0.5773 AUC-ROC: 0.8318\n",
      "Max depth: 18 F1-score: 0.5748 AUC-ROC: 0.8321\n",
      "Max depth: 18 F1-score: 0.5756 AUC-ROC: 0.8325\n",
      "Max depth: 18 F1-score: 0.5740 AUC-ROC: 0.8320\n",
      "Max depth: 18 F1-score: 0.5773 AUC-ROC: 0.8334\n",
      "Max depth: 18 F1-score: 0.5685 AUC-ROC: 0.8335\n",
      "Max depth: 18 F1-score: 0.5790 AUC-ROC: 0.8331\n",
      "Max depth: 18 F1-score: 0.5650 AUC-ROC: 0.8340\n",
      "Max depth: 18 F1-score: 0.5778 AUC-ROC: 0.8349\n",
      "Max depth: 18 F1-score: 0.5676 AUC-ROC: 0.8359\n",
      "Max depth: 18 F1-score: 0.5727 AUC-ROC: 0.8351\n",
      "Max depth: 18 F1-score: 0.5689 AUC-ROC: 0.8349\n",
      "Max depth: 18 F1-score: 0.5765 AUC-ROC: 0.8348\n",
      "Max depth: 18 F1-score: 0.5697 AUC-ROC: 0.8347\n",
      "Max depth: 18 F1-score: 0.5693 AUC-ROC: 0.8343\n",
      "Max depth: 18 F1-score: 0.5689 AUC-ROC: 0.8353\n",
      "Max depth: 18 F1-score: 0.5693 AUC-ROC: 0.8350\n",
      "Max depth: 18 F1-score: 0.5689 AUC-ROC: 0.8349\n",
      "Max depth: 18 F1-score: 0.5701 AUC-ROC: 0.8358\n",
      "Max depth: 18 F1-score: 0.5689 AUC-ROC: 0.8368\n",
      "Max depth: 18 F1-score: 0.5714 AUC-ROC: 0.8375\n",
      "Max depth: 19 F1-score: 0.4977 AUC-ROC: 0.6853\n",
      "Max depth: 19 F1-score: 0.4305 AUC-ROC: 0.7390\n",
      "Max depth: 19 F1-score: 0.5420 AUC-ROC: 0.7800\n",
      "Max depth: 19 F1-score: 0.5032 AUC-ROC: 0.7951\n",
      "Max depth: 19 F1-score: 0.5465 AUC-ROC: 0.8060\n",
      "Max depth: 19 F1-score: 0.5380 AUC-ROC: 0.8097\n",
      "Max depth: 19 F1-score: 0.5742 AUC-ROC: 0.8114\n",
      "Max depth: 19 F1-score: 0.5490 AUC-ROC: 0.8150\n",
      "Max depth: 19 F1-score: 0.5949 AUC-ROC: 0.8217\n",
      "Max depth: 19 F1-score: 0.5778 AUC-ROC: 0.8264\n",
      "Max depth: 19 F1-score: 0.5972 AUC-ROC: 0.8261\n",
      "Max depth: 19 F1-score: 0.5786 AUC-ROC: 0.8290\n",
      "Max depth: 19 F1-score: 0.5941 AUC-ROC: 0.8313\n",
      "Max depth: 19 F1-score: 0.5803 AUC-ROC: 0.8296\n",
      "Max depth: 19 F1-score: 0.5937 AUC-ROC: 0.8309\n",
      "Max depth: 19 F1-score: 0.5807 AUC-ROC: 0.8309\n",
      "Max depth: 19 F1-score: 0.5849 AUC-ROC: 0.8331\n",
      "Max depth: 19 F1-score: 0.5773 AUC-ROC: 0.8326\n",
      "Max depth: 19 F1-score: 0.5874 AUC-ROC: 0.8352\n",
      "Max depth: 19 F1-score: 0.5790 AUC-ROC: 0.8346\n",
      "Max depth: 19 F1-score: 0.5896 AUC-ROC: 0.8351\n",
      "Max depth: 19 F1-score: 0.5867 AUC-ROC: 0.8356\n",
      "Max depth: 19 F1-score: 0.5983 AUC-ROC: 0.8343\n",
      "Max depth: 19 F1-score: 0.5926 AUC-ROC: 0.8353\n",
      "Max depth: 19 F1-score: 0.5974 AUC-ROC: 0.8339\n",
      "Max depth: 19 F1-score: 0.5889 AUC-ROC: 0.8336\n",
      "Max depth: 19 F1-score: 0.6053 AUC-ROC: 0.8346\n",
      "Max depth: 19 F1-score: 0.5994 AUC-ROC: 0.8354\n",
      "Max depth: 19 F1-score: 0.5886 AUC-ROC: 0.8345\n",
      "Max depth: 19 F1-score: 0.5964 AUC-ROC: 0.8343\n",
      "Max depth: 19 F1-score: 0.5915 AUC-ROC: 0.8350\n",
      "Max depth: 19 F1-score: 0.5875 AUC-ROC: 0.8346\n",
      "Max depth: 19 F1-score: 0.5910 AUC-ROC: 0.8359\n",
      "Max depth: 19 F1-score: 0.5912 AUC-ROC: 0.8351\n",
      "Max depth: 19 F1-score: 0.5965 AUC-ROC: 0.8366\n",
      "Max depth: 19 F1-score: 0.5891 AUC-ROC: 0.8372\n",
      "Max depth: 19 F1-score: 0.5936 AUC-ROC: 0.8389\n",
      "Max depth: 19 F1-score: 0.5867 AUC-ROC: 0.8379\n",
      "Max depth: 19 F1-score: 0.5941 AUC-ROC: 0.8379\n",
      "Max depth: 19 F1-score: 0.5825 AUC-ROC: 0.8390\n",
      "Max depth: 19 F1-score: 0.5917 AUC-ROC: 0.8390\n",
      "Max depth: 19 F1-score: 0.5905 AUC-ROC: 0.8393\n",
      "Max depth: 19 F1-score: 0.5908 AUC-ROC: 0.8390\n",
      "Max depth: 19 F1-score: 0.5884 AUC-ROC: 0.8400\n",
      "Max depth: 19 F1-score: 0.5882 AUC-ROC: 0.8395\n",
      "Max depth: 19 F1-score: 0.5863 AUC-ROC: 0.8394\n",
      "Max depth: 19 F1-score: 0.5882 AUC-ROC: 0.8399\n",
      "Max depth: 19 F1-score: 0.5905 AUC-ROC: 0.8408\n",
      "Max depth: 19 F1-score: 0.5865 AUC-ROC: 0.8408\n",
      "Лучшая F-мера 0.6052631578947368 при глубине = 19,  количестве деревьев = 27 и AUC-ROC = 0.8345736122284795\n",
      "CPU times: user 2min 12s, sys: 899 ms, total: 2min 13s\n",
      "Wall time: 2min 14s\n"
     ]
    }
   ],
   "source": [
    "%%time\n",
    "\n",
    "best_score_f1 = 0\n",
    "best_auc_roc = 0\n",
    "best_model_RFC = 0\n",
    "best_model_f1_RFC = 0\n",
    "best_model_auc_roc_RFC = 0\n",
    "best_depth_rfc_nb = 0\n",
    "best_est_nb = 0\n",
    "for depth in range(1, 20, 1):\n",
    "    for estimator in range(1, 50, 1):\n",
    "        model_rfc_nb = RandomForestClassifier(n_estimators=estimator, max_depth=depth, random_state=12345)\n",
    "        model_rfc_nb.fit(features_train, target_train)\n",
    "       \n",
    "        predict_valid_rfc_nb = model_rfc_nb.predict(features_valid)\n",
    "        \n",
    "        f1_valid_rfc_nb = f1_score(target_valid, predict_valid_rfc_nb)\n",
    "    \n",
    "        probabilities_valid_rfc_nb = model_rfc_nb.predict_proba(features_valid)\n",
    "        probabilities_one_valid_rfc_balanced =  probabilities_valid_rfc_nb[:, 1]\n",
    "        auc_roc_rfc_nb = roc_auc_score(target_valid, probabilities_one_valid_rfc_balanced)\n",
    "        \n",
    "        print('Max depth:', depth,'F1-score:','{:.4f}'.format(f1_valid_rfc_nb),'AUC-ROC:','{:.4f}'.format(auc_roc_rfc_nb))\n",
    "        if best_model_RFC < f1_valid_rfc_nb:\n",
    "            best_model_RFC = f1_valid_rfc_nb\n",
    "            best_depth_rfc_nb = depth\n",
    "            best_est_nb = estimator\n",
    "            best_model_rfc_nb =  model_rfc_nb\n",
    "            best_auc_roc_rfc_nb = auc_roc_rfc_nb\n",
    "            \n",
    "print(\"Лучшая F-мера\", best_model_RFC, 'при глубине = {0},  количестве деревьев = {1} и AUC-ROC = {2}'\n",
    "      .format(best_depth_rfc_nb, best_est_nb, best_auc_roc_rfc_nb))\n",
    "    \n",
    "       \n",
    "        \n"
   ]
  },
  {
   "cell_type": "code",
   "execution_count": 3,
   "metadata": {},
   "outputs": [
    {
     "name": "stdout",
     "output_type": "stream",
     "text": [
      "Requirement already satisfied: tqdm in /opt/conda/lib/python3.9/site-packages (4.61.2)\r\n"
     ]
    },
    {
     "ename": "NameError",
     "evalue": "name 'tqdm' is not defined",
     "output_type": "error",
     "traceback": [
      "\u001B[0;31m---------------------------------------------------------------------------\u001B[0m",
      "\u001B[0;31mNameError\u001B[0m                                 Traceback (most recent call last)",
      "\u001B[0;32m<timed exec>\u001B[0m in \u001B[0;36m<module>\u001B[0;34m\u001B[0m\n",
      "\u001B[0;31mNameError\u001B[0m: name 'tqdm' is not defined"
     ]
    }
   ],
   "source": [
    "%%time\n",
    "!pip3 install tqdm\n",
    "\n",
    "best_score_f1 = 0\n",
    "best_auc_roc = 0\n",
    "best_model_RFC = 0\n",
    "best_model_f1_RFC = 0\n",
    "best_model_auc_roc_RFC = 0\n",
    "best_depth_rfc_nb = 0\n",
    "best_est_nb = 0\n",
    "for params in tqdm(itertools.product(range(1, 20), range(1,20))):\n",
    "    depth,estimator = params\n",
    "    model_rfc_nb = RandomForestClassifier(n_estimators=estimator, max_depth=depth, random_state=12345)\n",
    "    model_rfc_nb.fit(features_train, target_train)\n",
    "       \n",
    "    predict_valid_rfc_nb = model_rfc_nb.predict(features_valid)\n",
    "        \n",
    "    f1_valid_rfc_nb = f1_score(target_valid, predict_valid_rfc_nb)\n",
    "    \n",
    "    probabilities_valid_rfc_nb = model_rfc_nb.predict_proba(features_valid)\n",
    "    probabilities_one_valid_rfc_balanced =  probabilities_valid_rfc_nb[:, 1]\n",
    "    auc_roc_rfc_nb = roc_auc_score(target_valid, probabilities_one_valid_rfc_balanced)\n",
    "        \n",
    "    print('Max depth:', depth,'F1-score:','{:.4f}'.format(f1_valid_rfc_nb),'AUC-ROC:','{:.4f}'.format(auc_roc_rfc_nb))\n",
    "    if best_model_RFC < f1_valid_rfc_nb:\n",
    "        best_model_RFC = f1_valid_rfc_nb\n",
    "        best_depth_rfc_nb = depth\n",
    "        best_est_nb = estimator\n",
    "        best_model_rfc_nb =  model_rfc_nb\n",
    "        best_auc_roc_rfc_nb = auc_roc_rfc_nb\n",
    "            \n",
    "print(\"Лучшая F-мера\", best_model_RFC, 'при глубине = {0},  количестве деревьев = {1} и AUC-ROC = {2}'\n",
    "      .format(best_depth_rfc_nb, best_est_nb, best_auc_roc_rfc_nb))\n",
    "    \n",
    "       \n",
    "        \n"
   ]
  },
  {
   "cell_type": "markdown",
   "metadata": {},
   "source": [
    "переходим к обучению модели логистической регрессии"
   ]
  },
  {
   "cell_type": "code",
   "execution_count": 32,
   "metadata": {},
   "outputs": [
    {
     "name": "stdout",
     "output_type": "stream",
     "text": [
      "accuracy_score_regression 0.8025\n",
      "f1 0.47990255785627284\n",
      "auc_roc 0.7586317967081824\n"
     ]
    }
   ],
   "source": [
    "model = LogisticRegression(solver='liblinear', random_state=12345).fit(features_train, target_train)\n",
    "predictions_valid = model.predict(features_valid)\n",
    "accuracy_score_regression = accuracy_score(target_valid,predictions_valid)\n",
    "\n",
    "f1 = f1_score(target_valid, predicted_valid)\n",
    "    \n",
    "probabilities_valid = model.predict_proba(features_valid)\n",
    "probabilities_one_valid =  probabilities_valid[:, 1]\n",
    "auc_roc = roc_auc_score(target_valid, probabilities_one_valid)\n",
    "    \n",
    "print('accuracy_score_regression', accuracy_score_regression)\n",
    "print('f1', f1)\n",
    "print('auc_roc', auc_roc)\n"
   ]
  },
  {
   "cell_type": "markdown",
   "metadata": {},
   "source": [
    "### Вывод: Выполнено обучение 3 моделей на несбалансированных выборках: дерево решений(с подбором оптимального кол-ва деревьев), лес деревьев (с подбором кол-ва деревьев и глубины леса); логистическая регрессия. На данном этапе лучшие результаты по метрикам f1 и auc-roc показала модель леса деревьев с параметрами RandomForestClassifier(max_depth=19, n_estimators=27, random_state=12345) f1 = 0.6026 и auc-roc = 0.8345."
   ]
  },
  {
   "cell_type": "markdown",
   "metadata": {},
   "source": [
    "## Борьба с дисбалансом"
   ]
  },
  {
   "cell_type": "markdown",
   "metadata": {},
   "source": [
    "приступаем к борьбе с дисбалансом, в процессе обучения модели"
   ]
  },
  {
   "cell_type": "markdown",
   "metadata": {},
   "source": [
    "### вариант 1 - метод balanced"
   ]
  },
  {
   "cell_type": "markdown",
   "metadata": {},
   "source": [
    "DecisionTreeClassifier"
   ]
  },
  {
   "cell_type": "code",
   "execution_count": 33,
   "metadata": {
    "scrolled": true
   },
   "outputs": [
    {
     "name": "stdout",
     "output_type": "stream",
     "text": [
      "Max depth: 1 F1-score: 0.4995 AUC-ROC: 0.7586\n",
      "Max depth: 2 F1-score: 0.5410 AUC-ROC: 0.7586\n",
      "Max depth: 3 F1-score: 0.5410 AUC-ROC: 0.7586\n",
      "Max depth: 4 F1-score: 0.5278 AUC-ROC: 0.7586\n",
      "Max depth: 5 F1-score: 0.5964 AUC-ROC: 0.7586\n",
      "Max depth: 6 F1-score: 0.5582 AUC-ROC: 0.7586\n",
      "Max depth: 7 F1-score: 0.5560 AUC-ROC: 0.7586\n",
      "Max depth: 8 F1-score: 0.5401 AUC-ROC: 0.7586\n",
      "Max depth: 9 F1-score: 0.5339 AUC-ROC: 0.7586\n",
      "Max depth: 10 F1-score: 0.5164 AUC-ROC: 0.7586\n",
      "Max depth: 11 F1-score: 0.5317 AUC-ROC: 0.7586\n",
      "Max depth: 12 F1-score: 0.5098 AUC-ROC: 0.7586\n",
      "Max depth: 13 F1-score: 0.4989 AUC-ROC: 0.7586\n",
      "Max depth: 14 F1-score: 0.4845 AUC-ROC: 0.7586\n",
      "Max depth: 15 F1-score: 0.4741 AUC-ROC: 0.7586\n",
      "Max depth: 16 F1-score: 0.4739 AUC-ROC: 0.7586\n",
      "Max depth: 17 F1-score: 0.4787 AUC-ROC: 0.7586\n",
      "Max depth: 18 F1-score: 0.4716 AUC-ROC: 0.7586\n",
      "Max depth: 19 F1-score: 0.4556 AUC-ROC: 0.7586\n",
      "Max depth: 20 F1-score: 0.4640 AUC-ROC: 0.7586\n",
      "Max depth: 21 F1-score: 0.4691 AUC-ROC: 0.7586\n",
      "Max depth: 22 F1-score: 0.4606 AUC-ROC: 0.7586\n",
      "Max depth: 23 F1-score: 0.4562 AUC-ROC: 0.7586\n",
      "Max depth: 24 F1-score: 0.4562 AUC-ROC: 0.7586\n",
      "Max depth: 25 F1-score: 0.4562 AUC-ROC: 0.7586\n",
      "Max depth: 26 F1-score: 0.4562 AUC-ROC: 0.7586\n",
      "Max depth: 27 F1-score: 0.4562 AUC-ROC: 0.7586\n",
      "Max depth: 28 F1-score: 0.4562 AUC-ROC: 0.7586\n",
      "Max depth: 29 F1-score: 0.4562 AUC-ROC: 0.7586\n",
      "Max depth: 30 F1-score: 0.4562 AUC-ROC: 0.7586\n",
      "Max depth: 31 F1-score: 0.4562 AUC-ROC: 0.7586\n",
      "Max depth: 32 F1-score: 0.4562 AUC-ROC: 0.7586\n",
      "Max depth: 33 F1-score: 0.4562 AUC-ROC: 0.7586\n",
      "Max depth: 34 F1-score: 0.4562 AUC-ROC: 0.7586\n",
      "Max depth: 35 F1-score: 0.4562 AUC-ROC: 0.7586\n",
      "Max depth: 36 F1-score: 0.4562 AUC-ROC: 0.7586\n",
      "Max depth: 37 F1-score: 0.4562 AUC-ROC: 0.7586\n",
      "Max depth: 38 F1-score: 0.4562 AUC-ROC: 0.7586\n",
      "Max depth: 39 F1-score: 0.4562 AUC-ROC: 0.7586\n",
      "Max depth: 40 F1-score: 0.4562 AUC-ROC: 0.7586\n",
      "Max depth: 41 F1-score: 0.4562 AUC-ROC: 0.7586\n",
      "Max depth: 42 F1-score: 0.4562 AUC-ROC: 0.7586\n",
      "Max depth: 43 F1-score: 0.4562 AUC-ROC: 0.7586\n",
      "Max depth: 44 F1-score: 0.4562 AUC-ROC: 0.7586\n",
      "Max depth: 45 F1-score: 0.4562 AUC-ROC: 0.7586\n",
      "Max depth: 46 F1-score: 0.4562 AUC-ROC: 0.7586\n",
      "Max depth: 47 F1-score: 0.4562 AUC-ROC: 0.7586\n",
      "Max depth: 48 F1-score: 0.4562 AUC-ROC: 0.7586\n",
      "Max depth: 49 F1-score: 0.4562 AUC-ROC: 0.7586\n",
      "Max depth: 50 F1-score: 0.4562 AUC-ROC: 0.7586\n",
      "Max depth: 51 F1-score: 0.4562 AUC-ROC: 0.7586\n",
      "Max depth: 52 F1-score: 0.4562 AUC-ROC: 0.7586\n",
      "Max depth: 53 F1-score: 0.4562 AUC-ROC: 0.7586\n",
      "Max depth: 54 F1-score: 0.4562 AUC-ROC: 0.7586\n",
      "Max depth: 55 F1-score: 0.4562 AUC-ROC: 0.7586\n",
      "Max depth: 56 F1-score: 0.4562 AUC-ROC: 0.7586\n",
      "Max depth: 57 F1-score: 0.4562 AUC-ROC: 0.7586\n",
      "Max depth: 58 F1-score: 0.4562 AUC-ROC: 0.7586\n",
      "Max depth: 59 F1-score: 0.4562 AUC-ROC: 0.7586\n",
      "Max depth: 60 F1-score: 0.4562 AUC-ROC: 0.7586\n",
      "Max depth: 61 F1-score: 0.4562 AUC-ROC: 0.7586\n",
      "Max depth: 62 F1-score: 0.4562 AUC-ROC: 0.7586\n",
      "Max depth: 63 F1-score: 0.4562 AUC-ROC: 0.7586\n",
      "Max depth: 64 F1-score: 0.4562 AUC-ROC: 0.7586\n",
      "Max depth: 65 F1-score: 0.4562 AUC-ROC: 0.7586\n",
      "Max depth: 66 F1-score: 0.4562 AUC-ROC: 0.7586\n",
      "Max depth: 67 F1-score: 0.4562 AUC-ROC: 0.7586\n",
      "Max depth: 68 F1-score: 0.4562 AUC-ROC: 0.7586\n",
      "Max depth: 69 F1-score: 0.4562 AUC-ROC: 0.7586\n",
      "Max depth: 70 F1-score: 0.4562 AUC-ROC: 0.7586\n",
      "Max depth: 71 F1-score: 0.4562 AUC-ROC: 0.7586\n",
      "Max depth: 72 F1-score: 0.4562 AUC-ROC: 0.7586\n",
      "Max depth: 73 F1-score: 0.4562 AUC-ROC: 0.7586\n",
      "Max depth: 74 F1-score: 0.4562 AUC-ROC: 0.7586\n",
      "Max depth: 75 F1-score: 0.4562 AUC-ROC: 0.7586\n",
      "Max depth: 76 F1-score: 0.4562 AUC-ROC: 0.7586\n",
      "Max depth: 77 F1-score: 0.4562 AUC-ROC: 0.7586\n",
      "Max depth: 78 F1-score: 0.4562 AUC-ROC: 0.7586\n",
      "Max depth: 79 F1-score: 0.4562 AUC-ROC: 0.7586\n",
      "Max depth: 80 F1-score: 0.4562 AUC-ROC: 0.7586\n",
      "Max depth: 81 F1-score: 0.4562 AUC-ROC: 0.7586\n",
      "Max depth: 82 F1-score: 0.4562 AUC-ROC: 0.7586\n",
      "Max depth: 83 F1-score: 0.4562 AUC-ROC: 0.7586\n",
      "Max depth: 84 F1-score: 0.4562 AUC-ROC: 0.7586\n",
      "Max depth: 85 F1-score: 0.4562 AUC-ROC: 0.7586\n",
      "Max depth: 86 F1-score: 0.4562 AUC-ROC: 0.7586\n",
      "Max depth: 87 F1-score: 0.4562 AUC-ROC: 0.7586\n",
      "Max depth: 88 F1-score: 0.4562 AUC-ROC: 0.7586\n",
      "Max depth: 89 F1-score: 0.4562 AUC-ROC: 0.7586\n",
      "Max depth: 90 F1-score: 0.4562 AUC-ROC: 0.7586\n",
      "Max depth: 91 F1-score: 0.4562 AUC-ROC: 0.7586\n",
      "Max depth: 92 F1-score: 0.4562 AUC-ROC: 0.7586\n",
      "Max depth: 93 F1-score: 0.4562 AUC-ROC: 0.7586\n",
      "Max depth: 94 F1-score: 0.4562 AUC-ROC: 0.7586\n",
      "Max depth: 95 F1-score: 0.4562 AUC-ROC: 0.7586\n",
      "Max depth: 96 F1-score: 0.4562 AUC-ROC: 0.7586\n",
      "Max depth: 97 F1-score: 0.4562 AUC-ROC: 0.7586\n",
      "Max depth: 98 F1-score: 0.4562 AUC-ROC: 0.7586\n",
      "Max depth: 99 F1-score: 0.4562 AUC-ROC: 0.7586\n",
      "Лучшая F1-score 0.5964 при глубине = 5,  AUC-ROC = 0.8310244134068074\n",
      "CPU times: user 3.04 s, sys: 98.8 ms, total: 3.14 s\n",
      "Wall time: 3.19 s\n"
     ]
    }
   ],
   "source": [
    "%%time \n",
    "\n",
    "best_result_dtc_balanced = 0\n",
    "best_model_dtc_balanced = None\n",
    "best_auc_roc_dtc_balanced = 0\n",
    "best_depth_dtc_balanced = 0\n",
    "for depth in range (2, 80, 2):\n",
    "    model_dtc_balansed = DecisionTreeClassifier(max_depth= depth, random_state=12345, class_weight='balanced')\n",
    "    model_dtc_balansed.fit(features_train, target_train)\n",
    "    predicted_valid_dtc_balansed = model_dtc_balansed.predict(features_valid)\n",
    "    \n",
    "     \n",
    "    f1_dtc_balanced = f1_score(target_valid, predicted_valid_dtc_balansed)\n",
    "    \n",
    "    probabilities_valid_dtc_balanced = model_dtc_balansed.predict_proba(features_valid)\n",
    "    probabilities_one_valid_dtc_balanced =  probabilities_valid_dtc_balanced[:, 1]\n",
    "    auc_roc_dtc_balanced = roc_auc_score(target_valid, probabilities_one_valid_dtc_balanced)\n",
    "    print('Max depth:', depth,'F1-score:','{:.4f}'.format(f1_dtc_balanced),\n",
    "          'AUC-ROC:','{:.4f}'.format(auc_roc))\n",
    "    \n",
    "    if best_result_dtc_balanced < f1_dtc_balanced:\n",
    "        best_result_dtc_balanced = f1_dtc_balanced\n",
    "        best_depth_dtc_balanced = depth\n",
    "        best_model_dtc_balanced = model_dtc_balansed\n",
    "        best_auc_roc_dtc_balanced = auc_roc_dtc_balanced\n",
    "        \n",
    "print('Лучшая F1-score','{:.4f}'.format(best_result_dtc_balanced), 'при глубине = {0},  AUC-ROC = {1}'\n",
    "      .format(best_depth_dtc_balanced, best_auc_roc_dtc_balanced))\n",
    "    \n",
    "   "
   ]
  },
  {
   "cell_type": "markdown",
   "metadata": {},
   "source": [
    "RandomForestClassifier"
   ]
  },
  {
   "cell_type": "code",
   "execution_count": 34,
   "metadata": {
    "scrolled": true
   },
   "outputs": [
    {
     "name": "stdout",
     "output_type": "stream",
     "text": [
      "Max depth: 1 F1-score: 0.2485 AUC-ROC: 0.5692\n",
      "Max depth: 1 F1-score: 0.2485 AUC-ROC: 0.5995\n",
      "Max depth: 1 F1-score: 0.5410 AUC-ROC: 0.7523\n",
      "Max depth: 1 F1-score: 0.5562 AUC-ROC: 0.7755\n",
      "Max depth: 1 F1-score: 0.5562 AUC-ROC: 0.7761\n",
      "Max depth: 1 F1-score: 0.5557 AUC-ROC: 0.7759\n",
      "Max depth: 1 F1-score: 0.5467 AUC-ROC: 0.7448\n",
      "Max depth: 1 F1-score: 0.4248 AUC-ROC: 0.7341\n",
      "Max depth: 1 F1-score: 0.4248 AUC-ROC: 0.7341\n",
      "Max depth: 1 F1-score: 0.5159 AUC-ROC: 0.7481\n",
      "Max depth: 1 F1-score: 0.4248 AUC-ROC: 0.7430\n",
      "Max depth: 1 F1-score: 0.5159 AUC-ROC: 0.7414\n",
      "Max depth: 1 F1-score: 0.5159 AUC-ROC: 0.7412\n",
      "Max depth: 1 F1-score: 0.5312 AUC-ROC: 0.7701\n",
      "Max depth: 1 F1-score: 0.5312 AUC-ROC: 0.7701\n",
      "Max depth: 1 F1-score: 0.5281 AUC-ROC: 0.7883\n",
      "Max depth: 1 F1-score: 0.5281 AUC-ROC: 0.7849\n",
      "Max depth: 1 F1-score: 0.5281 AUC-ROC: 0.7685\n",
      "Max depth: 1 F1-score: 0.5281 AUC-ROC: 0.7883\n",
      "Max depth: 1 F1-score: 0.5281 AUC-ROC: 0.7816\n",
      "Max depth: 1 F1-score: 0.5268 AUC-ROC: 0.7847\n",
      "Max depth: 1 F1-score: 0.5526 AUC-ROC: 0.7909\n",
      "Max depth: 1 F1-score: 0.5539 AUC-ROC: 0.7915\n",
      "Max depth: 1 F1-score: 0.5406 AUC-ROC: 0.7930\n",
      "Max depth: 1 F1-score: 0.5393 AUC-ROC: 0.7908\n",
      "Max depth: 1 F1-score: 0.5364 AUC-ROC: 0.7893\n",
      "Max depth: 1 F1-score: 0.5380 AUC-ROC: 0.7919\n",
      "Max depth: 1 F1-score: 0.5393 AUC-ROC: 0.7926\n",
      "Max depth: 1 F1-score: 0.5365 AUC-ROC: 0.7936\n",
      "Max depth: 1 F1-score: 0.5327 AUC-ROC: 0.7944\n",
      "Max depth: 1 F1-score: 0.5191 AUC-ROC: 0.7937\n",
      "Max depth: 1 F1-score: 0.5232 AUC-ROC: 0.7958\n",
      "Max depth: 1 F1-score: 0.5373 AUC-ROC: 0.7969\n",
      "Max depth: 1 F1-score: 0.5390 AUC-ROC: 0.7995\n",
      "Max depth: 1 F1-score: 0.5367 AUC-ROC: 0.7969\n",
      "Max depth: 1 F1-score: 0.5372 AUC-ROC: 0.7989\n",
      "Max depth: 1 F1-score: 0.5425 AUC-ROC: 0.8002\n",
      "Max depth: 1 F1-score: 0.5395 AUC-ROC: 0.8005\n",
      "Max depth: 1 F1-score: 0.5405 AUC-ROC: 0.8012\n",
      "Max depth: 1 F1-score: 0.5434 AUC-ROC: 0.8005\n",
      "Max depth: 1 F1-score: 0.5407 AUC-ROC: 0.8018\n",
      "Max depth: 1 F1-score: 0.5406 AUC-ROC: 0.8027\n",
      "Max depth: 1 F1-score: 0.5478 AUC-ROC: 0.8029\n",
      "Max depth: 1 F1-score: 0.5515 AUC-ROC: 0.8027\n",
      "Max depth: 1 F1-score: 0.5350 AUC-ROC: 0.8017\n",
      "Max depth: 1 F1-score: 0.5381 AUC-ROC: 0.8010\n",
      "Max depth: 1 F1-score: 0.5438 AUC-ROC: 0.8003\n",
      "Max depth: 1 F1-score: 0.5426 AUC-ROC: 0.7995\n",
      "Max depth: 1 F1-score: 0.5426 AUC-ROC: 0.7987\n",
      "Max depth: 2 F1-score: 0.4020 AUC-ROC: 0.6354\n",
      "Max depth: 2 F1-score: 0.5031 AUC-ROC: 0.7549\n",
      "Max depth: 2 F1-score: 0.5429 AUC-ROC: 0.7808\n",
      "Max depth: 2 F1-score: 0.5519 AUC-ROC: 0.7918\n",
      "Max depth: 2 F1-score: 0.5444 AUC-ROC: 0.7970\n",
      "Max depth: 2 F1-score: 0.5444 AUC-ROC: 0.8004\n",
      "Max depth: 2 F1-score: 0.5647 AUC-ROC: 0.8139\n",
      "Max depth: 2 F1-score: 0.5830 AUC-ROC: 0.8102\n",
      "Max depth: 2 F1-score: 0.5562 AUC-ROC: 0.8105\n",
      "Max depth: 2 F1-score: 0.5696 AUC-ROC: 0.8137\n",
      "Max depth: 2 F1-score: 0.5618 AUC-ROC: 0.8108\n",
      "Max depth: 2 F1-score: 0.5618 AUC-ROC: 0.8086\n",
      "Max depth: 2 F1-score: 0.5527 AUC-ROC: 0.8063\n",
      "Max depth: 2 F1-score: 0.5798 AUC-ROC: 0.8122\n",
      "Max depth: 2 F1-score: 0.5748 AUC-ROC: 0.8111\n",
      "Max depth: 2 F1-score: 0.5792 AUC-ROC: 0.8117\n",
      "Max depth: 2 F1-score: 0.5657 AUC-ROC: 0.8122\n",
      "Max depth: 2 F1-score: 0.5720 AUC-ROC: 0.8106\n",
      "Max depth: 2 F1-score: 0.5619 AUC-ROC: 0.8118\n",
      "Max depth: 2 F1-score: 0.5714 AUC-ROC: 0.8109\n",
      "Max depth: 2 F1-score: 0.5698 AUC-ROC: 0.8112\n",
      "Max depth: 2 F1-score: 0.5690 AUC-ROC: 0.8121\n",
      "Max depth: 2 F1-score: 0.5690 AUC-ROC: 0.8130\n",
      "Max depth: 2 F1-score: 0.5630 AUC-ROC: 0.8130\n",
      "Max depth: 2 F1-score: 0.5608 AUC-ROC: 0.8124\n",
      "Max depth: 2 F1-score: 0.5602 AUC-ROC: 0.8131\n",
      "Max depth: 2 F1-score: 0.5611 AUC-ROC: 0.8133\n",
      "Max depth: 2 F1-score: 0.5584 AUC-ROC: 0.8151\n",
      "Max depth: 2 F1-score: 0.5641 AUC-ROC: 0.8166\n",
      "Max depth: 2 F1-score: 0.5695 AUC-ROC: 0.8171\n",
      "Max depth: 2 F1-score: 0.5648 AUC-ROC: 0.8164\n",
      "Max depth: 2 F1-score: 0.5619 AUC-ROC: 0.8166\n",
      "Max depth: 2 F1-score: 0.5683 AUC-ROC: 0.8162\n",
      "Max depth: 2 F1-score: 0.5635 AUC-ROC: 0.8156\n",
      "Max depth: 2 F1-score: 0.5585 AUC-ROC: 0.8152\n",
      "Max depth: 2 F1-score: 0.5706 AUC-ROC: 0.8200\n",
      "Max depth: 2 F1-score: 0.5794 AUC-ROC: 0.8235\n",
      "Max depth: 2 F1-score: 0.5677 AUC-ROC: 0.8245\n",
      "Max depth: 2 F1-score: 0.5689 AUC-ROC: 0.8240\n",
      "Max depth: 2 F1-score: 0.5694 AUC-ROC: 0.8241\n",
      "Max depth: 2 F1-score: 0.5734 AUC-ROC: 0.8242\n",
      "Max depth: 2 F1-score: 0.5781 AUC-ROC: 0.8239\n",
      "Max depth: 2 F1-score: 0.5723 AUC-ROC: 0.8232\n",
      "Max depth: 2 F1-score: 0.5789 AUC-ROC: 0.8244\n",
      "Max depth: 2 F1-score: 0.5777 AUC-ROC: 0.8239\n",
      "Max depth: 2 F1-score: 0.5729 AUC-ROC: 0.8231\n",
      "Max depth: 2 F1-score: 0.5720 AUC-ROC: 0.8227\n",
      "Max depth: 2 F1-score: 0.5618 AUC-ROC: 0.8223\n",
      "Max depth: 2 F1-score: 0.5586 AUC-ROC: 0.8213\n",
      "Max depth: 3 F1-score: 0.4510 AUC-ROC: 0.7077\n",
      "Max depth: 3 F1-score: 0.4943 AUC-ROC: 0.7632\n",
      "Max depth: 3 F1-score: 0.5229 AUC-ROC: 0.7862\n",
      "Max depth: 3 F1-score: 0.5220 AUC-ROC: 0.7957\n",
      "Max depth: 3 F1-score: 0.5406 AUC-ROC: 0.8010\n",
      "Max depth: 3 F1-score: 0.5369 AUC-ROC: 0.8029\n",
      "Max depth: 3 F1-score: 0.5515 AUC-ROC: 0.8123\n",
      "Max depth: 3 F1-score: 0.5543 AUC-ROC: 0.8142\n",
      "Max depth: 3 F1-score: 0.5510 AUC-ROC: 0.8157\n",
      "Max depth: 3 F1-score: 0.5669 AUC-ROC: 0.8180\n",
      "Max depth: 3 F1-score: 0.5648 AUC-ROC: 0.8146\n",
      "Max depth: 3 F1-score: 0.5650 AUC-ROC: 0.8181\n",
      "Max depth: 3 F1-score: 0.5592 AUC-ROC: 0.8171\n",
      "Max depth: 3 F1-score: 0.5698 AUC-ROC: 0.8191\n",
      "Max depth: 3 F1-score: 0.5622 AUC-ROC: 0.8201\n",
      "Max depth: 3 F1-score: 0.5599 AUC-ROC: 0.8206\n",
      "Max depth: 3 F1-score: 0.5579 AUC-ROC: 0.8221\n",
      "Max depth: 3 F1-score: 0.5693 AUC-ROC: 0.8247\n",
      "Max depth: 3 F1-score: 0.5630 AUC-ROC: 0.8244\n",
      "Max depth: 3 F1-score: 0.5728 AUC-ROC: 0.8256\n",
      "Max depth: 3 F1-score: 0.5641 AUC-ROC: 0.8245\n",
      "Max depth: 3 F1-score: 0.5712 AUC-ROC: 0.8253\n",
      "Max depth: 3 F1-score: 0.5651 AUC-ROC: 0.8241\n",
      "Max depth: 3 F1-score: 0.5688 AUC-ROC: 0.8242\n",
      "Max depth: 3 F1-score: 0.5651 AUC-ROC: 0.8241\n",
      "Max depth: 3 F1-score: 0.5631 AUC-ROC: 0.8260\n",
      "Max depth: 3 F1-score: 0.5567 AUC-ROC: 0.8267\n",
      "Max depth: 3 F1-score: 0.5582 AUC-ROC: 0.8265\n",
      "Max depth: 3 F1-score: 0.5604 AUC-ROC: 0.8269\n",
      "Max depth: 3 F1-score: 0.5646 AUC-ROC: 0.8269\n",
      "Max depth: 3 F1-score: 0.5626 AUC-ROC: 0.8264\n",
      "Max depth: 3 F1-score: 0.5575 AUC-ROC: 0.8277\n",
      "Max depth: 3 F1-score: 0.5563 AUC-ROC: 0.8280\n",
      "Max depth: 3 F1-score: 0.5562 AUC-ROC: 0.8274\n",
      "Max depth: 3 F1-score: 0.5582 AUC-ROC: 0.8273\n",
      "Max depth: 3 F1-score: 0.5602 AUC-ROC: 0.8298\n",
      "Max depth: 3 F1-score: 0.5630 AUC-ROC: 0.8328\n",
      "Max depth: 3 F1-score: 0.5602 AUC-ROC: 0.8329\n",
      "Max depth: 3 F1-score: 0.5654 AUC-ROC: 0.8326\n",
      "Max depth: 3 F1-score: 0.5649 AUC-ROC: 0.8313\n",
      "Max depth: 3 F1-score: 0.5652 AUC-ROC: 0.8312\n",
      "Max depth: 3 F1-score: 0.5717 AUC-ROC: 0.8313\n",
      "Max depth: 3 F1-score: 0.5762 AUC-ROC: 0.8313\n",
      "Max depth: 3 F1-score: 0.5772 AUC-ROC: 0.8324\n",
      "Max depth: 3 F1-score: 0.5781 AUC-ROC: 0.8318\n",
      "Max depth: 3 F1-score: 0.5794 AUC-ROC: 0.8324\n",
      "Max depth: 3 F1-score: 0.5735 AUC-ROC: 0.8322\n",
      "Max depth: 3 F1-score: 0.5688 AUC-ROC: 0.8325\n",
      "Max depth: 3 F1-score: 0.5743 AUC-ROC: 0.8325\n",
      "Max depth: 4 F1-score: 0.5225 AUC-ROC: 0.7893\n",
      "Max depth: 4 F1-score: 0.5208 AUC-ROC: 0.7873\n",
      "Max depth: 4 F1-score: 0.5447 AUC-ROC: 0.8092\n",
      "Max depth: 4 F1-score: 0.5386 AUC-ROC: 0.8138\n",
      "Max depth: 4 F1-score: 0.5684 AUC-ROC: 0.8223\n",
      "Max depth: 4 F1-score: 0.5743 AUC-ROC: 0.8202\n",
      "Max depth: 4 F1-score: 0.5843 AUC-ROC: 0.8252\n",
      "Max depth: 4 F1-score: 0.5834 AUC-ROC: 0.8264\n",
      "Max depth: 4 F1-score: 0.5973 AUC-ROC: 0.8319\n",
      "Max depth: 4 F1-score: 0.5983 AUC-ROC: 0.8318\n",
      "Max depth: 4 F1-score: 0.5882 AUC-ROC: 0.8311\n",
      "Max depth: 4 F1-score: 0.5789 AUC-ROC: 0.8316\n",
      "Max depth: 4 F1-score: 0.5898 AUC-ROC: 0.8314\n",
      "Max depth: 4 F1-score: 0.5859 AUC-ROC: 0.8301\n",
      "Max depth: 4 F1-score: 0.5885 AUC-ROC: 0.8315\n",
      "Max depth: 4 F1-score: 0.5950 AUC-ROC: 0.8310\n",
      "Max depth: 4 F1-score: 0.5974 AUC-ROC: 0.8326\n",
      "Max depth: 4 F1-score: 0.5978 AUC-ROC: 0.8333\n",
      "Max depth: 4 F1-score: 0.5976 AUC-ROC: 0.8334\n",
      "Max depth: 4 F1-score: 0.5992 AUC-ROC: 0.8330\n",
      "Max depth: 4 F1-score: 0.5962 AUC-ROC: 0.8339\n",
      "Max depth: 4 F1-score: 0.5952 AUC-ROC: 0.8335\n",
      "Max depth: 4 F1-score: 0.5902 AUC-ROC: 0.8332\n",
      "Max depth: 4 F1-score: 0.5978 AUC-ROC: 0.8341\n",
      "Max depth: 4 F1-score: 0.5977 AUC-ROC: 0.8331\n",
      "Max depth: 4 F1-score: 0.5980 AUC-ROC: 0.8346\n",
      "Max depth: 4 F1-score: 0.5969 AUC-ROC: 0.8362\n",
      "Max depth: 4 F1-score: 0.5975 AUC-ROC: 0.8363\n",
      "Max depth: 4 F1-score: 0.5996 AUC-ROC: 0.8364\n",
      "Max depth: 4 F1-score: 0.5943 AUC-ROC: 0.8358\n",
      "Max depth: 4 F1-score: 0.5930 AUC-ROC: 0.8350\n",
      "Max depth: 4 F1-score: 0.5984 AUC-ROC: 0.8370\n",
      "Max depth: 4 F1-score: 0.5949 AUC-ROC: 0.8362\n",
      "Max depth: 4 F1-score: 0.5894 AUC-ROC: 0.8359\n",
      "Max depth: 4 F1-score: 0.5912 AUC-ROC: 0.8374\n",
      "Max depth: 4 F1-score: 0.5976 AUC-ROC: 0.8394\n",
      "Max depth: 4 F1-score: 0.5988 AUC-ROC: 0.8412\n",
      "Max depth: 4 F1-score: 0.5998 AUC-ROC: 0.8407\n",
      "Max depth: 4 F1-score: 0.5920 AUC-ROC: 0.8409\n",
      "Max depth: 4 F1-score: 0.5980 AUC-ROC: 0.8398\n",
      "Max depth: 4 F1-score: 0.5984 AUC-ROC: 0.8398\n",
      "Max depth: 4 F1-score: 0.6018 AUC-ROC: 0.8396\n",
      "Max depth: 4 F1-score: 0.6012 AUC-ROC: 0.8393\n",
      "Max depth: 4 F1-score: 0.5980 AUC-ROC: 0.8399\n",
      "Max depth: 4 F1-score: 0.5949 AUC-ROC: 0.8400\n",
      "Max depth: 4 F1-score: 0.5959 AUC-ROC: 0.8402\n",
      "Max depth: 4 F1-score: 0.6018 AUC-ROC: 0.8405\n",
      "Max depth: 4 F1-score: 0.5979 AUC-ROC: 0.8401\n",
      "Max depth: 4 F1-score: 0.5984 AUC-ROC: 0.8400\n",
      "Max depth: 5 F1-score: 0.5240 AUC-ROC: 0.7924\n",
      "Max depth: 5 F1-score: 0.5262 AUC-ROC: 0.7980\n",
      "Max depth: 5 F1-score: 0.5535 AUC-ROC: 0.8156\n",
      "Max depth: 5 F1-score: 0.5696 AUC-ROC: 0.8190\n",
      "Max depth: 5 F1-score: 0.5688 AUC-ROC: 0.8259\n",
      "Max depth: 5 F1-score: 0.5891 AUC-ROC: 0.8340\n",
      "Max depth: 5 F1-score: 0.5832 AUC-ROC: 0.8374\n",
      "Max depth: 5 F1-score: 0.5909 AUC-ROC: 0.8373\n",
      "Max depth: 5 F1-score: 0.5958 AUC-ROC: 0.8394\n",
      "Max depth: 5 F1-score: 0.5982 AUC-ROC: 0.8393\n",
      "Max depth: 5 F1-score: 0.5899 AUC-ROC: 0.8389\n",
      "Max depth: 5 F1-score: 0.5939 AUC-ROC: 0.8392\n",
      "Max depth: 5 F1-score: 0.5962 AUC-ROC: 0.8401\n",
      "Max depth: 5 F1-score: 0.5915 AUC-ROC: 0.8401\n",
      "Max depth: 5 F1-score: 0.5929 AUC-ROC: 0.8409\n",
      "Max depth: 5 F1-score: 0.5939 AUC-ROC: 0.8411\n",
      "Max depth: 5 F1-score: 0.5933 AUC-ROC: 0.8423\n",
      "Max depth: 5 F1-score: 0.5968 AUC-ROC: 0.8437\n",
      "Max depth: 5 F1-score: 0.5988 AUC-ROC: 0.8439\n",
      "Max depth: 5 F1-score: 0.6075 AUC-ROC: 0.8463\n",
      "Max depth: 5 F1-score: 0.6069 AUC-ROC: 0.8457\n",
      "Max depth: 5 F1-score: 0.6093 AUC-ROC: 0.8461\n",
      "Max depth: 5 F1-score: 0.6043 AUC-ROC: 0.8456\n",
      "Max depth: 5 F1-score: 0.6080 AUC-ROC: 0.8456\n",
      "Max depth: 5 F1-score: 0.6030 AUC-ROC: 0.8450\n",
      "Max depth: 5 F1-score: 0.6063 AUC-ROC: 0.8450\n",
      "Max depth: 5 F1-score: 0.6063 AUC-ROC: 0.8457\n",
      "Max depth: 5 F1-score: 0.6071 AUC-ROC: 0.8457\n",
      "Max depth: 5 F1-score: 0.6045 AUC-ROC: 0.8448\n",
      "Max depth: 5 F1-score: 0.6099 AUC-ROC: 0.8454\n",
      "Max depth: 5 F1-score: 0.6071 AUC-ROC: 0.8450\n",
      "Max depth: 5 F1-score: 0.6040 AUC-ROC: 0.8455\n",
      "Max depth: 5 F1-score: 0.6024 AUC-ROC: 0.8449\n",
      "Max depth: 5 F1-score: 0.6047 AUC-ROC: 0.8454\n",
      "Max depth: 5 F1-score: 0.6070 AUC-ROC: 0.8462\n",
      "Max depth: 5 F1-score: 0.6103 AUC-ROC: 0.8475\n",
      "Max depth: 5 F1-score: 0.6072 AUC-ROC: 0.8483\n",
      "Max depth: 5 F1-score: 0.6062 AUC-ROC: 0.8488\n",
      "Max depth: 5 F1-score: 0.6100 AUC-ROC: 0.8484\n",
      "Max depth: 5 F1-score: 0.6106 AUC-ROC: 0.8482\n",
      "Max depth: 5 F1-score: 0.6102 AUC-ROC: 0.8486\n",
      "Max depth: 5 F1-score: 0.6114 AUC-ROC: 0.8484\n",
      "Max depth: 5 F1-score: 0.6097 AUC-ROC: 0.8480\n",
      "Max depth: 5 F1-score: 0.6103 AUC-ROC: 0.8485\n",
      "Max depth: 5 F1-score: 0.6103 AUC-ROC: 0.8481\n",
      "Max depth: 5 F1-score: 0.6090 AUC-ROC: 0.8487\n",
      "Max depth: 5 F1-score: 0.6083 AUC-ROC: 0.8486\n",
      "Max depth: 5 F1-score: 0.6073 AUC-ROC: 0.8486\n",
      "Max depth: 5 F1-score: 0.6059 AUC-ROC: 0.8490\n",
      "Max depth: 6 F1-score: 0.5344 AUC-ROC: 0.7995\n",
      "Max depth: 6 F1-score: 0.5576 AUC-ROC: 0.8126\n",
      "Max depth: 6 F1-score: 0.5840 AUC-ROC: 0.8289\n",
      "Max depth: 6 F1-score: 0.5818 AUC-ROC: 0.8295\n",
      "Max depth: 6 F1-score: 0.5860 AUC-ROC: 0.8390\n",
      "Max depth: 6 F1-score: 0.5973 AUC-ROC: 0.8402\n",
      "Max depth: 6 F1-score: 0.5918 AUC-ROC: 0.8416\n",
      "Max depth: 6 F1-score: 0.6100 AUC-ROC: 0.8437\n",
      "Max depth: 6 F1-score: 0.6017 AUC-ROC: 0.8446\n",
      "Max depth: 6 F1-score: 0.6004 AUC-ROC: 0.8449\n",
      "Max depth: 6 F1-score: 0.6055 AUC-ROC: 0.8443\n",
      "Max depth: 6 F1-score: 0.6102 AUC-ROC: 0.8448\n",
      "Max depth: 6 F1-score: 0.6073 AUC-ROC: 0.8446\n",
      "Max depth: 6 F1-score: 0.6056 AUC-ROC: 0.8451\n",
      "Max depth: 6 F1-score: 0.6069 AUC-ROC: 0.8464\n",
      "Max depth: 6 F1-score: 0.6056 AUC-ROC: 0.8466\n",
      "Max depth: 6 F1-score: 0.6037 AUC-ROC: 0.8470\n",
      "Max depth: 6 F1-score: 0.6063 AUC-ROC: 0.8472\n",
      "Max depth: 6 F1-score: 0.6085 AUC-ROC: 0.8477\n",
      "Max depth: 6 F1-score: 0.6054 AUC-ROC: 0.8475\n",
      "Max depth: 6 F1-score: 0.6104 AUC-ROC: 0.8489\n",
      "Max depth: 6 F1-score: 0.6083 AUC-ROC: 0.8481\n",
      "Max depth: 6 F1-score: 0.6071 AUC-ROC: 0.8479\n",
      "Max depth: 6 F1-score: 0.6105 AUC-ROC: 0.8481\n",
      "Max depth: 6 F1-score: 0.6053 AUC-ROC: 0.8478\n",
      "Max depth: 6 F1-score: 0.6032 AUC-ROC: 0.8485\n",
      "Max depth: 6 F1-score: 0.6039 AUC-ROC: 0.8491\n",
      "Max depth: 6 F1-score: 0.6082 AUC-ROC: 0.8493\n",
      "Max depth: 6 F1-score: 0.6102 AUC-ROC: 0.8491\n",
      "Max depth: 6 F1-score: 0.6149 AUC-ROC: 0.8491\n",
      "Max depth: 6 F1-score: 0.6115 AUC-ROC: 0.8487\n",
      "Max depth: 6 F1-score: 0.6137 AUC-ROC: 0.8491\n",
      "Max depth: 6 F1-score: 0.6122 AUC-ROC: 0.8487\n",
      "Max depth: 6 F1-score: 0.6116 AUC-ROC: 0.8485\n",
      "Max depth: 6 F1-score: 0.6096 AUC-ROC: 0.8493\n",
      "Max depth: 6 F1-score: 0.6149 AUC-ROC: 0.8498\n",
      "Max depth: 6 F1-score: 0.6146 AUC-ROC: 0.8504\n",
      "Max depth: 6 F1-score: 0.6166 AUC-ROC: 0.8505\n",
      "Max depth: 6 F1-score: 0.6141 AUC-ROC: 0.8507\n",
      "Max depth: 6 F1-score: 0.6203 AUC-ROC: 0.8507\n",
      "Max depth: 6 F1-score: 0.6189 AUC-ROC: 0.8504\n",
      "Max depth: 6 F1-score: 0.6195 AUC-ROC: 0.8507\n",
      "Max depth: 6 F1-score: 0.6160 AUC-ROC: 0.8507\n",
      "Max depth: 6 F1-score: 0.6141 AUC-ROC: 0.8505\n",
      "Max depth: 6 F1-score: 0.6155 AUC-ROC: 0.8504\n",
      "Max depth: 6 F1-score: 0.6135 AUC-ROC: 0.8508\n",
      "Max depth: 6 F1-score: 0.6140 AUC-ROC: 0.8507\n",
      "Max depth: 6 F1-score: 0.6119 AUC-ROC: 0.8506\n",
      "Max depth: 6 F1-score: 0.6127 AUC-ROC: 0.8510\n",
      "Max depth: 7 F1-score: 0.5510 AUC-ROC: 0.8138\n",
      "Max depth: 7 F1-score: 0.5731 AUC-ROC: 0.8266\n",
      "Max depth: 7 F1-score: 0.5976 AUC-ROC: 0.8370\n",
      "Max depth: 7 F1-score: 0.6012 AUC-ROC: 0.8407\n",
      "Max depth: 7 F1-score: 0.6082 AUC-ROC: 0.8436\n",
      "Max depth: 7 F1-score: 0.6189 AUC-ROC: 0.8452\n",
      "Max depth: 7 F1-score: 0.6225 AUC-ROC: 0.8490\n",
      "Max depth: 7 F1-score: 0.6217 AUC-ROC: 0.8498\n",
      "Max depth: 7 F1-score: 0.6225 AUC-ROC: 0.8519\n",
      "Max depth: 7 F1-score: 0.6173 AUC-ROC: 0.8506\n",
      "Max depth: 7 F1-score: 0.6126 AUC-ROC: 0.8510\n",
      "Max depth: 7 F1-score: 0.6189 AUC-ROC: 0.8515\n",
      "Max depth: 7 F1-score: 0.6107 AUC-ROC: 0.8512\n",
      "Max depth: 7 F1-score: 0.6119 AUC-ROC: 0.8510\n",
      "Max depth: 7 F1-score: 0.6121 AUC-ROC: 0.8516\n",
      "Max depth: 7 F1-score: 0.6218 AUC-ROC: 0.8509\n",
      "Max depth: 7 F1-score: 0.6201 AUC-ROC: 0.8513\n",
      "Max depth: 7 F1-score: 0.6247 AUC-ROC: 0.8513\n",
      "Max depth: 7 F1-score: 0.6185 AUC-ROC: 0.8511\n",
      "Max depth: 7 F1-score: 0.6126 AUC-ROC: 0.8504\n",
      "Max depth: 7 F1-score: 0.6212 AUC-ROC: 0.8515\n",
      "Max depth: 7 F1-score: 0.6162 AUC-ROC: 0.8518\n",
      "Max depth: 7 F1-score: 0.6154 AUC-ROC: 0.8526\n",
      "Max depth: 7 F1-score: 0.6203 AUC-ROC: 0.8534\n",
      "Max depth: 7 F1-score: 0.6126 AUC-ROC: 0.8533\n",
      "Max depth: 7 F1-score: 0.6164 AUC-ROC: 0.8541\n",
      "Max depth: 7 F1-score: 0.6120 AUC-ROC: 0.8535\n",
      "Max depth: 7 F1-score: 0.6165 AUC-ROC: 0.8540\n",
      "Max depth: 7 F1-score: 0.6131 AUC-ROC: 0.8543\n",
      "Max depth: 7 F1-score: 0.6122 AUC-ROC: 0.8541\n",
      "Max depth: 7 F1-score: 0.6152 AUC-ROC: 0.8533\n",
      "Max depth: 7 F1-score: 0.6173 AUC-ROC: 0.8537\n",
      "Max depth: 7 F1-score: 0.6159 AUC-ROC: 0.8537\n",
      "Max depth: 7 F1-score: 0.6173 AUC-ROC: 0.8541\n",
      "Max depth: 7 F1-score: 0.6155 AUC-ROC: 0.8543\n",
      "Max depth: 7 F1-score: 0.6168 AUC-ROC: 0.8549\n",
      "Max depth: 7 F1-score: 0.6183 AUC-ROC: 0.8552\n",
      "Max depth: 7 F1-score: 0.6199 AUC-ROC: 0.8547\n",
      "Max depth: 7 F1-score: 0.6136 AUC-ROC: 0.8543\n",
      "Max depth: 7 F1-score: 0.6172 AUC-ROC: 0.8537\n",
      "Max depth: 7 F1-score: 0.6220 AUC-ROC: 0.8530\n",
      "Max depth: 7 F1-score: 0.6221 AUC-ROC: 0.8535\n",
      "Max depth: 7 F1-score: 0.6202 AUC-ROC: 0.8536\n",
      "Max depth: 7 F1-score: 0.6152 AUC-ROC: 0.8534\n",
      "Max depth: 7 F1-score: 0.6139 AUC-ROC: 0.8531\n",
      "Max depth: 7 F1-score: 0.6139 AUC-ROC: 0.8533\n",
      "Max depth: 7 F1-score: 0.6173 AUC-ROC: 0.8536\n",
      "Max depth: 7 F1-score: 0.6173 AUC-ROC: 0.8539\n",
      "Max depth: 7 F1-score: 0.6160 AUC-ROC: 0.8540\n",
      "Max depth: 8 F1-score: 0.5209 AUC-ROC: 0.7762\n",
      "Max depth: 8 F1-score: 0.5256 AUC-ROC: 0.7974\n",
      "Max depth: 8 F1-score: 0.5751 AUC-ROC: 0.8164\n",
      "Max depth: 8 F1-score: 0.5906 AUC-ROC: 0.8238\n",
      "Max depth: 8 F1-score: 0.6102 AUC-ROC: 0.8356\n",
      "Max depth: 8 F1-score: 0.6131 AUC-ROC: 0.8384\n",
      "Max depth: 8 F1-score: 0.6120 AUC-ROC: 0.8410\n",
      "Max depth: 8 F1-score: 0.6178 AUC-ROC: 0.8418\n",
      "Max depth: 8 F1-score: 0.6218 AUC-ROC: 0.8417\n",
      "Max depth: 8 F1-score: 0.6239 AUC-ROC: 0.8424\n",
      "Max depth: 8 F1-score: 0.6162 AUC-ROC: 0.8423\n",
      "Max depth: 8 F1-score: 0.6208 AUC-ROC: 0.8432\n",
      "Max depth: 8 F1-score: 0.6194 AUC-ROC: 0.8445\n",
      "Max depth: 8 F1-score: 0.6187 AUC-ROC: 0.8444\n",
      "Max depth: 8 F1-score: 0.6208 AUC-ROC: 0.8460\n",
      "Max depth: 8 F1-score: 0.6250 AUC-ROC: 0.8473\n",
      "Max depth: 8 F1-score: 0.6156 AUC-ROC: 0.8476\n",
      "Max depth: 8 F1-score: 0.6199 AUC-ROC: 0.8469\n",
      "Max depth: 8 F1-score: 0.6139 AUC-ROC: 0.8469\n",
      "Max depth: 8 F1-score: 0.6116 AUC-ROC: 0.8473\n",
      "Max depth: 8 F1-score: 0.6136 AUC-ROC: 0.8478\n",
      "Max depth: 8 F1-score: 0.6217 AUC-ROC: 0.8481\n",
      "Max depth: 8 F1-score: 0.6188 AUC-ROC: 0.8482\n",
      "Max depth: 8 F1-score: 0.6198 AUC-ROC: 0.8483\n",
      "Max depth: 8 F1-score: 0.6182 AUC-ROC: 0.8482\n",
      "Max depth: 8 F1-score: 0.6197 AUC-ROC: 0.8479\n",
      "Max depth: 8 F1-score: 0.6180 AUC-ROC: 0.8486\n",
      "Max depth: 8 F1-score: 0.6200 AUC-ROC: 0.8494\n",
      "Max depth: 8 F1-score: 0.6167 AUC-ROC: 0.8499\n",
      "Max depth: 8 F1-score: 0.6122 AUC-ROC: 0.8508\n",
      "Max depth: 8 F1-score: 0.6152 AUC-ROC: 0.8502\n",
      "Max depth: 8 F1-score: 0.6182 AUC-ROC: 0.8507\n",
      "Max depth: 8 F1-score: 0.6122 AUC-ROC: 0.8506\n",
      "Max depth: 8 F1-score: 0.6205 AUC-ROC: 0.8512\n",
      "Max depth: 8 F1-score: 0.6213 AUC-ROC: 0.8517\n",
      "Max depth: 8 F1-score: 0.6226 AUC-ROC: 0.8528\n",
      "Max depth: 8 F1-score: 0.6191 AUC-ROC: 0.8530\n",
      "Max depth: 8 F1-score: 0.6185 AUC-ROC: 0.8532\n",
      "Max depth: 8 F1-score: 0.6239 AUC-ROC: 0.8537\n",
      "Max depth: 8 F1-score: 0.6277 AUC-ROC: 0.8533\n",
      "Max depth: 8 F1-score: 0.6296 AUC-ROC: 0.8535\n",
      "Max depth: 8 F1-score: 0.6266 AUC-ROC: 0.8539\n",
      "Max depth: 8 F1-score: 0.6259 AUC-ROC: 0.8540\n",
      "Max depth: 8 F1-score: 0.6253 AUC-ROC: 0.8538\n",
      "Max depth: 8 F1-score: 0.6223 AUC-ROC: 0.8537\n",
      "Max depth: 8 F1-score: 0.6250 AUC-ROC: 0.8541\n",
      "Max depth: 8 F1-score: 0.6255 AUC-ROC: 0.8542\n",
      "Max depth: 8 F1-score: 0.6293 AUC-ROC: 0.8545\n",
      "Max depth: 8 F1-score: 0.6263 AUC-ROC: 0.8542\n",
      "Max depth: 9 F1-score: 0.5211 AUC-ROC: 0.7568\n",
      "Max depth: 9 F1-score: 0.5544 AUC-ROC: 0.8056\n",
      "Max depth: 9 F1-score: 0.6088 AUC-ROC: 0.8188\n",
      "Max depth: 9 F1-score: 0.5742 AUC-ROC: 0.8271\n",
      "Max depth: 9 F1-score: 0.6133 AUC-ROC: 0.8307\n",
      "Max depth: 9 F1-score: 0.6137 AUC-ROC: 0.8339\n",
      "Max depth: 9 F1-score: 0.6130 AUC-ROC: 0.8365\n",
      "Max depth: 9 F1-score: 0.6132 AUC-ROC: 0.8372\n",
      "Max depth: 9 F1-score: 0.6137 AUC-ROC: 0.8389\n",
      "Max depth: 9 F1-score: 0.6035 AUC-ROC: 0.8415\n",
      "Max depth: 9 F1-score: 0.6049 AUC-ROC: 0.8401\n",
      "Max depth: 9 F1-score: 0.6058 AUC-ROC: 0.8428\n",
      "Max depth: 9 F1-score: 0.6051 AUC-ROC: 0.8440\n",
      "Max depth: 9 F1-score: 0.6169 AUC-ROC: 0.8458\n",
      "Max depth: 9 F1-score: 0.6080 AUC-ROC: 0.8458\n",
      "Max depth: 9 F1-score: 0.6164 AUC-ROC: 0.8472\n",
      "Max depth: 9 F1-score: 0.6142 AUC-ROC: 0.8478\n",
      "Max depth: 9 F1-score: 0.6140 AUC-ROC: 0.8480\n",
      "Max depth: 9 F1-score: 0.6181 AUC-ROC: 0.8493\n",
      "Max depth: 9 F1-score: 0.6176 AUC-ROC: 0.8484\n",
      "Max depth: 9 F1-score: 0.6171 AUC-ROC: 0.8486\n",
      "Max depth: 9 F1-score: 0.6218 AUC-ROC: 0.8497\n",
      "Max depth: 9 F1-score: 0.6230 AUC-ROC: 0.8496\n",
      "Max depth: 9 F1-score: 0.6188 AUC-ROC: 0.8507\n",
      "Max depth: 9 F1-score: 0.6102 AUC-ROC: 0.8505\n",
      "Max depth: 9 F1-score: 0.6157 AUC-ROC: 0.8505\n",
      "Max depth: 9 F1-score: 0.6152 AUC-ROC: 0.8512\n",
      "Max depth: 9 F1-score: 0.6201 AUC-ROC: 0.8519\n",
      "Max depth: 9 F1-score: 0.6246 AUC-ROC: 0.8529\n",
      "Max depth: 9 F1-score: 0.6247 AUC-ROC: 0.8530\n",
      "Max depth: 9 F1-score: 0.6265 AUC-ROC: 0.8532\n",
      "Max depth: 9 F1-score: 0.6225 AUC-ROC: 0.8533\n",
      "Max depth: 9 F1-score: 0.6216 AUC-ROC: 0.8536\n",
      "Max depth: 9 F1-score: 0.6168 AUC-ROC: 0.8541\n",
      "Max depth: 9 F1-score: 0.6209 AUC-ROC: 0.8539\n",
      "Max depth: 9 F1-score: 0.6247 AUC-ROC: 0.8544\n",
      "Max depth: 9 F1-score: 0.6242 AUC-ROC: 0.8547\n",
      "Max depth: 9 F1-score: 0.6239 AUC-ROC: 0.8545\n",
      "Max depth: 9 F1-score: 0.6208 AUC-ROC: 0.8553\n",
      "Max depth: 9 F1-score: 0.6208 AUC-ROC: 0.8550\n",
      "Max depth: 9 F1-score: 0.6261 AUC-ROC: 0.8552\n",
      "Max depth: 9 F1-score: 0.6239 AUC-ROC: 0.8553\n",
      "Max depth: 9 F1-score: 0.6253 AUC-ROC: 0.8552\n",
      "Max depth: 9 F1-score: 0.6237 AUC-ROC: 0.8556\n",
      "Max depth: 9 F1-score: 0.6244 AUC-ROC: 0.8553\n",
      "Max depth: 9 F1-score: 0.6297 AUC-ROC: 0.8557\n",
      "Max depth: 9 F1-score: 0.6297 AUC-ROC: 0.8559\n",
      "Max depth: 9 F1-score: 0.6251 AUC-ROC: 0.8564\n",
      "Max depth: 9 F1-score: 0.6267 AUC-ROC: 0.8558\n",
      "Max depth: 10 F1-score: 0.4946 AUC-ROC: 0.7416\n",
      "Max depth: 10 F1-score: 0.5130 AUC-ROC: 0.7744\n",
      "Max depth: 10 F1-score: 0.5656 AUC-ROC: 0.7935\n",
      "Max depth: 10 F1-score: 0.5718 AUC-ROC: 0.8085\n",
      "Max depth: 10 F1-score: 0.5886 AUC-ROC: 0.8173\n",
      "Max depth: 10 F1-score: 0.6021 AUC-ROC: 0.8254\n",
      "Max depth: 10 F1-score: 0.6073 AUC-ROC: 0.8283\n",
      "Max depth: 10 F1-score: 0.6040 AUC-ROC: 0.8351\n",
      "Max depth: 10 F1-score: 0.6137 AUC-ROC: 0.8377\n",
      "Max depth: 10 F1-score: 0.6085 AUC-ROC: 0.8395\n",
      "Max depth: 10 F1-score: 0.6002 AUC-ROC: 0.8388\n",
      "Max depth: 10 F1-score: 0.6050 AUC-ROC: 0.8397\n",
      "Max depth: 10 F1-score: 0.6045 AUC-ROC: 0.8388\n",
      "Max depth: 10 F1-score: 0.5940 AUC-ROC: 0.8401\n",
      "Max depth: 10 F1-score: 0.5966 AUC-ROC: 0.8411\n",
      "Max depth: 10 F1-score: 0.6087 AUC-ROC: 0.8419\n",
      "Max depth: 10 F1-score: 0.6109 AUC-ROC: 0.8411\n",
      "Max depth: 10 F1-score: 0.6007 AUC-ROC: 0.8423\n",
      "Max depth: 10 F1-score: 0.6027 AUC-ROC: 0.8432\n",
      "Max depth: 10 F1-score: 0.5973 AUC-ROC: 0.8435\n",
      "Max depth: 10 F1-score: 0.6055 AUC-ROC: 0.8429\n",
      "Max depth: 10 F1-score: 0.5973 AUC-ROC: 0.8421\n",
      "Max depth: 10 F1-score: 0.6000 AUC-ROC: 0.8428\n",
      "Max depth: 10 F1-score: 0.5978 AUC-ROC: 0.8428\n",
      "Max depth: 10 F1-score: 0.6000 AUC-ROC: 0.8442\n",
      "Max depth: 10 F1-score: 0.5951 AUC-ROC: 0.8441\n",
      "Max depth: 10 F1-score: 0.5983 AUC-ROC: 0.8450\n",
      "Max depth: 10 F1-score: 0.6041 AUC-ROC: 0.8446\n",
      "Max depth: 10 F1-score: 0.6017 AUC-ROC: 0.8454\n",
      "Max depth: 10 F1-score: 0.6024 AUC-ROC: 0.8455\n",
      "Max depth: 10 F1-score: 0.6087 AUC-ROC: 0.8460\n",
      "Max depth: 10 F1-score: 0.6058 AUC-ROC: 0.8459\n",
      "Max depth: 10 F1-score: 0.6106 AUC-ROC: 0.8468\n",
      "Max depth: 10 F1-score: 0.6053 AUC-ROC: 0.8466\n",
      "Max depth: 10 F1-score: 0.6070 AUC-ROC: 0.8472\n",
      "Max depth: 10 F1-score: 0.6070 AUC-ROC: 0.8474\n",
      "Max depth: 10 F1-score: 0.6053 AUC-ROC: 0.8478\n",
      "Max depth: 10 F1-score: 0.6029 AUC-ROC: 0.8481\n",
      "Max depth: 10 F1-score: 0.6010 AUC-ROC: 0.8475\n",
      "Max depth: 10 F1-score: 0.6019 AUC-ROC: 0.8473\n",
      "Max depth: 10 F1-score: 0.6087 AUC-ROC: 0.8476\n",
      "Max depth: 10 F1-score: 0.6029 AUC-ROC: 0.8480\n",
      "Max depth: 10 F1-score: 0.6058 AUC-ROC: 0.8483\n",
      "Max depth: 10 F1-score: 0.6055 AUC-ROC: 0.8484\n",
      "Max depth: 10 F1-score: 0.6111 AUC-ROC: 0.8489\n",
      "Max depth: 10 F1-score: 0.6074 AUC-ROC: 0.8489\n",
      "Max depth: 10 F1-score: 0.6115 AUC-ROC: 0.8495\n",
      "Max depth: 10 F1-score: 0.6154 AUC-ROC: 0.8497\n",
      "Max depth: 10 F1-score: 0.6180 AUC-ROC: 0.8496\n",
      "Max depth: 11 F1-score: 0.5119 AUC-ROC: 0.7447\n",
      "Max depth: 11 F1-score: 0.5222 AUC-ROC: 0.7791\n",
      "Max depth: 11 F1-score: 0.5724 AUC-ROC: 0.8053\n",
      "Max depth: 11 F1-score: 0.5786 AUC-ROC: 0.8120\n",
      "Max depth: 11 F1-score: 0.5826 AUC-ROC: 0.8182\n",
      "Max depth: 11 F1-score: 0.5950 AUC-ROC: 0.8224\n",
      "Max depth: 11 F1-score: 0.5826 AUC-ROC: 0.8242\n",
      "Max depth: 11 F1-score: 0.5793 AUC-ROC: 0.8260\n",
      "Max depth: 11 F1-score: 0.5860 AUC-ROC: 0.8288\n",
      "Max depth: 11 F1-score: 0.5767 AUC-ROC: 0.8300\n",
      "Max depth: 11 F1-score: 0.5924 AUC-ROC: 0.8311\n",
      "Max depth: 11 F1-score: 0.5953 AUC-ROC: 0.8345\n",
      "Max depth: 11 F1-score: 0.5923 AUC-ROC: 0.8364\n",
      "Max depth: 11 F1-score: 0.5975 AUC-ROC: 0.8359\n",
      "Max depth: 11 F1-score: 0.6010 AUC-ROC: 0.8358\n",
      "Max depth: 11 F1-score: 0.6012 AUC-ROC: 0.8372\n",
      "Max depth: 11 F1-score: 0.6055 AUC-ROC: 0.8394\n",
      "Max depth: 11 F1-score: 0.6003 AUC-ROC: 0.8398\n",
      "Max depth: 11 F1-score: 0.5939 AUC-ROC: 0.8421\n",
      "Max depth: 11 F1-score: 0.5964 AUC-ROC: 0.8435\n",
      "Max depth: 11 F1-score: 0.5982 AUC-ROC: 0.8438\n",
      "Max depth: 11 F1-score: 0.6055 AUC-ROC: 0.8439\n",
      "Max depth: 11 F1-score: 0.6084 AUC-ROC: 0.8443\n",
      "Max depth: 11 F1-score: 0.6000 AUC-ROC: 0.8458\n",
      "Max depth: 11 F1-score: 0.6033 AUC-ROC: 0.8456\n",
      "Max depth: 11 F1-score: 0.5949 AUC-ROC: 0.8459\n",
      "Max depth: 11 F1-score: 0.5936 AUC-ROC: 0.8462\n",
      "Max depth: 11 F1-score: 0.5921 AUC-ROC: 0.8470\n",
      "Max depth: 11 F1-score: 0.5967 AUC-ROC: 0.8456\n",
      "Max depth: 11 F1-score: 0.6038 AUC-ROC: 0.8462\n",
      "Max depth: 11 F1-score: 0.5957 AUC-ROC: 0.8472\n",
      "Max depth: 11 F1-score: 0.6041 AUC-ROC: 0.8468\n",
      "Max depth: 11 F1-score: 0.5992 AUC-ROC: 0.8466\n",
      "Max depth: 11 F1-score: 0.6026 AUC-ROC: 0.8475\n",
      "Max depth: 11 F1-score: 0.5972 AUC-ROC: 0.8477\n",
      "Max depth: 11 F1-score: 0.5980 AUC-ROC: 0.8483\n",
      "Max depth: 11 F1-score: 0.5949 AUC-ROC: 0.8488\n",
      "Max depth: 11 F1-score: 0.5995 AUC-ROC: 0.8478\n",
      "Max depth: 11 F1-score: 0.5967 AUC-ROC: 0.8469\n",
      "Max depth: 11 F1-score: 0.6048 AUC-ROC: 0.8472\n",
      "Max depth: 11 F1-score: 0.6003 AUC-ROC: 0.8476\n",
      "Max depth: 11 F1-score: 0.6005 AUC-ROC: 0.8485\n",
      "Max depth: 11 F1-score: 0.6079 AUC-ROC: 0.8486\n",
      "Max depth: 11 F1-score: 0.5992 AUC-ROC: 0.8489\n",
      "Max depth: 11 F1-score: 0.6031 AUC-ROC: 0.8489\n",
      "Max depth: 11 F1-score: 0.5941 AUC-ROC: 0.8495\n",
      "Max depth: 11 F1-score: 0.6097 AUC-ROC: 0.8498\n",
      "Max depth: 11 F1-score: 0.6044 AUC-ROC: 0.8499\n",
      "Max depth: 11 F1-score: 0.6103 AUC-ROC: 0.8502\n",
      "Max depth: 12 F1-score: 0.4922 AUC-ROC: 0.7086\n",
      "Max depth: 12 F1-score: 0.4499 AUC-ROC: 0.7391\n",
      "Max depth: 12 F1-score: 0.5486 AUC-ROC: 0.7745\n",
      "Max depth: 12 F1-score: 0.5213 AUC-ROC: 0.7877\n",
      "Max depth: 12 F1-score: 0.5450 AUC-ROC: 0.8003\n",
      "Max depth: 12 F1-score: 0.5468 AUC-ROC: 0.8078\n",
      "Max depth: 12 F1-score: 0.5810 AUC-ROC: 0.8119\n",
      "Max depth: 12 F1-score: 0.5674 AUC-ROC: 0.8154\n",
      "Max depth: 12 F1-score: 0.6122 AUC-ROC: 0.8192\n",
      "Max depth: 12 F1-score: 0.5849 AUC-ROC: 0.8177\n",
      "Max depth: 12 F1-score: 0.5762 AUC-ROC: 0.8233\n",
      "Max depth: 12 F1-score: 0.5821 AUC-ROC: 0.8285\n",
      "Max depth: 12 F1-score: 0.5818 AUC-ROC: 0.8303\n",
      "Max depth: 12 F1-score: 0.5896 AUC-ROC: 0.8305\n",
      "Max depth: 12 F1-score: 0.5966 AUC-ROC: 0.8310\n",
      "Max depth: 12 F1-score: 0.5907 AUC-ROC: 0.8317\n",
      "Max depth: 12 F1-score: 0.5881 AUC-ROC: 0.8332\n",
      "Max depth: 12 F1-score: 0.5840 AUC-ROC: 0.8356\n",
      "Max depth: 12 F1-score: 0.5957 AUC-ROC: 0.8372\n",
      "Max depth: 12 F1-score: 0.5903 AUC-ROC: 0.8369\n",
      "Max depth: 12 F1-score: 0.6008 AUC-ROC: 0.8368\n",
      "Max depth: 12 F1-score: 0.5939 AUC-ROC: 0.8362\n",
      "Max depth: 12 F1-score: 0.5936 AUC-ROC: 0.8364\n",
      "Max depth: 12 F1-score: 0.5960 AUC-ROC: 0.8373\n",
      "Max depth: 12 F1-score: 0.5944 AUC-ROC: 0.8386\n",
      "Max depth: 12 F1-score: 0.5887 AUC-ROC: 0.8379\n",
      "Max depth: 12 F1-score: 0.5914 AUC-ROC: 0.8388\n",
      "Max depth: 12 F1-score: 0.5882 AUC-ROC: 0.8398\n",
      "Max depth: 12 F1-score: 0.5818 AUC-ROC: 0.8394\n",
      "Max depth: 12 F1-score: 0.5904 AUC-ROC: 0.8402\n",
      "Max depth: 12 F1-score: 0.5915 AUC-ROC: 0.8399\n",
      "Max depth: 12 F1-score: 0.5912 AUC-ROC: 0.8407\n",
      "Max depth: 12 F1-score: 0.5944 AUC-ROC: 0.8408\n",
      "Max depth: 12 F1-score: 0.6024 AUC-ROC: 0.8405\n",
      "Max depth: 12 F1-score: 0.6027 AUC-ROC: 0.8411\n",
      "Max depth: 12 F1-score: 0.6035 AUC-ROC: 0.8422\n",
      "Max depth: 12 F1-score: 0.6021 AUC-ROC: 0.8429\n",
      "Max depth: 12 F1-score: 0.6072 AUC-ROC: 0.8436\n",
      "Max depth: 12 F1-score: 0.6011 AUC-ROC: 0.8440\n",
      "Max depth: 12 F1-score: 0.6019 AUC-ROC: 0.8442\n",
      "Max depth: 12 F1-score: 0.6082 AUC-ROC: 0.8450\n",
      "Max depth: 12 F1-score: 0.6077 AUC-ROC: 0.8455\n",
      "Max depth: 12 F1-score: 0.6087 AUC-ROC: 0.8455\n",
      "Max depth: 12 F1-score: 0.5963 AUC-ROC: 0.8455\n",
      "Max depth: 12 F1-score: 0.6053 AUC-ROC: 0.8458\n",
      "Max depth: 12 F1-score: 0.5968 AUC-ROC: 0.8458\n",
      "Max depth: 12 F1-score: 0.5979 AUC-ROC: 0.8454\n",
      "Max depth: 12 F1-score: 0.5987 AUC-ROC: 0.8452\n",
      "Max depth: 12 F1-score: 0.6024 AUC-ROC: 0.8460\n",
      "Max depth: 13 F1-score: 0.4903 AUC-ROC: 0.7050\n",
      "Max depth: 13 F1-score: 0.4525 AUC-ROC: 0.7421\n",
      "Max depth: 13 F1-score: 0.5455 AUC-ROC: 0.7719\n",
      "Max depth: 13 F1-score: 0.5152 AUC-ROC: 0.7863\n",
      "Max depth: 13 F1-score: 0.5788 AUC-ROC: 0.8020\n",
      "Max depth: 13 F1-score: 0.5741 AUC-ROC: 0.8176\n",
      "Max depth: 13 F1-score: 0.6040 AUC-ROC: 0.8228\n",
      "Max depth: 13 F1-score: 0.5785 AUC-ROC: 0.8240\n",
      "Max depth: 13 F1-score: 0.5979 AUC-ROC: 0.8260\n",
      "Max depth: 13 F1-score: 0.5913 AUC-ROC: 0.8300\n",
      "Max depth: 13 F1-score: 0.6102 AUC-ROC: 0.8323\n",
      "Max depth: 13 F1-score: 0.5978 AUC-ROC: 0.8338\n",
      "Max depth: 13 F1-score: 0.5984 AUC-ROC: 0.8353\n",
      "Max depth: 13 F1-score: 0.5953 AUC-ROC: 0.8385\n",
      "Max depth: 13 F1-score: 0.5945 AUC-ROC: 0.8397\n",
      "Max depth: 13 F1-score: 0.5936 AUC-ROC: 0.8402\n",
      "Max depth: 13 F1-score: 0.5986 AUC-ROC: 0.8395\n",
      "Max depth: 13 F1-score: 0.5930 AUC-ROC: 0.8412\n",
      "Max depth: 13 F1-score: 0.6011 AUC-ROC: 0.8412\n",
      "Max depth: 13 F1-score: 0.5936 AUC-ROC: 0.8408\n",
      "Max depth: 13 F1-score: 0.5864 AUC-ROC: 0.8397\n",
      "Max depth: 13 F1-score: 0.5939 AUC-ROC: 0.8409\n",
      "Max depth: 13 F1-score: 0.5864 AUC-ROC: 0.8411\n",
      "Max depth: 13 F1-score: 0.5928 AUC-ROC: 0.8418\n",
      "Max depth: 13 F1-score: 0.6091 AUC-ROC: 0.8426\n",
      "Max depth: 13 F1-score: 0.6058 AUC-ROC: 0.8439\n",
      "Max depth: 13 F1-score: 0.6045 AUC-ROC: 0.8438\n",
      "Max depth: 13 F1-score: 0.6111 AUC-ROC: 0.8438\n",
      "Max depth: 13 F1-score: 0.6077 AUC-ROC: 0.8428\n",
      "Max depth: 13 F1-score: 0.6122 AUC-ROC: 0.8430\n",
      "Max depth: 13 F1-score: 0.6083 AUC-ROC: 0.8432\n",
      "Max depth: 13 F1-score: 0.6064 AUC-ROC: 0.8438\n",
      "Max depth: 13 F1-score: 0.6006 AUC-ROC: 0.8438\n",
      "Max depth: 13 F1-score: 0.5989 AUC-ROC: 0.8432\n",
      "Max depth: 13 F1-score: 0.6039 AUC-ROC: 0.8425\n",
      "Max depth: 13 F1-score: 0.6003 AUC-ROC: 0.8422\n",
      "Max depth: 13 F1-score: 0.6000 AUC-ROC: 0.8421\n",
      "Max depth: 13 F1-score: 0.5994 AUC-ROC: 0.8417\n",
      "Max depth: 13 F1-score: 0.6019 AUC-ROC: 0.8416\n",
      "Max depth: 13 F1-score: 0.6003 AUC-ROC: 0.8426\n",
      "Max depth: 13 F1-score: 0.6030 AUC-ROC: 0.8436\n",
      "Max depth: 13 F1-score: 0.6039 AUC-ROC: 0.8438\n",
      "Max depth: 13 F1-score: 0.5994 AUC-ROC: 0.8453\n",
      "Max depth: 13 F1-score: 0.6006 AUC-ROC: 0.8456\n",
      "Max depth: 13 F1-score: 0.6003 AUC-ROC: 0.8455\n",
      "Max depth: 13 F1-score: 0.5942 AUC-ROC: 0.8461\n",
      "Max depth: 13 F1-score: 0.5923 AUC-ROC: 0.8454\n",
      "Max depth: 13 F1-score: 0.5997 AUC-ROC: 0.8458\n",
      "Max depth: 13 F1-score: 0.5950 AUC-ROC: 0.8461\n",
      "Max depth: 14 F1-score: 0.4977 AUC-ROC: 0.6837\n",
      "Max depth: 14 F1-score: 0.4588 AUC-ROC: 0.7321\n",
      "Max depth: 14 F1-score: 0.5419 AUC-ROC: 0.7671\n",
      "Max depth: 14 F1-score: 0.4924 AUC-ROC: 0.7868\n",
      "Max depth: 14 F1-score: 0.5660 AUC-ROC: 0.8007\n",
      "Max depth: 14 F1-score: 0.5491 AUC-ROC: 0.8092\n",
      "Max depth: 14 F1-score: 0.5668 AUC-ROC: 0.8090\n",
      "Max depth: 14 F1-score: 0.5418 AUC-ROC: 0.8078\n",
      "Max depth: 14 F1-score: 0.5655 AUC-ROC: 0.8078\n",
      "Max depth: 14 F1-score: 0.5570 AUC-ROC: 0.8110\n",
      "Max depth: 14 F1-score: 0.5773 AUC-ROC: 0.8132\n",
      "Max depth: 14 F1-score: 0.5576 AUC-ROC: 0.8163\n",
      "Max depth: 14 F1-score: 0.5746 AUC-ROC: 0.8191\n",
      "Max depth: 14 F1-score: 0.5577 AUC-ROC: 0.8180\n",
      "Max depth: 14 F1-score: 0.5746 AUC-ROC: 0.8195\n",
      "Max depth: 14 F1-score: 0.5690 AUC-ROC: 0.8202\n",
      "Max depth: 14 F1-score: 0.5790 AUC-ROC: 0.8212\n",
      "Max depth: 14 F1-score: 0.5743 AUC-ROC: 0.8213\n",
      "Max depth: 14 F1-score: 0.5779 AUC-ROC: 0.8242\n",
      "Max depth: 14 F1-score: 0.5787 AUC-ROC: 0.8251\n",
      "Max depth: 14 F1-score: 0.5798 AUC-ROC: 0.8256\n",
      "Max depth: 14 F1-score: 0.5851 AUC-ROC: 0.8279\n",
      "Max depth: 14 F1-score: 0.5823 AUC-ROC: 0.8292\n",
      "Max depth: 14 F1-score: 0.5795 AUC-ROC: 0.8295\n",
      "Max depth: 14 F1-score: 0.5847 AUC-ROC: 0.8299\n",
      "Max depth: 14 F1-score: 0.5812 AUC-ROC: 0.8302\n",
      "Max depth: 14 F1-score: 0.5832 AUC-ROC: 0.8317\n",
      "Max depth: 14 F1-score: 0.5812 AUC-ROC: 0.8318\n",
      "Max depth: 14 F1-score: 0.5889 AUC-ROC: 0.8326\n",
      "Max depth: 14 F1-score: 0.5869 AUC-ROC: 0.8333\n",
      "Max depth: 14 F1-score: 0.5914 AUC-ROC: 0.8333\n",
      "Max depth: 14 F1-score: 0.5840 AUC-ROC: 0.8331\n",
      "Max depth: 14 F1-score: 0.5816 AUC-ROC: 0.8339\n",
      "Max depth: 14 F1-score: 0.5799 AUC-ROC: 0.8350\n",
      "Max depth: 14 F1-score: 0.5815 AUC-ROC: 0.8361\n",
      "Max depth: 14 F1-score: 0.5787 AUC-ROC: 0.8363\n",
      "Max depth: 14 F1-score: 0.5847 AUC-ROC: 0.8364\n",
      "Max depth: 14 F1-score: 0.5791 AUC-ROC: 0.8370\n",
      "Max depth: 14 F1-score: 0.5811 AUC-ROC: 0.8364\n",
      "Max depth: 14 F1-score: 0.5839 AUC-ROC: 0.8362\n",
      "Max depth: 14 F1-score: 0.5863 AUC-ROC: 0.8368\n",
      "Max depth: 14 F1-score: 0.5896 AUC-ROC: 0.8362\n",
      "Max depth: 14 F1-score: 0.5864 AUC-ROC: 0.8368\n",
      "Max depth: 14 F1-score: 0.5844 AUC-ROC: 0.8367\n",
      "Max depth: 14 F1-score: 0.5891 AUC-ROC: 0.8370\n",
      "Max depth: 14 F1-score: 0.5854 AUC-ROC: 0.8380\n",
      "Max depth: 14 F1-score: 0.5894 AUC-ROC: 0.8386\n",
      "Max depth: 14 F1-score: 0.5854 AUC-ROC: 0.8382\n",
      "Max depth: 14 F1-score: 0.5882 AUC-ROC: 0.8386\n",
      "Max depth: 15 F1-score: 0.4670 AUC-ROC: 0.6700\n",
      "Max depth: 15 F1-score: 0.3664 AUC-ROC: 0.7246\n",
      "Max depth: 15 F1-score: 0.5060 AUC-ROC: 0.7567\n",
      "Max depth: 15 F1-score: 0.4233 AUC-ROC: 0.7785\n",
      "Max depth: 15 F1-score: 0.5319 AUC-ROC: 0.7963\n",
      "Max depth: 15 F1-score: 0.5061 AUC-ROC: 0.8035\n",
      "Max depth: 15 F1-score: 0.5513 AUC-ROC: 0.8109\n",
      "Max depth: 15 F1-score: 0.5246 AUC-ROC: 0.8115\n",
      "Max depth: 15 F1-score: 0.5455 AUC-ROC: 0.8108\n",
      "Max depth: 15 F1-score: 0.5367 AUC-ROC: 0.8139\n",
      "Max depth: 15 F1-score: 0.5694 AUC-ROC: 0.8165\n",
      "Max depth: 15 F1-score: 0.5479 AUC-ROC: 0.8171\n",
      "Max depth: 15 F1-score: 0.5539 AUC-ROC: 0.8194\n",
      "Max depth: 15 F1-score: 0.5522 AUC-ROC: 0.8215\n",
      "Max depth: 15 F1-score: 0.5559 AUC-ROC: 0.8238\n",
      "Max depth: 15 F1-score: 0.5498 AUC-ROC: 0.8244\n",
      "Max depth: 15 F1-score: 0.5630 AUC-ROC: 0.8285\n",
      "Max depth: 15 F1-score: 0.5618 AUC-ROC: 0.8278\n",
      "Max depth: 15 F1-score: 0.5610 AUC-ROC: 0.8286\n",
      "Max depth: 15 F1-score: 0.5605 AUC-ROC: 0.8305\n",
      "Max depth: 15 F1-score: 0.5694 AUC-ROC: 0.8320\n",
      "Max depth: 15 F1-score: 0.5664 AUC-ROC: 0.8336\n",
      "Max depth: 15 F1-score: 0.5743 AUC-ROC: 0.8347\n",
      "Max depth: 15 F1-score: 0.5673 AUC-ROC: 0.8351\n",
      "Max depth: 15 F1-score: 0.5640 AUC-ROC: 0.8360\n",
      "Max depth: 15 F1-score: 0.5652 AUC-ROC: 0.8358\n",
      "Max depth: 15 F1-score: 0.5660 AUC-ROC: 0.8367\n",
      "Max depth: 15 F1-score: 0.5668 AUC-ROC: 0.8365\n",
      "Max depth: 15 F1-score: 0.5567 AUC-ROC: 0.8367\n",
      "Max depth: 15 F1-score: 0.5676 AUC-ROC: 0.8381\n",
      "Max depth: 15 F1-score: 0.5689 AUC-ROC: 0.8386\n",
      "Max depth: 15 F1-score: 0.5685 AUC-ROC: 0.8393\n",
      "Max depth: 15 F1-score: 0.5685 AUC-ROC: 0.8390\n",
      "Max depth: 15 F1-score: 0.5630 AUC-ROC: 0.8402\n",
      "Max depth: 15 F1-score: 0.5693 AUC-ROC: 0.8403\n",
      "Max depth: 15 F1-score: 0.5664 AUC-ROC: 0.8414\n",
      "Max depth: 15 F1-score: 0.5660 AUC-ROC: 0.8420\n",
      "Max depth: 15 F1-score: 0.5660 AUC-ROC: 0.8426\n",
      "Max depth: 15 F1-score: 0.5652 AUC-ROC: 0.8432\n",
      "Max depth: 15 F1-score: 0.5647 AUC-ROC: 0.8434\n",
      "Max depth: 15 F1-score: 0.5639 AUC-ROC: 0.8433\n",
      "Max depth: 15 F1-score: 0.5588 AUC-ROC: 0.8441\n",
      "Max depth: 15 F1-score: 0.5643 AUC-ROC: 0.8438\n",
      "Max depth: 15 F1-score: 0.5605 AUC-ROC: 0.8441\n",
      "Max depth: 15 F1-score: 0.5706 AUC-ROC: 0.8445\n",
      "Max depth: 15 F1-score: 0.5655 AUC-ROC: 0.8444\n",
      "Max depth: 15 F1-score: 0.5664 AUC-ROC: 0.8440\n",
      "Max depth: 15 F1-score: 0.5643 AUC-ROC: 0.8436\n",
      "Max depth: 15 F1-score: 0.5613 AUC-ROC: 0.8436\n",
      "Max depth: 16 F1-score: 0.4745 AUC-ROC: 0.6730\n",
      "Max depth: 16 F1-score: 0.4363 AUC-ROC: 0.7190\n",
      "Max depth: 16 F1-score: 0.5366 AUC-ROC: 0.7591\n",
      "Max depth: 16 F1-score: 0.5097 AUC-ROC: 0.7791\n",
      "Max depth: 16 F1-score: 0.5432 AUC-ROC: 0.7872\n",
      "Max depth: 16 F1-score: 0.5235 AUC-ROC: 0.7972\n",
      "Max depth: 16 F1-score: 0.5596 AUC-ROC: 0.7995\n",
      "Max depth: 16 F1-score: 0.5468 AUC-ROC: 0.8055\n",
      "Max depth: 16 F1-score: 0.5754 AUC-ROC: 0.8107\n",
      "Max depth: 16 F1-score: 0.5702 AUC-ROC: 0.8177\n",
      "Max depth: 16 F1-score: 0.5787 AUC-ROC: 0.8162\n",
      "Max depth: 16 F1-score: 0.5756 AUC-ROC: 0.8210\n",
      "Max depth: 16 F1-score: 0.5817 AUC-ROC: 0.8198\n",
      "Max depth: 16 F1-score: 0.5815 AUC-ROC: 0.8214\n",
      "Max depth: 16 F1-score: 0.5817 AUC-ROC: 0.8251\n",
      "Max depth: 16 F1-score: 0.5855 AUC-ROC: 0.8247\n",
      "Max depth: 16 F1-score: 0.5867 AUC-ROC: 0.8259\n",
      "Max depth: 16 F1-score: 0.5756 AUC-ROC: 0.8263\n",
      "Max depth: 16 F1-score: 0.5831 AUC-ROC: 0.8264\n",
      "Max depth: 16 F1-score: 0.5735 AUC-ROC: 0.8270\n",
      "Max depth: 16 F1-score: 0.5748 AUC-ROC: 0.8276\n",
      "Max depth: 16 F1-score: 0.5719 AUC-ROC: 0.8281\n",
      "Max depth: 16 F1-score: 0.5689 AUC-ROC: 0.8287\n",
      "Max depth: 16 F1-score: 0.5617 AUC-ROC: 0.8306\n",
      "Max depth: 16 F1-score: 0.5673 AUC-ROC: 0.8322\n",
      "Max depth: 16 F1-score: 0.5630 AUC-ROC: 0.8314\n",
      "Max depth: 16 F1-score: 0.5655 AUC-ROC: 0.8322\n",
      "Max depth: 16 F1-score: 0.5638 AUC-ROC: 0.8324\n",
      "Max depth: 16 F1-score: 0.5643 AUC-ROC: 0.8318\n",
      "Max depth: 16 F1-score: 0.5604 AUC-ROC: 0.8328\n",
      "Max depth: 16 F1-score: 0.5600 AUC-ROC: 0.8335\n",
      "Max depth: 16 F1-score: 0.5625 AUC-ROC: 0.8326\n",
      "Max depth: 16 F1-score: 0.5587 AUC-ROC: 0.8339\n",
      "Max depth: 16 F1-score: 0.5557 AUC-ROC: 0.8343\n",
      "Max depth: 16 F1-score: 0.5592 AUC-ROC: 0.8343\n",
      "Max depth: 16 F1-score: 0.5557 AUC-ROC: 0.8348\n",
      "Max depth: 16 F1-score: 0.5685 AUC-ROC: 0.8355\n",
      "Max depth: 16 F1-score: 0.5676 AUC-ROC: 0.8350\n",
      "Max depth: 16 F1-score: 0.5727 AUC-ROC: 0.8357\n",
      "Max depth: 16 F1-score: 0.5773 AUC-ROC: 0.8370\n",
      "Max depth: 16 F1-score: 0.5739 AUC-ROC: 0.8382\n",
      "Max depth: 16 F1-score: 0.5710 AUC-ROC: 0.8390\n",
      "Max depth: 16 F1-score: 0.5748 AUC-ROC: 0.8395\n",
      "Max depth: 16 F1-score: 0.5765 AUC-ROC: 0.8403\n",
      "Max depth: 16 F1-score: 0.5744 AUC-ROC: 0.8409\n",
      "Max depth: 16 F1-score: 0.5727 AUC-ROC: 0.8405\n",
      "Max depth: 16 F1-score: 0.5740 AUC-ROC: 0.8420\n",
      "Max depth: 16 F1-score: 0.5706 AUC-ROC: 0.8427\n",
      "Max depth: 16 F1-score: 0.5752 AUC-ROC: 0.8420\n",
      "Max depth: 17 F1-score: 0.4645 AUC-ROC: 0.6627\n",
      "Max depth: 17 F1-score: 0.4141 AUC-ROC: 0.7190\n",
      "Max depth: 17 F1-score: 0.5117 AUC-ROC: 0.7434\n",
      "Max depth: 17 F1-score: 0.4962 AUC-ROC: 0.7709\n",
      "Max depth: 17 F1-score: 0.5364 AUC-ROC: 0.7771\n",
      "Max depth: 17 F1-score: 0.5301 AUC-ROC: 0.7875\n",
      "Max depth: 17 F1-score: 0.5642 AUC-ROC: 0.7921\n",
      "Max depth: 17 F1-score: 0.5452 AUC-ROC: 0.7951\n",
      "Max depth: 17 F1-score: 0.5674 AUC-ROC: 0.8038\n",
      "Max depth: 17 F1-score: 0.5501 AUC-ROC: 0.8064\n",
      "Max depth: 17 F1-score: 0.5620 AUC-ROC: 0.8089\n",
      "Max depth: 17 F1-score: 0.5701 AUC-ROC: 0.8086\n",
      "Max depth: 17 F1-score: 0.5669 AUC-ROC: 0.8114\n",
      "Max depth: 17 F1-score: 0.5624 AUC-ROC: 0.8149\n",
      "Max depth: 17 F1-score: 0.5744 AUC-ROC: 0.8171\n",
      "Max depth: 17 F1-score: 0.5693 AUC-ROC: 0.8176\n",
      "Max depth: 17 F1-score: 0.5714 AUC-ROC: 0.8202\n",
      "Max depth: 17 F1-score: 0.5667 AUC-ROC: 0.8196\n",
      "Max depth: 17 F1-score: 0.5668 AUC-ROC: 0.8187\n",
      "Max depth: 17 F1-score: 0.5679 AUC-ROC: 0.8217\n",
      "Max depth: 17 F1-score: 0.5697 AUC-ROC: 0.8233\n",
      "Max depth: 17 F1-score: 0.5628 AUC-ROC: 0.8234\n",
      "Max depth: 17 F1-score: 0.5812 AUC-ROC: 0.8253\n",
      "Max depth: 17 F1-score: 0.5714 AUC-ROC: 0.8251\n",
      "Max depth: 17 F1-score: 0.5757 AUC-ROC: 0.8270\n",
      "Max depth: 17 F1-score: 0.5792 AUC-ROC: 0.8286\n",
      "Max depth: 17 F1-score: 0.5817 AUC-ROC: 0.8290\n",
      "Max depth: 17 F1-score: 0.5831 AUC-ROC: 0.8287\n",
      "Max depth: 17 F1-score: 0.5833 AUC-ROC: 0.8297\n",
      "Max depth: 17 F1-score: 0.5792 AUC-ROC: 0.8306\n",
      "Max depth: 17 F1-score: 0.5800 AUC-ROC: 0.8318\n",
      "Max depth: 17 F1-score: 0.5783 AUC-ROC: 0.8323\n",
      "Max depth: 17 F1-score: 0.5744 AUC-ROC: 0.8324\n",
      "Max depth: 17 F1-score: 0.5778 AUC-ROC: 0.8327\n",
      "Max depth: 17 F1-score: 0.5807 AUC-ROC: 0.8344\n",
      "Max depth: 17 F1-score: 0.5701 AUC-ROC: 0.8356\n",
      "Max depth: 17 F1-score: 0.5791 AUC-ROC: 0.8363\n",
      "Max depth: 17 F1-score: 0.5762 AUC-ROC: 0.8370\n",
      "Max depth: 17 F1-score: 0.5753 AUC-ROC: 0.8362\n",
      "Max depth: 17 F1-score: 0.5736 AUC-ROC: 0.8360\n",
      "Max depth: 17 F1-score: 0.5702 AUC-ROC: 0.8369\n",
      "Max depth: 17 F1-score: 0.5736 AUC-ROC: 0.8375\n",
      "Max depth: 17 F1-score: 0.5773 AUC-ROC: 0.8385\n",
      "Max depth: 17 F1-score: 0.5740 AUC-ROC: 0.8390\n",
      "Max depth: 17 F1-score: 0.5723 AUC-ROC: 0.8403\n",
      "Max depth: 17 F1-score: 0.5757 AUC-ROC: 0.8409\n",
      "Max depth: 17 F1-score: 0.5807 AUC-ROC: 0.8419\n",
      "Max depth: 17 F1-score: 0.5821 AUC-ROC: 0.8412\n",
      "Max depth: 17 F1-score: 0.5812 AUC-ROC: 0.8407\n",
      "Max depth: 18 F1-score: 0.5161 AUC-ROC: 0.7001\n",
      "Max depth: 18 F1-score: 0.4239 AUC-ROC: 0.7442\n",
      "Max depth: 18 F1-score: 0.5419 AUC-ROC: 0.7699\n",
      "Max depth: 18 F1-score: 0.4969 AUC-ROC: 0.7850\n",
      "Max depth: 18 F1-score: 0.5667 AUC-ROC: 0.7899\n",
      "Max depth: 18 F1-score: 0.5487 AUC-ROC: 0.7947\n",
      "Max depth: 18 F1-score: 0.5815 AUC-ROC: 0.7985\n",
      "Max depth: 18 F1-score: 0.5654 AUC-ROC: 0.8001\n",
      "Max depth: 18 F1-score: 0.5974 AUC-ROC: 0.8015\n",
      "Max depth: 18 F1-score: 0.5714 AUC-ROC: 0.8055\n",
      "Max depth: 18 F1-score: 0.5884 AUC-ROC: 0.8063\n",
      "Max depth: 18 F1-score: 0.5680 AUC-ROC: 0.8066\n",
      "Max depth: 18 F1-score: 0.5908 AUC-ROC: 0.8033\n",
      "Max depth: 18 F1-score: 0.5723 AUC-ROC: 0.8066\n",
      "Max depth: 18 F1-score: 0.5782 AUC-ROC: 0.8062\n",
      "Max depth: 18 F1-score: 0.5701 AUC-ROC: 0.8099\n",
      "Max depth: 18 F1-score: 0.5794 AUC-ROC: 0.8106\n",
      "Max depth: 18 F1-score: 0.5706 AUC-ROC: 0.8114\n",
      "Max depth: 18 F1-score: 0.5740 AUC-ROC: 0.8165\n",
      "Max depth: 18 F1-score: 0.5636 AUC-ROC: 0.8200\n",
      "Max depth: 18 F1-score: 0.5693 AUC-ROC: 0.8199\n",
      "Max depth: 18 F1-score: 0.5636 AUC-ROC: 0.8222\n",
      "Max depth: 18 F1-score: 0.5663 AUC-ROC: 0.8227\n",
      "Max depth: 18 F1-score: 0.5640 AUC-ROC: 0.8237\n",
      "Max depth: 18 F1-score: 0.5778 AUC-ROC: 0.8242\n",
      "Max depth: 18 F1-score: 0.5671 AUC-ROC: 0.8252\n",
      "Max depth: 18 F1-score: 0.5800 AUC-ROC: 0.8266\n",
      "Max depth: 18 F1-score: 0.5723 AUC-ROC: 0.8270\n",
      "Max depth: 18 F1-score: 0.5757 AUC-ROC: 0.8287\n",
      "Max depth: 18 F1-score: 0.5762 AUC-ROC: 0.8276\n",
      "Max depth: 18 F1-score: 0.5833 AUC-ROC: 0.8274\n",
      "Max depth: 18 F1-score: 0.5749 AUC-ROC: 0.8272\n",
      "Max depth: 18 F1-score: 0.5778 AUC-ROC: 0.8267\n",
      "Max depth: 18 F1-score: 0.5714 AUC-ROC: 0.8278\n",
      "Max depth: 18 F1-score: 0.5782 AUC-ROC: 0.8292\n",
      "Max depth: 18 F1-score: 0.5762 AUC-ROC: 0.8297\n",
      "Max depth: 18 F1-score: 0.5791 AUC-ROC: 0.8298\n",
      "Max depth: 18 F1-score: 0.5740 AUC-ROC: 0.8295\n",
      "Max depth: 18 F1-score: 0.5795 AUC-ROC: 0.8291\n",
      "Max depth: 18 F1-score: 0.5766 AUC-ROC: 0.8294\n",
      "Max depth: 18 F1-score: 0.5804 AUC-ROC: 0.8304\n",
      "Max depth: 18 F1-score: 0.5783 AUC-ROC: 0.8309\n",
      "Max depth: 18 F1-score: 0.5902 AUC-ROC: 0.8309\n",
      "Max depth: 18 F1-score: 0.5792 AUC-ROC: 0.8317\n",
      "Max depth: 18 F1-score: 0.5821 AUC-ROC: 0.8323\n",
      "Max depth: 18 F1-score: 0.5774 AUC-ROC: 0.8323\n",
      "Max depth: 18 F1-score: 0.5791 AUC-ROC: 0.8328\n",
      "Max depth: 18 F1-score: 0.5770 AUC-ROC: 0.8331\n",
      "Max depth: 18 F1-score: 0.5787 AUC-ROC: 0.8330\n",
      "Max depth: 19 F1-score: 0.4739 AUC-ROC: 0.6686\n",
      "Max depth: 19 F1-score: 0.4047 AUC-ROC: 0.7349\n",
      "Max depth: 19 F1-score: 0.5193 AUC-ROC: 0.7539\n",
      "Max depth: 19 F1-score: 0.4837 AUC-ROC: 0.7739\n",
      "Max depth: 19 F1-score: 0.5326 AUC-ROC: 0.7879\n",
      "Max depth: 19 F1-score: 0.5344 AUC-ROC: 0.7953\n",
      "Max depth: 19 F1-score: 0.5762 AUC-ROC: 0.8010\n",
      "Max depth: 19 F1-score: 0.5392 AUC-ROC: 0.8042\n",
      "Max depth: 19 F1-score: 0.5653 AUC-ROC: 0.8105\n",
      "Max depth: 19 F1-score: 0.5562 AUC-ROC: 0.8154\n",
      "Max depth: 19 F1-score: 0.5698 AUC-ROC: 0.8172\n",
      "Max depth: 19 F1-score: 0.5508 AUC-ROC: 0.8192\n",
      "Max depth: 19 F1-score: 0.5798 AUC-ROC: 0.8215\n",
      "Max depth: 19 F1-score: 0.5632 AUC-ROC: 0.8237\n",
      "Max depth: 19 F1-score: 0.5769 AUC-ROC: 0.8244\n",
      "Max depth: 19 F1-score: 0.5610 AUC-ROC: 0.8257\n",
      "Max depth: 19 F1-score: 0.5710 AUC-ROC: 0.8265\n",
      "Max depth: 19 F1-score: 0.5591 AUC-ROC: 0.8259\n",
      "Max depth: 19 F1-score: 0.5731 AUC-ROC: 0.8235\n",
      "Max depth: 19 F1-score: 0.5622 AUC-ROC: 0.8242\n",
      "Max depth: 19 F1-score: 0.5633 AUC-ROC: 0.8256\n",
      "Max depth: 19 F1-score: 0.5488 AUC-ROC: 0.8259\n",
      "Max depth: 19 F1-score: 0.5623 AUC-ROC: 0.8251\n",
      "Max depth: 19 F1-score: 0.5573 AUC-ROC: 0.8256\n",
      "Max depth: 19 F1-score: 0.5615 AUC-ROC: 0.8259\n",
      "Max depth: 19 F1-score: 0.5590 AUC-ROC: 0.8264\n",
      "Max depth: 19 F1-score: 0.5615 AUC-ROC: 0.8262\n",
      "Max depth: 19 F1-score: 0.5604 AUC-ROC: 0.8276\n",
      "Max depth: 19 F1-score: 0.5706 AUC-ROC: 0.8291\n",
      "Max depth: 19 F1-score: 0.5595 AUC-ROC: 0.8297\n",
      "Max depth: 19 F1-score: 0.5753 AUC-ROC: 0.8307\n",
      "Max depth: 19 F1-score: 0.5556 AUC-ROC: 0.8301\n",
      "Max depth: 19 F1-score: 0.5632 AUC-ROC: 0.8316\n",
      "Max depth: 19 F1-score: 0.5525 AUC-ROC: 0.8323\n",
      "Max depth: 19 F1-score: 0.5675 AUC-ROC: 0.8337\n",
      "Max depth: 19 F1-score: 0.5525 AUC-ROC: 0.8347\n",
      "Max depth: 19 F1-score: 0.5697 AUC-ROC: 0.8355\n",
      "Max depth: 19 F1-score: 0.5636 AUC-ROC: 0.8361\n",
      "Max depth: 19 F1-score: 0.5697 AUC-ROC: 0.8365\n",
      "Max depth: 19 F1-score: 0.5622 AUC-ROC: 0.8369\n",
      "Max depth: 19 F1-score: 0.5680 AUC-ROC: 0.8376\n",
      "Max depth: 19 F1-score: 0.5671 AUC-ROC: 0.8382\n",
      "Max depth: 19 F1-score: 0.5701 AUC-ROC: 0.8384\n",
      "Max depth: 19 F1-score: 0.5618 AUC-ROC: 0.8390\n",
      "Max depth: 19 F1-score: 0.5680 AUC-ROC: 0.8391\n",
      "Max depth: 19 F1-score: 0.5649 AUC-ROC: 0.8383\n",
      "Max depth: 19 F1-score: 0.5710 AUC-ROC: 0.8378\n",
      "Max depth: 19 F1-score: 0.5596 AUC-ROC: 0.8378\n",
      "Max depth: 19 F1-score: 0.5610 AUC-ROC: 0.8379\n",
      "Лучшая F-мера 0.6296715741789355 при глубине = 9,  количестве деревьев = 46 и AUC-ROC = 0.8557047284341183\n",
      "CPU times: user 2min 11s, sys: 808 ms, total: 2min 12s\n",
      "Wall time: 2min 13s\n"
     ]
    }
   ],
   "source": [
    "%%time\n",
    "\n",
    "best_model_RFC_balanced = 0\n",
    "best_model_f1_RFC_balanced = 0\n",
    "best_model_auc_roc_RFC_balanced = 0\n",
    "best_depth_rfc_balanced = 0\n",
    "best_est_balanced = 0\n",
    "for depth in range(1, 20, 1):\n",
    "    for estimator in range(1, 50, 1):\n",
    "        model_rfc_balanced = RandomForestClassifier(n_estimators=estimator, max_depth=depth, random_state=12345, class_weight='balanced')\n",
    "        model_rfc_balanced.fit(features_train, target_train)\n",
    "       \n",
    "        predict_valid_rfc_balanced = model_rfc_balanced.predict(features_valid)\n",
    "        #f1_valid_rfc_nb = accuracy_score(tree_valid_pred, target_valid)\n",
    "       \n",
    "        f1_valid_rfc_balanced = f1_score(target_valid, predict_valid_rfc_balanced)\n",
    "    \n",
    "        probabilities_valid_rfc_balanced = model_rfc_balanced.predict_proba(features_valid)\n",
    "        probabilities_one_valid_rfc_balanced =  probabilities_valid_rfc_balanced[:, 1]\n",
    "        auc_roc_rfc_balanced = roc_auc_score(target_valid, probabilities_one_valid_rfc_balanced)\n",
    "        \n",
    "        print('Max depth:', depth,'F1-score:','{:.4f}'.format(f1_valid_rfc_balanced),'AUC-ROC:','{:.4f}'.format(auc_roc_rfc_balanced))\n",
    "        if best_model_RFC_balanced < f1_valid_rfc_balanced:\n",
    "            best_model_RFC_balanced = f1_valid_rfc_balanced\n",
    "            best_depth_rfc_balanced = depth\n",
    "            best_est_balanced = estimator\n",
    "            best_model_rfc_balanced =  model_rfc_balanced\n",
    "            best_auc_roc_rfc_balanced = auc_roc_rfc_balanced\n",
    "            \n",
    "print(\"Лучшая F-мера\", best_model_RFC_balanced, 'при глубине = {0},  количестве деревьев = {1} и AUC-ROC = {2}'\n",
    "      .format(best_depth_rfc_balanced, best_est_balanced, best_auc_roc_rfc_balanced))"
   ]
  },
  {
   "cell_type": "markdown",
   "metadata": {},
   "source": [
    "LogisticRegression"
   ]
  },
  {
   "cell_type": "code",
   "execution_count": 35,
   "metadata": {},
   "outputs": [
    {
     "name": "stdout",
     "output_type": "stream",
     "text": [
      "accuracy_score_regression 0.701\n",
      "f1 0.47990255785627284\n",
      "auc_roc 0.7635798063138539\n"
     ]
    }
   ],
   "source": [
    "model_lr_balanced = LogisticRegression(solver='liblinear', random_state=12345, class_weight='balanced').fit(features_train, target_train)\n",
    "predictions_valid_lr_balanced = model_lr_balanced.predict(features_valid)\n",
    "accuracy_score_regression_lr_balanced = accuracy_score(target_valid,predictions_valid_lr_balanced)\n",
    "\n",
    "f1_lr_balanced = f1_score(target_valid, predicted_valid)\n",
    "    \n",
    "probabilities_valid_lr_balanced = model_lr_balanced.predict_proba(features_valid)\n",
    "probabilities_one_valid_lr_balanced =  probabilities_valid_lr_balanced[:, 1]\n",
    "auc_roc_lr_balanced = roc_auc_score(target_valid, probabilities_one_valid_lr_balanced)\n",
    "    \n",
    "print('accuracy_score_regression', accuracy_score_regression_lr_balanced)\n",
    "print('f1', f1_lr_balanced)\n",
    "print('auc_roc', auc_roc_lr_balanced)"
   ]
  },
  {
   "cell_type": "markdown",
   "metadata": {},
   "source": [
    "переходим к следующему методы борьбы с дисбалансом - масштабированию выборки(upsampling). Создадим переменные для признаков объектов/целевого признака объектов со знаком 0 и 1. Выведем для контроля на экран размеры выборок по каждой переменной."
   ]
  },
  {
   "cell_type": "code",
   "execution_count": 36,
   "metadata": {},
   "outputs": [
    {
     "name": "stdout",
     "output_type": "stream",
     "text": [
      "(4804, 11)\n",
      "(1196, 11)\n",
      "(4804,)\n",
      "(1196,)\n"
     ]
    }
   ],
   "source": [
    "\n",
    "features_zeros = features_train[target_train == 0]\n",
    "features_ones = features_train[target_train == 1]\n",
    "target_zeros = target_train[target_train == 0]\n",
    "target_ones = target_train[target_train == 1]\n",
    "\n",
    "print(features_zeros.shape)\n",
    "print(features_ones.shape)\n",
    "print(target_zeros.shape)\n",
    "print(target_ones.shape)"
   ]
  },
  {
   "cell_type": "markdown",
   "metadata": {},
   "source": [
    "увеличим выборки, объединим таблицы и перемешаем данные"
   ]
  },
  {
   "cell_type": "code",
   "execution_count": 37,
   "metadata": {},
   "outputs": [],
   "source": [
    "features_upsampled = pd.concat([features_zeros] + [features_ones] * 4)\n",
    "target_upsampled = pd.concat([target_zeros] + [target_ones] * 4)\n",
    "    \n",
    "features_upsampled, target_upsampled = shuffle(features_upsampled, target_upsampled, random_state=12345)"
   ]
  },
  {
   "cell_type": "markdown",
   "metadata": {},
   "source": [
    "<div class=\"alert alert-success\">\n",
    "<h2> Комментарий ревьюера ✔️ <a class=\"tocSkip\"> </h2>\n",
    "\n",
    "После таких преобразований, хорошо бы провести проверку, получилось ли уменьшить дисбаланс"
   ]
  },
  {
   "cell_type": "code",
   "execution_count": 71,
   "metadata": {},
   "outputs": [
    {
     "data": {
      "image/png": "[encoded data removed]",
      "text/plain": [
       "<Figure size 432x288 with 1 Axes>"
      ]
     },
     "metadata": {},
     "output_type": "display_data"
    }
   ],
   "source": [
    "target_upsampled.value_counts(normalize = True).plot.pie(legend = True)\n",
    "plt.title('Клиент в банке остался/ушел')\n",
    "plt.show()"
   ]
  },
  {
   "cell_type": "code",
   "execution_count": 73,
   "metadata": {},
   "outputs": [
    {
     "data": {
      "image/png": "[encoded data removed]",
      "text/plain": [
       "<Figure size 432x288 with 1 Axes>"
      ]
     },
     "metadata": {},
     "output_type": "display_data"
    }
   ],
   "source": [
    "target_upsampled.value_counts(normalize = True).plot.pie(legend = True)\n",
    "plt.title('Наличие кредитной карты')\n",
    "plt.show()"
   ]
  },
  {
   "cell_type": "code",
   "execution_count": 75,
   "metadata": {},
   "outputs": [
    {
     "data": {
      "image/png": "[encoded data removed]",
      "text/plain": [
       "<Figure size 432x288 with 1 Axes>"
      ]
     },
     "metadata": {},
     "output_type": "display_data"
    }
   ],
   "source": [
    "target_upsampled.value_counts(normalize = True).plot.pie(legend = True)\n",
    "plt.title('Проживающих в Германии')\n",
    "plt.show()"
   ]
  },
  {
   "cell_type": "markdown",
   "metadata": {},
   "source": [
    "<font color='blue'> Проверку провел - дисбаланс ликвидирован   </font> "
   ]
  },
  {
   "cell_type": "markdown",
   "metadata": {},
   "source": [
    "обучаем модель на увеличенной выборке - предсказываем на стандартной валидационной. Модель DecisionTreeClassifier."
   ]
  },
  {
   "cell_type": "code",
   "execution_count": 38,
   "metadata": {
    "scrolled": true
   },
   "outputs": [
    {
     "name": "stdout",
     "output_type": "stream",
     "text": [
      "Max depth: 1 F1-score: 0.4995 AUC-ROC: 0.7586\n",
      "Max depth: 2 F1-score: 0.5410 AUC-ROC: 0.7586\n",
      "Max depth: 3 F1-score: 0.5410 AUC-ROC: 0.7586\n",
      "Max depth: 4 F1-score: 0.5278 AUC-ROC: 0.7586\n",
      "Max depth: 5 F1-score: 0.5964 AUC-ROC: 0.7586\n",
      "Max depth: 6 F1-score: 0.5582 AUC-ROC: 0.7586\n",
      "Max depth: 7 F1-score: 0.5571 AUC-ROC: 0.7586\n",
      "Max depth: 8 F1-score: 0.5387 AUC-ROC: 0.7586\n",
      "Max depth: 9 F1-score: 0.5305 AUC-ROC: 0.7586\n",
      "Max depth: 10 F1-score: 0.5223 AUC-ROC: 0.7586\n",
      "Max depth: 11 F1-score: 0.5270 AUC-ROC: 0.7586\n",
      "Max depth: 12 F1-score: 0.5047 AUC-ROC: 0.7586\n",
      "Max depth: 13 F1-score: 0.5099 AUC-ROC: 0.7586\n",
      "Max depth: 14 F1-score: 0.4943 AUC-ROC: 0.7586\n",
      "Max depth: 15 F1-score: 0.4843 AUC-ROC: 0.7586\n",
      "Max depth: 16 F1-score: 0.4853 AUC-ROC: 0.7586\n",
      "Max depth: 17 F1-score: 0.4680 AUC-ROC: 0.7586\n",
      "Max depth: 18 F1-score: 0.4741 AUC-ROC: 0.7586\n",
      "Max depth: 19 F1-score: 0.4561 AUC-ROC: 0.7586\n",
      "Max depth: 20 F1-score: 0.4664 AUC-ROC: 0.7586\n",
      "Max depth: 21 F1-score: 0.4664 AUC-ROC: 0.7586\n",
      "Max depth: 22 F1-score: 0.4613 AUC-ROC: 0.7586\n",
      "Max depth: 23 F1-score: 0.4576 AUC-ROC: 0.7586\n",
      "Max depth: 24 F1-score: 0.4576 AUC-ROC: 0.7586\n",
      "Max depth: 25 F1-score: 0.4576 AUC-ROC: 0.7586\n",
      "Max depth: 26 F1-score: 0.4576 AUC-ROC: 0.7586\n",
      "Max depth: 27 F1-score: 0.4576 AUC-ROC: 0.7586\n",
      "Max depth: 28 F1-score: 0.4576 AUC-ROC: 0.7586\n",
      "Max depth: 29 F1-score: 0.4576 AUC-ROC: 0.7586\n",
      "Max depth: 30 F1-score: 0.4576 AUC-ROC: 0.7586\n",
      "Max depth: 31 F1-score: 0.4576 AUC-ROC: 0.7586\n",
      "Max depth: 32 F1-score: 0.4576 AUC-ROC: 0.7586\n",
      "Max depth: 33 F1-score: 0.4576 AUC-ROC: 0.7586\n",
      "Max depth: 34 F1-score: 0.4576 AUC-ROC: 0.7586\n",
      "Max depth: 35 F1-score: 0.4576 AUC-ROC: 0.7586\n",
      "Max depth: 36 F1-score: 0.4576 AUC-ROC: 0.7586\n",
      "Max depth: 37 F1-score: 0.4576 AUC-ROC: 0.7586\n",
      "Max depth: 38 F1-score: 0.4576 AUC-ROC: 0.7586\n",
      "Max depth: 39 F1-score: 0.4576 AUC-ROC: 0.7586\n",
      "Max depth: 40 F1-score: 0.4576 AUC-ROC: 0.7586\n",
      "Max depth: 41 F1-score: 0.4576 AUC-ROC: 0.7586\n",
      "Max depth: 42 F1-score: 0.4576 AUC-ROC: 0.7586\n",
      "Max depth: 43 F1-score: 0.4576 AUC-ROC: 0.7586\n",
      "Max depth: 44 F1-score: 0.4576 AUC-ROC: 0.7586\n",
      "Max depth: 45 F1-score: 0.4576 AUC-ROC: 0.7586\n",
      "Max depth: 46 F1-score: 0.4576 AUC-ROC: 0.7586\n",
      "Max depth: 47 F1-score: 0.4576 AUC-ROC: 0.7586\n",
      "Max depth: 48 F1-score: 0.4576 AUC-ROC: 0.7586\n",
      "Max depth: 49 F1-score: 0.4576 AUC-ROC: 0.7586\n",
      "Max depth: 50 F1-score: 0.4576 AUC-ROC: 0.7586\n",
      "Max depth: 51 F1-score: 0.4576 AUC-ROC: 0.7586\n",
      "Max depth: 52 F1-score: 0.4576 AUC-ROC: 0.7586\n",
      "Max depth: 53 F1-score: 0.4576 AUC-ROC: 0.7586\n",
      "Max depth: 54 F1-score: 0.4576 AUC-ROC: 0.7586\n",
      "Max depth: 55 F1-score: 0.4576 AUC-ROC: 0.7586\n",
      "Max depth: 56 F1-score: 0.4576 AUC-ROC: 0.7586\n",
      "Max depth: 57 F1-score: 0.4576 AUC-ROC: 0.7586\n",
      "Max depth: 58 F1-score: 0.4576 AUC-ROC: 0.7586\n",
      "Max depth: 59 F1-score: 0.4576 AUC-ROC: 0.7586\n",
      "Max depth: 60 F1-score: 0.4576 AUC-ROC: 0.7586\n",
      "Max depth: 61 F1-score: 0.4576 AUC-ROC: 0.7586\n",
      "Max depth: 62 F1-score: 0.4576 AUC-ROC: 0.7586\n",
      "Max depth: 63 F1-score: 0.4576 AUC-ROC: 0.7586\n",
      "Max depth: 64 F1-score: 0.4576 AUC-ROC: 0.7586\n",
      "Max depth: 65 F1-score: 0.4576 AUC-ROC: 0.7586\n",
      "Max depth: 66 F1-score: 0.4576 AUC-ROC: 0.7586\n",
      "Max depth: 67 F1-score: 0.4576 AUC-ROC: 0.7586\n",
      "Max depth: 68 F1-score: 0.4576 AUC-ROC: 0.7586\n",
      "Max depth: 69 F1-score: 0.4576 AUC-ROC: 0.7586\n",
      "Max depth: 70 F1-score: 0.4576 AUC-ROC: 0.7586\n",
      "Max depth: 71 F1-score: 0.4576 AUC-ROC: 0.7586\n",
      "Max depth: 72 F1-score: 0.4576 AUC-ROC: 0.7586\n",
      "Max depth: 73 F1-score: 0.4576 AUC-ROC: 0.7586\n",
      "Max depth: 74 F1-score: 0.4576 AUC-ROC: 0.7586\n",
      "Max depth: 75 F1-score: 0.4576 AUC-ROC: 0.7586\n",
      "Max depth: 76 F1-score: 0.4576 AUC-ROC: 0.7586\n",
      "Max depth: 77 F1-score: 0.4576 AUC-ROC: 0.7586\n",
      "Max depth: 78 F1-score: 0.4576 AUC-ROC: 0.7586\n",
      "Max depth: 79 F1-score: 0.4576 AUC-ROC: 0.7586\n",
      "Max depth: 80 F1-score: 0.4576 AUC-ROC: 0.7586\n",
      "Max depth: 81 F1-score: 0.4576 AUC-ROC: 0.7586\n",
      "Max depth: 82 F1-score: 0.4576 AUC-ROC: 0.7586\n",
      "Max depth: 83 F1-score: 0.4576 AUC-ROC: 0.7586\n",
      "Max depth: 84 F1-score: 0.4576 AUC-ROC: 0.7586\n",
      "Max depth: 85 F1-score: 0.4576 AUC-ROC: 0.7586\n",
      "Max depth: 86 F1-score: 0.4576 AUC-ROC: 0.7586\n",
      "Max depth: 87 F1-score: 0.4576 AUC-ROC: 0.7586\n",
      "Max depth: 88 F1-score: 0.4576 AUC-ROC: 0.7586\n",
      "Max depth: 89 F1-score: 0.4576 AUC-ROC: 0.7586\n",
      "Max depth: 90 F1-score: 0.4576 AUC-ROC: 0.7586\n",
      "Max depth: 91 F1-score: 0.4576 AUC-ROC: 0.7586\n",
      "Max depth: 92 F1-score: 0.4576 AUC-ROC: 0.7586\n",
      "Max depth: 93 F1-score: 0.4576 AUC-ROC: 0.7586\n",
      "Max depth: 94 F1-score: 0.4576 AUC-ROC: 0.7586\n",
      "Max depth: 95 F1-score: 0.4576 AUC-ROC: 0.7586\n",
      "Max depth: 96 F1-score: 0.4576 AUC-ROC: 0.7586\n",
      "Max depth: 97 F1-score: 0.4576 AUC-ROC: 0.7586\n",
      "Max depth: 98 F1-score: 0.4576 AUC-ROC: 0.7586\n",
      "Max depth: 99 F1-score: 0.4576 AUC-ROC: 0.7586\n",
      "Лучшая F1-score 0.5964 при глубине = 5,  AUC-ROC = 0.8310244134068074\n",
      "CPU times: user 3.71 s, sys: 55.2 ms, total: 3.77 s\n",
      "Wall time: 3.83 s\n"
     ]
    }
   ],
   "source": [
    "%%time \n",
    "\n",
    "best_result_dtc_upsampled = 0\n",
    "best_model_dtc_upsampled = None\n",
    "best_auc_roc_dtc_upsampled = 0\n",
    "best_depth_dtc_upsampled = 0\n",
    "for depth in range (1, 100, 1):\n",
    "    model_dtc_upsampled = DecisionTreeClassifier(max_depth= depth, random_state=12345)\n",
    "    model_dtc_upsampled.fit(features_upsampled, target_upsampled)\n",
    "    predicted_valid_dtc_upsampled = model_dtc_upsampled.predict(features_valid)\n",
    "    \n",
    "     \n",
    "    f1_dtc_upsampled = f1_score(target_valid, predicted_valid_dtc_upsampled)\n",
    "    \n",
    "    probabilities_valid_dtc_upsampled = model_dtc_upsampled.predict_proba(features_valid)\n",
    "    probabilities_one_valid_dtc_upsampled =  probabilities_valid_dtc_upsampled[:, 1]\n",
    "    auc_roc_dtc_upsampled = roc_auc_score(target_valid, probabilities_one_valid_dtc_upsampled)\n",
    "    print('Max depth:', depth,'F1-score:','{:.4f}'.format(f1_dtc_upsampled),\n",
    "          'AUC-ROC:','{:.4f}'.format(auc_roc))\n",
    "    \n",
    "    if best_result_dtc_upsampled < f1_dtc_upsampled:\n",
    "        best_result_dtc_upsampled= f1_dtc_upsampled\n",
    "        best_depth_dtc_upsampled = depth\n",
    "        best_model_dtc_upsampled = model_dtc_upsampled\n",
    "        best_auc_roc_dtc_upsampled = auc_roc_dtc_upsampled\n",
    "        \n",
    "print('Лучшая F1-score','{:.4f}'.format(best_result_dtc_upsampled), 'при глубине = {0},  AUC-ROC = {1}'\n",
    "      .format(best_depth_dtc_upsampled, best_auc_roc_dtc_upsampled))"
   ]
  },
  {
   "cell_type": "markdown",
   "metadata": {},
   "source": [
    "обучаем модель на увеличенной выборке - предсказываем на стандартной валидационной. Модель RandomForestClassifier."
   ]
  },
  {
   "cell_type": "code",
   "execution_count": 39,
   "metadata": {
    "scrolled": true
   },
   "outputs": [
    {
     "name": "stdout",
     "output_type": "stream",
     "text": [
      "Max depth: 1 F1-score: 0.2485 AUC-ROC: 0.5692\n",
      "Max depth: 1 F1-score: 0.2485 AUC-ROC: 0.5995\n",
      "Max depth: 1 F1-score: 0.5410 AUC-ROC: 0.7523\n",
      "Max depth: 1 F1-score: 0.5410 AUC-ROC: 0.7752\n",
      "Max depth: 1 F1-score: 0.5562 AUC-ROC: 0.7761\n",
      "Max depth: 1 F1-score: 0.5562 AUC-ROC: 0.7761\n",
      "Max depth: 1 F1-score: 0.5467 AUC-ROC: 0.7449\n",
      "Max depth: 1 F1-score: 0.4248 AUC-ROC: 0.7342\n",
      "Max depth: 1 F1-score: 0.4248 AUC-ROC: 0.7342\n",
      "Max depth: 1 F1-score: 0.5159 AUC-ROC: 0.7551\n",
      "Max depth: 1 F1-score: 0.5336 AUC-ROC: 0.7420\n",
      "Max depth: 1 F1-score: 0.5336 AUC-ROC: 0.7418\n",
      "Max depth: 1 F1-score: 0.5336 AUC-ROC: 0.7424\n",
      "Max depth: 1 F1-score: 0.5336 AUC-ROC: 0.7803\n",
      "Max depth: 1 F1-score: 0.5336 AUC-ROC: 0.7784\n",
      "Max depth: 1 F1-score: 0.5336 AUC-ROC: 0.7892\n",
      "Max depth: 1 F1-score: 0.5336 AUC-ROC: 0.7893\n",
      "Max depth: 1 F1-score: 0.5335 AUC-ROC: 0.7863\n",
      "Max depth: 1 F1-score: 0.5336 AUC-ROC: 0.7875\n",
      "Max depth: 1 F1-score: 0.5336 AUC-ROC: 0.7880\n",
      "Max depth: 1 F1-score: 0.5287 AUC-ROC: 0.7868\n",
      "Max depth: 1 F1-score: 0.5318 AUC-ROC: 0.7934\n",
      "Max depth: 1 F1-score: 0.5344 AUC-ROC: 0.7944\n",
      "Max depth: 1 F1-score: 0.5320 AUC-ROC: 0.7934\n",
      "Max depth: 1 F1-score: 0.5453 AUC-ROC: 0.7968\n",
      "Max depth: 1 F1-score: 0.5455 AUC-ROC: 0.7949\n",
      "Max depth: 1 F1-score: 0.5455 AUC-ROC: 0.7977\n",
      "Max depth: 1 F1-score: 0.5453 AUC-ROC: 0.7952\n",
      "Max depth: 1 F1-score: 0.5365 AUC-ROC: 0.7952\n",
      "Max depth: 1 F1-score: 0.5177 AUC-ROC: 0.7947\n",
      "Max depth: 1 F1-score: 0.5222 AUC-ROC: 0.7958\n",
      "Max depth: 1 F1-score: 0.5238 AUC-ROC: 0.7986\n",
      "Max depth: 1 F1-score: 0.5238 AUC-ROC: 0.7994\n",
      "Max depth: 1 F1-score: 0.5242 AUC-ROC: 0.8018\n",
      "Max depth: 1 F1-score: 0.5366 AUC-ROC: 0.8000\n",
      "Max depth: 1 F1-score: 0.5404 AUC-ROC: 0.8020\n",
      "Max depth: 1 F1-score: 0.5404 AUC-ROC: 0.8029\n",
      "Max depth: 1 F1-score: 0.5455 AUC-ROC: 0.8019\n",
      "Max depth: 1 F1-score: 0.5465 AUC-ROC: 0.8022\n",
      "Max depth: 1 F1-score: 0.5374 AUC-ROC: 0.8034\n",
      "Max depth: 1 F1-score: 0.5413 AUC-ROC: 0.8022\n",
      "Max depth: 1 F1-score: 0.5413 AUC-ROC: 0.8028\n",
      "Max depth: 1 F1-score: 0.5377 AUC-ROC: 0.8024\n",
      "Max depth: 1 F1-score: 0.5353 AUC-ROC: 0.8029\n",
      "Max depth: 1 F1-score: 0.5412 AUC-ROC: 0.8024\n",
      "Max depth: 1 F1-score: 0.5374 AUC-ROC: 0.8009\n",
      "Max depth: 1 F1-score: 0.5415 AUC-ROC: 0.7996\n",
      "Max depth: 1 F1-score: 0.5453 AUC-ROC: 0.7987\n",
      "Max depth: 1 F1-score: 0.5451 AUC-ROC: 0.7993\n",
      "Max depth: 2 F1-score: 0.4020 AUC-ROC: 0.6356\n",
      "Max depth: 2 F1-score: 0.5074 AUC-ROC: 0.7541\n",
      "Max depth: 2 F1-score: 0.5397 AUC-ROC: 0.7806\n",
      "Max depth: 2 F1-score: 0.5455 AUC-ROC: 0.7891\n",
      "Max depth: 2 F1-score: 0.5465 AUC-ROC: 0.7946\n",
      "Max depth: 2 F1-score: 0.5580 AUC-ROC: 0.7984\n",
      "Max depth: 2 F1-score: 0.5602 AUC-ROC: 0.8126\n",
      "Max depth: 2 F1-score: 0.5893 AUC-ROC: 0.8130\n",
      "Max depth: 2 F1-score: 0.5606 AUC-ROC: 0.8107\n",
      "Max depth: 2 F1-score: 0.5766 AUC-ROC: 0.8154\n",
      "Max depth: 2 F1-score: 0.5436 AUC-ROC: 0.8135\n",
      "Max depth: 2 F1-score: 0.5701 AUC-ROC: 0.8115\n",
      "Max depth: 2 F1-score: 0.5690 AUC-ROC: 0.8136\n",
      "Max depth: 2 F1-score: 0.5728 AUC-ROC: 0.8131\n",
      "Max depth: 2 F1-score: 0.5562 AUC-ROC: 0.8103\n",
      "Max depth: 2 F1-score: 0.5549 AUC-ROC: 0.8092\n",
      "Max depth: 2 F1-score: 0.5479 AUC-ROC: 0.8116\n",
      "Max depth: 2 F1-score: 0.5549 AUC-ROC: 0.8123\n",
      "Max depth: 2 F1-score: 0.5501 AUC-ROC: 0.8122\n",
      "Max depth: 2 F1-score: 0.5511 AUC-ROC: 0.8121\n",
      "Max depth: 2 F1-score: 0.5433 AUC-ROC: 0.8111\n",
      "Max depth: 2 F1-score: 0.5459 AUC-ROC: 0.8122\n",
      "Max depth: 2 F1-score: 0.5459 AUC-ROC: 0.8139\n",
      "Max depth: 2 F1-score: 0.5510 AUC-ROC: 0.8134\n",
      "Max depth: 2 F1-score: 0.5530 AUC-ROC: 0.8141\n",
      "Max depth: 2 F1-score: 0.5495 AUC-ROC: 0.8139\n",
      "Max depth: 2 F1-score: 0.5500 AUC-ROC: 0.8142\n",
      "Max depth: 2 F1-score: 0.5530 AUC-ROC: 0.8155\n",
      "Max depth: 2 F1-score: 0.5535 AUC-ROC: 0.8164\n",
      "Max depth: 2 F1-score: 0.5537 AUC-ROC: 0.8161\n",
      "Max depth: 2 F1-score: 0.5523 AUC-ROC: 0.8156\n",
      "Max depth: 2 F1-score: 0.5518 AUC-ROC: 0.8163\n",
      "Max depth: 2 F1-score: 0.5528 AUC-ROC: 0.8166\n",
      "Max depth: 2 F1-score: 0.5532 AUC-ROC: 0.8163\n",
      "Max depth: 2 F1-score: 0.5513 AUC-ROC: 0.8172\n",
      "Max depth: 2 F1-score: 0.5492 AUC-ROC: 0.8205\n",
      "Max depth: 2 F1-score: 0.5653 AUC-ROC: 0.8239\n",
      "Max depth: 2 F1-score: 0.5618 AUC-ROC: 0.8241\n",
      "Max depth: 2 F1-score: 0.5584 AUC-ROC: 0.8237\n",
      "Max depth: 2 F1-score: 0.5570 AUC-ROC: 0.8231\n",
      "Max depth: 2 F1-score: 0.5617 AUC-ROC: 0.8226\n",
      "Max depth: 2 F1-score: 0.5637 AUC-ROC: 0.8230\n",
      "Max depth: 2 F1-score: 0.5658 AUC-ROC: 0.8221\n",
      "Max depth: 2 F1-score: 0.5690 AUC-ROC: 0.8233\n",
      "Max depth: 2 F1-score: 0.5619 AUC-ROC: 0.8226\n",
      "Max depth: 2 F1-score: 0.5588 AUC-ROC: 0.8220\n",
      "Max depth: 2 F1-score: 0.5568 AUC-ROC: 0.8220\n",
      "Max depth: 2 F1-score: 0.5573 AUC-ROC: 0.8211\n",
      "Max depth: 2 F1-score: 0.5588 AUC-ROC: 0.8213\n",
      "Max depth: 3 F1-score: 0.4819 AUC-ROC: 0.7277\n",
      "Max depth: 3 F1-score: 0.5174 AUC-ROC: 0.7686\n",
      "Max depth: 3 F1-score: 0.5366 AUC-ROC: 0.7831\n",
      "Max depth: 3 F1-score: 0.5298 AUC-ROC: 0.7952\n",
      "Max depth: 3 F1-score: 0.5361 AUC-ROC: 0.7974\n",
      "Max depth: 3 F1-score: 0.5502 AUC-ROC: 0.8142\n",
      "Max depth: 3 F1-score: 0.5487 AUC-ROC: 0.8198\n",
      "Max depth: 3 F1-score: 0.5581 AUC-ROC: 0.8222\n",
      "Max depth: 3 F1-score: 0.5696 AUC-ROC: 0.8264\n",
      "Max depth: 3 F1-score: 0.5793 AUC-ROC: 0.8278\n",
      "Max depth: 3 F1-score: 0.5741 AUC-ROC: 0.8275\n",
      "Max depth: 3 F1-score: 0.5676 AUC-ROC: 0.8275\n",
      "Max depth: 3 F1-score: 0.5806 AUC-ROC: 0.8264\n",
      "Max depth: 3 F1-score: 0.5761 AUC-ROC: 0.8261\n",
      "Max depth: 3 F1-score: 0.5647 AUC-ROC: 0.8265\n",
      "Max depth: 3 F1-score: 0.5617 AUC-ROC: 0.8262\n",
      "Max depth: 3 F1-score: 0.5730 AUC-ROC: 0.8283\n",
      "Max depth: 3 F1-score: 0.5781 AUC-ROC: 0.8315\n",
      "Max depth: 3 F1-score: 0.5706 AUC-ROC: 0.8305\n",
      "Max depth: 3 F1-score: 0.5730 AUC-ROC: 0.8312\n",
      "Max depth: 3 F1-score: 0.5768 AUC-ROC: 0.8315\n",
      "Max depth: 3 F1-score: 0.5643 AUC-ROC: 0.8305\n",
      "Max depth: 3 F1-score: 0.5641 AUC-ROC: 0.8292\n",
      "Max depth: 3 F1-score: 0.5644 AUC-ROC: 0.8286\n",
      "Max depth: 3 F1-score: 0.5571 AUC-ROC: 0.8280\n",
      "Max depth: 3 F1-score: 0.5576 AUC-ROC: 0.8267\n",
      "Max depth: 3 F1-score: 0.5551 AUC-ROC: 0.8261\n",
      "Max depth: 3 F1-score: 0.5561 AUC-ROC: 0.8258\n",
      "Max depth: 3 F1-score: 0.5566 AUC-ROC: 0.8263\n",
      "Max depth: 3 F1-score: 0.5559 AUC-ROC: 0.8262\n",
      "Max depth: 3 F1-score: 0.5544 AUC-ROC: 0.8249\n",
      "Max depth: 3 F1-score: 0.5529 AUC-ROC: 0.8261\n",
      "Max depth: 3 F1-score: 0.5539 AUC-ROC: 0.8264\n",
      "Max depth: 3 F1-score: 0.5529 AUC-ROC: 0.8263\n",
      "Max depth: 3 F1-score: 0.5548 AUC-ROC: 0.8264\n",
      "Max depth: 3 F1-score: 0.5613 AUC-ROC: 0.8300\n",
      "Max depth: 3 F1-score: 0.5603 AUC-ROC: 0.8320\n",
      "Max depth: 3 F1-score: 0.5591 AUC-ROC: 0.8321\n",
      "Max depth: 3 F1-score: 0.5701 AUC-ROC: 0.8322\n",
      "Max depth: 3 F1-score: 0.5678 AUC-ROC: 0.8312\n",
      "Max depth: 3 F1-score: 0.5606 AUC-ROC: 0.8306\n",
      "Max depth: 3 F1-score: 0.5696 AUC-ROC: 0.8307\n",
      "Max depth: 3 F1-score: 0.5665 AUC-ROC: 0.8304\n",
      "Max depth: 3 F1-score: 0.5727 AUC-ROC: 0.8315\n",
      "Max depth: 3 F1-score: 0.5720 AUC-ROC: 0.8312\n",
      "Max depth: 3 F1-score: 0.5696 AUC-ROC: 0.8318\n",
      "Max depth: 3 F1-score: 0.5654 AUC-ROC: 0.8314\n",
      "Max depth: 3 F1-score: 0.5621 AUC-ROC: 0.8315\n",
      "Max depth: 3 F1-score: 0.5701 AUC-ROC: 0.8319\n",
      "Max depth: 4 F1-score: 0.5558 AUC-ROC: 0.7960\n",
      "Max depth: 4 F1-score: 0.5417 AUC-ROC: 0.8055\n",
      "Max depth: 4 F1-score: 0.5654 AUC-ROC: 0.8085\n",
      "Max depth: 4 F1-score: 0.5589 AUC-ROC: 0.8149\n",
      "Max depth: 4 F1-score: 0.5864 AUC-ROC: 0.8186\n",
      "Max depth: 4 F1-score: 0.6006 AUC-ROC: 0.8265\n",
      "Max depth: 4 F1-score: 0.6042 AUC-ROC: 0.8288\n",
      "Max depth: 4 F1-score: 0.6010 AUC-ROC: 0.8349\n",
      "Max depth: 4 F1-score: 0.6111 AUC-ROC: 0.8386\n",
      "Max depth: 4 F1-score: 0.6064 AUC-ROC: 0.8396\n",
      "Max depth: 4 F1-score: 0.6028 AUC-ROC: 0.8392\n",
      "Max depth: 4 F1-score: 0.5979 AUC-ROC: 0.8388\n",
      "Max depth: 4 F1-score: 0.5932 AUC-ROC: 0.8387\n",
      "Max depth: 4 F1-score: 0.5994 AUC-ROC: 0.8380\n",
      "Max depth: 4 F1-score: 0.5996 AUC-ROC: 0.8379\n",
      "Max depth: 4 F1-score: 0.5957 AUC-ROC: 0.8380\n",
      "Max depth: 4 F1-score: 0.6043 AUC-ROC: 0.8384\n",
      "Max depth: 4 F1-score: 0.6004 AUC-ROC: 0.8395\n",
      "Max depth: 4 F1-score: 0.6000 AUC-ROC: 0.8389\n",
      "Max depth: 4 F1-score: 0.6004 AUC-ROC: 0.8391\n",
      "Max depth: 4 F1-score: 0.6064 AUC-ROC: 0.8401\n",
      "Max depth: 4 F1-score: 0.6085 AUC-ROC: 0.8423\n",
      "Max depth: 4 F1-score: 0.6024 AUC-ROC: 0.8410\n",
      "Max depth: 4 F1-score: 0.5998 AUC-ROC: 0.8421\n",
      "Max depth: 4 F1-score: 0.5992 AUC-ROC: 0.8413\n",
      "Max depth: 4 F1-score: 0.6004 AUC-ROC: 0.8404\n",
      "Max depth: 4 F1-score: 0.6010 AUC-ROC: 0.8397\n",
      "Max depth: 4 F1-score: 0.5984 AUC-ROC: 0.8394\n",
      "Max depth: 4 F1-score: 0.5980 AUC-ROC: 0.8401\n",
      "Max depth: 4 F1-score: 0.5998 AUC-ROC: 0.8393\n",
      "Max depth: 4 F1-score: 0.5975 AUC-ROC: 0.8385\n",
      "Max depth: 4 F1-score: 0.5996 AUC-ROC: 0.8403\n",
      "Max depth: 4 F1-score: 0.5984 AUC-ROC: 0.8394\n",
      "Max depth: 4 F1-score: 0.5982 AUC-ROC: 0.8394\n",
      "Max depth: 4 F1-score: 0.5979 AUC-ROC: 0.8402\n",
      "Max depth: 4 F1-score: 0.6041 AUC-ROC: 0.8424\n",
      "Max depth: 4 F1-score: 0.6053 AUC-ROC: 0.8432\n",
      "Max depth: 4 F1-score: 0.6035 AUC-ROC: 0.8432\n",
      "Max depth: 4 F1-score: 0.6029 AUC-ROC: 0.8430\n",
      "Max depth: 4 F1-score: 0.6025 AUC-ROC: 0.8425\n",
      "Max depth: 4 F1-score: 0.6035 AUC-ROC: 0.8421\n",
      "Max depth: 4 F1-score: 0.6018 AUC-ROC: 0.8417\n",
      "Max depth: 4 F1-score: 0.6008 AUC-ROC: 0.8415\n",
      "Max depth: 4 F1-score: 0.6033 AUC-ROC: 0.8425\n",
      "Max depth: 4 F1-score: 0.6043 AUC-ROC: 0.8422\n",
      "Max depth: 4 F1-score: 0.6029 AUC-ROC: 0.8424\n",
      "Max depth: 4 F1-score: 0.6025 AUC-ROC: 0.8421\n",
      "Max depth: 4 F1-score: 0.6023 AUC-ROC: 0.8417\n",
      "Max depth: 4 F1-score: 0.6022 AUC-ROC: 0.8425\n",
      "Max depth: 5 F1-score: 0.5533 AUC-ROC: 0.7939\n",
      "Max depth: 5 F1-score: 0.5717 AUC-ROC: 0.8081\n",
      "Max depth: 5 F1-score: 0.5776 AUC-ROC: 0.8176\n",
      "Max depth: 5 F1-score: 0.5834 AUC-ROC: 0.8201\n",
      "Max depth: 5 F1-score: 0.5887 AUC-ROC: 0.8287\n",
      "Max depth: 5 F1-score: 0.5935 AUC-ROC: 0.8332\n",
      "Max depth: 5 F1-score: 0.6040 AUC-ROC: 0.8363\n",
      "Max depth: 5 F1-score: 0.5994 AUC-ROC: 0.8396\n",
      "Max depth: 5 F1-score: 0.6061 AUC-ROC: 0.8417\n",
      "Max depth: 5 F1-score: 0.6029 AUC-ROC: 0.8427\n",
      "Max depth: 5 F1-score: 0.5955 AUC-ROC: 0.8424\n",
      "Max depth: 5 F1-score: 0.5899 AUC-ROC: 0.8410\n",
      "Max depth: 5 F1-score: 0.5854 AUC-ROC: 0.8406\n",
      "Max depth: 5 F1-score: 0.5910 AUC-ROC: 0.8408\n",
      "Max depth: 5 F1-score: 0.5939 AUC-ROC: 0.8423\n",
      "Max depth: 5 F1-score: 0.5967 AUC-ROC: 0.8433\n",
      "Max depth: 5 F1-score: 0.5959 AUC-ROC: 0.8436\n",
      "Max depth: 5 F1-score: 0.6095 AUC-ROC: 0.8445\n",
      "Max depth: 5 F1-score: 0.6105 AUC-ROC: 0.8441\n",
      "Max depth: 5 F1-score: 0.6086 AUC-ROC: 0.8439\n",
      "Max depth: 5 F1-score: 0.6126 AUC-ROC: 0.8447\n",
      "Max depth: 5 F1-score: 0.6065 AUC-ROC: 0.8437\n",
      "Max depth: 5 F1-score: 0.6030 AUC-ROC: 0.8427\n",
      "Max depth: 5 F1-score: 0.6033 AUC-ROC: 0.8438\n",
      "Max depth: 5 F1-score: 0.6087 AUC-ROC: 0.8438\n",
      "Max depth: 5 F1-score: 0.6010 AUC-ROC: 0.8440\n",
      "Max depth: 5 F1-score: 0.6026 AUC-ROC: 0.8448\n",
      "Max depth: 5 F1-score: 0.6035 AUC-ROC: 0.8445\n",
      "Max depth: 5 F1-score: 0.6026 AUC-ROC: 0.8444\n",
      "Max depth: 5 F1-score: 0.6051 AUC-ROC: 0.8445\n",
      "Max depth: 5 F1-score: 0.6031 AUC-ROC: 0.8442\n",
      "Max depth: 5 F1-score: 0.6055 AUC-ROC: 0.8448\n",
      "Max depth: 5 F1-score: 0.6036 AUC-ROC: 0.8440\n",
      "Max depth: 5 F1-score: 0.6032 AUC-ROC: 0.8441\n",
      "Max depth: 5 F1-score: 0.6034 AUC-ROC: 0.8447\n",
      "Max depth: 5 F1-score: 0.6044 AUC-ROC: 0.8460\n",
      "Max depth: 5 F1-score: 0.6058 AUC-ROC: 0.8467\n",
      "Max depth: 5 F1-score: 0.6028 AUC-ROC: 0.8466\n",
      "Max depth: 5 F1-score: 0.6038 AUC-ROC: 0.8466\n",
      "Max depth: 5 F1-score: 0.6041 AUC-ROC: 0.8462\n",
      "Max depth: 5 F1-score: 0.6018 AUC-ROC: 0.8466\n",
      "Max depth: 5 F1-score: 0.6045 AUC-ROC: 0.8466\n",
      "Max depth: 5 F1-score: 0.6006 AUC-ROC: 0.8463\n",
      "Max depth: 5 F1-score: 0.6041 AUC-ROC: 0.8465\n",
      "Max depth: 5 F1-score: 0.6041 AUC-ROC: 0.8466\n",
      "Max depth: 5 F1-score: 0.6075 AUC-ROC: 0.8468\n",
      "Max depth: 5 F1-score: 0.6063 AUC-ROC: 0.8466\n",
      "Max depth: 5 F1-score: 0.6053 AUC-ROC: 0.8467\n",
      "Max depth: 5 F1-score: 0.6063 AUC-ROC: 0.8471\n",
      "Max depth: 6 F1-score: 0.5739 AUC-ROC: 0.7905\n",
      "Max depth: 6 F1-score: 0.5739 AUC-ROC: 0.8134\n",
      "Max depth: 6 F1-score: 0.5889 AUC-ROC: 0.8338\n",
      "Max depth: 6 F1-score: 0.5812 AUC-ROC: 0.8357\n",
      "Max depth: 6 F1-score: 0.5920 AUC-ROC: 0.8426\n",
      "Max depth: 6 F1-score: 0.5969 AUC-ROC: 0.8478\n",
      "Max depth: 6 F1-score: 0.5911 AUC-ROC: 0.8489\n",
      "Max depth: 6 F1-score: 0.5898 AUC-ROC: 0.8494\n",
      "Max depth: 6 F1-score: 0.5855 AUC-ROC: 0.8494\n",
      "Max depth: 6 F1-score: 0.5883 AUC-ROC: 0.8478\n",
      "Max depth: 6 F1-score: 0.5898 AUC-ROC: 0.8474\n",
      "Max depth: 6 F1-score: 0.5921 AUC-ROC: 0.8469\n",
      "Max depth: 6 F1-score: 0.5928 AUC-ROC: 0.8473\n",
      "Max depth: 6 F1-score: 0.5988 AUC-ROC: 0.8472\n",
      "Max depth: 6 F1-score: 0.5988 AUC-ROC: 0.8482\n",
      "Max depth: 6 F1-score: 0.6010 AUC-ROC: 0.8488\n",
      "Max depth: 6 F1-score: 0.6022 AUC-ROC: 0.8489\n",
      "Max depth: 6 F1-score: 0.6065 AUC-ROC: 0.8485\n",
      "Max depth: 6 F1-score: 0.6117 AUC-ROC: 0.8497\n",
      "Max depth: 6 F1-score: 0.6062 AUC-ROC: 0.8497\n",
      "Max depth: 6 F1-score: 0.6056 AUC-ROC: 0.8492\n",
      "Max depth: 6 F1-score: 0.6034 AUC-ROC: 0.8484\n",
      "Max depth: 6 F1-score: 0.5984 AUC-ROC: 0.8478\n",
      "Max depth: 6 F1-score: 0.5955 AUC-ROC: 0.8479\n",
      "Max depth: 6 F1-score: 0.6040 AUC-ROC: 0.8483\n",
      "Max depth: 6 F1-score: 0.6106 AUC-ROC: 0.8489\n",
      "Max depth: 6 F1-score: 0.6086 AUC-ROC: 0.8484\n",
      "Max depth: 6 F1-score: 0.6024 AUC-ROC: 0.8486\n",
      "Max depth: 6 F1-score: 0.6043 AUC-ROC: 0.8488\n",
      "Max depth: 6 F1-score: 0.6027 AUC-ROC: 0.8485\n",
      "Max depth: 6 F1-score: 0.6055 AUC-ROC: 0.8490\n",
      "Max depth: 6 F1-score: 0.6024 AUC-ROC: 0.8493\n",
      "Max depth: 6 F1-score: 0.6014 AUC-ROC: 0.8493\n",
      "Max depth: 6 F1-score: 0.5996 AUC-ROC: 0.8499\n",
      "Max depth: 6 F1-score: 0.6022 AUC-ROC: 0.8505\n",
      "Max depth: 6 F1-score: 0.6018 AUC-ROC: 0.8511\n",
      "Max depth: 6 F1-score: 0.5996 AUC-ROC: 0.8513\n",
      "Max depth: 6 F1-score: 0.6004 AUC-ROC: 0.8512\n",
      "Max depth: 6 F1-score: 0.5986 AUC-ROC: 0.8512\n",
      "Max depth: 6 F1-score: 0.5934 AUC-ROC: 0.8510\n",
      "Max depth: 6 F1-score: 0.5928 AUC-ROC: 0.8511\n",
      "Max depth: 6 F1-score: 0.5963 AUC-ROC: 0.8511\n",
      "Max depth: 6 F1-score: 0.5963 AUC-ROC: 0.8518\n",
      "Max depth: 6 F1-score: 0.5998 AUC-ROC: 0.8518\n",
      "Max depth: 6 F1-score: 0.6012 AUC-ROC: 0.8524\n",
      "Max depth: 6 F1-score: 0.5986 AUC-ROC: 0.8525\n",
      "Max depth: 6 F1-score: 0.6008 AUC-ROC: 0.8523\n",
      "Max depth: 6 F1-score: 0.6028 AUC-ROC: 0.8521\n",
      "Max depth: 6 F1-score: 0.6043 AUC-ROC: 0.8520\n",
      "Max depth: 7 F1-score: 0.5603 AUC-ROC: 0.7951\n",
      "Max depth: 7 F1-score: 0.5472 AUC-ROC: 0.8236\n",
      "Max depth: 7 F1-score: 0.5781 AUC-ROC: 0.8365\n",
      "Max depth: 7 F1-score: 0.5887 AUC-ROC: 0.8417\n",
      "Max depth: 7 F1-score: 0.5922 AUC-ROC: 0.8435\n",
      "Max depth: 7 F1-score: 0.6056 AUC-ROC: 0.8507\n",
      "Max depth: 7 F1-score: 0.5969 AUC-ROC: 0.8500\n",
      "Max depth: 7 F1-score: 0.5959 AUC-ROC: 0.8482\n",
      "Max depth: 7 F1-score: 0.6006 AUC-ROC: 0.8501\n",
      "Max depth: 7 F1-score: 0.6055 AUC-ROC: 0.8514\n",
      "Max depth: 7 F1-score: 0.6078 AUC-ROC: 0.8504\n",
      "Max depth: 7 F1-score: 0.6095 AUC-ROC: 0.8518\n",
      "Max depth: 7 F1-score: 0.6158 AUC-ROC: 0.8525\n",
      "Max depth: 7 F1-score: 0.6113 AUC-ROC: 0.8534\n",
      "Max depth: 7 F1-score: 0.6151 AUC-ROC: 0.8536\n",
      "Max depth: 7 F1-score: 0.6130 AUC-ROC: 0.8543\n",
      "Max depth: 7 F1-score: 0.6140 AUC-ROC: 0.8541\n",
      "Max depth: 7 F1-score: 0.6182 AUC-ROC: 0.8539\n",
      "Max depth: 7 F1-score: 0.6183 AUC-ROC: 0.8547\n",
      "Max depth: 7 F1-score: 0.6255 AUC-ROC: 0.8552\n",
      "Max depth: 7 F1-score: 0.6222 AUC-ROC: 0.8551\n",
      "Max depth: 7 F1-score: 0.6210 AUC-ROC: 0.8547\n",
      "Max depth: 7 F1-score: 0.6197 AUC-ROC: 0.8550\n",
      "Max depth: 7 F1-score: 0.6171 AUC-ROC: 0.8552\n",
      "Max depth: 7 F1-score: 0.6183 AUC-ROC: 0.8544\n",
      "Max depth: 7 F1-score: 0.6160 AUC-ROC: 0.8540\n",
      "Max depth: 7 F1-score: 0.6221 AUC-ROC: 0.8541\n",
      "Max depth: 7 F1-score: 0.6206 AUC-ROC: 0.8541\n",
      "Max depth: 7 F1-score: 0.6166 AUC-ROC: 0.8544\n",
      "Max depth: 7 F1-score: 0.6202 AUC-ROC: 0.8541\n",
      "Max depth: 7 F1-score: 0.6193 AUC-ROC: 0.8535\n",
      "Max depth: 7 F1-score: 0.6184 AUC-ROC: 0.8539\n",
      "Max depth: 7 F1-score: 0.6191 AUC-ROC: 0.8530\n",
      "Max depth: 7 F1-score: 0.6176 AUC-ROC: 0.8532\n",
      "Max depth: 7 F1-score: 0.6155 AUC-ROC: 0.8535\n",
      "Max depth: 7 F1-score: 0.6126 AUC-ROC: 0.8537\n",
      "Max depth: 7 F1-score: 0.6135 AUC-ROC: 0.8540\n",
      "Max depth: 7 F1-score: 0.6129 AUC-ROC: 0.8543\n",
      "Max depth: 7 F1-score: 0.6149 AUC-ROC: 0.8538\n",
      "Max depth: 7 F1-score: 0.6123 AUC-ROC: 0.8535\n",
      "Max depth: 7 F1-score: 0.6158 AUC-ROC: 0.8540\n",
      "Max depth: 7 F1-score: 0.6127 AUC-ROC: 0.8535\n",
      "Max depth: 7 F1-score: 0.6127 AUC-ROC: 0.8539\n",
      "Max depth: 7 F1-score: 0.6096 AUC-ROC: 0.8537\n",
      "Max depth: 7 F1-score: 0.6143 AUC-ROC: 0.8539\n",
      "Max depth: 7 F1-score: 0.6130 AUC-ROC: 0.8535\n",
      "Max depth: 7 F1-score: 0.6137 AUC-ROC: 0.8537\n",
      "Max depth: 7 F1-score: 0.6110 AUC-ROC: 0.8539\n",
      "Max depth: 7 F1-score: 0.6137 AUC-ROC: 0.8535\n",
      "Max depth: 8 F1-score: 0.5617 AUC-ROC: 0.7942\n",
      "Max depth: 8 F1-score: 0.5671 AUC-ROC: 0.8294\n",
      "Max depth: 8 F1-score: 0.5739 AUC-ROC: 0.8331\n",
      "Max depth: 8 F1-score: 0.5609 AUC-ROC: 0.8322\n",
      "Max depth: 8 F1-score: 0.5796 AUC-ROC: 0.8397\n",
      "Max depth: 8 F1-score: 0.5809 AUC-ROC: 0.8432\n",
      "Max depth: 8 F1-score: 0.5831 AUC-ROC: 0.8436\n",
      "Max depth: 8 F1-score: 0.5927 AUC-ROC: 0.8429\n",
      "Max depth: 8 F1-score: 0.6022 AUC-ROC: 0.8446\n",
      "Max depth: 8 F1-score: 0.6061 AUC-ROC: 0.8448\n",
      "Max depth: 8 F1-score: 0.6057 AUC-ROC: 0.8444\n",
      "Max depth: 8 F1-score: 0.6086 AUC-ROC: 0.8458\n",
      "Max depth: 8 F1-score: 0.6072 AUC-ROC: 0.8473\n",
      "Max depth: 8 F1-score: 0.6067 AUC-ROC: 0.8491\n",
      "Max depth: 8 F1-score: 0.6105 AUC-ROC: 0.8492\n",
      "Max depth: 8 F1-score: 0.6141 AUC-ROC: 0.8501\n",
      "Max depth: 8 F1-score: 0.6082 AUC-ROC: 0.8498\n",
      "Max depth: 8 F1-score: 0.6105 AUC-ROC: 0.8502\n",
      "Max depth: 8 F1-score: 0.6179 AUC-ROC: 0.8506\n",
      "Max depth: 8 F1-score: 0.6133 AUC-ROC: 0.8512\n",
      "Max depth: 8 F1-score: 0.6176 AUC-ROC: 0.8506\n",
      "Max depth: 8 F1-score: 0.6162 AUC-ROC: 0.8508\n",
      "Max depth: 8 F1-score: 0.6220 AUC-ROC: 0.8517\n",
      "Max depth: 8 F1-score: 0.6146 AUC-ROC: 0.8518\n",
      "Max depth: 8 F1-score: 0.6149 AUC-ROC: 0.8524\n",
      "Max depth: 8 F1-score: 0.6122 AUC-ROC: 0.8514\n",
      "Max depth: 8 F1-score: 0.6152 AUC-ROC: 0.8516\n",
      "Max depth: 8 F1-score: 0.6171 AUC-ROC: 0.8514\n",
      "Max depth: 8 F1-score: 0.6168 AUC-ROC: 0.8513\n",
      "Max depth: 8 F1-score: 0.6184 AUC-ROC: 0.8513\n",
      "Max depth: 8 F1-score: 0.6177 AUC-ROC: 0.8514\n",
      "Max depth: 8 F1-score: 0.6184 AUC-ROC: 0.8519\n",
      "Max depth: 8 F1-score: 0.6184 AUC-ROC: 0.8516\n",
      "Max depth: 8 F1-score: 0.6184 AUC-ROC: 0.8520\n",
      "Max depth: 8 F1-score: 0.6155 AUC-ROC: 0.8524\n",
      "Max depth: 8 F1-score: 0.6181 AUC-ROC: 0.8525\n",
      "Max depth: 8 F1-score: 0.6200 AUC-ROC: 0.8532\n",
      "Max depth: 8 F1-score: 0.6176 AUC-ROC: 0.8526\n",
      "Max depth: 8 F1-score: 0.6155 AUC-ROC: 0.8527\n",
      "Max depth: 8 F1-score: 0.6160 AUC-ROC: 0.8531\n",
      "Max depth: 8 F1-score: 0.6174 AUC-ROC: 0.8533\n",
      "Max depth: 8 F1-score: 0.6186 AUC-ROC: 0.8533\n",
      "Max depth: 8 F1-score: 0.6162 AUC-ROC: 0.8538\n",
      "Max depth: 8 F1-score: 0.6148 AUC-ROC: 0.8535\n",
      "Max depth: 8 F1-score: 0.6155 AUC-ROC: 0.8533\n",
      "Max depth: 8 F1-score: 0.6193 AUC-ROC: 0.8537\n",
      "Max depth: 8 F1-score: 0.6208 AUC-ROC: 0.8538\n",
      "Max depth: 8 F1-score: 0.6201 AUC-ROC: 0.8538\n",
      "Max depth: 8 F1-score: 0.6163 AUC-ROC: 0.8541\n",
      "Max depth: 9 F1-score: 0.5560 AUC-ROC: 0.7979\n",
      "Max depth: 9 F1-score: 0.5626 AUC-ROC: 0.8117\n",
      "Max depth: 9 F1-score: 0.5856 AUC-ROC: 0.8285\n",
      "Max depth: 9 F1-score: 0.5831 AUC-ROC: 0.8360\n",
      "Max depth: 9 F1-score: 0.5952 AUC-ROC: 0.8424\n",
      "Max depth: 9 F1-score: 0.6047 AUC-ROC: 0.8426\n",
      "Max depth: 9 F1-score: 0.6006 AUC-ROC: 0.8440\n",
      "Max depth: 9 F1-score: 0.5974 AUC-ROC: 0.8430\n",
      "Max depth: 9 F1-score: 0.6083 AUC-ROC: 0.8436\n",
      "Max depth: 9 F1-score: 0.6083 AUC-ROC: 0.8426\n",
      "Max depth: 9 F1-score: 0.6038 AUC-ROC: 0.8429\n",
      "Max depth: 9 F1-score: 0.6055 AUC-ROC: 0.8430\n",
      "Max depth: 9 F1-score: 0.6053 AUC-ROC: 0.8447\n",
      "Max depth: 9 F1-score: 0.6039 AUC-ROC: 0.8443\n",
      "Max depth: 9 F1-score: 0.6118 AUC-ROC: 0.8461\n",
      "Max depth: 9 F1-score: 0.6083 AUC-ROC: 0.8470\n",
      "Max depth: 9 F1-score: 0.6109 AUC-ROC: 0.8467\n",
      "Max depth: 9 F1-score: 0.6099 AUC-ROC: 0.8458\n",
      "Max depth: 9 F1-score: 0.6078 AUC-ROC: 0.8475\n",
      "Max depth: 9 F1-score: 0.6062 AUC-ROC: 0.8472\n",
      "Max depth: 9 F1-score: 0.6039 AUC-ROC: 0.8471\n",
      "Max depth: 9 F1-score: 0.6078 AUC-ROC: 0.8465\n",
      "Max depth: 9 F1-score: 0.6106 AUC-ROC: 0.8473\n",
      "Max depth: 9 F1-score: 0.6112 AUC-ROC: 0.8473\n",
      "Max depth: 9 F1-score: 0.6131 AUC-ROC: 0.8476\n",
      "Max depth: 9 F1-score: 0.6122 AUC-ROC: 0.8477\n",
      "Max depth: 9 F1-score: 0.6113 AUC-ROC: 0.8480\n",
      "Max depth: 9 F1-score: 0.6077 AUC-ROC: 0.8483\n",
      "Max depth: 9 F1-score: 0.6088 AUC-ROC: 0.8485\n",
      "Max depth: 9 F1-score: 0.6088 AUC-ROC: 0.8491\n",
      "Max depth: 9 F1-score: 0.6103 AUC-ROC: 0.8488\n",
      "Max depth: 9 F1-score: 0.6090 AUC-ROC: 0.8495\n",
      "Max depth: 9 F1-score: 0.6169 AUC-ROC: 0.8501\n",
      "Max depth: 9 F1-score: 0.6155 AUC-ROC: 0.8497\n",
      "Max depth: 9 F1-score: 0.6129 AUC-ROC: 0.8507\n",
      "Max depth: 9 F1-score: 0.6128 AUC-ROC: 0.8509\n",
      "Max depth: 9 F1-score: 0.6116 AUC-ROC: 0.8512\n",
      "Max depth: 9 F1-score: 0.6089 AUC-ROC: 0.8517\n",
      "Max depth: 9 F1-score: 0.6099 AUC-ROC: 0.8522\n",
      "Max depth: 9 F1-score: 0.6101 AUC-ROC: 0.8518\n",
      "Max depth: 9 F1-score: 0.6176 AUC-ROC: 0.8522\n",
      "Max depth: 9 F1-score: 0.6144 AUC-ROC: 0.8523\n",
      "Max depth: 9 F1-score: 0.6165 AUC-ROC: 0.8530\n",
      "Max depth: 9 F1-score: 0.6188 AUC-ROC: 0.8532\n",
      "Max depth: 9 F1-score: 0.6168 AUC-ROC: 0.8531\n",
      "Max depth: 9 F1-score: 0.6147 AUC-ROC: 0.8533\n",
      "Max depth: 9 F1-score: 0.6141 AUC-ROC: 0.8534\n",
      "Max depth: 9 F1-score: 0.6173 AUC-ROC: 0.8536\n",
      "Max depth: 9 F1-score: 0.6138 AUC-ROC: 0.8539\n",
      "Max depth: 10 F1-score: 0.5273 AUC-ROC: 0.7503\n",
      "Max depth: 10 F1-score: 0.5040 AUC-ROC: 0.7785\n",
      "Max depth: 10 F1-score: 0.5563 AUC-ROC: 0.7983\n",
      "Max depth: 10 F1-score: 0.5498 AUC-ROC: 0.8049\n",
      "Max depth: 10 F1-score: 0.5859 AUC-ROC: 0.8198\n",
      "Max depth: 10 F1-score: 0.5840 AUC-ROC: 0.8262\n",
      "Max depth: 10 F1-score: 0.5933 AUC-ROC: 0.8254\n",
      "Max depth: 10 F1-score: 0.5942 AUC-ROC: 0.8285\n",
      "Max depth: 10 F1-score: 0.5957 AUC-ROC: 0.8333\n",
      "Max depth: 10 F1-score: 0.5978 AUC-ROC: 0.8344\n",
      "Max depth: 10 F1-score: 0.5987 AUC-ROC: 0.8386\n",
      "Max depth: 10 F1-score: 0.6071 AUC-ROC: 0.8403\n",
      "Max depth: 10 F1-score: 0.5998 AUC-ROC: 0.8409\n",
      "Max depth: 10 F1-score: 0.6015 AUC-ROC: 0.8419\n",
      "Max depth: 10 F1-score: 0.6011 AUC-ROC: 0.8419\n",
      "Max depth: 10 F1-score: 0.6031 AUC-ROC: 0.8415\n",
      "Max depth: 10 F1-score: 0.6044 AUC-ROC: 0.8413\n",
      "Max depth: 10 F1-score: 0.6068 AUC-ROC: 0.8412\n",
      "Max depth: 10 F1-score: 0.6079 AUC-ROC: 0.8422\n",
      "Max depth: 10 F1-score: 0.6123 AUC-ROC: 0.8426\n",
      "Max depth: 10 F1-score: 0.6110 AUC-ROC: 0.8437\n",
      "Max depth: 10 F1-score: 0.6118 AUC-ROC: 0.8450\n",
      "Max depth: 10 F1-score: 0.6073 AUC-ROC: 0.8452\n",
      "Max depth: 10 F1-score: 0.6096 AUC-ROC: 0.8454\n",
      "Max depth: 10 F1-score: 0.6103 AUC-ROC: 0.8453\n",
      "Max depth: 10 F1-score: 0.6096 AUC-ROC: 0.8456\n",
      "Max depth: 10 F1-score: 0.6081 AUC-ROC: 0.8458\n",
      "Max depth: 10 F1-score: 0.6077 AUC-ROC: 0.8462\n",
      "Max depth: 10 F1-score: 0.6071 AUC-ROC: 0.8465\n",
      "Max depth: 10 F1-score: 0.6037 AUC-ROC: 0.8462\n",
      "Max depth: 10 F1-score: 0.6078 AUC-ROC: 0.8459\n",
      "Max depth: 10 F1-score: 0.6092 AUC-ROC: 0.8467\n",
      "Max depth: 10 F1-score: 0.6083 AUC-ROC: 0.8480\n",
      "Max depth: 10 F1-score: 0.6134 AUC-ROC: 0.8483\n",
      "Max depth: 10 F1-score: 0.6110 AUC-ROC: 0.8488\n",
      "Max depth: 10 F1-score: 0.6125 AUC-ROC: 0.8491\n",
      "Max depth: 10 F1-score: 0.6147 AUC-ROC: 0.8490\n",
      "Max depth: 10 F1-score: 0.6105 AUC-ROC: 0.8493\n",
      "Max depth: 10 F1-score: 0.6127 AUC-ROC: 0.8494\n",
      "Max depth: 10 F1-score: 0.6098 AUC-ROC: 0.8494\n",
      "Max depth: 10 F1-score: 0.6127 AUC-ROC: 0.8498\n",
      "Max depth: 10 F1-score: 0.6120 AUC-ROC: 0.8500\n",
      "Max depth: 10 F1-score: 0.6127 AUC-ROC: 0.8496\n",
      "Max depth: 10 F1-score: 0.6140 AUC-ROC: 0.8493\n",
      "Max depth: 10 F1-score: 0.6103 AUC-ROC: 0.8497\n",
      "Max depth: 10 F1-score: 0.6118 AUC-ROC: 0.8499\n",
      "Max depth: 10 F1-score: 0.6134 AUC-ROC: 0.8501\n",
      "Max depth: 10 F1-score: 0.6118 AUC-ROC: 0.8502\n",
      "Max depth: 10 F1-score: 0.6134 AUC-ROC: 0.8503\n",
      "Max depth: 11 F1-score: 0.5304 AUC-ROC: 0.7472\n",
      "Max depth: 11 F1-score: 0.5156 AUC-ROC: 0.7831\n",
      "Max depth: 11 F1-score: 0.5627 AUC-ROC: 0.8042\n",
      "Max depth: 11 F1-score: 0.5514 AUC-ROC: 0.8087\n",
      "Max depth: 11 F1-score: 0.5777 AUC-ROC: 0.8187\n",
      "Max depth: 11 F1-score: 0.5618 AUC-ROC: 0.8237\n",
      "Max depth: 11 F1-score: 0.5800 AUC-ROC: 0.8294\n",
      "Max depth: 11 F1-score: 0.5778 AUC-ROC: 0.8300\n",
      "Max depth: 11 F1-score: 0.6007 AUC-ROC: 0.8346\n",
      "Max depth: 11 F1-score: 0.6009 AUC-ROC: 0.8338\n",
      "Max depth: 11 F1-score: 0.5945 AUC-ROC: 0.8321\n",
      "Max depth: 11 F1-score: 0.5944 AUC-ROC: 0.8350\n",
      "Max depth: 11 F1-score: 0.6009 AUC-ROC: 0.8362\n",
      "Max depth: 11 F1-score: 0.5980 AUC-ROC: 0.8376\n",
      "Max depth: 11 F1-score: 0.5953 AUC-ROC: 0.8381\n",
      "Max depth: 11 F1-score: 0.5962 AUC-ROC: 0.8380\n",
      "Max depth: 11 F1-score: 0.6009 AUC-ROC: 0.8373\n",
      "Max depth: 11 F1-score: 0.6014 AUC-ROC: 0.8380\n",
      "Max depth: 11 F1-score: 0.6025 AUC-ROC: 0.8394\n",
      "Max depth: 11 F1-score: 0.6112 AUC-ROC: 0.8410\n",
      "Max depth: 11 F1-score: 0.6018 AUC-ROC: 0.8415\n",
      "Max depth: 11 F1-score: 0.6050 AUC-ROC: 0.8396\n",
      "Max depth: 11 F1-score: 0.6093 AUC-ROC: 0.8395\n",
      "Max depth: 11 F1-score: 0.6116 AUC-ROC: 0.8408\n",
      "Max depth: 11 F1-score: 0.6126 AUC-ROC: 0.8416\n",
      "Max depth: 11 F1-score: 0.6105 AUC-ROC: 0.8421\n",
      "Max depth: 11 F1-score: 0.6116 AUC-ROC: 0.8423\n",
      "Max depth: 11 F1-score: 0.6105 AUC-ROC: 0.8428\n",
      "Max depth: 11 F1-score: 0.6143 AUC-ROC: 0.8437\n",
      "Max depth: 11 F1-score: 0.6121 AUC-ROC: 0.8434\n",
      "Max depth: 11 F1-score: 0.6112 AUC-ROC: 0.8434\n",
      "Max depth: 11 F1-score: 0.6112 AUC-ROC: 0.8440\n",
      "Max depth: 11 F1-score: 0.6112 AUC-ROC: 0.8439\n",
      "Max depth: 11 F1-score: 0.6068 AUC-ROC: 0.8436\n",
      "Max depth: 11 F1-score: 0.6023 AUC-ROC: 0.8437\n",
      "Max depth: 11 F1-score: 0.6061 AUC-ROC: 0.8445\n",
      "Max depth: 11 F1-score: 0.6075 AUC-ROC: 0.8448\n",
      "Max depth: 11 F1-score: 0.6041 AUC-ROC: 0.8445\n",
      "Max depth: 11 F1-score: 0.6050 AUC-ROC: 0.8442\n",
      "Max depth: 11 F1-score: 0.6070 AUC-ROC: 0.8447\n",
      "Max depth: 11 F1-score: 0.6093 AUC-ROC: 0.8450\n",
      "Max depth: 11 F1-score: 0.6086 AUC-ROC: 0.8451\n",
      "Max depth: 11 F1-score: 0.6070 AUC-ROC: 0.8454\n",
      "Max depth: 11 F1-score: 0.6074 AUC-ROC: 0.8455\n",
      "Max depth: 11 F1-score: 0.6061 AUC-ROC: 0.8452\n",
      "Max depth: 11 F1-score: 0.6070 AUC-ROC: 0.8452\n",
      "Max depth: 11 F1-score: 0.6030 AUC-ROC: 0.8452\n",
      "Max depth: 11 F1-score: 0.6034 AUC-ROC: 0.8452\n",
      "Max depth: 11 F1-score: 0.6034 AUC-ROC: 0.8452\n",
      "Max depth: 12 F1-score: 0.5301 AUC-ROC: 0.7490\n",
      "Max depth: 12 F1-score: 0.5132 AUC-ROC: 0.8003\n",
      "Max depth: 12 F1-score: 0.5626 AUC-ROC: 0.8105\n",
      "Max depth: 12 F1-score: 0.5526 AUC-ROC: 0.8092\n",
      "Max depth: 12 F1-score: 0.5846 AUC-ROC: 0.8253\n",
      "Max depth: 12 F1-score: 0.5783 AUC-ROC: 0.8267\n",
      "Max depth: 12 F1-score: 0.5984 AUC-ROC: 0.8285\n",
      "Max depth: 12 F1-score: 0.5724 AUC-ROC: 0.8267\n",
      "Max depth: 12 F1-score: 0.5881 AUC-ROC: 0.8282\n",
      "Max depth: 12 F1-score: 0.5886 AUC-ROC: 0.8330\n",
      "Max depth: 12 F1-score: 0.6011 AUC-ROC: 0.8345\n",
      "Max depth: 12 F1-score: 0.6104 AUC-ROC: 0.8359\n",
      "Max depth: 12 F1-score: 0.6085 AUC-ROC: 0.8362\n",
      "Max depth: 12 F1-score: 0.6175 AUC-ROC: 0.8380\n",
      "Max depth: 12 F1-score: 0.6095 AUC-ROC: 0.8402\n",
      "Max depth: 12 F1-score: 0.6172 AUC-ROC: 0.8407\n",
      "Max depth: 12 F1-score: 0.6157 AUC-ROC: 0.8407\n",
      "Max depth: 12 F1-score: 0.6138 AUC-ROC: 0.8414\n",
      "Max depth: 12 F1-score: 0.6141 AUC-ROC: 0.8409\n",
      "Max depth: 12 F1-score: 0.6163 AUC-ROC: 0.8403\n",
      "Max depth: 12 F1-score: 0.6236 AUC-ROC: 0.8408\n",
      "Max depth: 12 F1-score: 0.6183 AUC-ROC: 0.8401\n",
      "Max depth: 12 F1-score: 0.6217 AUC-ROC: 0.8405\n",
      "Max depth: 12 F1-score: 0.6156 AUC-ROC: 0.8398\n",
      "Max depth: 12 F1-score: 0.6183 AUC-ROC: 0.8406\n",
      "Max depth: 12 F1-score: 0.6132 AUC-ROC: 0.8411\n",
      "Max depth: 12 F1-score: 0.6221 AUC-ROC: 0.8416\n",
      "Max depth: 12 F1-score: 0.6183 AUC-ROC: 0.8416\n",
      "Max depth: 12 F1-score: 0.6238 AUC-ROC: 0.8423\n",
      "Max depth: 12 F1-score: 0.6165 AUC-ROC: 0.8426\n",
      "Max depth: 12 F1-score: 0.6217 AUC-ROC: 0.8428\n",
      "Max depth: 12 F1-score: 0.6197 AUC-ROC: 0.8424\n",
      "Max depth: 12 F1-score: 0.6208 AUC-ROC: 0.8432\n",
      "Max depth: 12 F1-score: 0.6200 AUC-ROC: 0.8428\n",
      "Max depth: 12 F1-score: 0.6141 AUC-ROC: 0.8432\n",
      "Max depth: 12 F1-score: 0.6188 AUC-ROC: 0.8435\n",
      "Max depth: 12 F1-score: 0.6193 AUC-ROC: 0.8441\n",
      "Max depth: 12 F1-score: 0.6173 AUC-ROC: 0.8440\n",
      "Max depth: 12 F1-score: 0.6141 AUC-ROC: 0.8447\n",
      "Max depth: 12 F1-score: 0.6147 AUC-ROC: 0.8451\n",
      "Max depth: 12 F1-score: 0.6159 AUC-ROC: 0.8450\n",
      "Max depth: 12 F1-score: 0.6199 AUC-ROC: 0.8452\n",
      "Max depth: 12 F1-score: 0.6200 AUC-ROC: 0.8455\n",
      "Max depth: 12 F1-score: 0.6192 AUC-ROC: 0.8461\n",
      "Max depth: 12 F1-score: 0.6172 AUC-ROC: 0.8461\n",
      "Max depth: 12 F1-score: 0.6186 AUC-ROC: 0.8462\n",
      "Max depth: 12 F1-score: 0.6190 AUC-ROC: 0.8456\n",
      "Max depth: 12 F1-score: 0.6183 AUC-ROC: 0.8461\n",
      "Max depth: 12 F1-score: 0.6200 AUC-ROC: 0.8461\n",
      "Max depth: 13 F1-score: 0.4995 AUC-ROC: 0.7098\n",
      "Max depth: 13 F1-score: 0.4915 AUC-ROC: 0.7744\n",
      "Max depth: 13 F1-score: 0.5507 AUC-ROC: 0.7924\n",
      "Max depth: 13 F1-score: 0.5448 AUC-ROC: 0.8049\n",
      "Max depth: 13 F1-score: 0.5644 AUC-ROC: 0.8116\n",
      "Max depth: 13 F1-score: 0.5589 AUC-ROC: 0.8193\n",
      "Max depth: 13 F1-score: 0.5757 AUC-ROC: 0.8231\n",
      "Max depth: 13 F1-score: 0.5794 AUC-ROC: 0.8247\n",
      "Max depth: 13 F1-score: 0.5777 AUC-ROC: 0.8252\n",
      "Max depth: 13 F1-score: 0.5860 AUC-ROC: 0.8298\n",
      "Max depth: 13 F1-score: 0.5948 AUC-ROC: 0.8361\n",
      "Max depth: 13 F1-score: 0.6081 AUC-ROC: 0.8373\n",
      "Max depth: 13 F1-score: 0.6121 AUC-ROC: 0.8374\n",
      "Max depth: 13 F1-score: 0.6137 AUC-ROC: 0.8373\n",
      "Max depth: 13 F1-score: 0.6201 AUC-ROC: 0.8382\n",
      "Max depth: 13 F1-score: 0.6203 AUC-ROC: 0.8365\n",
      "Max depth: 13 F1-score: 0.6190 AUC-ROC: 0.8369\n",
      "Max depth: 13 F1-score: 0.6235 AUC-ROC: 0.8363\n",
      "Max depth: 13 F1-score: 0.6249 AUC-ROC: 0.8378\n",
      "Max depth: 13 F1-score: 0.6249 AUC-ROC: 0.8387\n",
      "Max depth: 13 F1-score: 0.6267 AUC-ROC: 0.8387\n",
      "Max depth: 13 F1-score: 0.6251 AUC-ROC: 0.8391\n",
      "Max depth: 13 F1-score: 0.6242 AUC-ROC: 0.8398\n",
      "Max depth: 13 F1-score: 0.6250 AUC-ROC: 0.8404\n",
      "Max depth: 13 F1-score: 0.6159 AUC-ROC: 0.8399\n",
      "Max depth: 13 F1-score: 0.6176 AUC-ROC: 0.8401\n",
      "Max depth: 13 F1-score: 0.6193 AUC-ROC: 0.8398\n",
      "Max depth: 13 F1-score: 0.6244 AUC-ROC: 0.8406\n",
      "Max depth: 13 F1-score: 0.6259 AUC-ROC: 0.8409\n",
      "Max depth: 13 F1-score: 0.6239 AUC-ROC: 0.8407\n",
      "Max depth: 13 F1-score: 0.6228 AUC-ROC: 0.8417\n",
      "Max depth: 13 F1-score: 0.6250 AUC-ROC: 0.8427\n",
      "Max depth: 13 F1-score: 0.6260 AUC-ROC: 0.8423\n",
      "Max depth: 13 F1-score: 0.6258 AUC-ROC: 0.8424\n",
      "Max depth: 13 F1-score: 0.6330 AUC-ROC: 0.8435\n",
      "Max depth: 13 F1-score: 0.6315 AUC-ROC: 0.8440\n",
      "Max depth: 13 F1-score: 0.6256 AUC-ROC: 0.8447\n",
      "Max depth: 13 F1-score: 0.6304 AUC-ROC: 0.8449\n",
      "Max depth: 13 F1-score: 0.6233 AUC-ROC: 0.8446\n",
      "Max depth: 13 F1-score: 0.6247 AUC-ROC: 0.8440\n",
      "Max depth: 13 F1-score: 0.6273 AUC-ROC: 0.8445\n",
      "Max depth: 13 F1-score: 0.6279 AUC-ROC: 0.8446\n",
      "Max depth: 13 F1-score: 0.6294 AUC-ROC: 0.8443\n",
      "Max depth: 13 F1-score: 0.6214 AUC-ROC: 0.8444\n",
      "Max depth: 13 F1-score: 0.6238 AUC-ROC: 0.8448\n",
      "Max depth: 13 F1-score: 0.6215 AUC-ROC: 0.8448\n",
      "Max depth: 13 F1-score: 0.6229 AUC-ROC: 0.8449\n",
      "Max depth: 13 F1-score: 0.6204 AUC-ROC: 0.8456\n",
      "Max depth: 13 F1-score: 0.6244 AUC-ROC: 0.8456\n",
      "Max depth: 14 F1-score: 0.5241 AUC-ROC: 0.7316\n",
      "Max depth: 14 F1-score: 0.4745 AUC-ROC: 0.7600\n",
      "Max depth: 14 F1-score: 0.5369 AUC-ROC: 0.7824\n",
      "Max depth: 14 F1-score: 0.5258 AUC-ROC: 0.7957\n",
      "Max depth: 14 F1-score: 0.5721 AUC-ROC: 0.8123\n",
      "Max depth: 14 F1-score: 0.5774 AUC-ROC: 0.8201\n",
      "Max depth: 14 F1-score: 0.5958 AUC-ROC: 0.8208\n",
      "Max depth: 14 F1-score: 0.5824 AUC-ROC: 0.8275\n",
      "Max depth: 14 F1-score: 0.5955 AUC-ROC: 0.8291\n",
      "Max depth: 14 F1-score: 0.5875 AUC-ROC: 0.8318\n",
      "Max depth: 14 F1-score: 0.6043 AUC-ROC: 0.8335\n",
      "Max depth: 14 F1-score: 0.5988 AUC-ROC: 0.8337\n",
      "Max depth: 14 F1-score: 0.6085 AUC-ROC: 0.8345\n",
      "Max depth: 14 F1-score: 0.6010 AUC-ROC: 0.8367\n",
      "Max depth: 14 F1-score: 0.6019 AUC-ROC: 0.8375\n",
      "Max depth: 14 F1-score: 0.5961 AUC-ROC: 0.8362\n",
      "Max depth: 14 F1-score: 0.6044 AUC-ROC: 0.8365\n",
      "Max depth: 14 F1-score: 0.5980 AUC-ROC: 0.8372\n",
      "Max depth: 14 F1-score: 0.6173 AUC-ROC: 0.8376\n",
      "Max depth: 14 F1-score: 0.6106 AUC-ROC: 0.8368\n",
      "Max depth: 14 F1-score: 0.6070 AUC-ROC: 0.8363\n",
      "Max depth: 14 F1-score: 0.6115 AUC-ROC: 0.8376\n",
      "Max depth: 14 F1-score: 0.6186 AUC-ROC: 0.8384\n",
      "Max depth: 14 F1-score: 0.6290 AUC-ROC: 0.8387\n",
      "Max depth: 14 F1-score: 0.6165 AUC-ROC: 0.8404\n",
      "Max depth: 14 F1-score: 0.6205 AUC-ROC: 0.8402\n",
      "Max depth: 14 F1-score: 0.6175 AUC-ROC: 0.8402\n",
      "Max depth: 14 F1-score: 0.6184 AUC-ROC: 0.8405\n",
      "Max depth: 14 F1-score: 0.6216 AUC-ROC: 0.8406\n",
      "Max depth: 14 F1-score: 0.6123 AUC-ROC: 0.8421\n",
      "Max depth: 14 F1-score: 0.6215 AUC-ROC: 0.8429\n",
      "Max depth: 14 F1-score: 0.6198 AUC-ROC: 0.8426\n",
      "Max depth: 14 F1-score: 0.6123 AUC-ROC: 0.8426\n",
      "Max depth: 14 F1-score: 0.6232 AUC-ROC: 0.8426\n",
      "Max depth: 14 F1-score: 0.6199 AUC-ROC: 0.8417\n",
      "Max depth: 14 F1-score: 0.6198 AUC-ROC: 0.8421\n",
      "Max depth: 14 F1-score: 0.6165 AUC-ROC: 0.8422\n",
      "Max depth: 14 F1-score: 0.6196 AUC-ROC: 0.8426\n",
      "Max depth: 14 F1-score: 0.6224 AUC-ROC: 0.8430\n",
      "Max depth: 14 F1-score: 0.6198 AUC-ROC: 0.8430\n",
      "Max depth: 14 F1-score: 0.6127 AUC-ROC: 0.8439\n",
      "Max depth: 14 F1-score: 0.6110 AUC-ROC: 0.8442\n",
      "Max depth: 14 F1-score: 0.6097 AUC-ROC: 0.8447\n",
      "Max depth: 14 F1-score: 0.6129 AUC-ROC: 0.8452\n",
      "Max depth: 14 F1-score: 0.6121 AUC-ROC: 0.8447\n",
      "Max depth: 14 F1-score: 0.6106 AUC-ROC: 0.8449\n",
      "Max depth: 14 F1-score: 0.6123 AUC-ROC: 0.8443\n",
      "Max depth: 14 F1-score: 0.6045 AUC-ROC: 0.8440\n",
      "Max depth: 14 F1-score: 0.6079 AUC-ROC: 0.8436\n",
      "Max depth: 15 F1-score: 0.5103 AUC-ROC: 0.7027\n",
      "Max depth: 15 F1-score: 0.5088 AUC-ROC: 0.7740\n",
      "Max depth: 15 F1-score: 0.5797 AUC-ROC: 0.8075\n",
      "Max depth: 15 F1-score: 0.5729 AUC-ROC: 0.8162\n",
      "Max depth: 15 F1-score: 0.5856 AUC-ROC: 0.8224\n",
      "Max depth: 15 F1-score: 0.5774 AUC-ROC: 0.8283\n",
      "Max depth: 15 F1-score: 0.5889 AUC-ROC: 0.8302\n",
      "Max depth: 15 F1-score: 0.5799 AUC-ROC: 0.8313\n",
      "Max depth: 15 F1-score: 0.5988 AUC-ROC: 0.8359\n",
      "Max depth: 15 F1-score: 0.5925 AUC-ROC: 0.8378\n",
      "Max depth: 15 F1-score: 0.6127 AUC-ROC: 0.8390\n",
      "Max depth: 15 F1-score: 0.6015 AUC-ROC: 0.8410\n",
      "Max depth: 15 F1-score: 0.6180 AUC-ROC: 0.8403\n",
      "Max depth: 15 F1-score: 0.6045 AUC-ROC: 0.8377\n",
      "Max depth: 15 F1-score: 0.6055 AUC-ROC: 0.8385\n",
      "Max depth: 15 F1-score: 0.6071 AUC-ROC: 0.8397\n",
      "Max depth: 15 F1-score: 0.6112 AUC-ROC: 0.8399\n",
      "Max depth: 15 F1-score: 0.6101 AUC-ROC: 0.8410\n",
      "Max depth: 15 F1-score: 0.6045 AUC-ROC: 0.8404\n",
      "Max depth: 15 F1-score: 0.6079 AUC-ROC: 0.8400\n",
      "Max depth: 15 F1-score: 0.6035 AUC-ROC: 0.8395\n",
      "Max depth: 15 F1-score: 0.6058 AUC-ROC: 0.8392\n",
      "Max depth: 15 F1-score: 0.6100 AUC-ROC: 0.8397\n",
      "Max depth: 15 F1-score: 0.6043 AUC-ROC: 0.8388\n",
      "Max depth: 15 F1-score: 0.6096 AUC-ROC: 0.8384\n",
      "Max depth: 15 F1-score: 0.6177 AUC-ROC: 0.8388\n",
      "Max depth: 15 F1-score: 0.6162 AUC-ROC: 0.8384\n",
      "Max depth: 15 F1-score: 0.6132 AUC-ROC: 0.8369\n",
      "Max depth: 15 F1-score: 0.6177 AUC-ROC: 0.8366\n",
      "Max depth: 15 F1-score: 0.6130 AUC-ROC: 0.8376\n",
      "Max depth: 15 F1-score: 0.6058 AUC-ROC: 0.8365\n",
      "Max depth: 15 F1-score: 0.6091 AUC-ROC: 0.8362\n",
      "Max depth: 15 F1-score: 0.6074 AUC-ROC: 0.8372\n",
      "Max depth: 15 F1-score: 0.6071 AUC-ROC: 0.8370\n",
      "Max depth: 15 F1-score: 0.6051 AUC-ROC: 0.8367\n",
      "Max depth: 15 F1-score: 0.6117 AUC-ROC: 0.8371\n",
      "Max depth: 15 F1-score: 0.6086 AUC-ROC: 0.8373\n",
      "Max depth: 15 F1-score: 0.6105 AUC-ROC: 0.8368\n",
      "Max depth: 15 F1-score: 0.6107 AUC-ROC: 0.8365\n",
      "Max depth: 15 F1-score: 0.6128 AUC-ROC: 0.8359\n",
      "Max depth: 15 F1-score: 0.6122 AUC-ROC: 0.8366\n",
      "Max depth: 15 F1-score: 0.6215 AUC-ROC: 0.8367\n",
      "Max depth: 15 F1-score: 0.6138 AUC-ROC: 0.8362\n",
      "Max depth: 15 F1-score: 0.6138 AUC-ROC: 0.8365\n",
      "Max depth: 15 F1-score: 0.6140 AUC-ROC: 0.8362\n",
      "Max depth: 15 F1-score: 0.6115 AUC-ROC: 0.8367\n",
      "Max depth: 15 F1-score: 0.6105 AUC-ROC: 0.8364\n",
      "Max depth: 15 F1-score: 0.6110 AUC-ROC: 0.8366\n",
      "Max depth: 15 F1-score: 0.6120 AUC-ROC: 0.8371\n",
      "Max depth: 16 F1-score: 0.5113 AUC-ROC: 0.6972\n",
      "Max depth: 16 F1-score: 0.4885 AUC-ROC: 0.7509\n",
      "Max depth: 16 F1-score: 0.5238 AUC-ROC: 0.7618\n",
      "Max depth: 16 F1-score: 0.5371 AUC-ROC: 0.7786\n",
      "Max depth: 16 F1-score: 0.5739 AUC-ROC: 0.8047\n",
      "Max depth: 16 F1-score: 0.5636 AUC-ROC: 0.8088\n",
      "Max depth: 16 F1-score: 0.5844 AUC-ROC: 0.8126\n",
      "Max depth: 16 F1-score: 0.5666 AUC-ROC: 0.8176\n",
      "Max depth: 16 F1-score: 0.5887 AUC-ROC: 0.8185\n",
      "Max depth: 16 F1-score: 0.5814 AUC-ROC: 0.8225\n",
      "Max depth: 16 F1-score: 0.5941 AUC-ROC: 0.8224\n",
      "Max depth: 16 F1-score: 0.6008 AUC-ROC: 0.8234\n",
      "Max depth: 16 F1-score: 0.6030 AUC-ROC: 0.8252\n",
      "Max depth: 16 F1-score: 0.6010 AUC-ROC: 0.8259\n",
      "Max depth: 16 F1-score: 0.5985 AUC-ROC: 0.8271\n",
      "Max depth: 16 F1-score: 0.6000 AUC-ROC: 0.8276\n",
      "Max depth: 16 F1-score: 0.6023 AUC-ROC: 0.8280\n",
      "Max depth: 16 F1-score: 0.6008 AUC-ROC: 0.8282\n",
      "Max depth: 16 F1-score: 0.5975 AUC-ROC: 0.8292\n",
      "Max depth: 16 F1-score: 0.6008 AUC-ROC: 0.8298\n",
      "Max depth: 16 F1-score: 0.6051 AUC-ROC: 0.8290\n",
      "Max depth: 16 F1-score: 0.5987 AUC-ROC: 0.8289\n",
      "Max depth: 16 F1-score: 0.6087 AUC-ROC: 0.8305\n",
      "Max depth: 16 F1-score: 0.5992 AUC-ROC: 0.8311\n",
      "Max depth: 16 F1-score: 0.6036 AUC-ROC: 0.8334\n",
      "Max depth: 16 F1-score: 0.6023 AUC-ROC: 0.8343\n",
      "Max depth: 16 F1-score: 0.6081 AUC-ROC: 0.8332\n",
      "Max depth: 16 F1-score: 0.6028 AUC-ROC: 0.8346\n",
      "Max depth: 16 F1-score: 0.6061 AUC-ROC: 0.8350\n",
      "Max depth: 16 F1-score: 0.6105 AUC-ROC: 0.8352\n",
      "Max depth: 16 F1-score: 0.6101 AUC-ROC: 0.8360\n",
      "Max depth: 16 F1-score: 0.6094 AUC-ROC: 0.8363\n",
      "Max depth: 16 F1-score: 0.6127 AUC-ROC: 0.8367\n",
      "Max depth: 16 F1-score: 0.6056 AUC-ROC: 0.8377\n",
      "Max depth: 16 F1-score: 0.6068 AUC-ROC: 0.8380\n",
      "Max depth: 16 F1-score: 0.6033 AUC-ROC: 0.8383\n",
      "Max depth: 16 F1-score: 0.6111 AUC-ROC: 0.8391\n",
      "Max depth: 16 F1-score: 0.6068 AUC-ROC: 0.8394\n",
      "Max depth: 16 F1-score: 0.6121 AUC-ROC: 0.8406\n",
      "Max depth: 16 F1-score: 0.6091 AUC-ROC: 0.8399\n",
      "Max depth: 16 F1-score: 0.6132 AUC-ROC: 0.8400\n",
      "Max depth: 16 F1-score: 0.6079 AUC-ROC: 0.8402\n",
      "Max depth: 16 F1-score: 0.6061 AUC-ROC: 0.8400\n",
      "Max depth: 16 F1-score: 0.6044 AUC-ROC: 0.8402\n",
      "Max depth: 16 F1-score: 0.6020 AUC-ROC: 0.8400\n",
      "Max depth: 16 F1-score: 0.5962 AUC-ROC: 0.8405\n",
      "Max depth: 16 F1-score: 0.6026 AUC-ROC: 0.8396\n",
      "Max depth: 16 F1-score: 0.6054 AUC-ROC: 0.8398\n",
      "Max depth: 16 F1-score: 0.6074 AUC-ROC: 0.8408\n",
      "Max depth: 17 F1-score: 0.4884 AUC-ROC: 0.6872\n",
      "Max depth: 17 F1-score: 0.4692 AUC-ROC: 0.7389\n",
      "Max depth: 17 F1-score: 0.5258 AUC-ROC: 0.7637\n",
      "Max depth: 17 F1-score: 0.5344 AUC-ROC: 0.7783\n",
      "Max depth: 17 F1-score: 0.5704 AUC-ROC: 0.7911\n",
      "Max depth: 17 F1-score: 0.5645 AUC-ROC: 0.7943\n",
      "Max depth: 17 F1-score: 0.5746 AUC-ROC: 0.8006\n",
      "Max depth: 17 F1-score: 0.5576 AUC-ROC: 0.8051\n",
      "Max depth: 17 F1-score: 0.5800 AUC-ROC: 0.8094\n",
      "Max depth: 17 F1-score: 0.5737 AUC-ROC: 0.8102\n",
      "Max depth: 17 F1-score: 0.5791 AUC-ROC: 0.8180\n",
      "Max depth: 17 F1-score: 0.5848 AUC-ROC: 0.8212\n",
      "Max depth: 17 F1-score: 0.5918 AUC-ROC: 0.8223\n",
      "Max depth: 17 F1-score: 0.5872 AUC-ROC: 0.8248\n",
      "Max depth: 17 F1-score: 0.5842 AUC-ROC: 0.8299\n",
      "Max depth: 17 F1-score: 0.5845 AUC-ROC: 0.8294\n",
      "Max depth: 17 F1-score: 0.5867 AUC-ROC: 0.8313\n",
      "Max depth: 17 F1-score: 0.5852 AUC-ROC: 0.8335\n",
      "Max depth: 17 F1-score: 0.5920 AUC-ROC: 0.8340\n",
      "Max depth: 17 F1-score: 0.5849 AUC-ROC: 0.8347\n",
      "Max depth: 17 F1-score: 0.5904 AUC-ROC: 0.8348\n",
      "Max depth: 17 F1-score: 0.5916 AUC-ROC: 0.8336\n",
      "Max depth: 17 F1-score: 0.5966 AUC-ROC: 0.8346\n",
      "Max depth: 17 F1-score: 0.6021 AUC-ROC: 0.8356\n",
      "Max depth: 17 F1-score: 0.5990 AUC-ROC: 0.8359\n",
      "Max depth: 17 F1-score: 0.6065 AUC-ROC: 0.8355\n",
      "Max depth: 17 F1-score: 0.5974 AUC-ROC: 0.8357\n",
      "Max depth: 17 F1-score: 0.6010 AUC-ROC: 0.8360\n",
      "Max depth: 17 F1-score: 0.6060 AUC-ROC: 0.8362\n",
      "Max depth: 17 F1-score: 0.5940 AUC-ROC: 0.8351\n",
      "Max depth: 17 F1-score: 0.5974 AUC-ROC: 0.8360\n",
      "Max depth: 17 F1-score: 0.5895 AUC-ROC: 0.8371\n",
      "Max depth: 17 F1-score: 0.6000 AUC-ROC: 0.8377\n",
      "Max depth: 17 F1-score: 0.5940 AUC-ROC: 0.8372\n",
      "Max depth: 17 F1-score: 0.5959 AUC-ROC: 0.8377\n",
      "Max depth: 17 F1-score: 0.5921 AUC-ROC: 0.8385\n",
      "Max depth: 17 F1-score: 0.5898 AUC-ROC: 0.8392\n",
      "Max depth: 17 F1-score: 0.5887 AUC-ROC: 0.8394\n",
      "Max depth: 17 F1-score: 0.5875 AUC-ROC: 0.8389\n",
      "Max depth: 17 F1-score: 0.5838 AUC-ROC: 0.8391\n",
      "Max depth: 17 F1-score: 0.5885 AUC-ROC: 0.8390\n",
      "Max depth: 17 F1-score: 0.5875 AUC-ROC: 0.8381\n",
      "Max depth: 17 F1-score: 0.5856 AUC-ROC: 0.8389\n",
      "Max depth: 17 F1-score: 0.5859 AUC-ROC: 0.8382\n",
      "Max depth: 17 F1-score: 0.5904 AUC-ROC: 0.8391\n",
      "Max depth: 17 F1-score: 0.5943 AUC-ROC: 0.8391\n",
      "Max depth: 17 F1-score: 0.6000 AUC-ROC: 0.8398\n",
      "Max depth: 17 F1-score: 0.5956 AUC-ROC: 0.8399\n",
      "Max depth: 17 F1-score: 0.5948 AUC-ROC: 0.8393\n",
      "Max depth: 18 F1-score: 0.4903 AUC-ROC: 0.6817\n",
      "Max depth: 18 F1-score: 0.4341 AUC-ROC: 0.7302\n",
      "Max depth: 18 F1-score: 0.5284 AUC-ROC: 0.7566\n",
      "Max depth: 18 F1-score: 0.5043 AUC-ROC: 0.7757\n",
      "Max depth: 18 F1-score: 0.5476 AUC-ROC: 0.7869\n",
      "Max depth: 18 F1-score: 0.5393 AUC-ROC: 0.7928\n",
      "Max depth: 18 F1-score: 0.5735 AUC-ROC: 0.7997\n",
      "Max depth: 18 F1-score: 0.5547 AUC-ROC: 0.8034\n",
      "Max depth: 18 F1-score: 0.5623 AUC-ROC: 0.8081\n",
      "Max depth: 18 F1-score: 0.5643 AUC-ROC: 0.8142\n",
      "Max depth: 18 F1-score: 0.5808 AUC-ROC: 0.8139\n",
      "Max depth: 18 F1-score: 0.5770 AUC-ROC: 0.8137\n",
      "Max depth: 18 F1-score: 0.5793 AUC-ROC: 0.8161\n",
      "Max depth: 18 F1-score: 0.5796 AUC-ROC: 0.8176\n",
      "Max depth: 18 F1-score: 0.5793 AUC-ROC: 0.8197\n",
      "Max depth: 18 F1-score: 0.5819 AUC-ROC: 0.8198\n",
      "Max depth: 18 F1-score: 0.5856 AUC-ROC: 0.8214\n",
      "Max depth: 18 F1-score: 0.5801 AUC-ROC: 0.8229\n",
      "Max depth: 18 F1-score: 0.5896 AUC-ROC: 0.8233\n",
      "Max depth: 18 F1-score: 0.5796 AUC-ROC: 0.8250\n",
      "Max depth: 18 F1-score: 0.5847 AUC-ROC: 0.8251\n",
      "Max depth: 18 F1-score: 0.5839 AUC-ROC: 0.8229\n",
      "Max depth: 18 F1-score: 0.5961 AUC-ROC: 0.8231\n",
      "Max depth: 18 F1-score: 0.5974 AUC-ROC: 0.8237\n",
      "Max depth: 18 F1-score: 0.5964 AUC-ROC: 0.8242\n",
      "Max depth: 18 F1-score: 0.5950 AUC-ROC: 0.8246\n",
      "Max depth: 18 F1-score: 0.5948 AUC-ROC: 0.8266\n",
      "Max depth: 18 F1-score: 0.5881 AUC-ROC: 0.8272\n",
      "Max depth: 18 F1-score: 0.5896 AUC-ROC: 0.8276\n",
      "Max depth: 18 F1-score: 0.5892 AUC-ROC: 0.8277\n",
      "Max depth: 18 F1-score: 0.5904 AUC-ROC: 0.8274\n",
      "Max depth: 18 F1-score: 0.5850 AUC-ROC: 0.8293\n",
      "Max depth: 18 F1-score: 0.5907 AUC-ROC: 0.8298\n",
      "Max depth: 18 F1-score: 0.5887 AUC-ROC: 0.8302\n",
      "Max depth: 18 F1-score: 0.5930 AUC-ROC: 0.8304\n",
      "Max depth: 18 F1-score: 0.5929 AUC-ROC: 0.8315\n",
      "Max depth: 18 F1-score: 0.5953 AUC-ROC: 0.8331\n",
      "Max depth: 18 F1-score: 0.5932 AUC-ROC: 0.8322\n",
      "Max depth: 18 F1-score: 0.6010 AUC-ROC: 0.8324\n",
      "Max depth: 18 F1-score: 0.5969 AUC-ROC: 0.8328\n",
      "Max depth: 18 F1-score: 0.5969 AUC-ROC: 0.8331\n",
      "Max depth: 18 F1-score: 0.5976 AUC-ROC: 0.8330\n",
      "Max depth: 18 F1-score: 0.5992 AUC-ROC: 0.8333\n",
      "Max depth: 18 F1-score: 0.5969 AUC-ROC: 0.8339\n",
      "Max depth: 18 F1-score: 0.6034 AUC-ROC: 0.8352\n",
      "Max depth: 18 F1-score: 0.5961 AUC-ROC: 0.8356\n",
      "Max depth: 18 F1-score: 0.6016 AUC-ROC: 0.8346\n",
      "Max depth: 18 F1-score: 0.6003 AUC-ROC: 0.8347\n",
      "Max depth: 18 F1-score: 0.6005 AUC-ROC: 0.8350\n",
      "Max depth: 19 F1-score: 0.4989 AUC-ROC: 0.6872\n",
      "Max depth: 19 F1-score: 0.4701 AUC-ROC: 0.7405\n",
      "Max depth: 19 F1-score: 0.5344 AUC-ROC: 0.7620\n",
      "Max depth: 19 F1-score: 0.4986 AUC-ROC: 0.7732\n",
      "Max depth: 19 F1-score: 0.5353 AUC-ROC: 0.7840\n",
      "Max depth: 19 F1-score: 0.5226 AUC-ROC: 0.7928\n",
      "Max depth: 19 F1-score: 0.5631 AUC-ROC: 0.8047\n",
      "Max depth: 19 F1-score: 0.5573 AUC-ROC: 0.8077\n",
      "Max depth: 19 F1-score: 0.5660 AUC-ROC: 0.8126\n",
      "Max depth: 19 F1-score: 0.5684 AUC-ROC: 0.8158\n",
      "Max depth: 19 F1-score: 0.5862 AUC-ROC: 0.8161\n",
      "Max depth: 19 F1-score: 0.5797 AUC-ROC: 0.8195\n",
      "Max depth: 19 F1-score: 0.5829 AUC-ROC: 0.8182\n",
      "Max depth: 19 F1-score: 0.5767 AUC-ROC: 0.8186\n",
      "Max depth: 19 F1-score: 0.5942 AUC-ROC: 0.8212\n",
      "Max depth: 19 F1-score: 0.5827 AUC-ROC: 0.8204\n",
      "Max depth: 19 F1-score: 0.5941 AUC-ROC: 0.8207\n",
      "Max depth: 19 F1-score: 0.5804 AUC-ROC: 0.8243\n",
      "Max depth: 19 F1-score: 0.5893 AUC-ROC: 0.8234\n",
      "Max depth: 19 F1-score: 0.5832 AUC-ROC: 0.8247\n",
      "Max depth: 19 F1-score: 0.6003 AUC-ROC: 0.8258\n",
      "Max depth: 19 F1-score: 0.5926 AUC-ROC: 0.8258\n",
      "Max depth: 19 F1-score: 0.6003 AUC-ROC: 0.8267\n",
      "Max depth: 19 F1-score: 0.5934 AUC-ROC: 0.8285\n",
      "Max depth: 19 F1-score: 0.5930 AUC-ROC: 0.8294\n",
      "Max depth: 19 F1-score: 0.5881 AUC-ROC: 0.8299\n",
      "Max depth: 19 F1-score: 0.5984 AUC-ROC: 0.8306\n",
      "Max depth: 19 F1-score: 0.5901 AUC-ROC: 0.8300\n",
      "Max depth: 19 F1-score: 0.5913 AUC-ROC: 0.8308\n",
      "Max depth: 19 F1-score: 0.5851 AUC-ROC: 0.8310\n",
      "Max depth: 19 F1-score: 0.5927 AUC-ROC: 0.8309\n",
      "Max depth: 19 F1-score: 0.5899 AUC-ROC: 0.8312\n",
      "Max depth: 19 F1-score: 0.5956 AUC-ROC: 0.8320\n",
      "Max depth: 19 F1-score: 0.5873 AUC-ROC: 0.8333\n",
      "Max depth: 19 F1-score: 0.5890 AUC-ROC: 0.8333\n",
      "Max depth: 19 F1-score: 0.5870 AUC-ROC: 0.8331\n",
      "Max depth: 19 F1-score: 0.5898 AUC-ROC: 0.8334\n",
      "Max depth: 19 F1-score: 0.5862 AUC-ROC: 0.8335\n",
      "Max depth: 19 F1-score: 0.5838 AUC-ROC: 0.8342\n",
      "Max depth: 19 F1-score: 0.5896 AUC-ROC: 0.8340\n",
      "Max depth: 19 F1-score: 0.5867 AUC-ROC: 0.8346\n",
      "Max depth: 19 F1-score: 0.5904 AUC-ROC: 0.8343\n",
      "Max depth: 19 F1-score: 0.5853 AUC-ROC: 0.8356\n",
      "Max depth: 19 F1-score: 0.5873 AUC-ROC: 0.8357\n",
      "Max depth: 19 F1-score: 0.5890 AUC-ROC: 0.8361\n",
      "Max depth: 19 F1-score: 0.5907 AUC-ROC: 0.8359\n",
      "Max depth: 19 F1-score: 0.5879 AUC-ROC: 0.8356\n",
      "Max depth: 19 F1-score: 0.5923 AUC-ROC: 0.8355\n",
      "Max depth: 19 F1-score: 0.5947 AUC-ROC: 0.8363\n",
      "Лучшая F-мера 0.6329723225030085 при глубине = 13,  количестве деревьев = 35 и AUC-ROC = 0.8435244890182011\n",
      "CPU times: user 2min 53s, sys: 972 ms, total: 2min 54s\n",
      "Wall time: 2min 55s\n"
     ]
    }
   ],
   "source": [
    "%%time\n",
    "\n",
    "best_score_f1 = 0\n",
    "best_auc_roc = 0\n",
    "best_model_RFC_upsampled = 0\n",
    "best_model_f1_RFC_upsampled = 0\n",
    "best_model_auc_roc_RFC_upsampled = 0\n",
    "best_depth_rfc_upsampled = 0\n",
    "best_est_upsampled = 0\n",
    "for depth in range(1, 20, 1):\n",
    "    for estimator in range(1, 50, 1):\n",
    "        model_rfc_upsampled = RandomForestClassifier(n_estimators=estimator, max_depth=depth, random_state=12345)\n",
    "        model_rfc_upsampled.fit(features_upsampled, target_upsampled)\n",
    "       \n",
    "        predict_valid_rfc_upsampled = model_rfc_upsampled.predict(features_valid)\n",
    "    \n",
    "        f1_valid_rfc_upsampled = f1_score(target_valid, predict_valid_rfc_upsampled)\n",
    "    \n",
    "        probabilities_valid_rfc_upsampled = model_rfc_upsampled.predict_proba(features_valid)\n",
    "        probabilities_one_valid_rfc_upsampled =  probabilities_valid_rfc_upsampled[:, 1]\n",
    "        auc_roc_rfc_upsampled = roc_auc_score(target_valid, probabilities_one_valid_rfc_upsampled)\n",
    "        \n",
    "        print('Max depth:', depth,'F1-score:','{:.4f}'.format(f1_valid_rfc_upsampled),'AUC-ROC:','{:.4f}'.format(auc_roc_rfc_upsampled))\n",
    "        if best_model_RFC_upsampled < f1_valid_rfc_upsampled:\n",
    "            best_model_RFC_upsampled = f1_valid_rfc_upsampled\n",
    "            best_depth_rfc_upsampled = depth\n",
    "            best_est_upsampled = estimator\n",
    "            best_model_rfc_upsampled =  model_rfc_upsampled\n",
    "            best_auc_roc_rfc_upsampled = auc_roc_rfc_upsampled\n",
    "            \n",
    "print(\"Лучшая F-мера\", best_model_RFC_upsampled, 'при глубине = {0},  количестве деревьев = {1} и AUC-ROC = {2}'\n",
    "      .format(best_depth_rfc_upsampled, best_est_upsampled, best_auc_roc_rfc_upsampled))"
   ]
  },
  {
   "cell_type": "markdown",
   "metadata": {},
   "source": [
    "обучаем модель на увеличенной выборке - предсказываем на стандартной валидационной. Модель LogisticRegression."
   ]
  },
  {
   "cell_type": "code",
   "execution_count": 43,
   "metadata": {},
   "outputs": [
    {
     "name": "stdout",
     "output_type": "stream",
     "text": [
      "accuracy_score_regression 0.701\n",
      "auc_roc 0.7635798063138539\n",
      "F1: 0.47990255785627284\n"
     ]
    }
   ],
   "source": [
    "model_lg_upsampled = LogisticRegression(solver='liblinear', random_state=12345)\n",
    "model_lg_upsampled.fit(features_upsampled, target_upsampled)\n",
    "predicted_valid_lg_upsampled = model_lg_upsampled.predict(features_valid)\n",
    "accuracy_score_regression_lr_upsampled = accuracy_score(target_valid,predicted_valid_lg_upsampled)\n",
    "f1_lr_upsampled = f1_score(target_valid, predicted_valid_lg_upsampled)\n",
    "    \n",
    "probabilities_valid_lr_upsampled = model_lg_upsampled.predict_proba(features_valid)\n",
    "probabilities_one_valid_lr_upsampled =  probabilities_valid_lr_upsampled[:, 1]\n",
    "auc_roc_lr_upsampled = roc_auc_score(target_valid, probabilities_one_valid_lr_upsampled)\n",
    "    \n",
    "print('accuracy_score_regression', accuracy_score_regression_lr_upsampled)\n",
    "print('auc_roc', auc_roc_lr_balanced)\n",
    "print(\"F1:\", f1_score(target_valid, predicted_valid))"
   ]
  },
  {
   "cell_type": "markdown",
   "metadata": {},
   "source": [
    "<div class=\"alert alert-success\">\n",
    "<h2> Комментарий ревьюера ✔️ <a class=\"tocSkip\"> </h2>\n",
    "\n",
    "Случайно удалить или добавить N примеров одного из классов - это самая простая и примитивная стратегия, понятная и несложная в реализации. Однако такой подход зачастую бывает не совсем эффективным. Предпочтительно сделать стратегию балансировки классов более управляемой, то есть выполняемой в соответствии с некоторыми правилами. Вот отличная [статья](https://loginom.ru/blog/imbalance-class?ysclid=lahalfdpji666704250) на эту тему."
   ]
  },
  {
   "cell_type": "markdown",
   "metadata": {},
   "source": [
    "### Вывод: Выполнено обучение 3 моделей на сбалансированных выборках: дерево решений(с подбором оптимального кол-ва деревьев), лес деревьев (с подбором кол-ва деревьев и глубины леса); логистическая регрессия. Использовалось 2 метода балансировки: взешивание классов и метод upsampling. На данном этапе лучшие результаты по метрикам f1 и auc-roc показала модель леса деревьев с параметрами RandomForestClassifier(max_depth=13, n_estimators=35, random_state=12345) f1 = 0.6329 и auc-roc = 0.8435 - сбалансированная методом upsampling и модель RandomForestClassifier(max_depth=9, n_estimators=46, random_state=12345) f1 = 0.6296 и auc-roc = 0.8557, сбалансированная методом взвешивания классов. Данные модели возьмем на финальное тестирование."
   ]
  },
  {
   "cell_type": "markdown",
   "metadata": {},
   "source": [
    "## Тестирование модели"
   ]
  },
  {
   "cell_type": "markdown",
   "metadata": {},
   "source": [
    "с целью более объективного контроля результатов исследования, объединим тренинговую и валидационную выборки на этапе обучения (для получения большего кол-ва данных на обучении модели), для лучшей модели."
   ]
  },
  {
   "cell_type": "code",
   "execution_count": 44,
   "metadata": {},
   "outputs": [],
   "source": [
    "#увеличим выборку, для достижения большего объема данных, за счет объединения тернинговой и валидационной выборки\n",
    "\n",
    "def upsample(features, target, repeat):\n",
    "    features_zeros = features[target == 0]\n",
    "    features_ones = features[target == 1]\n",
    "    target_zeros = target[target == 0]\n",
    "    target_ones = target[target == 1]\n",
    "\n",
    "    features_upsampled = pd.concat([features_zeros] + [features_ones] * repeat)\n",
    "    target_upsampled = pd.concat([target_zeros] + [target_ones] * repeat)\n",
    "    \n",
    "    features_upsampled, target_upsampled = shuffle(features_upsampled, target_upsampled, random_state=12345)\n",
    "    \n",
    "    return features_upsampled, target_upsampled\n",
    "features_full_train = pd.concat([features_train, features_valid])\n",
    "target_full_train = pd.concat([target_train, target_valid])\n",
    "features_upsampled, target_upsampled = upsample(features_full_train, target_full_train, 4)\n"
   ]
  },
  {
   "cell_type": "markdown",
   "metadata": {},
   "source": [
    "<div class=\"alert alert-success\">\n",
    "<h2> Комментарий ревьюера ✔️ <a class=\"tocSkip\"> </h2>\n",
    "\n",
    "Объединить выборки- очень правильное решение!"
   ]
  },
  {
   "cell_type": "code",
   "execution_count": 47,
   "metadata": {},
   "outputs": [
    {
     "data": {
      "image/png": "[encoded data removed]",
      "text/plain": [
       "<Figure size 432x288 with 1 Axes>"
      ]
     },
     "metadata": {
      "needs_background": "light"
     },
     "output_type": "display_data"
    },
    {
     "name": "stdout",
     "output_type": "stream",
     "text": [
      "Max depth: 19 F1-score: 0.6045 AUC-ROC: 0.8573\n",
      "Лучшая F-мера 0.604494382022472 при глубине = 19,  количестве деревьев = 49 и AUC-ROC = 0.8572790602499585\n",
      "CPU times: user 426 ms, sys: 3.98 ms, total: 430 ms\n",
      "Wall time: 431 ms\n"
     ]
    }
   ],
   "source": [
    "%%time\n",
    "best_score_f1 = 0\n",
    "best_auc_roc = 0\n",
    "best_model_RFC = 0\n",
    "best_model_f1_RFC = 0\n",
    "best_model_auc_roc_RFC = 0\n",
    "best_depth_rfc_nb = 0\n",
    "best_est_nb = 0\n",
    "model_rfc_nb = RandomForestClassifier(n_estimators=46, max_depth=9, random_state=12345, class_weight='balanced')\n",
    "model_rfc_nb.fit(features_full_train, target_full_train)\n",
    "       \n",
    "    \n",
    "predict_valid_rfc_nb = model_rfc_nb.predict(features_test)\n",
    "        \n",
    "       \n",
    "f1_valid_rfc_nb = f1_score(target_test, predict_valid_rfc_nb)\n",
    "    \n",
    "probabilities_valid_rfc_nb = model_rfc_nb.predict_proba(features_test)\n",
    "probabilities_one_valid_rfc_balanced =  probabilities_valid_rfc_nb[:, 1]\n",
    "auc_roc_rfc_nb = roc_auc_score(target_test, probabilities_one_valid_rfc_balanced)\n",
    "\n",
    "# для визуализации качества модель, построим ROC кривую\n",
    "fpr, tpr, thresholds = roc_curve(target_test, probabilities_one_valid_rfc_balanced) # < напишите код здесь >\n",
    "\n",
    "plt.figure()\n",
    "plt.plot(fpr, tpr)\n",
    "plt.plot([0, 1], [0, 1], linestyle='--')\n",
    "plt.ylim([0.0, 1.0])\n",
    "plt.xlim([0.0, 1.0])\n",
    "plt.grid(True)\n",
    "plt.xlabel('False Positive Rate')\n",
    "plt.ylabel('True Positive Rate')\n",
    "plt.title(\"ROC-кривая\")\n",
    "plt.show() \n",
    "#--------------------------------------------------------\n",
    "\n",
    "        \n",
    "print('Max depth:', depth,'F1-score:','{:.4f}'.format(f1_valid_rfc_nb),'AUC-ROC:','{:.4f}'.format(auc_roc_rfc_nb))\n",
    "if best_model_RFC < f1_valid_rfc_nb:\n",
    "    best_model_RFC = f1_valid_rfc_nb\n",
    "    best_depth_rfc_nb = depth\n",
    "    best_est_nb = estimator\n",
    "    best_model_rfc_nb =  model_rfc_nb\n",
    "    best_auc_roc_rfc_nb = auc_roc_rfc_nb\n",
    "            \n",
    "print(\"Лучшая F-мера\", best_model_RFC, 'при глубине = {0},  количестве деревьев = {1} и AUC-ROC = {2}'\n",
    "      .format(best_depth_rfc_nb, best_est_nb, best_auc_roc_rfc_nb))"
   ]
  },
  {
   "cell_type": "markdown",
   "metadata": {},
   "source": [
    "<div class=\"alert alert-success\">\n",
    "<h2> Комментарий ревьюера ✔️ <a class=\"tocSkip\"> </h2>\n",
    "\n",
    "Я бы сетку добавил для счастья)"
   ]
  },
  {
   "cell_type": "markdown",
   "metadata": {},
   "source": [
    "<font color='blue'> сетку добавил ))   </font> "
   ]
  },
  {
   "cell_type": "code",
   "execution_count": 46,
   "metadata": {},
   "outputs": [
    {
     "name": "stdout",
     "output_type": "stream",
     "text": [
      "Max depth: 19 F1-score: 0.5943 AUC-ROC: 0.8495\n",
      "Лучшая F-мера 0.5943396226415094 при глубине = 19,  количестве деревьев = 49 и AUC-ROC = 0.8495392544421808\n",
      "CPU times: user 400 ms, sys: 3.96 ms, total: 404 ms\n",
      "Wall time: 411 ms\n"
     ]
    }
   ],
   "source": [
    "%%time\n",
    "\n",
    "best_model_RFC_upsampled = 0\n",
    "best_model_f1_RFC_upsampled = 0\n",
    "best_model_auc_roc_RFC_upsampled = 0\n",
    "best_depth_rfc_upsampled = 0\n",
    "best_est_upsampled = 0\n",
    "\n",
    "\n",
    "\n",
    "\n",
    "model_rfc_upsampled = RandomForestClassifier(n_estimators=35, max_depth=13, random_state=12345)\n",
    "model_rfc_upsampled.fit(features_upsampled, target_upsampled)\n",
    "       \n",
    "predict_valid_rfc_upsampled = model_rfc_upsampled.predict(features_test)\n",
    "    \n",
    "f1_valid_rfc_upsampled = f1_score(target_test, predict_valid_rfc_upsampled)\n",
    "    \n",
    "probabilities_valid_rfc_upsampled = model_rfc_upsampled.predict_proba(features_test)\n",
    "probabilities_one_valid_rfc_upsampled =  probabilities_valid_rfc_upsampled[:, 1]\n",
    "auc_roc_rfc_upsampled = roc_auc_score(target_test, probabilities_one_valid_rfc_upsampled)\n",
    "        \n",
    "print('Max depth:', depth,'F1-score:','{:.4f}'.format(f1_valid_rfc_upsampled),'AUC-ROC:','{:.4f}'.format(auc_roc_rfc_upsampled))\n",
    "if best_model_RFC_upsampled < f1_valid_rfc_upsampled:\n",
    "    best_model_RFC_upsampled = f1_valid_rfc_upsampled\n",
    "    best_depth_rfc_upsampled = depth\n",
    "    best_est_upsampled = estimator\n",
    "    best_model_rfc_upsampled =  model_rfc_upsampled\n",
    "    best_auc_roc_rfc_upsampled = auc_roc_rfc_upsampled\n",
    "            \n",
    "print(\"Лучшая F-мера\", best_model_RFC_upsampled, 'при глубине = {0},  количестве деревьев = {1} и AUC-ROC = {2}'\n",
    "      .format(best_depth_rfc_upsampled, best_est_upsampled, best_auc_roc_rfc_upsampled))"
   ]
  },
  {
   "cell_type": "markdown",
   "metadata": {},
   "source": [
    "ВЫВОД по результатам проведенной работы: построена модель, позволившая достичь целевого показателя f1 на тестовой выборке - лучшей признана модель RFC, сбалансированная методом взвешивания классов, с параметрами f1 = 0.6044, auc-roc = 0.8572. Данная модель позволяет с достаточной долей вероятности предсказать отток клиентов из банка."
   ]
  },
  {
   "cell_type": "markdown",
   "metadata": {},
   "source": []
  },
  {
   "cell_type": "markdown",
   "metadata": {},
   "source": []
  },
  {
   "cell_type": "markdown",
   "metadata": {},
   "source": []
  },
  {
   "cell_type": "code",
   "execution_count": null,
   "metadata": {},
   "outputs": [],
   "source": []
  }
 ],
 "metadata": {
  "ExecuteTimeLog": [
   {
    "duration": 1168,
    "start_time": "2022-11-15T08:21:38.784Z"
   },
   {
    "duration": 115,
    "start_time": "2022-11-15T08:22:02.427Z"
   },
   {
    "duration": 3,
    "start_time": "2022-11-15T08:22:08.239Z"
   },
   {
    "duration": 79,
    "start_time": "2022-11-15T08:22:08.680Z"
   },
   {
    "duration": 15,
    "start_time": "2022-11-15T08:22:33.272Z"
   },
   {
    "duration": 28,
    "start_time": "2022-11-15T08:46:56.282Z"
   },
   {
    "duration": 20,
    "start_time": "2022-11-15T08:51:25.785Z"
   },
   {
    "duration": 7,
    "start_time": "2022-11-15T08:51:36.643Z"
   },
   {
    "duration": 104,
    "start_time": "2022-11-15T08:56:55.356Z"
   },
   {
    "duration": 12,
    "start_time": "2022-11-15T08:56:58.838Z"
   },
   {
    "duration": 12,
    "start_time": "2022-11-15T08:57:15.125Z"
   },
   {
    "duration": 6,
    "start_time": "2022-11-15T08:57:25.506Z"
   },
   {
    "duration": 8,
    "start_time": "2022-11-15T08:57:34.115Z"
   },
   {
    "duration": 6,
    "start_time": "2022-11-15T09:15:50.373Z"
   },
   {
    "duration": 9,
    "start_time": "2022-11-15T09:16:02.892Z"
   },
   {
    "duration": 6,
    "start_time": "2022-11-15T09:19:24.854Z"
   },
   {
    "duration": 15,
    "start_time": "2022-11-15T09:22:42.900Z"
   },
   {
    "duration": 3,
    "start_time": "2022-11-15T09:29:07.465Z"
   },
   {
    "duration": 14,
    "start_time": "2022-11-15T09:29:24.377Z"
   },
   {
    "duration": 484,
    "start_time": "2022-11-15T09:39:39.572Z"
   },
   {
    "duration": 15,
    "start_time": "2022-11-15T09:40:28.485Z"
   },
   {
    "duration": 4,
    "start_time": "2022-11-15T09:43:44.621Z"
   },
   {
    "duration": 29,
    "start_time": "2022-11-15T09:44:02.499Z"
   },
   {
    "duration": 13,
    "start_time": "2022-11-15T09:44:13.682Z"
   },
   {
    "duration": 14,
    "start_time": "2022-11-15T09:45:51.672Z"
   },
   {
    "duration": 12,
    "start_time": "2022-11-15T09:48:23.169Z"
   },
   {
    "duration": 10,
    "start_time": "2022-11-15T09:49:05.501Z"
   },
   {
    "duration": 12,
    "start_time": "2022-11-15T09:49:10.641Z"
   },
   {
    "duration": 10,
    "start_time": "2022-11-15T09:49:13.832Z"
   },
   {
    "duration": 3,
    "start_time": "2022-11-15T09:49:19.517Z"
   },
   {
    "duration": 79,
    "start_time": "2022-11-15T09:49:19.522Z"
   },
   {
    "duration": 14,
    "start_time": "2022-11-15T09:49:19.603Z"
   },
   {
    "duration": 14,
    "start_time": "2022-11-15T09:49:19.672Z"
   },
   {
    "duration": 68,
    "start_time": "2022-11-15T09:49:19.744Z"
   },
   {
    "duration": 0,
    "start_time": "2022-11-15T09:49:19.814Z"
   },
   {
    "duration": 6,
    "start_time": "2022-11-15T09:49:19.829Z"
   },
   {
    "duration": 15,
    "start_time": "2022-11-15T09:49:19.837Z"
   },
   {
    "duration": 20,
    "start_time": "2022-11-15T09:49:19.906Z"
   },
   {
    "duration": 13,
    "start_time": "2022-11-15T09:49:19.976Z"
   },
   {
    "duration": 10,
    "start_time": "2022-11-15T09:49:59.001Z"
   },
   {
    "duration": 10,
    "start_time": "2022-11-15T09:50:02.286Z"
   },
   {
    "duration": 10,
    "start_time": "2022-11-15T09:50:12.220Z"
   },
   {
    "duration": 5,
    "start_time": "2022-11-15T09:50:22.478Z"
   },
   {
    "duration": 13,
    "start_time": "2022-11-15T09:50:30.031Z"
   },
   {
    "duration": 13,
    "start_time": "2022-11-15T09:50:36.952Z"
   },
   {
    "duration": 68,
    "start_time": "2022-11-15T09:50:46.174Z"
   },
   {
    "duration": 13,
    "start_time": "2022-11-15T09:51:05.654Z"
   },
   {
    "duration": 15,
    "start_time": "2022-11-15T09:51:41.047Z"
   },
   {
    "duration": 3,
    "start_time": "2022-11-15T09:53:00.590Z"
   },
   {
    "duration": 98,
    "start_time": "2022-11-15T09:53:00.595Z"
   },
   {
    "duration": 13,
    "start_time": "2022-11-15T09:53:00.695Z"
   },
   {
    "duration": 31,
    "start_time": "2022-11-15T09:53:00.711Z"
   },
   {
    "duration": 69,
    "start_time": "2022-11-15T09:53:00.744Z"
   },
   {
    "duration": 0,
    "start_time": "2022-11-15T09:53:00.814Z"
   },
   {
    "duration": 0,
    "start_time": "2022-11-15T09:53:00.815Z"
   },
   {
    "duration": 0,
    "start_time": "2022-11-15T09:53:00.817Z"
   },
   {
    "duration": 0,
    "start_time": "2022-11-15T09:53:00.819Z"
   },
   {
    "duration": 1,
    "start_time": "2022-11-15T09:53:00.820Z"
   },
   {
    "duration": 8,
    "start_time": "2022-11-15T09:53:17.907Z"
   },
   {
    "duration": 7,
    "start_time": "2022-11-15T09:53:17.917Z"
   },
   {
    "duration": 19,
    "start_time": "2022-11-15T09:53:17.926Z"
   },
   {
    "duration": 15,
    "start_time": "2022-11-15T09:53:17.947Z"
   },
   {
    "duration": 22,
    "start_time": "2022-11-15T09:53:17.964Z"
   },
   {
    "duration": 7,
    "start_time": "2022-11-15T09:53:59.109Z"
   },
   {
    "duration": 18,
    "start_time": "2022-11-15T09:54:03.871Z"
   },
   {
    "duration": 17,
    "start_time": "2022-11-15T09:54:08.913Z"
   },
   {
    "duration": 18,
    "start_time": "2022-11-15T09:54:10.971Z"
   },
   {
    "duration": 4,
    "start_time": "2022-11-15T09:54:16.920Z"
   },
   {
    "duration": 91,
    "start_time": "2022-11-15T09:54:16.926Z"
   },
   {
    "duration": 20,
    "start_time": "2022-11-15T09:54:17.020Z"
   },
   {
    "duration": 22,
    "start_time": "2022-11-15T09:54:17.043Z"
   },
   {
    "duration": 15,
    "start_time": "2022-11-15T09:54:17.067Z"
   },
   {
    "duration": 9,
    "start_time": "2022-11-15T09:54:17.084Z"
   },
   {
    "duration": 16,
    "start_time": "2022-11-15T09:54:17.095Z"
   },
   {
    "duration": 24,
    "start_time": "2022-11-15T09:54:17.113Z"
   },
   {
    "duration": 41,
    "start_time": "2022-11-15T09:54:17.139Z"
   },
   {
    "duration": 3,
    "start_time": "2022-11-15T09:56:16.330Z"
   },
   {
    "duration": 102,
    "start_time": "2022-11-15T09:56:16.335Z"
   },
   {
    "duration": 15,
    "start_time": "2022-11-15T09:56:16.439Z"
   },
   {
    "duration": 49,
    "start_time": "2022-11-15T09:56:16.456Z"
   },
   {
    "duration": 68,
    "start_time": "2022-11-15T09:56:16.507Z"
   },
   {
    "duration": 83,
    "start_time": "2022-11-15T09:56:16.577Z"
   },
   {
    "duration": 45,
    "start_time": "2022-11-15T09:56:16.662Z"
   },
   {
    "duration": 66,
    "start_time": "2022-11-15T09:56:16.709Z"
   },
   {
    "duration": 25,
    "start_time": "2022-11-15T09:56:16.777Z"
   },
   {
    "duration": 18,
    "start_time": "2022-11-15T09:56:31.362Z"
   },
   {
    "duration": 4,
    "start_time": "2022-11-15T10:05:19.420Z"
   },
   {
    "duration": 3,
    "start_time": "2022-11-15T10:05:25.531Z"
   },
   {
    "duration": 97,
    "start_time": "2022-11-15T10:05:25.536Z"
   },
   {
    "duration": 14,
    "start_time": "2022-11-15T10:05:25.635Z"
   },
   {
    "duration": 21,
    "start_time": "2022-11-15T10:05:25.650Z"
   },
   {
    "duration": 11,
    "start_time": "2022-11-15T10:05:25.674Z"
   },
   {
    "duration": 16,
    "start_time": "2022-11-15T10:05:25.687Z"
   },
   {
    "duration": 18,
    "start_time": "2022-11-15T10:05:25.705Z"
   },
   {
    "duration": 10,
    "start_time": "2022-11-15T10:05:25.725Z"
   },
   {
    "duration": 18,
    "start_time": "2022-11-15T10:05:25.737Z"
   },
   {
    "duration": 19,
    "start_time": "2022-11-15T10:05:25.758Z"
   },
   {
    "duration": 20,
    "start_time": "2022-11-15T10:05:25.780Z"
   },
   {
    "duration": 5,
    "start_time": "2022-11-15T10:05:40.085Z"
   },
   {
    "duration": 39,
    "start_time": "2022-11-15T10:47:50.876Z"
   },
   {
    "duration": 4,
    "start_time": "2022-11-15T10:55:08.140Z"
   },
   {
    "duration": 14,
    "start_time": "2022-11-15T10:55:13.317Z"
   },
   {
    "duration": 17,
    "start_time": "2022-11-15T10:55:16.203Z"
   },
   {
    "duration": 3,
    "start_time": "2022-11-15T10:55:20.348Z"
   },
   {
    "duration": 114,
    "start_time": "2022-11-15T10:55:20.354Z"
   },
   {
    "duration": 25,
    "start_time": "2022-11-15T10:55:20.470Z"
   },
   {
    "duration": 21,
    "start_time": "2022-11-15T10:55:20.498Z"
   },
   {
    "duration": 22,
    "start_time": "2022-11-15T10:55:20.521Z"
   },
   {
    "duration": 11,
    "start_time": "2022-11-15T10:55:20.545Z"
   },
   {
    "duration": 38,
    "start_time": "2022-11-15T10:55:20.558Z"
   },
   {
    "duration": 10,
    "start_time": "2022-11-15T10:55:20.600Z"
   },
   {
    "duration": 17,
    "start_time": "2022-11-15T10:55:20.612Z"
   },
   {
    "duration": 5,
    "start_time": "2022-11-15T10:55:20.632Z"
   },
   {
    "duration": 27,
    "start_time": "2022-11-15T10:55:20.639Z"
   },
   {
    "duration": 21,
    "start_time": "2022-11-15T10:55:20.669Z"
   },
   {
    "duration": 19,
    "start_time": "2022-11-15T10:55:20.692Z"
   },
   {
    "duration": 20,
    "start_time": "2022-11-15T10:56:21.631Z"
   },
   {
    "duration": 19,
    "start_time": "2022-11-15T10:56:40.653Z"
   },
   {
    "duration": 5,
    "start_time": "2022-11-15T10:56:52.418Z"
   },
   {
    "duration": 9,
    "start_time": "2022-11-15T10:57:30.683Z"
   },
   {
    "duration": 4,
    "start_time": "2022-11-15T10:59:14.137Z"
   },
   {
    "duration": 7,
    "start_time": "2022-11-15T11:07:04.790Z"
   },
   {
    "duration": 42,
    "start_time": "2022-11-15T11:07:05.729Z"
   },
   {
    "duration": 19,
    "start_time": "2022-11-15T11:08:49.425Z"
   },
   {
    "duration": 21,
    "start_time": "2022-11-15T11:08:53.615Z"
   },
   {
    "duration": 28,
    "start_time": "2022-11-15T11:08:56.491Z"
   },
   {
    "duration": 9,
    "start_time": "2022-11-15T11:11:00.498Z"
   },
   {
    "duration": 9,
    "start_time": "2022-11-15T11:11:56.682Z"
   },
   {
    "duration": 9,
    "start_time": "2022-11-15T11:12:10.321Z"
   },
   {
    "duration": 16,
    "start_time": "2022-11-15T11:12:15.441Z"
   },
   {
    "duration": 12,
    "start_time": "2022-11-15T11:12:16.679Z"
   },
   {
    "duration": 13,
    "start_time": "2022-11-15T11:12:17.949Z"
   },
   {
    "duration": 27,
    "start_time": "2022-11-15T11:13:04.097Z"
   },
   {
    "duration": 5,
    "start_time": "2022-11-15T11:13:28.233Z"
   },
   {
    "duration": 7,
    "start_time": "2022-11-15T11:13:43.068Z"
   },
   {
    "duration": 7,
    "start_time": "2022-11-15T11:14:00.307Z"
   },
   {
    "duration": 1203,
    "start_time": "2022-11-16T01:09:39.493Z"
   },
   {
    "duration": 117,
    "start_time": "2022-11-16T01:09:40.699Z"
   },
   {
    "duration": 17,
    "start_time": "2022-11-16T01:09:40.818Z"
   },
   {
    "duration": 23,
    "start_time": "2022-11-16T01:09:40.836Z"
   },
   {
    "duration": 9,
    "start_time": "2022-11-16T01:09:40.861Z"
   },
   {
    "duration": 7,
    "start_time": "2022-11-16T01:09:40.872Z"
   },
   {
    "duration": 17,
    "start_time": "2022-11-16T01:09:40.881Z"
   },
   {
    "duration": 4,
    "start_time": "2022-11-16T01:09:40.900Z"
   },
   {
    "duration": 548,
    "start_time": "2022-11-16T01:09:40.905Z"
   },
   {
    "duration": 5,
    "start_time": "2022-11-16T01:09:41.455Z"
   },
   {
    "duration": 16,
    "start_time": "2022-11-16T01:09:41.462Z"
   },
   {
    "duration": 7,
    "start_time": "2022-11-16T01:09:41.479Z"
   },
   {
    "duration": 25,
    "start_time": "2022-11-16T01:09:41.487Z"
   },
   {
    "duration": 38,
    "start_time": "2022-11-16T01:09:41.514Z"
   },
   {
    "duration": 6,
    "start_time": "2022-11-16T01:09:41.554Z"
   },
   {
    "duration": 7,
    "start_time": "2022-11-16T01:09:41.561Z"
   },
   {
    "duration": 6,
    "start_time": "2022-11-16T01:09:41.569Z"
   },
   {
    "duration": 4,
    "start_time": "2022-11-16T01:09:41.577Z"
   },
   {
    "duration": 5,
    "start_time": "2022-11-16T01:09:41.583Z"
   },
   {
    "duration": 151,
    "start_time": "2022-11-16T01:09:41.590Z"
   },
   {
    "duration": 31,
    "start_time": "2022-11-16T01:13:38.983Z"
   },
   {
    "duration": 27,
    "start_time": "2022-11-16T01:14:02.601Z"
   },
   {
    "duration": 3,
    "start_time": "2022-11-16T01:14:21.178Z"
   },
   {
    "duration": 105,
    "start_time": "2022-11-16T01:14:21.183Z"
   },
   {
    "duration": 14,
    "start_time": "2022-11-16T01:14:21.289Z"
   },
   {
    "duration": 22,
    "start_time": "2022-11-16T01:14:21.304Z"
   },
   {
    "duration": 13,
    "start_time": "2022-11-16T01:14:21.328Z"
   },
   {
    "duration": 6,
    "start_time": "2022-11-16T01:14:21.343Z"
   },
   {
    "duration": 18,
    "start_time": "2022-11-16T01:14:21.351Z"
   },
   {
    "duration": 4,
    "start_time": "2022-11-16T01:14:21.371Z"
   },
   {
    "duration": 19,
    "start_time": "2022-11-16T01:14:21.377Z"
   },
   {
    "duration": 5,
    "start_time": "2022-11-16T01:14:21.398Z"
   },
   {
    "duration": 15,
    "start_time": "2022-11-16T01:14:21.405Z"
   },
   {
    "duration": 32,
    "start_time": "2022-11-16T01:14:21.422Z"
   },
   {
    "duration": 23,
    "start_time": "2022-11-16T01:14:21.457Z"
   },
   {
    "duration": 5,
    "start_time": "2022-11-16T01:14:21.482Z"
   },
   {
    "duration": 6,
    "start_time": "2022-11-16T01:14:21.488Z"
   },
   {
    "duration": 7,
    "start_time": "2022-11-16T01:14:21.496Z"
   },
   {
    "duration": 6,
    "start_time": "2022-11-16T01:14:21.504Z"
   },
   {
    "duration": 6,
    "start_time": "2022-11-16T01:14:21.511Z"
   },
   {
    "duration": 34,
    "start_time": "2022-11-16T01:14:21.519Z"
   },
   {
    "duration": 29,
    "start_time": "2022-11-16T01:14:21.555Z"
   },
   {
    "duration": 20,
    "start_time": "2022-11-16T01:15:04.206Z"
   },
   {
    "duration": 7,
    "start_time": "2022-11-16T01:18:59.592Z"
   },
   {
    "duration": 6,
    "start_time": "2022-11-16T01:22:38.130Z"
   },
   {
    "duration": 6,
    "start_time": "2022-11-16T01:22:39.408Z"
   },
   {
    "duration": 5,
    "start_time": "2022-11-16T01:22:39.949Z"
   },
   {
    "duration": 5,
    "start_time": "2022-11-16T01:22:40.667Z"
   },
   {
    "duration": 5,
    "start_time": "2022-11-16T01:22:41.241Z"
   },
   {
    "duration": 27,
    "start_time": "2022-11-16T01:22:42.897Z"
   },
   {
    "duration": 29,
    "start_time": "2022-11-16T01:24:22.687Z"
   },
   {
    "duration": 4,
    "start_time": "2022-11-16T01:25:59.190Z"
   },
   {
    "duration": 5,
    "start_time": "2022-11-16T01:26:19.974Z"
   },
   {
    "duration": 13,
    "start_time": "2022-11-16T01:26:43.029Z"
   },
   {
    "duration": 5,
    "start_time": "2022-11-16T01:33:23.080Z"
   },
   {
    "duration": 5,
    "start_time": "2022-11-16T01:33:23.579Z"
   },
   {
    "duration": 14,
    "start_time": "2022-11-16T01:33:24.209Z"
   },
   {
    "duration": 6,
    "start_time": "2022-11-16T01:34:13.796Z"
   },
   {
    "duration": 25,
    "start_time": "2022-11-16T01:34:36.987Z"
   },
   {
    "duration": 6,
    "start_time": "2022-11-16T01:35:23.040Z"
   },
   {
    "duration": 6,
    "start_time": "2022-11-16T01:35:30.890Z"
   },
   {
    "duration": 158,
    "start_time": "2022-11-16T01:36:20.829Z"
   },
   {
    "duration": 165,
    "start_time": "2022-11-16T01:36:26.160Z"
   },
   {
    "duration": 206,
    "start_time": "2022-11-16T01:37:23.866Z"
   },
   {
    "duration": 153,
    "start_time": "2022-11-16T01:37:45.992Z"
   },
   {
    "duration": 153,
    "start_time": "2022-11-16T01:37:56.016Z"
   },
   {
    "duration": 3,
    "start_time": "2022-11-16T01:39:37.905Z"
   },
   {
    "duration": 155,
    "start_time": "2022-11-16T01:39:42.965Z"
   },
   {
    "duration": 5,
    "start_time": "2022-11-16T01:40:08.987Z"
   },
   {
    "duration": 263,
    "start_time": "2022-11-16T01:40:13.805Z"
   },
   {
    "duration": 4,
    "start_time": "2022-11-16T01:41:27.220Z"
   },
   {
    "duration": 169,
    "start_time": "2022-11-16T01:41:31.190Z"
   },
   {
    "duration": 126,
    "start_time": "2022-11-16T01:42:54.705Z"
   },
   {
    "duration": 136,
    "start_time": "2022-11-16T01:43:12.478Z"
   },
   {
    "duration": 184,
    "start_time": "2022-11-16T01:43:19.151Z"
   },
   {
    "duration": 138,
    "start_time": "2022-11-16T01:46:17.003Z"
   },
   {
    "duration": 155,
    "start_time": "2022-11-16T01:47:10.708Z"
   },
   {
    "duration": 149,
    "start_time": "2022-11-16T01:47:50.968Z"
   },
   {
    "duration": 151,
    "start_time": "2022-11-16T01:48:31.666Z"
   },
   {
    "duration": 15,
    "start_time": "2022-11-16T02:02:40.719Z"
   },
   {
    "duration": 135,
    "start_time": "2022-11-16T02:02:56.630Z"
   },
   {
    "duration": 140,
    "start_time": "2022-11-16T02:04:11.214Z"
   },
   {
    "duration": 71,
    "start_time": "2022-11-16T02:04:22.521Z"
   },
   {
    "duration": 145,
    "start_time": "2022-11-16T02:04:30.571Z"
   },
   {
    "duration": 41,
    "start_time": "2022-11-16T02:12:46.635Z"
   },
   {
    "duration": 37,
    "start_time": "2022-11-16T02:15:16.323Z"
   },
   {
    "duration": 137,
    "start_time": "2022-11-16T02:16:50.492Z"
   },
   {
    "duration": 133,
    "start_time": "2022-11-16T02:17:08.950Z"
   },
   {
    "duration": 68,
    "start_time": "2022-11-16T02:25:19.448Z"
   },
   {
    "duration": 3265,
    "start_time": "2022-11-16T02:25:25.924Z"
   },
   {
    "duration": 7,
    "start_time": "2022-11-16T02:26:36.369Z"
   },
   {
    "duration": 3705,
    "start_time": "2022-11-16T02:30:20.919Z"
   },
   {
    "duration": 3660,
    "start_time": "2022-11-16T02:33:37.249Z"
   },
   {
    "duration": 17,
    "start_time": "2022-11-16T03:16:26.113Z"
   },
   {
    "duration": 16,
    "start_time": "2022-11-16T03:17:18.756Z"
   },
   {
    "duration": 32575,
    "start_time": "2022-11-16T03:17:27.435Z"
   },
   {
    "duration": 33193,
    "start_time": "2022-11-16T03:19:38.744Z"
   },
   {
    "duration": 92,
    "start_time": "2022-11-16T03:21:31.037Z"
   },
   {
    "duration": 31165,
    "start_time": "2022-11-16T03:21:51.307Z"
   },
   {
    "duration": 27,
    "start_time": "2022-11-16T03:22:42.601Z"
   },
   {
    "duration": 3671,
    "start_time": "2022-11-16T03:22:52.465Z"
   },
   {
    "duration": 88,
    "start_time": "2022-11-16T03:23:23.297Z"
   },
   {
    "duration": 77,
    "start_time": "2022-11-16T03:24:37.020Z"
   },
   {
    "duration": 76,
    "start_time": "2022-11-16T03:25:01.690Z"
   },
   {
    "duration": 84,
    "start_time": "2022-11-16T03:25:19.181Z"
   },
   {
    "duration": 134,
    "start_time": "2022-11-16T03:26:24.833Z"
   },
   {
    "duration": 74,
    "start_time": "2022-11-16T03:27:27.327Z"
   },
   {
    "duration": 74,
    "start_time": "2022-11-16T03:28:04.218Z"
   },
   {
    "duration": 76,
    "start_time": "2022-11-16T03:29:46.637Z"
   },
   {
    "duration": 3,
    "start_time": "2022-11-16T03:32:22.568Z"
   },
   {
    "duration": 103,
    "start_time": "2022-11-16T03:32:22.574Z"
   },
   {
    "duration": 15,
    "start_time": "2022-11-16T03:32:22.679Z"
   },
   {
    "duration": 24,
    "start_time": "2022-11-16T03:32:22.696Z"
   },
   {
    "duration": 11,
    "start_time": "2022-11-16T03:32:22.722Z"
   },
   {
    "duration": 22,
    "start_time": "2022-11-16T03:32:22.735Z"
   },
   {
    "duration": 23,
    "start_time": "2022-11-16T03:32:22.759Z"
   },
   {
    "duration": 7,
    "start_time": "2022-11-16T03:32:22.784Z"
   },
   {
    "duration": 19,
    "start_time": "2022-11-16T03:32:22.792Z"
   },
   {
    "duration": 5,
    "start_time": "2022-11-16T03:32:22.812Z"
   },
   {
    "duration": 34,
    "start_time": "2022-11-16T03:32:22.819Z"
   },
   {
    "duration": 5,
    "start_time": "2022-11-16T03:32:22.855Z"
   },
   {
    "duration": 23,
    "start_time": "2022-11-16T03:32:22.863Z"
   },
   {
    "duration": 9,
    "start_time": "2022-11-16T03:32:22.888Z"
   },
   {
    "duration": 6,
    "start_time": "2022-11-16T03:32:22.899Z"
   },
   {
    "duration": 9,
    "start_time": "2022-11-16T03:32:22.907Z"
   },
   {
    "duration": 37,
    "start_time": "2022-11-16T03:32:22.918Z"
   },
   {
    "duration": 6,
    "start_time": "2022-11-16T03:32:22.958Z"
   },
   {
    "duration": 31,
    "start_time": "2022-11-16T03:32:22.966Z"
   },
   {
    "duration": 6,
    "start_time": "2022-11-16T03:32:22.999Z"
   },
   {
    "duration": 19,
    "start_time": "2022-11-16T03:32:23.007Z"
   },
   {
    "duration": 14,
    "start_time": "2022-11-16T03:32:23.050Z"
   },
   {
    "duration": 177,
    "start_time": "2022-11-16T03:32:23.077Z"
   },
   {
    "duration": 0,
    "start_time": "2022-11-16T03:32:23.257Z"
   },
   {
    "duration": 0,
    "start_time": "2022-11-16T03:32:23.258Z"
   },
   {
    "duration": 0,
    "start_time": "2022-11-16T03:32:23.259Z"
   },
   {
    "duration": 0,
    "start_time": "2022-11-16T03:32:23.260Z"
   },
   {
    "duration": 0,
    "start_time": "2022-11-16T03:32:23.261Z"
   },
   {
    "duration": 0,
    "start_time": "2022-11-16T03:32:23.263Z"
   },
   {
    "duration": 0,
    "start_time": "2022-11-16T03:32:23.264Z"
   },
   {
    "duration": 83,
    "start_time": "2022-11-16T03:32:23.291Z"
   },
   {
    "duration": 146,
    "start_time": "2022-11-16T03:33:39.379Z"
   },
   {
    "duration": 128,
    "start_time": "2022-11-16T03:34:17.214Z"
   },
   {
    "duration": 130,
    "start_time": "2022-11-16T03:34:36.781Z"
   },
   {
    "duration": 146,
    "start_time": "2022-11-16T03:34:51.154Z"
   },
   {
    "duration": 183,
    "start_time": "2022-11-16T03:34:51.302Z"
   },
   {
    "duration": 132,
    "start_time": "2022-11-16T03:34:51.487Z"
   },
   {
    "duration": 138,
    "start_time": "2022-11-16T03:34:51.621Z"
   },
   {
    "duration": 193,
    "start_time": "2022-11-16T03:34:51.761Z"
   },
   {
    "duration": 0,
    "start_time": "2022-11-16T03:34:51.955Z"
   },
   {
    "duration": 0,
    "start_time": "2022-11-16T03:34:51.957Z"
   },
   {
    "duration": 3575,
    "start_time": "2022-11-16T03:35:01.358Z"
   },
   {
    "duration": 88,
    "start_time": "2022-11-16T03:35:04.935Z"
   },
   {
    "duration": 4,
    "start_time": "2022-11-16T03:35:11.961Z"
   },
   {
    "duration": 113,
    "start_time": "2022-11-16T03:35:11.968Z"
   },
   {
    "duration": 20,
    "start_time": "2022-11-16T03:35:12.083Z"
   },
   {
    "duration": 23,
    "start_time": "2022-11-16T03:35:12.106Z"
   },
   {
    "duration": 20,
    "start_time": "2022-11-16T03:35:12.132Z"
   },
   {
    "duration": 10,
    "start_time": "2022-11-16T03:35:12.154Z"
   },
   {
    "duration": 22,
    "start_time": "2022-11-16T03:35:12.166Z"
   },
   {
    "duration": 6,
    "start_time": "2022-11-16T03:35:12.197Z"
   },
   {
    "duration": 39,
    "start_time": "2022-11-16T03:35:12.206Z"
   },
   {
    "duration": 4,
    "start_time": "2022-11-16T03:35:12.247Z"
   },
   {
    "duration": 20,
    "start_time": "2022-11-16T03:35:12.253Z"
   },
   {
    "duration": 9,
    "start_time": "2022-11-16T03:35:12.274Z"
   },
   {
    "duration": 34,
    "start_time": "2022-11-16T03:35:12.285Z"
   },
   {
    "duration": 8,
    "start_time": "2022-11-16T03:35:12.321Z"
   },
   {
    "duration": 8,
    "start_time": "2022-11-16T03:35:12.331Z"
   },
   {
    "duration": 37,
    "start_time": "2022-11-16T03:35:12.341Z"
   },
   {
    "duration": 11,
    "start_time": "2022-11-16T03:35:12.380Z"
   },
   {
    "duration": 18,
    "start_time": "2022-11-16T03:35:12.393Z"
   },
   {
    "duration": 41,
    "start_time": "2022-11-16T03:35:12.412Z"
   },
   {
    "duration": 6,
    "start_time": "2022-11-16T03:35:12.455Z"
   },
   {
    "duration": 10,
    "start_time": "2022-11-16T03:35:12.463Z"
   },
   {
    "duration": 14,
    "start_time": "2022-11-16T03:35:12.474Z"
   },
   {
    "duration": 276,
    "start_time": "2022-11-16T03:35:12.490Z"
   },
   {
    "duration": 160,
    "start_time": "2022-11-16T03:35:12.768Z"
   },
   {
    "duration": 151,
    "start_time": "2022-11-16T03:35:12.930Z"
   },
   {
    "duration": 180,
    "start_time": "2022-11-16T03:35:13.083Z"
   },
   {
    "duration": 148,
    "start_time": "2022-11-16T03:35:13.266Z"
   },
   {
    "duration": 152,
    "start_time": "2022-11-16T03:35:13.416Z"
   },
   {
    "duration": 3758,
    "start_time": "2022-11-16T03:35:13.570Z"
   },
   {
    "duration": 87,
    "start_time": "2022-11-16T03:35:17.330Z"
   },
   {
    "duration": 4,
    "start_time": "2022-11-16T03:39:45.098Z"
   },
   {
    "duration": 70,
    "start_time": "2022-11-16T03:39:54.723Z"
   },
   {
    "duration": 5,
    "start_time": "2022-11-16T03:41:15.637Z"
   },
   {
    "duration": 5,
    "start_time": "2022-11-16T03:41:45.591Z"
   },
   {
    "duration": 6,
    "start_time": "2022-11-16T03:42:24.129Z"
   },
   {
    "duration": 68,
    "start_time": "2022-11-16T03:43:32.954Z"
   },
   {
    "duration": 67,
    "start_time": "2022-11-16T03:43:45.086Z"
   },
   {
    "duration": 65,
    "start_time": "2022-11-16T03:44:42.516Z"
   },
   {
    "duration": 4,
    "start_time": "2022-11-16T03:45:15.510Z"
   },
   {
    "duration": 15780,
    "start_time": "2022-11-16T03:45:22.698Z"
   },
   {
    "duration": 15703,
    "start_time": "2022-11-16T03:48:01.334Z"
   },
   {
    "duration": 16163,
    "start_time": "2022-11-16T03:48:44.397Z"
   },
   {
    "duration": 4,
    "start_time": "2022-11-16T03:49:30.135Z"
   },
   {
    "duration": 152934,
    "start_time": "2022-11-16T03:51:54.599Z"
   },
   {
    "duration": 5,
    "start_time": "2022-11-16T03:55:27.326Z"
   },
   {
    "duration": 5,
    "start_time": "2022-11-16T03:55:30.218Z"
   },
   {
    "duration": 5,
    "start_time": "2022-11-16T04:03:16.281Z"
   },
   {
    "duration": 165,
    "start_time": "2022-11-16T05:35:02.008Z"
   },
   {
    "duration": 175570,
    "start_time": "2022-11-16T05:35:16.596Z"
   },
   {
    "duration": 94,
    "start_time": "2022-11-16T05:41:09.532Z"
   },
   {
    "duration": 324,
    "start_time": "2022-11-16T05:41:23.989Z"
   },
   {
    "duration": 1470,
    "start_time": "2022-11-16T13:53:13.874Z"
   },
   {
    "duration": 4,
    "start_time": "2022-11-16T14:13:44.909Z"
   },
   {
    "duration": 102,
    "start_time": "2022-11-16T14:14:43.800Z"
   },
   {
    "duration": 9,
    "start_time": "2022-11-16T14:15:14.350Z"
   },
   {
    "duration": 8,
    "start_time": "2022-11-16T14:15:24.250Z"
   },
   {
    "duration": 4,
    "start_time": "2022-11-16T14:15:28.085Z"
   },
   {
    "duration": 124,
    "start_time": "2022-11-16T14:15:28.091Z"
   },
   {
    "duration": 16,
    "start_time": "2022-11-16T14:15:28.217Z"
   },
   {
    "duration": 24,
    "start_time": "2022-11-16T14:15:28.235Z"
   },
   {
    "duration": 8,
    "start_time": "2022-11-16T14:15:28.261Z"
   },
   {
    "duration": 7,
    "start_time": "2022-11-16T14:15:28.270Z"
   },
   {
    "duration": 13,
    "start_time": "2022-11-16T14:15:28.279Z"
   },
   {
    "duration": 4,
    "start_time": "2022-11-16T14:15:28.294Z"
   },
   {
    "duration": 46,
    "start_time": "2022-11-16T14:15:28.326Z"
   },
   {
    "duration": 4,
    "start_time": "2022-11-16T14:15:28.374Z"
   },
   {
    "duration": 23,
    "start_time": "2022-11-16T14:15:28.379Z"
   },
   {
    "duration": 22,
    "start_time": "2022-11-16T14:15:28.405Z"
   },
   {
    "duration": 27,
    "start_time": "2022-11-16T14:15:28.429Z"
   },
   {
    "duration": 7,
    "start_time": "2022-11-16T14:15:28.460Z"
   },
   {
    "duration": 10,
    "start_time": "2022-11-16T14:15:28.469Z"
   },
   {
    "duration": 7,
    "start_time": "2022-11-16T14:15:28.481Z"
   },
   {
    "duration": 38,
    "start_time": "2022-11-16T14:15:28.489Z"
   },
   {
    "duration": 7,
    "start_time": "2022-11-16T14:15:28.529Z"
   },
   {
    "duration": 52,
    "start_time": "2022-11-16T14:15:28.537Z"
   },
   {
    "duration": 5,
    "start_time": "2022-11-16T14:15:28.591Z"
   },
   {
    "duration": 29,
    "start_time": "2022-11-16T14:15:28.598Z"
   },
   {
    "duration": 6,
    "start_time": "2022-11-16T14:15:28.629Z"
   },
   {
    "duration": 16,
    "start_time": "2022-11-16T14:15:28.637Z"
   },
   {
    "duration": 159,
    "start_time": "2022-11-16T14:15:28.654Z"
   },
   {
    "duration": 128,
    "start_time": "2022-11-16T14:15:28.814Z"
   },
   {
    "duration": 122,
    "start_time": "2022-11-16T14:15:28.944Z"
   },
   {
    "duration": 137,
    "start_time": "2022-11-16T14:15:29.068Z"
   },
   {
    "duration": 185,
    "start_time": "2022-11-16T14:15:29.207Z"
   },
   {
    "duration": 116,
    "start_time": "2022-11-16T14:15:29.393Z"
   },
   {
    "duration": 3023,
    "start_time": "2022-11-16T14:15:29.511Z"
   },
   {
    "duration": 1257,
    "start_time": "2022-11-16T14:36:53.990Z"
   },
   {
    "duration": 68,
    "start_time": "2022-11-16T14:36:55.249Z"
   },
   {
    "duration": 13,
    "start_time": "2022-11-16T14:36:55.318Z"
   },
   {
    "duration": 16,
    "start_time": "2022-11-16T14:36:55.332Z"
   },
   {
    "duration": 5,
    "start_time": "2022-11-16T14:36:55.350Z"
   },
   {
    "duration": 11,
    "start_time": "2022-11-16T14:36:55.356Z"
   },
   {
    "duration": 15,
    "start_time": "2022-11-16T14:36:55.368Z"
   },
   {
    "duration": 2,
    "start_time": "2022-11-16T14:36:55.385Z"
   },
   {
    "duration": 73,
    "start_time": "2022-11-16T14:36:55.389Z"
   },
   {
    "duration": 5,
    "start_time": "2022-11-16T14:36:55.465Z"
   },
   {
    "duration": 19,
    "start_time": "2022-11-16T14:36:55.472Z"
   },
   {
    "duration": 10,
    "start_time": "2022-11-16T14:36:55.493Z"
   },
   {
    "duration": 38,
    "start_time": "2022-11-16T14:36:55.505Z"
   },
   {
    "duration": 7,
    "start_time": "2022-11-16T14:36:55.545Z"
   },
   {
    "duration": 9,
    "start_time": "2022-11-16T14:36:55.554Z"
   },
   {
    "duration": 11,
    "start_time": "2022-11-16T14:36:55.565Z"
   },
   {
    "duration": 16,
    "start_time": "2022-11-16T14:36:55.578Z"
   },
   {
    "duration": 11,
    "start_time": "2022-11-16T14:36:55.595Z"
   },
   {
    "duration": 29,
    "start_time": "2022-11-16T14:36:55.607Z"
   },
   {
    "duration": 5,
    "start_time": "2022-11-16T14:36:55.637Z"
   },
   {
    "duration": 9,
    "start_time": "2022-11-16T14:36:55.643Z"
   },
   {
    "duration": 7,
    "start_time": "2022-11-16T14:36:55.653Z"
   },
   {
    "duration": 11,
    "start_time": "2022-11-16T14:36:55.661Z"
   },
   {
    "duration": 146,
    "start_time": "2022-11-16T14:36:55.674Z"
   },
   {
    "duration": 114,
    "start_time": "2022-11-16T14:36:55.822Z"
   },
   {
    "duration": 114,
    "start_time": "2022-11-16T14:36:55.937Z"
   },
   {
    "duration": 133,
    "start_time": "2022-11-16T14:36:56.053Z"
   },
   {
    "duration": 174,
    "start_time": "2022-11-16T14:36:56.188Z"
   },
   {
    "duration": 106,
    "start_time": "2022-11-16T14:36:56.363Z"
   },
   {
    "duration": 2755,
    "start_time": "2022-11-16T14:36:56.471Z"
   },
   {
    "duration": 113690,
    "start_time": "2022-11-16T14:36:59.228Z"
   },
   {
    "duration": 8,
    "start_time": "2022-11-16T14:38:52.920Z"
   },
   {
    "duration": 131983,
    "start_time": "2022-11-16T14:38:52.930Z"
   },
   {
    "duration": 213,
    "start_time": "2022-11-16T14:41:04.915Z"
   },
   {
    "duration": 18,
    "start_time": "2022-11-16T14:41:05.130Z"
   },
   {
    "duration": 87,
    "start_time": "2022-11-16T14:42:21.681Z"
   },
   {
    "duration": 309,
    "start_time": "2022-11-16T14:42:28.200Z"
   },
   {
    "duration": 28,
    "start_time": "2022-11-16T14:43:55.940Z"
   },
   {
    "duration": 4,
    "start_time": "2022-11-16T14:48:35.040Z"
   },
   {
    "duration": 3,
    "start_time": "2022-11-16T14:50:39.700Z"
   },
   {
    "duration": 1621,
    "start_time": "2022-11-17T02:45:40.300Z"
   },
   {
    "duration": 198,
    "start_time": "2022-11-17T02:45:41.923Z"
   },
   {
    "duration": 14,
    "start_time": "2022-11-17T02:45:42.123Z"
   },
   {
    "duration": 21,
    "start_time": "2022-11-17T02:45:42.139Z"
   },
   {
    "duration": 8,
    "start_time": "2022-11-17T02:45:42.163Z"
   },
   {
    "duration": 9,
    "start_time": "2022-11-17T02:45:42.172Z"
   },
   {
    "duration": 19,
    "start_time": "2022-11-17T02:45:42.183Z"
   },
   {
    "duration": 14,
    "start_time": "2022-11-17T02:45:42.204Z"
   },
   {
    "duration": 66,
    "start_time": "2022-11-17T02:45:42.220Z"
   },
   {
    "duration": 4,
    "start_time": "2022-11-17T02:45:42.288Z"
   },
   {
    "duration": 30,
    "start_time": "2022-11-17T02:45:42.294Z"
   },
   {
    "duration": 16,
    "start_time": "2022-11-17T02:45:42.334Z"
   },
   {
    "duration": 38,
    "start_time": "2022-11-17T02:45:42.352Z"
   },
   {
    "duration": 8,
    "start_time": "2022-11-17T02:45:42.394Z"
   },
   {
    "duration": 58,
    "start_time": "2022-11-17T02:45:42.413Z"
   },
   {
    "duration": 44,
    "start_time": "2022-11-17T02:45:42.473Z"
   },
   {
    "duration": 58,
    "start_time": "2022-11-17T02:45:42.519Z"
   },
   {
    "duration": 36,
    "start_time": "2022-11-17T02:45:42.579Z"
   },
   {
    "duration": 82,
    "start_time": "2022-11-17T02:45:42.617Z"
   },
   {
    "duration": 25,
    "start_time": "2022-11-17T02:45:42.701Z"
   },
   {
    "duration": 36,
    "start_time": "2022-11-17T02:45:42.728Z"
   },
   {
    "duration": 38,
    "start_time": "2022-11-17T02:45:42.766Z"
   },
   {
    "duration": 29,
    "start_time": "2022-11-17T02:45:42.806Z"
   },
   {
    "duration": 216,
    "start_time": "2022-11-17T02:45:42.837Z"
   },
   {
    "duration": 147,
    "start_time": "2022-11-17T02:45:43.055Z"
   },
   {
    "duration": 123,
    "start_time": "2022-11-17T02:45:43.204Z"
   },
   {
    "duration": 159,
    "start_time": "2022-11-17T02:45:43.329Z"
   },
   {
    "duration": 198,
    "start_time": "2022-11-17T02:45:43.490Z"
   },
   {
    "duration": 129,
    "start_time": "2022-11-17T02:45:43.690Z"
   },
   {
    "duration": 3355,
    "start_time": "2022-11-17T02:45:43.821Z"
   },
   {
    "duration": 129943,
    "start_time": "2022-11-17T02:45:47.178Z"
   },
   {
    "duration": 5,
    "start_time": "2022-11-17T02:47:57.122Z"
   },
   {
    "duration": 148478,
    "start_time": "2022-11-17T02:47:57.136Z"
   },
   {
    "duration": 242,
    "start_time": "2022-11-17T02:50:25.616Z"
   },
   {
    "duration": 3,
    "start_time": "2022-11-17T02:50:25.860Z"
   },
   {
    "duration": 74,
    "start_time": "2022-11-17T02:50:25.865Z"
   },
   {
    "duration": 127,
    "start_time": "2022-11-17T02:56:19.777Z"
   },
   {
    "duration": 4,
    "start_time": "2022-11-17T02:56:39.045Z"
   },
   {
    "duration": 20,
    "start_time": "2022-11-17T02:56:47.403Z"
   },
   {
    "duration": 25,
    "start_time": "2022-11-17T02:58:05.307Z"
   },
   {
    "duration": 3708,
    "start_time": "2022-11-17T02:58:30.289Z"
   },
   {
    "duration": 3663,
    "start_time": "2022-11-17T03:02:09.435Z"
   },
   {
    "duration": 2759,
    "start_time": "2022-11-17T03:02:29.842Z"
   },
   {
    "duration": 2769,
    "start_time": "2022-11-17T03:03:22.194Z"
   },
   {
    "duration": 2902,
    "start_time": "2022-11-17T03:04:41.610Z"
   },
   {
    "duration": 2769,
    "start_time": "2022-11-17T03:04:53.325Z"
   },
   {
    "duration": 2962,
    "start_time": "2022-11-17T03:05:02.573Z"
   },
   {
    "duration": 30,
    "start_time": "2022-11-17T03:05:39.982Z"
   },
   {
    "duration": 4,
    "start_time": "2022-11-17T03:06:46.497Z"
   },
   {
    "duration": 20,
    "start_time": "2022-11-17T03:12:38.181Z"
   },
   {
    "duration": 29,
    "start_time": "2022-11-17T03:13:14.472Z"
   },
   {
    "duration": 3230,
    "start_time": "2022-11-17T03:13:56.564Z"
   },
   {
    "duration": 4,
    "start_time": "2022-11-17T03:14:35.063Z"
   },
   {
    "duration": 4,
    "start_time": "2022-11-17T03:17:03.480Z"
   },
   {
    "duration": 2768,
    "start_time": "2022-11-17T03:17:26.883Z"
   },
   {
    "duration": 3,
    "start_time": "2022-11-17T03:17:29.653Z"
   },
   {
    "duration": 4,
    "start_time": "2022-11-17T03:17:29.883Z"
   },
   {
    "duration": 23,
    "start_time": "2022-11-17T03:29:02.427Z"
   },
   {
    "duration": 9,
    "start_time": "2022-11-17T03:29:32.022Z"
   },
   {
    "duration": 4,
    "start_time": "2022-11-17T03:29:41.024Z"
   },
   {
    "duration": 2999,
    "start_time": "2022-11-17T03:29:59.103Z"
   },
   {
    "duration": 2975,
    "start_time": "2022-11-17T03:30:22.106Z"
   },
   {
    "duration": 3115,
    "start_time": "2022-11-17T03:31:11.140Z"
   },
   {
    "duration": 4,
    "start_time": "2022-11-17T03:37:30.409Z"
   },
   {
    "duration": 3204,
    "start_time": "2022-11-17T03:43:14.732Z"
   },
   {
    "duration": 4,
    "start_time": "2022-11-17T03:43:24.654Z"
   },
   {
    "duration": 20,
    "start_time": "2022-11-17T03:43:47.593Z"
   },
   {
    "duration": 4,
    "start_time": "2022-11-17T03:44:08.848Z"
   },
   {
    "duration": 8,
    "start_time": "2022-11-17T03:45:11.762Z"
   },
   {
    "duration": 4,
    "start_time": "2022-11-17T03:45:21.241Z"
   },
   {
    "duration": 4,
    "start_time": "2022-11-17T03:49:32.806Z"
   },
   {
    "duration": 3292,
    "start_time": "2022-11-17T03:50:44.214Z"
   },
   {
    "duration": 5,
    "start_time": "2022-11-17T03:50:50.191Z"
   },
   {
    "duration": 3,
    "start_time": "2022-11-17T03:50:55.935Z"
   },
   {
    "duration": 3269,
    "start_time": "2022-11-17T03:50:57.931Z"
   },
   {
    "duration": 4,
    "start_time": "2022-11-17T03:51:05.442Z"
   },
   {
    "duration": 4,
    "start_time": "2022-11-17T03:52:55.987Z"
   },
   {
    "duration": 8,
    "start_time": "2022-11-17T03:56:27.893Z"
   },
   {
    "duration": 4,
    "start_time": "2022-11-17T03:56:37.356Z"
   },
   {
    "duration": 4,
    "start_time": "2022-11-17T03:57:43.636Z"
   },
   {
    "duration": 5,
    "start_time": "2022-11-17T03:57:54.456Z"
   },
   {
    "duration": 37,
    "start_time": "2022-11-17T03:59:50.287Z"
   },
   {
    "duration": 3336,
    "start_time": "2022-11-17T04:01:06.918Z"
   },
   {
    "duration": 3228,
    "start_time": "2022-11-17T04:01:26.193Z"
   },
   {
    "duration": 4,
    "start_time": "2022-11-17T04:01:36.943Z"
   },
   {
    "duration": 12,
    "start_time": "2022-11-17T04:04:05.325Z"
   },
   {
    "duration": 9,
    "start_time": "2022-11-17T04:04:09.694Z"
   },
   {
    "duration": 5,
    "start_time": "2022-11-17T04:04:22.489Z"
   },
   {
    "duration": 4,
    "start_time": "2022-11-17T04:04:31.594Z"
   },
   {
    "duration": 3350,
    "start_time": "2022-11-17T04:04:54.590Z"
   },
   {
    "duration": 139407,
    "start_time": "2022-11-17T05:34:52.216Z"
   },
   {
    "duration": 11,
    "start_time": "2022-11-17T05:37:11.654Z"
   },
   {
    "duration": 3,
    "start_time": "2022-11-17T05:40:25.718Z"
   },
   {
    "duration": 83,
    "start_time": "2022-11-17T05:40:25.723Z"
   },
   {
    "duration": 11,
    "start_time": "2022-11-17T05:40:25.809Z"
   },
   {
    "duration": 12,
    "start_time": "2022-11-17T05:40:25.822Z"
   },
   {
    "duration": 15,
    "start_time": "2022-11-17T05:40:25.836Z"
   },
   {
    "duration": 7,
    "start_time": "2022-11-17T05:40:25.853Z"
   },
   {
    "duration": 25,
    "start_time": "2022-11-17T05:40:25.862Z"
   },
   {
    "duration": 5,
    "start_time": "2022-11-17T05:40:25.888Z"
   },
   {
    "duration": 27,
    "start_time": "2022-11-17T05:40:25.895Z"
   },
   {
    "duration": 12,
    "start_time": "2022-11-17T05:40:25.923Z"
   },
   {
    "duration": 17,
    "start_time": "2022-11-17T05:40:25.937Z"
   },
   {
    "duration": 14,
    "start_time": "2022-11-17T05:40:25.955Z"
   },
   {
    "duration": 39,
    "start_time": "2022-11-17T05:40:25.970Z"
   },
   {
    "duration": 40,
    "start_time": "2022-11-17T05:40:26.011Z"
   },
   {
    "duration": 8,
    "start_time": "2022-11-17T05:40:26.052Z"
   },
   {
    "duration": 6,
    "start_time": "2022-11-17T05:40:26.061Z"
   },
   {
    "duration": 9,
    "start_time": "2022-11-17T05:40:26.069Z"
   },
   {
    "duration": 10,
    "start_time": "2022-11-17T05:40:26.079Z"
   },
   {
    "duration": 35,
    "start_time": "2022-11-17T05:40:26.090Z"
   },
   {
    "duration": 5,
    "start_time": "2022-11-17T05:40:26.127Z"
   },
   {
    "duration": 11,
    "start_time": "2022-11-17T05:40:26.133Z"
   },
   {
    "duration": 9,
    "start_time": "2022-11-17T05:40:26.145Z"
   },
   {
    "duration": 25,
    "start_time": "2022-11-17T05:40:26.155Z"
   },
   {
    "duration": 141,
    "start_time": "2022-11-17T05:40:26.182Z"
   },
   {
    "duration": 120,
    "start_time": "2022-11-17T05:40:26.324Z"
   },
   {
    "duration": 126,
    "start_time": "2022-11-17T05:40:26.445Z"
   },
   {
    "duration": 151,
    "start_time": "2022-11-17T05:40:26.574Z"
   },
   {
    "duration": 151,
    "start_time": "2022-11-17T05:40:26.727Z"
   },
   {
    "duration": 143,
    "start_time": "2022-11-17T05:40:26.880Z"
   },
   {
    "duration": 3391,
    "start_time": "2022-11-17T05:40:27.025Z"
   },
   {
    "duration": 4,
    "start_time": "2022-11-17T05:40:30.417Z"
   },
   {
    "duration": 61,
    "start_time": "2022-11-17T05:40:30.423Z"
   },
   {
    "duration": 52,
    "start_time": "2022-11-17T05:40:30.486Z"
   },
   {
    "duration": 59,
    "start_time": "2022-11-17T05:40:30.539Z"
   },
   {
    "duration": 136705,
    "start_time": "2022-11-17T05:40:30.600Z"
   },
   {
    "duration": 4,
    "start_time": "2022-11-17T05:42:47.307Z"
   },
   {
    "duration": 147502,
    "start_time": "2022-11-17T05:42:47.312Z"
   },
   {
    "duration": 211,
    "start_time": "2022-11-17T05:45:14.816Z"
   },
   {
    "duration": 4,
    "start_time": "2022-11-17T05:45:15.034Z"
   },
   {
    "duration": 44,
    "start_time": "2022-11-17T05:45:15.040Z"
   },
   {
    "duration": 8,
    "start_time": "2022-11-17T07:08:19.531Z"
   },
   {
    "duration": 1397,
    "start_time": "2022-11-17T07:12:57.544Z"
   },
   {
    "duration": 60,
    "start_time": "2022-11-17T07:12:58.943Z"
   },
   {
    "duration": 22,
    "start_time": "2022-11-17T07:12:59.005Z"
   },
   {
    "duration": 19,
    "start_time": "2022-11-17T07:12:59.030Z"
   },
   {
    "duration": 7,
    "start_time": "2022-11-17T07:12:59.053Z"
   },
   {
    "duration": 8,
    "start_time": "2022-11-17T07:12:59.061Z"
   },
   {
    "duration": 16,
    "start_time": "2022-11-17T07:12:59.072Z"
   },
   {
    "duration": 3,
    "start_time": "2022-11-17T07:12:59.090Z"
   },
   {
    "duration": 67,
    "start_time": "2022-11-17T07:12:59.095Z"
   },
   {
    "duration": 4,
    "start_time": "2022-11-17T07:12:59.164Z"
   },
   {
    "duration": 13,
    "start_time": "2022-11-17T07:12:59.169Z"
   },
   {
    "duration": 7,
    "start_time": "2022-11-17T07:12:59.183Z"
   },
   {
    "duration": 24,
    "start_time": "2022-11-17T07:12:59.191Z"
   },
   {
    "duration": 22,
    "start_time": "2022-11-17T07:12:59.218Z"
   },
   {
    "duration": 11,
    "start_time": "2022-11-17T07:12:59.241Z"
   },
   {
    "duration": 6,
    "start_time": "2022-11-17T07:12:59.254Z"
   },
   {
    "duration": 9,
    "start_time": "2022-11-17T07:12:59.262Z"
   },
   {
    "duration": 6,
    "start_time": "2022-11-17T07:12:59.273Z"
   },
   {
    "duration": 32,
    "start_time": "2022-11-17T07:12:59.281Z"
   },
   {
    "duration": 24,
    "start_time": "2022-11-17T07:12:59.315Z"
   },
   {
    "duration": 6,
    "start_time": "2022-11-17T07:12:59.341Z"
   },
   {
    "duration": 6,
    "start_time": "2022-11-17T07:12:59.348Z"
   },
   {
    "duration": 14,
    "start_time": "2022-11-17T07:12:59.355Z"
   },
   {
    "duration": 156,
    "start_time": "2022-11-17T07:12:59.371Z"
   },
   {
    "duration": 121,
    "start_time": "2022-11-17T07:12:59.529Z"
   },
   {
    "duration": 120,
    "start_time": "2022-11-17T07:12:59.652Z"
   },
   {
    "duration": 145,
    "start_time": "2022-11-17T07:12:59.773Z"
   },
   {
    "duration": 209,
    "start_time": "2022-11-17T07:12:59.920Z"
   },
   {
    "duration": 118,
    "start_time": "2022-11-17T07:13:00.134Z"
   },
   {
    "duration": 3811,
    "start_time": "2022-11-17T07:13:00.254Z"
   },
   {
    "duration": 4,
    "start_time": "2022-11-17T07:13:04.066Z"
   },
   {
    "duration": 66,
    "start_time": "2022-11-17T07:13:04.072Z"
   },
   {
    "duration": 39,
    "start_time": "2022-11-17T07:13:04.140Z"
   },
   {
    "duration": 136201,
    "start_time": "2022-11-17T07:13:04.181Z"
   },
   {
    "duration": 145778,
    "start_time": "2022-11-17T07:15:20.407Z"
   },
   {
    "duration": 228,
    "start_time": "2022-11-17T07:17:46.187Z"
   },
   {
    "duration": 3,
    "start_time": "2022-11-17T07:17:46.417Z"
   },
   {
    "duration": 32,
    "start_time": "2022-11-17T07:17:46.422Z"
   },
   {
    "duration": 17,
    "start_time": "2022-11-17T07:17:46.651Z"
   },
   {
    "duration": 13,
    "start_time": "2022-11-17T07:17:46.670Z"
   },
   {
    "duration": 52,
    "start_time": "2022-11-17T07:19:41.553Z"
   },
   {
    "duration": 86,
    "start_time": "2022-11-17T07:20:18.851Z"
   },
   {
    "duration": 5,
    "start_time": "2022-11-17T07:20:34.934Z"
   },
   {
    "duration": 3,
    "start_time": "2022-11-17T07:20:49.004Z"
   },
   {
    "duration": 73,
    "start_time": "2022-11-17T07:22:24.962Z"
   },
   {
    "duration": 56,
    "start_time": "2022-11-17T07:22:59.990Z"
   },
   {
    "duration": 96,
    "start_time": "2022-11-17T07:23:09.341Z"
   },
   {
    "duration": 137979,
    "start_time": "2022-11-17T07:40:50.149Z"
   },
   {
    "duration": 7,
    "start_time": "2022-11-17T07:43:08.130Z"
   },
   {
    "duration": 10,
    "start_time": "2022-11-17T07:43:08.138Z"
   },
   {
    "duration": 3,
    "start_time": "2022-11-17T07:44:10.427Z"
   },
   {
    "duration": 4,
    "start_time": "2022-11-17T07:44:30.368Z"
   },
   {
    "duration": 5,
    "start_time": "2022-11-17T07:44:35.407Z"
   },
   {
    "duration": 3,
    "start_time": "2022-11-17T07:44:38.237Z"
   },
   {
    "duration": 5,
    "start_time": "2022-11-17T07:44:49.345Z"
   },
   {
    "duration": 23,
    "start_time": "2022-11-17T07:53:21.360Z"
   },
   {
    "duration": 29,
    "start_time": "2022-11-17T07:54:45.951Z"
   },
   {
    "duration": 28,
    "start_time": "2022-11-17T07:55:51.721Z"
   },
   {
    "duration": 136945,
    "start_time": "2022-11-17T08:01:24.745Z"
   },
   {
    "duration": 25,
    "start_time": "2022-11-17T08:20:12.653Z"
   },
   {
    "duration": 181,
    "start_time": "2022-11-17T08:43:54.099Z"
   },
   {
    "duration": 81,
    "start_time": "2022-11-17T08:44:50.509Z"
   },
   {
    "duration": 3349,
    "start_time": "2022-11-17T08:51:15.551Z"
   },
   {
    "duration": 3790,
    "start_time": "2022-11-17T08:51:39.287Z"
   },
   {
    "duration": 3477,
    "start_time": "2022-11-17T09:29:33.000Z"
   },
   {
    "duration": 3240,
    "start_time": "2022-11-17T09:43:28.055Z"
   },
   {
    "duration": 3326,
    "start_time": "2022-11-17T09:44:11.321Z"
   },
   {
    "duration": 3335,
    "start_time": "2022-11-17T09:45:26.952Z"
   },
   {
    "duration": 3292,
    "start_time": "2022-11-17T09:45:50.834Z"
   },
   {
    "duration": 3356,
    "start_time": "2022-11-17T09:47:46.251Z"
   },
   {
    "duration": 3261,
    "start_time": "2022-11-17T09:49:39.829Z"
   },
   {
    "duration": 3236,
    "start_time": "2022-11-17T09:50:29.174Z"
   },
   {
    "duration": 3214,
    "start_time": "2022-11-17T09:50:39.000Z"
   },
   {
    "duration": 3247,
    "start_time": "2022-11-17T09:50:55.440Z"
   },
   {
    "duration": 3412,
    "start_time": "2022-11-17T09:51:47.488Z"
   },
   {
    "duration": 3297,
    "start_time": "2022-11-17T09:52:14.029Z"
   },
   {
    "duration": 3364,
    "start_time": "2022-11-17T09:52:46.894Z"
   },
   {
    "duration": 3408,
    "start_time": "2022-11-17T09:54:04.102Z"
   },
   {
    "duration": 3200,
    "start_time": "2022-11-17T09:54:37.128Z"
   },
   {
    "duration": 3359,
    "start_time": "2022-11-17T09:56:36.607Z"
   },
   {
    "duration": 45,
    "start_time": "2022-11-17T09:58:58.263Z"
   },
   {
    "duration": 3466,
    "start_time": "2022-11-17T09:59:07.154Z"
   },
   {
    "duration": 3476,
    "start_time": "2022-11-17T09:59:52.404Z"
   },
   {
    "duration": 105419,
    "start_time": "2022-11-17T10:19:23.895Z"
   },
   {
    "duration": 1456,
    "start_time": "2022-11-17T10:51:49.614Z"
   },
   {
    "duration": 95,
    "start_time": "2022-11-17T10:51:51.073Z"
   },
   {
    "duration": 13,
    "start_time": "2022-11-17T10:51:51.170Z"
   },
   {
    "duration": 19,
    "start_time": "2022-11-17T10:51:51.185Z"
   },
   {
    "duration": 7,
    "start_time": "2022-11-17T10:51:51.208Z"
   },
   {
    "duration": 12,
    "start_time": "2022-11-17T10:51:51.216Z"
   },
   {
    "duration": 19,
    "start_time": "2022-11-17T10:51:51.230Z"
   },
   {
    "duration": 4,
    "start_time": "2022-11-17T10:51:51.251Z"
   },
   {
    "duration": 55,
    "start_time": "2022-11-17T10:51:51.256Z"
   },
   {
    "duration": 4,
    "start_time": "2022-11-17T10:51:51.313Z"
   },
   {
    "duration": 13,
    "start_time": "2022-11-17T10:51:51.335Z"
   },
   {
    "duration": 17,
    "start_time": "2022-11-17T10:51:51.349Z"
   },
   {
    "duration": 30,
    "start_time": "2022-11-17T10:51:51.368Z"
   },
   {
    "duration": 6,
    "start_time": "2022-11-17T10:51:51.401Z"
   },
   {
    "duration": 8,
    "start_time": "2022-11-17T10:51:51.409Z"
   },
   {
    "duration": 18,
    "start_time": "2022-11-17T10:51:51.418Z"
   },
   {
    "duration": 16,
    "start_time": "2022-11-17T10:51:51.438Z"
   },
   {
    "duration": 10,
    "start_time": "2022-11-17T10:51:51.456Z"
   },
   {
    "duration": 32,
    "start_time": "2022-11-17T10:51:51.467Z"
   },
   {
    "duration": 6,
    "start_time": "2022-11-17T10:51:51.501Z"
   },
   {
    "duration": 12,
    "start_time": "2022-11-17T10:51:51.508Z"
   },
   {
    "duration": 22,
    "start_time": "2022-11-17T10:51:51.522Z"
   },
   {
    "duration": 17,
    "start_time": "2022-11-17T10:51:51.546Z"
   },
   {
    "duration": 151,
    "start_time": "2022-11-17T10:51:51.565Z"
   },
   {
    "duration": 125,
    "start_time": "2022-11-17T10:51:51.718Z"
   },
   {
    "duration": 134,
    "start_time": "2022-11-17T10:51:51.845Z"
   },
   {
    "duration": 161,
    "start_time": "2022-11-17T10:51:51.981Z"
   },
   {
    "duration": 209,
    "start_time": "2022-11-17T10:51:52.144Z"
   },
   {
    "duration": 177,
    "start_time": "2022-11-17T10:51:52.354Z"
   },
   {
    "duration": 3327,
    "start_time": "2022-11-17T10:51:52.536Z"
   },
   {
    "duration": 104794,
    "start_time": "2022-11-17T10:51:55.865Z"
   },
   {
    "duration": 1372,
    "start_time": "2022-11-17T10:54:23.818Z"
   },
   {
    "duration": 85,
    "start_time": "2022-11-17T10:54:25.192Z"
   },
   {
    "duration": 14,
    "start_time": "2022-11-17T10:54:25.279Z"
   },
   {
    "duration": 21,
    "start_time": "2022-11-17T10:54:25.295Z"
   },
   {
    "duration": 13,
    "start_time": "2022-11-17T10:54:25.320Z"
   },
   {
    "duration": 10,
    "start_time": "2022-11-17T10:54:25.334Z"
   },
   {
    "duration": 20,
    "start_time": "2022-11-17T10:54:25.345Z"
   },
   {
    "duration": 3,
    "start_time": "2022-11-17T10:54:25.367Z"
   },
   {
    "duration": 64,
    "start_time": "2022-11-17T10:54:25.372Z"
   },
   {
    "duration": 5,
    "start_time": "2022-11-17T10:54:25.438Z"
   },
   {
    "duration": 21,
    "start_time": "2022-11-17T10:54:25.444Z"
   },
   {
    "duration": 11,
    "start_time": "2022-11-17T10:54:25.467Z"
   },
   {
    "duration": 36,
    "start_time": "2022-11-17T10:54:25.480Z"
   },
   {
    "duration": 6,
    "start_time": "2022-11-17T10:54:25.519Z"
   },
   {
    "duration": 18,
    "start_time": "2022-11-17T10:54:25.527Z"
   },
   {
    "duration": 25,
    "start_time": "2022-11-17T10:54:25.546Z"
   },
   {
    "duration": 26,
    "start_time": "2022-11-17T10:54:25.573Z"
   },
   {
    "duration": 28,
    "start_time": "2022-11-17T10:54:25.601Z"
   },
   {
    "duration": 54,
    "start_time": "2022-11-17T10:54:25.630Z"
   },
   {
    "duration": 5,
    "start_time": "2022-11-17T10:54:25.685Z"
   },
   {
    "duration": 16,
    "start_time": "2022-11-17T10:54:25.692Z"
   },
   {
    "duration": 16,
    "start_time": "2022-11-17T10:54:25.710Z"
   },
   {
    "duration": 19,
    "start_time": "2022-11-17T10:54:25.728Z"
   },
   {
    "duration": 154,
    "start_time": "2022-11-17T10:54:25.748Z"
   },
   {
    "duration": 136,
    "start_time": "2022-11-17T10:54:25.904Z"
   },
   {
    "duration": 128,
    "start_time": "2022-11-17T10:54:26.042Z"
   },
   {
    "duration": 149,
    "start_time": "2022-11-17T10:54:26.172Z"
   },
   {
    "duration": 207,
    "start_time": "2022-11-17T10:54:26.323Z"
   },
   {
    "duration": 124,
    "start_time": "2022-11-17T10:54:26.535Z"
   },
   {
    "duration": 4368,
    "start_time": "2022-11-17T10:54:26.661Z"
   },
   {
    "duration": 143461,
    "start_time": "2022-11-17T10:54:31.036Z"
   },
   {
    "duration": 4,
    "start_time": "2022-11-17T10:56:54.498Z"
   },
   {
    "duration": 8,
    "start_time": "2022-11-17T10:56:54.503Z"
   },
   {
    "duration": 19,
    "start_time": "2022-11-17T10:56:54.512Z"
   },
   {
    "duration": 149050,
    "start_time": "2022-11-17T10:56:54.536Z"
   },
   {
    "duration": 233,
    "start_time": "2022-11-17T10:59:23.589Z"
   },
   {
    "duration": 5,
    "start_time": "2022-11-17T10:59:23.824Z"
   },
   {
    "duration": 100,
    "start_time": "2022-11-17T10:59:23.837Z"
   },
   {
    "duration": 3472,
    "start_time": "2022-11-17T10:59:23.939Z"
   },
   {
    "duration": 105759,
    "start_time": "2022-11-17T10:59:27.413Z"
   },
   {
    "duration": 221,
    "start_time": "2022-11-17T11:55:03.346Z"
   },
   {
    "duration": 216,
    "start_time": "2022-11-17T11:55:19.950Z"
   },
   {
    "duration": 224,
    "start_time": "2022-11-17T11:55:45.613Z"
   },
   {
    "duration": 5,
    "start_time": "2022-11-17T12:00:32.469Z"
   },
   {
    "duration": 104680,
    "start_time": "2022-11-17T12:03:31.193Z"
   },
   {
    "duration": 646748,
    "start_time": "2022-11-17T12:06:56.368Z"
   },
   {
    "duration": 230,
    "start_time": "2022-11-17T12:20:03.368Z"
   },
   {
    "duration": 69,
    "start_time": "2022-11-17T12:20:03.926Z"
   },
   {
    "duration": 47,
    "start_time": "2022-11-17T12:23:55.269Z"
   },
   {
    "duration": 1316,
    "start_time": "2022-11-17T12:23:58.404Z"
   },
   {
    "duration": 56,
    "start_time": "2022-11-17T12:23:59.721Z"
   },
   {
    "duration": 12,
    "start_time": "2022-11-17T12:23:59.778Z"
   },
   {
    "duration": 48,
    "start_time": "2022-11-17T12:23:59.792Z"
   },
   {
    "duration": 7,
    "start_time": "2022-11-17T12:23:59.841Z"
   },
   {
    "duration": 10,
    "start_time": "2022-11-17T12:23:59.849Z"
   },
   {
    "duration": 19,
    "start_time": "2022-11-17T12:23:59.860Z"
   },
   {
    "duration": 3,
    "start_time": "2022-11-17T12:23:59.880Z"
   },
   {
    "duration": 62,
    "start_time": "2022-11-17T12:23:59.885Z"
   },
   {
    "duration": 4,
    "start_time": "2022-11-17T12:23:59.950Z"
   },
   {
    "duration": 15,
    "start_time": "2022-11-17T12:23:59.955Z"
   },
   {
    "duration": 6,
    "start_time": "2022-11-17T12:23:59.972Z"
   },
   {
    "duration": 27,
    "start_time": "2022-11-17T12:23:59.980Z"
   },
   {
    "duration": 27,
    "start_time": "2022-11-17T12:24:00.008Z"
   },
   {
    "duration": 5,
    "start_time": "2022-11-17T12:24:00.037Z"
   },
   {
    "duration": 6,
    "start_time": "2022-11-17T12:24:00.043Z"
   },
   {
    "duration": 10,
    "start_time": "2022-11-17T12:24:00.050Z"
   },
   {
    "duration": 13,
    "start_time": "2022-11-17T12:24:00.062Z"
   },
   {
    "duration": 33,
    "start_time": "2022-11-17T12:24:00.077Z"
   },
   {
    "duration": 5,
    "start_time": "2022-11-17T12:24:00.112Z"
   },
   {
    "duration": 25,
    "start_time": "2022-11-17T12:24:00.119Z"
   },
   {
    "duration": 42,
    "start_time": "2022-11-17T12:24:00.146Z"
   },
   {
    "duration": 27,
    "start_time": "2022-11-17T12:24:00.190Z"
   },
   {
    "duration": 164,
    "start_time": "2022-11-17T12:24:00.218Z"
   },
   {
    "duration": 128,
    "start_time": "2022-11-17T12:24:00.383Z"
   },
   {
    "duration": 127,
    "start_time": "2022-11-17T12:24:00.513Z"
   },
   {
    "duration": 140,
    "start_time": "2022-11-17T12:24:00.641Z"
   },
   {
    "duration": 190,
    "start_time": "2022-11-17T12:24:00.784Z"
   },
   {
    "duration": 121,
    "start_time": "2022-11-17T12:24:00.976Z"
   },
   {
    "duration": 3290,
    "start_time": "2022-11-17T12:24:01.098Z"
   },
   {
    "duration": 129,
    "start_time": "2022-11-17T12:24:04.389Z"
   },
   {
    "duration": 103,
    "start_time": "2022-11-17T12:24:04.520Z"
   },
   {
    "duration": 112,
    "start_time": "2022-11-17T12:24:04.624Z"
   },
   {
    "duration": 4297,
    "start_time": "2022-11-17T12:24:04.738Z"
   },
   {
    "duration": 1420,
    "start_time": "2022-11-17T12:25:31.715Z"
   },
   {
    "duration": 59,
    "start_time": "2022-11-17T12:25:33.138Z"
   },
   {
    "duration": 12,
    "start_time": "2022-11-17T12:25:33.198Z"
   },
   {
    "duration": 15,
    "start_time": "2022-11-17T12:25:33.211Z"
   },
   {
    "duration": 7,
    "start_time": "2022-11-17T12:25:33.231Z"
   },
   {
    "duration": 7,
    "start_time": "2022-11-17T12:25:33.240Z"
   },
   {
    "duration": 17,
    "start_time": "2022-11-17T12:25:33.249Z"
   },
   {
    "duration": 3,
    "start_time": "2022-11-17T12:25:33.268Z"
   },
   {
    "duration": 63,
    "start_time": "2022-11-17T12:25:33.273Z"
   },
   {
    "duration": 4,
    "start_time": "2022-11-17T12:25:33.337Z"
   },
   {
    "duration": 14,
    "start_time": "2022-11-17T12:25:33.342Z"
   },
   {
    "duration": 13,
    "start_time": "2022-11-17T12:25:33.358Z"
   },
   {
    "duration": 21,
    "start_time": "2022-11-17T12:25:33.372Z"
   },
   {
    "duration": 6,
    "start_time": "2022-11-17T12:25:33.396Z"
   },
   {
    "duration": 4,
    "start_time": "2022-11-17T12:25:33.404Z"
   },
   {
    "duration": 9,
    "start_time": "2022-11-17T12:25:33.409Z"
   },
   {
    "duration": 3,
    "start_time": "2022-11-17T12:25:33.435Z"
   },
   {
    "duration": 5,
    "start_time": "2022-11-17T12:25:33.440Z"
   },
   {
    "duration": 32,
    "start_time": "2022-11-17T12:25:33.446Z"
   },
   {
    "duration": 5,
    "start_time": "2022-11-17T12:25:33.479Z"
   },
   {
    "duration": 7,
    "start_time": "2022-11-17T12:25:33.485Z"
   },
   {
    "duration": 5,
    "start_time": "2022-11-17T12:25:33.493Z"
   },
   {
    "duration": 36,
    "start_time": "2022-11-17T12:25:33.500Z"
   },
   {
    "duration": 148,
    "start_time": "2022-11-17T12:25:33.538Z"
   },
   {
    "duration": 124,
    "start_time": "2022-11-17T12:25:33.688Z"
   },
   {
    "duration": 124,
    "start_time": "2022-11-17T12:25:33.814Z"
   },
   {
    "duration": 144,
    "start_time": "2022-11-17T12:25:33.939Z"
   },
   {
    "duration": 197,
    "start_time": "2022-11-17T12:25:34.085Z"
   },
   {
    "duration": 113,
    "start_time": "2022-11-17T12:25:34.285Z"
   },
   {
    "duration": 4100,
    "start_time": "2022-11-17T12:25:34.400Z"
   },
   {
    "duration": 191,
    "start_time": "2022-11-17T12:25:38.501Z"
   },
   {
    "duration": 51,
    "start_time": "2022-11-17T12:25:38.694Z"
   },
   {
    "duration": 3380,
    "start_time": "2022-11-17T12:25:38.836Z"
   },
   {
    "duration": 1296,
    "start_time": "2022-11-17T12:27:38.068Z"
   },
   {
    "duration": 62,
    "start_time": "2022-11-17T12:27:39.366Z"
   },
   {
    "duration": 13,
    "start_time": "2022-11-17T12:27:39.429Z"
   },
   {
    "duration": 29,
    "start_time": "2022-11-17T12:27:39.444Z"
   },
   {
    "duration": 9,
    "start_time": "2022-11-17T12:27:39.475Z"
   },
   {
    "duration": 8,
    "start_time": "2022-11-17T12:27:39.485Z"
   },
   {
    "duration": 20,
    "start_time": "2022-11-17T12:27:39.494Z"
   },
   {
    "duration": 3,
    "start_time": "2022-11-17T12:27:39.516Z"
   },
   {
    "duration": 60,
    "start_time": "2022-11-17T12:27:39.521Z"
   },
   {
    "duration": 5,
    "start_time": "2022-11-17T12:27:39.583Z"
   },
   {
    "duration": 32,
    "start_time": "2022-11-17T12:27:39.589Z"
   },
   {
    "duration": 24,
    "start_time": "2022-11-17T12:27:39.623Z"
   },
   {
    "duration": 48,
    "start_time": "2022-11-17T12:27:39.649Z"
   },
   {
    "duration": 6,
    "start_time": "2022-11-17T12:27:39.699Z"
   },
   {
    "duration": 12,
    "start_time": "2022-11-17T12:27:39.707Z"
   },
   {
    "duration": 20,
    "start_time": "2022-11-17T12:27:39.721Z"
   },
   {
    "duration": 15,
    "start_time": "2022-11-17T12:27:39.743Z"
   },
   {
    "duration": 19,
    "start_time": "2022-11-17T12:27:39.759Z"
   },
   {
    "duration": 37,
    "start_time": "2022-11-17T12:27:39.780Z"
   },
   {
    "duration": 5,
    "start_time": "2022-11-17T12:27:39.819Z"
   },
   {
    "duration": 6,
    "start_time": "2022-11-17T12:27:39.826Z"
   },
   {
    "duration": 5,
    "start_time": "2022-11-17T12:27:39.833Z"
   },
   {
    "duration": 12,
    "start_time": "2022-11-17T12:27:39.840Z"
   },
   {
    "duration": 165,
    "start_time": "2022-11-17T12:27:39.854Z"
   },
   {
    "duration": 128,
    "start_time": "2022-11-17T12:27:40.021Z"
   },
   {
    "duration": 123,
    "start_time": "2022-11-17T12:27:40.151Z"
   },
   {
    "duration": 137,
    "start_time": "2022-11-17T12:27:40.276Z"
   },
   {
    "duration": 199,
    "start_time": "2022-11-17T12:27:40.414Z"
   },
   {
    "duration": 120,
    "start_time": "2022-11-17T12:27:40.616Z"
   },
   {
    "duration": 4278,
    "start_time": "2022-11-17T12:27:40.738Z"
   },
   {
    "duration": 178,
    "start_time": "2022-11-17T12:27:45.018Z"
   },
   {
    "duration": 48,
    "start_time": "2022-11-17T12:27:45.198Z"
   },
   {
    "duration": 3533,
    "start_time": "2022-11-17T12:27:45.249Z"
   },
   {
    "duration": 138782,
    "start_time": "2022-11-17T12:27:48.784Z"
   },
   {
    "duration": 1341,
    "start_time": "2022-11-17T12:30:45.296Z"
   },
   {
    "duration": 65,
    "start_time": "2022-11-17T12:30:46.639Z"
   },
   {
    "duration": 14,
    "start_time": "2022-11-17T12:30:46.705Z"
   },
   {
    "duration": 52,
    "start_time": "2022-11-17T12:30:46.721Z"
   },
   {
    "duration": 9,
    "start_time": "2022-11-17T12:30:46.777Z"
   },
   {
    "duration": 11,
    "start_time": "2022-11-17T12:30:46.788Z"
   },
   {
    "duration": 35,
    "start_time": "2022-11-17T12:30:46.802Z"
   },
   {
    "duration": 17,
    "start_time": "2022-11-17T12:30:46.839Z"
   },
   {
    "duration": 80,
    "start_time": "2022-11-17T12:30:46.857Z"
   },
   {
    "duration": 4,
    "start_time": "2022-11-17T12:30:46.939Z"
   },
   {
    "duration": 30,
    "start_time": "2022-11-17T12:30:46.945Z"
   },
   {
    "duration": 14,
    "start_time": "2022-11-17T12:30:46.977Z"
   },
   {
    "duration": 34,
    "start_time": "2022-11-17T12:30:46.992Z"
   },
   {
    "duration": 7,
    "start_time": "2022-11-17T12:30:47.029Z"
   },
   {
    "duration": 15,
    "start_time": "2022-11-17T12:30:47.037Z"
   },
   {
    "duration": 13,
    "start_time": "2022-11-17T12:30:47.054Z"
   },
   {
    "duration": 13,
    "start_time": "2022-11-17T12:30:47.069Z"
   },
   {
    "duration": 12,
    "start_time": "2022-11-17T12:30:47.083Z"
   },
   {
    "duration": 50,
    "start_time": "2022-11-17T12:30:47.096Z"
   },
   {
    "duration": 21,
    "start_time": "2022-11-17T12:30:47.148Z"
   },
   {
    "duration": 14,
    "start_time": "2022-11-17T12:30:47.170Z"
   },
   {
    "duration": 14,
    "start_time": "2022-11-17T12:30:47.186Z"
   },
   {
    "duration": 26,
    "start_time": "2022-11-17T12:30:47.202Z"
   },
   {
    "duration": 159,
    "start_time": "2022-11-17T12:30:47.230Z"
   },
   {
    "duration": 123,
    "start_time": "2022-11-17T12:30:47.391Z"
   },
   {
    "duration": 125,
    "start_time": "2022-11-17T12:30:47.515Z"
   },
   {
    "duration": 144,
    "start_time": "2022-11-17T12:30:47.641Z"
   },
   {
    "duration": 214,
    "start_time": "2022-11-17T12:30:47.786Z"
   },
   {
    "duration": 137,
    "start_time": "2022-11-17T12:30:48.002Z"
   },
   {
    "duration": 4509,
    "start_time": "2022-11-17T12:30:48.141Z"
   },
   {
    "duration": 140456,
    "start_time": "2022-11-17T12:30:52.651Z"
   },
   {
    "duration": 30,
    "start_time": "2022-11-17T12:33:13.109Z"
   },
   {
    "duration": 3358,
    "start_time": "2022-11-17T12:33:13.141Z"
   },
   {
    "duration": 141785,
    "start_time": "2022-11-17T12:33:16.501Z"
   },
   {
    "duration": 630135,
    "start_time": "2022-11-17T12:35:38.288Z"
   },
   {
    "duration": 30,
    "start_time": "2022-11-17T12:46:08.424Z"
   },
   {
    "duration": 91,
    "start_time": "2022-11-17T12:51:25.245Z"
   },
   {
    "duration": 143055,
    "start_time": "2022-11-17T12:55:08.658Z"
   },
   {
    "duration": 7,
    "start_time": "2022-11-17T12:58:21.586Z"
   },
   {
    "duration": 34,
    "start_time": "2022-11-17T13:03:47.721Z"
   },
   {
    "duration": 160,
    "start_time": "2022-11-17T13:04:02.681Z"
   },
   {
    "duration": 1469,
    "start_time": "2022-11-18T01:46:23.019Z"
   },
   {
    "duration": 200,
    "start_time": "2022-11-18T01:46:24.489Z"
   },
   {
    "duration": 14,
    "start_time": "2022-11-18T01:46:29.292Z"
   },
   {
    "duration": 113,
    "start_time": "2022-11-18T01:46:38.869Z"
   },
   {
    "duration": 4,
    "start_time": "2022-11-18T01:46:42.417Z"
   },
   {
    "duration": 63,
    "start_time": "2022-11-18T01:46:42.425Z"
   },
   {
    "duration": 11,
    "start_time": "2022-11-18T01:46:42.490Z"
   },
   {
    "duration": 15,
    "start_time": "2022-11-18T01:46:42.502Z"
   },
   {
    "duration": 6,
    "start_time": "2022-11-18T01:46:42.519Z"
   },
   {
    "duration": 10,
    "start_time": "2022-11-18T01:46:42.526Z"
   },
   {
    "duration": 17,
    "start_time": "2022-11-18T01:46:42.537Z"
   },
   {
    "duration": 3,
    "start_time": "2022-11-18T01:46:42.556Z"
   },
   {
    "duration": 68,
    "start_time": "2022-11-18T01:46:42.561Z"
   },
   {
    "duration": 3,
    "start_time": "2022-11-18T01:46:42.631Z"
   },
   {
    "duration": 17,
    "start_time": "2022-11-18T01:46:42.637Z"
   },
   {
    "duration": 10,
    "start_time": "2022-11-18T01:46:42.655Z"
   },
   {
    "duration": 21,
    "start_time": "2022-11-18T01:46:42.667Z"
   },
   {
    "duration": 5,
    "start_time": "2022-11-18T01:46:42.689Z"
   },
   {
    "duration": 7,
    "start_time": "2022-11-18T01:46:42.696Z"
   },
   {
    "duration": 3,
    "start_time": "2022-11-18T01:46:42.720Z"
   },
   {
    "duration": 6,
    "start_time": "2022-11-18T01:46:42.724Z"
   },
   {
    "duration": 6,
    "start_time": "2022-11-18T01:46:42.731Z"
   },
   {
    "duration": 30,
    "start_time": "2022-11-18T01:46:42.738Z"
   },
   {
    "duration": 6,
    "start_time": "2022-11-18T01:46:42.770Z"
   },
   {
    "duration": 8,
    "start_time": "2022-11-18T01:46:42.778Z"
   },
   {
    "duration": 5,
    "start_time": "2022-11-18T01:46:42.787Z"
   },
   {
    "duration": 37,
    "start_time": "2022-11-18T01:46:42.793Z"
   },
   {
    "duration": 155,
    "start_time": "2022-11-18T01:46:42.832Z"
   },
   {
    "duration": 121,
    "start_time": "2022-11-18T01:46:42.989Z"
   },
   {
    "duration": 113,
    "start_time": "2022-11-18T01:46:43.111Z"
   },
   {
    "duration": 130,
    "start_time": "2022-11-18T01:46:43.226Z"
   },
   {
    "duration": 182,
    "start_time": "2022-11-18T01:46:43.357Z"
   },
   {
    "duration": 109,
    "start_time": "2022-11-18T01:46:43.541Z"
   },
   {
    "duration": 3099,
    "start_time": "2022-11-18T01:46:43.651Z"
   },
   {
    "duration": 129913,
    "start_time": "2022-11-18T01:46:46.752Z"
   },
   {
    "duration": 60,
    "start_time": "2022-11-18T01:48:56.666Z"
   },
   {
    "duration": 3177,
    "start_time": "2022-11-18T01:48:56.727Z"
   },
   {
    "duration": 129015,
    "start_time": "2022-11-18T01:48:59.906Z"
   },
   {
    "duration": 106,
    "start_time": "2022-11-18T01:51:08.923Z"
   },
   {
    "duration": 323,
    "start_time": "2022-11-18T01:51:09.031Z"
   },
   {
    "duration": 12,
    "start_time": "2022-11-18T01:57:52.361Z"
   },
   {
    "duration": 10,
    "start_time": "2022-11-18T01:59:00.207Z"
   },
   {
    "duration": 7,
    "start_time": "2022-11-18T02:00:26.277Z"
   },
   {
    "duration": 13,
    "start_time": "2022-11-18T02:03:15.435Z"
   },
   {
    "duration": 4,
    "start_time": "2022-11-18T02:04:00.770Z"
   },
   {
    "duration": 11,
    "start_time": "2022-11-18T02:04:19.541Z"
   },
   {
    "duration": 7,
    "start_time": "2022-11-18T02:05:29.516Z"
   },
   {
    "duration": 10,
    "start_time": "2022-11-18T02:06:23.648Z"
   },
   {
    "duration": 88,
    "start_time": "2022-11-18T02:07:57.536Z"
   },
   {
    "duration": 281,
    "start_time": "2022-11-18T02:13:58.439Z"
   },
   {
    "duration": 54,
    "start_time": "2022-11-18T02:14:13.068Z"
   },
   {
    "duration": 31,
    "start_time": "2022-11-18T02:14:27.652Z"
   },
   {
    "duration": 35,
    "start_time": "2022-11-18T02:27:18.496Z"
   },
   {
    "duration": 74,
    "start_time": "2022-11-18T02:27:23.149Z"
   },
   {
    "duration": 3644,
    "start_time": "2022-11-18T02:30:19.030Z"
   },
   {
    "duration": 175532,
    "start_time": "2022-11-18T02:46:06.565Z"
   },
   {
    "duration": 135090,
    "start_time": "2022-11-18T02:50:42.904Z"
   },
   {
    "duration": 135698,
    "start_time": "2022-11-18T02:55:53.378Z"
   },
   {
    "duration": 264,
    "start_time": "2022-11-18T03:03:24.064Z"
   },
   {
    "duration": 278,
    "start_time": "2022-11-18T03:04:12.015Z"
   },
   {
    "duration": 343,
    "start_time": "2022-11-18T03:05:00.770Z"
   },
   {
    "duration": 4,
    "start_time": "2022-11-18T03:14:01.146Z"
   },
   {
    "duration": 355,
    "start_time": "2022-11-18T03:16:21.656Z"
   },
   {
    "duration": 360,
    "start_time": "2022-11-18T03:17:17.609Z"
   },
   {
    "duration": 65,
    "start_time": "2022-11-18T03:24:44.514Z"
   },
   {
    "duration": 429,
    "start_time": "2022-11-18T03:24:57.472Z"
   },
   {
    "duration": 13,
    "start_time": "2022-11-18T03:36:11.638Z"
   },
   {
    "duration": 104,
    "start_time": "2022-11-18T03:36:59.618Z"
   },
   {
    "duration": 407,
    "start_time": "2022-11-18T03:38:52.732Z"
   },
   {
    "duration": 98,
    "start_time": "2022-11-18T03:39:21.224Z"
   },
   {
    "duration": 358,
    "start_time": "2022-11-18T03:42:51.938Z"
   },
   {
    "duration": 398,
    "start_time": "2022-11-18T03:43:03.071Z"
   },
   {
    "duration": 410,
    "start_time": "2022-11-18T03:43:10.973Z"
   },
   {
    "duration": 41,
    "start_time": "2022-11-18T03:43:16.499Z"
   },
   {
    "duration": 431,
    "start_time": "2022-11-18T03:43:56.232Z"
   },
   {
    "duration": 483,
    "start_time": "2022-11-18T03:46:04.890Z"
   },
   {
    "duration": 1581,
    "start_time": "2022-11-18T07:03:09.085Z"
   },
   {
    "duration": 221,
    "start_time": "2022-11-18T07:03:10.668Z"
   },
   {
    "duration": 15,
    "start_time": "2022-11-18T07:03:10.890Z"
   },
   {
    "duration": 20,
    "start_time": "2022-11-18T07:03:10.907Z"
   },
   {
    "duration": 8,
    "start_time": "2022-11-18T07:03:10.929Z"
   },
   {
    "duration": 7,
    "start_time": "2022-11-18T07:03:10.939Z"
   },
   {
    "duration": 23,
    "start_time": "2022-11-18T07:03:10.948Z"
   },
   {
    "duration": 4,
    "start_time": "2022-11-18T07:03:10.973Z"
   },
   {
    "duration": 59,
    "start_time": "2022-11-18T07:03:10.978Z"
   },
   {
    "duration": 5,
    "start_time": "2022-11-18T07:03:11.056Z"
   },
   {
    "duration": 16,
    "start_time": "2022-11-18T07:03:11.063Z"
   },
   {
    "duration": 6,
    "start_time": "2022-11-18T07:03:11.080Z"
   },
   {
    "duration": 25,
    "start_time": "2022-11-18T07:03:11.087Z"
   },
   {
    "duration": 7,
    "start_time": "2022-11-18T07:03:11.114Z"
   },
   {
    "duration": 34,
    "start_time": "2022-11-18T07:03:11.123Z"
   },
   {
    "duration": 4,
    "start_time": "2022-11-18T07:03:11.159Z"
   },
   {
    "duration": 10,
    "start_time": "2022-11-18T07:03:11.164Z"
   },
   {
    "duration": 13,
    "start_time": "2022-11-18T07:03:11.176Z"
   },
   {
    "duration": 41,
    "start_time": "2022-11-18T07:03:11.191Z"
   },
   {
    "duration": 21,
    "start_time": "2022-11-18T07:03:11.234Z"
   },
   {
    "duration": 5,
    "start_time": "2022-11-18T07:03:11.257Z"
   },
   {
    "duration": 7,
    "start_time": "2022-11-18T07:03:11.264Z"
   },
   {
    "duration": 22,
    "start_time": "2022-11-18T07:03:11.273Z"
   },
   {
    "duration": 188,
    "start_time": "2022-11-18T07:03:11.298Z"
   },
   {
    "duration": 144,
    "start_time": "2022-11-18T07:03:11.488Z"
   },
   {
    "duration": 141,
    "start_time": "2022-11-18T07:03:11.634Z"
   },
   {
    "duration": 155,
    "start_time": "2022-11-18T07:03:11.777Z"
   },
   {
    "duration": 224,
    "start_time": "2022-11-18T07:03:11.936Z"
   },
   {
    "duration": 140,
    "start_time": "2022-11-18T07:03:12.161Z"
   },
   {
    "duration": 3681,
    "start_time": "2022-11-18T07:03:12.302Z"
   },
   {
    "duration": 155429,
    "start_time": "2022-11-18T07:03:15.985Z"
   },
   {
    "duration": 140,
    "start_time": "2022-11-18T07:05:51.415Z"
   },
   {
    "duration": 3613,
    "start_time": "2022-11-18T07:05:51.558Z"
   },
   {
    "duration": 155895,
    "start_time": "2022-11-18T07:05:55.173Z"
   },
   {
    "duration": 88,
    "start_time": "2022-11-18T07:08:31.070Z"
   },
   {
    "duration": 11,
    "start_time": "2022-11-18T07:08:31.161Z"
   },
   {
    "duration": 49,
    "start_time": "2022-11-18T07:08:31.256Z"
   },
   {
    "duration": 0,
    "start_time": "2022-11-18T07:08:31.307Z"
   },
   {
    "duration": 0,
    "start_time": "2022-11-18T07:08:31.308Z"
   },
   {
    "duration": 0,
    "start_time": "2022-11-18T07:08:31.310Z"
   },
   {
    "duration": 0,
    "start_time": "2022-11-18T07:08:31.311Z"
   },
   {
    "duration": 0,
    "start_time": "2022-11-18T07:08:31.312Z"
   },
   {
    "duration": 0,
    "start_time": "2022-11-18T07:08:31.314Z"
   },
   {
    "duration": 0,
    "start_time": "2022-11-18T07:08:31.315Z"
   },
   {
    "duration": 8,
    "start_time": "2022-11-18T07:10:12.234Z"
   },
   {
    "duration": 4347,
    "start_time": "2022-11-18T07:10:12.267Z"
   },
   {
    "duration": 199901,
    "start_time": "2022-11-18T07:10:16.617Z"
   },
   {
    "duration": 158,
    "start_time": "2022-11-18T07:13:36.520Z"
   },
   {
    "duration": 0,
    "start_time": "2022-11-18T07:13:36.681Z"
   },
   {
    "duration": 0,
    "start_time": "2022-11-18T07:13:36.682Z"
   },
   {
    "duration": 0,
    "start_time": "2022-11-18T07:13:36.683Z"
   },
   {
    "duration": 30,
    "start_time": "2022-11-18T07:15:07.892Z"
   },
   {
    "duration": 35,
    "start_time": "2022-11-18T07:15:59.252Z"
   },
   {
    "duration": 37,
    "start_time": "2022-11-18T07:16:28.843Z"
   },
   {
    "duration": 20,
    "start_time": "2022-11-18T07:16:45.235Z"
   },
   {
    "duration": 467,
    "start_time": "2022-11-18T07:16:45.261Z"
   },
   {
    "duration": 465,
    "start_time": "2022-11-18T07:16:45.730Z"
   },
   {
    "duration": 15,
    "start_time": "2022-11-18T07:17:44.796Z"
   },
   {
    "duration": 11,
    "start_time": "2022-11-18T07:18:26.106Z"
   },
   {
    "duration": 36,
    "start_time": "2022-11-18T07:19:10.706Z"
   },
   {
    "duration": 110,
    "start_time": "2022-11-18T07:19:43.146Z"
   },
   {
    "duration": 14,
    "start_time": "2022-11-18T07:23:30.086Z"
   },
   {
    "duration": 6,
    "start_time": "2022-11-18T07:27:04.797Z"
   },
   {
    "duration": 14,
    "start_time": "2022-11-18T07:42:32.654Z"
   },
   {
    "duration": 15,
    "start_time": "2022-11-18T07:43:49.154Z"
   },
   {
    "duration": 11,
    "start_time": "2022-11-18T07:44:27.167Z"
   },
   {
    "duration": 43,
    "start_time": "2022-11-18T07:45:29.291Z"
   },
   {
    "duration": 10,
    "start_time": "2022-11-18T07:45:53.350Z"
   },
   {
    "duration": 16,
    "start_time": "2022-11-18T07:45:59.699Z"
   },
   {
    "duration": 17,
    "start_time": "2022-11-18T07:46:18.265Z"
   },
   {
    "duration": 26,
    "start_time": "2022-11-18T07:55:53.923Z"
   },
   {
    "duration": 4,
    "start_time": "2022-11-18T07:57:37.374Z"
   },
   {
    "duration": 17,
    "start_time": "2022-11-18T07:57:41.968Z"
   },
   {
    "duration": 15,
    "start_time": "2022-11-18T07:57:48.397Z"
   },
   {
    "duration": 16,
    "start_time": "2022-11-18T07:58:04.336Z"
   },
   {
    "duration": 24,
    "start_time": "2022-11-18T07:58:25.635Z"
   },
   {
    "duration": 1531,
    "start_time": "2022-11-20T01:22:13.827Z"
   },
   {
    "duration": 99,
    "start_time": "2022-11-20T01:22:15.360Z"
   },
   {
    "duration": 15,
    "start_time": "2022-11-20T01:22:15.460Z"
   },
   {
    "duration": 31,
    "start_time": "2022-11-20T01:22:15.476Z"
   },
   {
    "duration": 8,
    "start_time": "2022-11-20T01:22:15.510Z"
   },
   {
    "duration": 11,
    "start_time": "2022-11-20T01:22:15.519Z"
   },
   {
    "duration": 17,
    "start_time": "2022-11-20T01:22:15.532Z"
   },
   {
    "duration": 4,
    "start_time": "2022-11-20T01:22:15.550Z"
   },
   {
    "duration": 59,
    "start_time": "2022-11-20T01:22:15.555Z"
   },
   {
    "duration": 4,
    "start_time": "2022-11-20T01:22:15.615Z"
   },
   {
    "duration": 27,
    "start_time": "2022-11-20T01:22:15.620Z"
   },
   {
    "duration": 12,
    "start_time": "2022-11-20T01:22:15.649Z"
   },
   {
    "duration": 24,
    "start_time": "2022-11-20T01:22:15.663Z"
   },
   {
    "duration": 6,
    "start_time": "2022-11-20T01:22:15.690Z"
   },
   {
    "duration": 11,
    "start_time": "2022-11-20T01:22:15.697Z"
   },
   {
    "duration": 9,
    "start_time": "2022-11-20T01:22:15.710Z"
   },
   {
    "duration": 11,
    "start_time": "2022-11-20T01:22:15.720Z"
   },
   {
    "duration": 16,
    "start_time": "2022-11-20T01:22:15.732Z"
   },
   {
    "duration": 40,
    "start_time": "2022-11-20T01:22:15.749Z"
   },
   {
    "duration": 6,
    "start_time": "2022-11-20T01:22:15.791Z"
   },
   {
    "duration": 16,
    "start_time": "2022-11-20T01:22:15.799Z"
   },
   {
    "duration": 26,
    "start_time": "2022-11-20T01:22:15.817Z"
   },
   {
    "duration": 40,
    "start_time": "2022-11-20T01:22:15.845Z"
   },
   {
    "duration": 171,
    "start_time": "2022-11-20T01:22:15.887Z"
   },
   {
    "duration": 131,
    "start_time": "2022-11-20T01:22:16.059Z"
   },
   {
    "duration": 123,
    "start_time": "2022-11-20T01:22:16.191Z"
   },
   {
    "duration": 140,
    "start_time": "2022-11-20T01:22:16.316Z"
   },
   {
    "duration": 198,
    "start_time": "2022-11-20T01:22:16.458Z"
   },
   {
    "duration": 141,
    "start_time": "2022-11-20T01:22:16.658Z"
   },
   {
    "duration": 3339,
    "start_time": "2022-11-20T01:22:16.801Z"
   },
   {
    "duration": 134773,
    "start_time": "2022-11-20T01:22:20.142Z"
   },
   {
    "duration": 35,
    "start_time": "2022-11-20T01:24:34.916Z"
   },
   {
    "duration": 3284,
    "start_time": "2022-11-20T01:24:34.952Z"
   },
   {
    "duration": 133796,
    "start_time": "2022-11-20T01:24:38.237Z"
   },
   {
    "duration": 114,
    "start_time": "2022-11-20T01:26:52.034Z"
   },
   {
    "duration": 94,
    "start_time": "2022-11-20T01:26:52.150Z"
   },
   {
    "duration": 100,
    "start_time": "2022-11-20T01:26:52.246Z"
   },
   {
    "duration": 3834,
    "start_time": "2022-11-20T01:26:52.347Z"
   },
   {
    "duration": 175939,
    "start_time": "2022-11-20T01:26:56.183Z"
   },
   {
    "duration": 319,
    "start_time": "2022-11-20T01:29:52.123Z"
   },
   {
    "duration": 0,
    "start_time": "2022-11-20T01:29:52.444Z"
   },
   {
    "duration": 0,
    "start_time": "2022-11-20T01:29:52.445Z"
   },
   {
    "duration": 0,
    "start_time": "2022-11-20T01:29:52.447Z"
   },
   {
    "duration": 119,
    "start_time": "2022-11-20T01:33:48.318Z"
   },
   {
    "duration": 83,
    "start_time": "2022-11-20T01:35:14.053Z"
   },
   {
    "duration": 64,
    "start_time": "2022-11-20T01:35:22.773Z"
   },
   {
    "duration": 108,
    "start_time": "2022-11-20T01:35:22.839Z"
   },
   {
    "duration": 426,
    "start_time": "2022-11-20T01:35:22.949Z"
   },
   {
    "duration": 416,
    "start_time": "2022-11-20T01:35:23.377Z"
   },
   {
    "duration": 437,
    "start_time": "2022-11-20T01:36:24.339Z"
   },
   {
    "duration": 8,
    "start_time": "2022-11-20T01:43:33.258Z"
   },
   {
    "duration": 47,
    "start_time": "2022-11-20T01:43:52.517Z"
   },
   {
    "duration": 4,
    "start_time": "2022-11-20T01:43:58.066Z"
   },
   {
    "duration": 50,
    "start_time": "2022-11-20T01:54:31.312Z"
   },
   {
    "duration": 24,
    "start_time": "2022-11-20T01:55:02.954Z"
   },
   {
    "duration": 25,
    "start_time": "2022-11-20T01:55:19.236Z"
   },
   {
    "duration": 2,
    "start_time": "2022-11-20T01:57:36.031Z"
   },
   {
    "duration": 3,
    "start_time": "2022-11-20T01:58:03.150Z"
   },
   {
    "duration": 6,
    "start_time": "2022-11-20T01:58:05.040Z"
   },
   {
    "duration": 52,
    "start_time": "2022-11-20T01:59:10.182Z"
   },
   {
    "duration": 19,
    "start_time": "2022-11-20T02:04:00.649Z"
   },
   {
    "duration": 5,
    "start_time": "2022-11-20T02:07:33.940Z"
   },
   {
    "duration": 27,
    "start_time": "2022-11-20T02:09:24.258Z"
   },
   {
    "duration": 30,
    "start_time": "2022-11-20T02:09:40.469Z"
   },
   {
    "duration": 49,
    "start_time": "2022-11-20T02:09:56.927Z"
   },
   {
    "duration": 4,
    "start_time": "2022-11-20T02:10:20.785Z"
   },
   {
    "duration": 28,
    "start_time": "2022-11-20T02:13:15.174Z"
   },
   {
    "duration": 31,
    "start_time": "2022-11-20T02:14:38.641Z"
   },
   {
    "duration": 7,
    "start_time": "2022-11-20T02:14:59.060Z"
   },
   {
    "duration": 45,
    "start_time": "2022-11-20T02:15:12.430Z"
   },
   {
    "duration": 125,
    "start_time": "2022-11-20T02:16:50.977Z"
   },
   {
    "duration": 120,
    "start_time": "2022-11-20T02:17:17.536Z"
   },
   {
    "duration": 146,
    "start_time": "2022-11-20T02:17:38.534Z"
   },
   {
    "duration": 123,
    "start_time": "2022-11-20T02:17:55.978Z"
   },
   {
    "duration": 927,
    "start_time": "2022-11-20T02:18:05.954Z"
   },
   {
    "duration": 113,
    "start_time": "2022-11-20T02:18:40.263Z"
   },
   {
    "duration": 890,
    "start_time": "2022-11-20T02:18:58.000Z"
   },
   {
    "duration": 139,
    "start_time": "2022-11-20T02:19:06.432Z"
   },
   {
    "duration": 64,
    "start_time": "2022-11-20T02:21:44.975Z"
   },
   {
    "duration": 41,
    "start_time": "2022-11-20T02:21:55.840Z"
   },
   {
    "duration": 65,
    "start_time": "2022-11-20T02:22:01.994Z"
   },
   {
    "duration": 50,
    "start_time": "2022-11-20T11:15:27.651Z"
   },
   {
    "duration": 2488,
    "start_time": "2022-11-20T11:15:39.002Z"
   },
   {
    "duration": 2140,
    "start_time": "2022-11-20T11:15:53.383Z"
   },
   {
    "duration": 90,
    "start_time": "2022-11-20T14:02:26.227Z"
   },
   {
    "duration": 77,
    "start_time": "2022-11-20T14:03:10.417Z"
   }
  ],
  "kernelspec": {
   "display_name": "Python 3 (ipykernel)",
   "language": "python",
   "name": "python3"
  },
  "language_info": {
   "codemirror_mode": {
    "name": "ipython",
    "version": 3
   },
   "file_extension": ".py",
   "mimetype": "text/x-python",
   "name": "python",
   "nbconvert_exporter": "python",
   "pygments_lexer": "ipython3",
   "version": "3.9.5"
  },
  "toc": {
   "base_numbering": 1,
   "nav_menu": {},
   "number_sections": true,
   "sideBar": true,
   "skip_h1_title": true,
   "title_cell": "Содержание",
   "title_sidebar": "Contents",
   "toc_cell": true,
   "toc_position": {
    "height": "calc(100% - 180px)",
    "left": "10px",
    "top": "150px",
    "width": "165px"
   },
   "toc_section_display": true,
   "toc_window_display": false
  }
 },
 "nbformat": 4,
 "nbformat_minor": 2
}
